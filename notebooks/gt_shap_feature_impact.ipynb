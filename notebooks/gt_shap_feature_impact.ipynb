{
 "cells": [
  {
   "cell_type": "markdown",
   "metadata": {},
   "source": [
    "# * SHAP * it performs a perturbation around the points of the training dataset and calculates the impact of this perturbation to the model"
   ]
  },
  {
   "cell_type": "markdown",
   "metadata": {},
   "source": [
    "## Remember to open terminal and run: conda activate ilab-tensorflow to import shap"
   ]
  },
  {
   "cell_type": "code",
   "execution_count": 1,
   "metadata": {},
   "outputs": [],
   "source": [
    "import shap"
   ]
  },
  {
   "cell_type": "markdown",
   "metadata": {
    "tags": []
   },
   "source": [
    "## https://www.yourdatateacher.com/2021/05/17/how-to-explain-neural-networks-using-shap/"
   ]
  },
  {
   "cell_type": "code",
   "execution_count": 2,
   "metadata": {},
   "outputs": [],
   "source": [
    "#!pip install shap"
   ]
  },
  {
   "cell_type": "code",
   "execution_count": 3,
   "metadata": {},
   "outputs": [],
   "source": [
    "from sklearn.preprocessing import StandardScaler\n",
    "from sklearn.neural_network import MLPRegressor\n",
    "from sklearn.pipeline import make_pipeline\n",
    "\n",
    "from sklearn.datasets import load_diabetes\n",
    "from sklearn.model_selection import train_test_split"
   ]
  },
  {
   "cell_type": "code",
   "execution_count": 4,
   "metadata": {},
   "outputs": [],
   "source": [
    "X,y = load_diabetes(return_X_y=True)\n",
    "features = load_diabetes()['feature_names']"
   ]
  },
  {
   "cell_type": "code",
   "execution_count": 5,
   "metadata": {},
   "outputs": [
    {
     "data": {
      "text/plain": [
       "['age', 'sex', 'bmi', 'bp', 's1', 's2', 's3', 's4', 's5', 's6']"
      ]
     },
     "execution_count": 5,
     "metadata": {},
     "output_type": "execute_result"
    }
   ],
   "source": [
    "features"
   ]
  },
  {
   "cell_type": "code",
   "execution_count": 6,
   "metadata": {},
   "outputs": [],
   "source": [
    "X_train, X_test, y_train, y_test = train_test_split(X, y, test_size=0.33, random_state=42)"
   ]
  },
  {
   "cell_type": "code",
   "execution_count": 16,
   "metadata": {},
   "outputs": [
    {
     "name": "stdout",
     "output_type": "stream",
     "text": [
      "(296, 10)\n",
      "<class 'numpy.ndarray'>\n",
      "296\n"
     ]
    }
   ],
   "source": [
    "print((X_train.shape))\n",
    "print(type(X_train))\n",
    "print(len(X_train))\n"
   ]
  },
  {
   "cell_type": "code",
   "execution_count": 17,
   "metadata": {},
   "outputs": [
    {
     "name": "stdout",
     "output_type": "stream",
     "text": [
      "(296,)\n",
      "<class 'numpy.ndarray'>\n",
      "296\n"
     ]
    }
   ],
   "source": [
    "print((y_train.shape))\n",
    "print(type(y_train))\n",
    "print(len(y_train))\n"
   ]
  },
  {
   "cell_type": "code",
   "execution_count": 7,
   "metadata": {},
   "outputs": [
    {
     "data": {
      "text/plain": [
       "(array([[ 0.0090156 , -0.04464164, -0.03099563, ..., -0.00259226,\n",
       "          0.00943366,  0.01134862],\n",
       "        [-0.00188202, -0.04464164,  0.05415152, ...,  0.08486339,\n",
       "          0.08449153,  0.04862759],\n",
       "        [ 0.0090156 ,  0.05068012, -0.00512814, ...,  0.07120998,\n",
       "          0.03954249,  0.01963284],\n",
       "        ...,\n",
       "        [ 0.03081083, -0.04464164, -0.02021751, ..., -0.03949338,\n",
       "         -0.01090325, -0.0010777 ],\n",
       "        [-0.01277963, -0.04464164, -0.02345095, ..., -0.00259226,\n",
       "         -0.03845972, -0.03835666],\n",
       "        [-0.09269548, -0.04464164,  0.02828403, ..., -0.03949338,\n",
       "         -0.00514219, -0.0010777 ]]),\n",
       " array([[ 0.04534098, -0.04464164, -0.00620595, ...,  0.03430886,\n",
       "          0.03243232, -0.0052198 ],\n",
       "        [ 0.09256398, -0.04464164,  0.03690653, ..., -0.03949338,\n",
       "         -0.02251653, -0.02178823],\n",
       "        [ 0.06350368,  0.05068012, -0.00405033, ..., -0.00259226,\n",
       "          0.08449153, -0.01764613],\n",
       "        ...,\n",
       "        [-0.07453279, -0.04464164, -0.046085  , ..., -0.03949338,\n",
       "         -0.03980883, -0.02178823],\n",
       "        [-0.02730979, -0.04464164,  0.04768465, ...,  0.13025177,\n",
       "          0.04506655,  0.13146972],\n",
       "        [ 0.03081083, -0.04464164,  0.00564998, ...,  0.1081111 ,\n",
       "          0.06605067,  0.01963284]]),\n",
       " array([154., 192., 116.,  81., 122., 259., 191., 292.,  55., 107., 210.,\n",
       "         91., 253.,  85., 252.,  59.,  78., 200.,  78., 245., 175.,  42.,\n",
       "        127.,  53.,  94., 104., 199., 265., 281., 248., 257., 215., 303.,\n",
       "        170.,  59., 277., 209., 138., 198., 124.,  96., 288., 225., 265.,\n",
       "        101.,  55., 198.,  51., 252.,  64., 220., 131., 212., 142., 103.,\n",
       "        155., 121.,  86., 111.,  65., 131.,  51., 128., 141.,  48., 109.,\n",
       "        178.,  88.,  84., 216., 150.,  60.,  96., 190.,  74., 279., 182.,\n",
       "        160., 245., 276., 174., 180., 150., 196., 138.,  97., 246., 321.,\n",
       "        308., 109.,  69., 182., 258., 161., 178., 214.,  45., 150., 160.,\n",
       "         55., 197., 185., 268., 310., 123.,  68.,  72., 185., 144., 147.,\n",
       "        168., 178., 246., 151., 127.,  83., 332., 152., 109.,  90.,  66.,\n",
       "        214.,  85., 129.,  89., 259., 229., 200.,  77.,  54.,  31., 109.,\n",
       "        206., 144., 118.,  83., 242., 259.,  72., 163., 181., 141.,  71.,\n",
       "        137., 195., 179., 102., 131.,  47., 235.,  77., 198.,  93., 162.,\n",
       "        225., 275., 183., 306.,  81.,  55., 146., 196., 230., 310.,  40.,\n",
       "        135., 346.,  43., 128.,  77., 235.,  49.,  74.,  92.,  84., 263.,\n",
       "        144., 142., 341., 115., 158., 273.,  85.,  88., 220.,  39.,  80.,\n",
       "        172., 217., 336.,  52., 272., 115., 110., 131.,  71., 275., 118.,\n",
       "         25., 100., 281., 221., 248., 200., 132.,  91.,  67., 202.,  73.,\n",
       "         85., 275., 243.,  66., 293., 236., 243.,  87.,  39., 217.,  92.,\n",
       "        296., 292., 142.,  50.,  53., 104.,  75., 120., 142., 143.,  99.,\n",
       "         65., 116., 233., 164.,  95.,  59., 139., 145., 177., 185.,  97.,\n",
       "         42., 201., 241.,  70.,  78.,  49., 103.,  44., 111., 191.,  47.,\n",
       "        182.,  58., 155., 151.,  79., 104., 143., 152., 170.,  75., 200.,\n",
       "        124.,  91.,  49., 163.,  53., 283., 178., 219., 200., 113., 113.,\n",
       "         63., 114., 126., 274.,  88., 311.,  83.,  71., 134., 244.,  65.,\n",
       "        173.,  57.,  68., 141., 270., 134., 202., 148.,  64., 302.]),\n",
       " array([219.,  70., 202., 230., 111.,  84., 242., 272.,  94.,  96.,  94.,\n",
       "        252.,  99., 297., 135.,  67., 295., 264., 170., 275., 310.,  64.,\n",
       "        128., 232., 129., 118., 263.,  77.,  48., 107., 140., 113.,  90.,\n",
       "        164., 180., 233.,  42.,  84., 172.,  63.,  48., 108., 156., 168.,\n",
       "         90.,  52., 200.,  87.,  90., 258., 136., 158.,  69.,  72., 171.,\n",
       "         95.,  72., 151., 168.,  60., 122.,  52., 187., 102., 214., 248.,\n",
       "        181., 110., 140., 202., 101., 222., 281.,  61.,  89.,  91., 186.,\n",
       "        220., 237., 233.,  68., 190.,  96.,  72., 153.,  98.,  37.,  63.,\n",
       "        184., 144., 150., 280., 125.,  59.,  65., 281., 277., 167.,  90.,\n",
       "         72., 178.,  88., 270., 101., 197.,  97.,  53.,  71., 262.,  52.,\n",
       "        102., 166., 189., 173., 220., 206.,  97.,  60.,  61., 242., 121.,\n",
       "        128., 104., 265., 132., 283., 174., 129., 257., 137.,  63.,  93.,\n",
       "        232., 208., 261., 179., 258., 262.,  51., 237.,  71., 139., 268.,\n",
       "         69., 317., 249.]))"
      ]
     },
     "execution_count": 7,
     "metadata": {},
     "output_type": "execute_result"
    }
   ],
   "source": [
    "X_train, X_test, y_train, y_test "
   ]
  },
  {
   "cell_type": "code",
   "execution_count": 8,
   "metadata": {},
   "outputs": [],
   "source": [
    "model = make_pipeline(\n",
    "    StandardScaler(),\n",
    "    MLPRegressor(hidden_layer_sizes=(5,),activation='logistic', max_iter=10000,learning_rate='invscaling',random_state=0)\n",
    ")"
   ]
  },
  {
   "cell_type": "code",
   "execution_count": 9,
   "metadata": {},
   "outputs": [
    {
     "name": "stderr",
     "output_type": "stream",
     "text": [
      "Stochastic Optimizer: Maximum iterations (10000) reached and the optimization hasn't converged yet.\n"
     ]
    },
    {
     "data": {
      "text/html": [
       "<style>#sk-container-id-1 {color: black;background-color: white;}#sk-container-id-1 pre{padding: 0;}#sk-container-id-1 div.sk-toggleable {background-color: white;}#sk-container-id-1 label.sk-toggleable__label {cursor: pointer;display: block;width: 100%;margin-bottom: 0;padding: 0.3em;box-sizing: border-box;text-align: center;}#sk-container-id-1 label.sk-toggleable__label-arrow:before {content: \"▸\";float: left;margin-right: 0.25em;color: #696969;}#sk-container-id-1 label.sk-toggleable__label-arrow:hover:before {color: black;}#sk-container-id-1 div.sk-estimator:hover label.sk-toggleable__label-arrow:before {color: black;}#sk-container-id-1 div.sk-toggleable__content {max-height: 0;max-width: 0;overflow: hidden;text-align: left;background-color: #f0f8ff;}#sk-container-id-1 div.sk-toggleable__content pre {margin: 0.2em;color: black;border-radius: 0.25em;background-color: #f0f8ff;}#sk-container-id-1 input.sk-toggleable__control:checked~div.sk-toggleable__content {max-height: 200px;max-width: 100%;overflow: auto;}#sk-container-id-1 input.sk-toggleable__control:checked~label.sk-toggleable__label-arrow:before {content: \"▾\";}#sk-container-id-1 div.sk-estimator input.sk-toggleable__control:checked~label.sk-toggleable__label {background-color: #d4ebff;}#sk-container-id-1 div.sk-label input.sk-toggleable__control:checked~label.sk-toggleable__label {background-color: #d4ebff;}#sk-container-id-1 input.sk-hidden--visually {border: 0;clip: rect(1px 1px 1px 1px);clip: rect(1px, 1px, 1px, 1px);height: 1px;margin: -1px;overflow: hidden;padding: 0;position: absolute;width: 1px;}#sk-container-id-1 div.sk-estimator {font-family: monospace;background-color: #f0f8ff;border: 1px dotted black;border-radius: 0.25em;box-sizing: border-box;margin-bottom: 0.5em;}#sk-container-id-1 div.sk-estimator:hover {background-color: #d4ebff;}#sk-container-id-1 div.sk-parallel-item::after {content: \"\";width: 100%;border-bottom: 1px solid gray;flex-grow: 1;}#sk-container-id-1 div.sk-label:hover label.sk-toggleable__label {background-color: #d4ebff;}#sk-container-id-1 div.sk-serial::before {content: \"\";position: absolute;border-left: 1px solid gray;box-sizing: border-box;top: 0;bottom: 0;left: 50%;z-index: 0;}#sk-container-id-1 div.sk-serial {display: flex;flex-direction: column;align-items: center;background-color: white;padding-right: 0.2em;padding-left: 0.2em;position: relative;}#sk-container-id-1 div.sk-item {position: relative;z-index: 1;}#sk-container-id-1 div.sk-parallel {display: flex;align-items: stretch;justify-content: center;background-color: white;position: relative;}#sk-container-id-1 div.sk-item::before, #sk-container-id-1 div.sk-parallel-item::before {content: \"\";position: absolute;border-left: 1px solid gray;box-sizing: border-box;top: 0;bottom: 0;left: 50%;z-index: -1;}#sk-container-id-1 div.sk-parallel-item {display: flex;flex-direction: column;z-index: 1;position: relative;background-color: white;}#sk-container-id-1 div.sk-parallel-item:first-child::after {align-self: flex-end;width: 50%;}#sk-container-id-1 div.sk-parallel-item:last-child::after {align-self: flex-start;width: 50%;}#sk-container-id-1 div.sk-parallel-item:only-child::after {width: 0;}#sk-container-id-1 div.sk-dashed-wrapped {border: 1px dashed gray;margin: 0 0.4em 0.5em 0.4em;box-sizing: border-box;padding-bottom: 0.4em;background-color: white;}#sk-container-id-1 div.sk-label label {font-family: monospace;font-weight: bold;display: inline-block;line-height: 1.2em;}#sk-container-id-1 div.sk-label-container {text-align: center;}#sk-container-id-1 div.sk-container {/* jupyter's `normalize.less` sets `[hidden] { display: none; }` but bootstrap.min.css set `[hidden] { display: none !important; }` so we also need the `!important` here to be able to override the default hidden behavior on the sphinx rendered scikit-learn.org. See: https://github.com/scikit-learn/scikit-learn/issues/21755 */display: inline-block !important;position: relative;}#sk-container-id-1 div.sk-text-repr-fallback {display: none;}</style><div id=\"sk-container-id-1\" class=\"sk-top-container\"><div class=\"sk-text-repr-fallback\"><pre>Pipeline(steps=[(&#x27;standardscaler&#x27;, StandardScaler()),\n",
       "                (&#x27;mlpregressor&#x27;,\n",
       "                 MLPRegressor(activation=&#x27;logistic&#x27;, hidden_layer_sizes=(5,),\n",
       "                              learning_rate=&#x27;invscaling&#x27;, max_iter=10000,\n",
       "                              random_state=0))])</pre><b>In a Jupyter environment, please rerun this cell to show the HTML representation or trust the notebook. <br />On GitHub, the HTML representation is unable to render, please try loading this page with nbviewer.org.</b></div><div class=\"sk-container\" hidden><div class=\"sk-item sk-dashed-wrapped\"><div class=\"sk-label-container\"><div class=\"sk-label sk-toggleable\"><input class=\"sk-toggleable__control sk-hidden--visually\" id=\"sk-estimator-id-1\" type=\"checkbox\" ><label for=\"sk-estimator-id-1\" class=\"sk-toggleable__label sk-toggleable__label-arrow\">Pipeline</label><div class=\"sk-toggleable__content\"><pre>Pipeline(steps=[(&#x27;standardscaler&#x27;, StandardScaler()),\n",
       "                (&#x27;mlpregressor&#x27;,\n",
       "                 MLPRegressor(activation=&#x27;logistic&#x27;, hidden_layer_sizes=(5,),\n",
       "                              learning_rate=&#x27;invscaling&#x27;, max_iter=10000,\n",
       "                              random_state=0))])</pre></div></div></div><div class=\"sk-serial\"><div class=\"sk-item\"><div class=\"sk-estimator sk-toggleable\"><input class=\"sk-toggleable__control sk-hidden--visually\" id=\"sk-estimator-id-2\" type=\"checkbox\" ><label for=\"sk-estimator-id-2\" class=\"sk-toggleable__label sk-toggleable__label-arrow\">StandardScaler</label><div class=\"sk-toggleable__content\"><pre>StandardScaler()</pre></div></div></div><div class=\"sk-item\"><div class=\"sk-estimator sk-toggleable\"><input class=\"sk-toggleable__control sk-hidden--visually\" id=\"sk-estimator-id-3\" type=\"checkbox\" ><label for=\"sk-estimator-id-3\" class=\"sk-toggleable__label sk-toggleable__label-arrow\">MLPRegressor</label><div class=\"sk-toggleable__content\"><pre>MLPRegressor(activation=&#x27;logistic&#x27;, hidden_layer_sizes=(5,),\n",
       "             learning_rate=&#x27;invscaling&#x27;, max_iter=10000, random_state=0)</pre></div></div></div></div></div></div></div>"
      ],
      "text/plain": [
       "Pipeline(steps=[('standardscaler', StandardScaler()),\n",
       "                ('mlpregressor',\n",
       "                 MLPRegressor(activation='logistic', hidden_layer_sizes=(5,),\n",
       "                              learning_rate='invscaling', max_iter=10000,\n",
       "                              random_state=0))])"
      ]
     },
     "execution_count": 9,
     "metadata": {},
     "output_type": "execute_result"
    }
   ],
   "source": [
    "model.fit(X_train,y_train)"
   ]
  },
  {
   "cell_type": "code",
   "execution_count": null,
   "metadata": {},
   "outputs": [],
   "source": [
    "explainer = shap.KernelExplainer(model.predict,X_train)"
   ]
  },
  {
   "cell_type": "code",
   "execution_count": null,
   "metadata": {},
   "outputs": [],
   "source": [
    "print(len(features))\n",
    "print(len(X_test))\n",
    "print(X_test.mean())\n",
    "print(X_test)"
   ]
  },
  {
   "cell_type": "code",
   "execution_count": null,
   "metadata": {},
   "outputs": [],
   "source": [
    "shap_values = explainer.shap_values(X_test,nsamples=100)"
   ]
  },
  {
   "cell_type": "code",
   "execution_count": null,
   "metadata": {},
   "outputs": [],
   "source": [
    "shap.summary_plot(shap_values,X_test,feature_names=features)"
   ]
  },
  {
   "cell_type": "code",
   "execution_count": null,
   "metadata": {},
   "outputs": [],
   "source": [
    "shap.initjs()\n",
    "shap.force_plot(explainer.expected_value, shap_values[0,:]  ,X_test[0,:],feature_names=features)"
   ]
  },
  {
   "cell_type": "code",
   "execution_count": null,
   "metadata": {},
   "outputs": [],
   "source": []
  }
 ],
 "metadata": {
  "kernelspec": {
   "display_name": "Python [conda env:ilab-tensorflow]",
   "language": "python",
   "name": "conda-env-ilab-tensorflow-py"
  },
  "language_info": {
   "codemirror_mode": {
    "name": "ipython",
    "version": 3
   },
   "file_extension": ".py",
   "mimetype": "text/x-python",
   "name": "python",
   "nbconvert_exporter": "python",
   "pygments_lexer": "ipython3",
   "version": "3.8.16"
  }
 },
 "nbformat": 4,
 "nbformat_minor": 4
}
