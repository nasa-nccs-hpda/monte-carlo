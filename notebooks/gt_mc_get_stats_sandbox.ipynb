{
 "cells": [
  {
   "cell_type": "markdown",
   "metadata": {},
   "source": [
    "# Generate Permutation Importance (i.e., rank) from SHAP files"
   ]
  },
  {
   "cell_type": "code",
   "execution_count": 2,
   "metadata": {},
   "outputs": [],
   "source": [
    "import shap\n",
    "import numpy as np\n",
    "import pickle\n",
    "import glob\n",
    "import pathlib\n",
    "import subprocess\n",
    "import matplotlib.pyplot as plt\n",
    "import rasterio\n",
    "from rasterio.transform import Affine\n",
    "from osgeo import gdal"
   ]
  },
  {
   "cell_type": "code",
   "execution_count": 2,
   "metadata": {},
   "outputs": [],
   "source": [
    "import os\n",
    "def is_non_zero_file(fpath):  \n",
    "    return os.path.isfile(fpath) and os.path.getsize(fpath) > 0"
   ]
  },
  {
   "cell_type": "code",
   "execution_count": 1,
   "metadata": {},
   "outputs": [],
   "source": [
    "from pathlib import Path\n",
    "path = '/explore/nobackup/projects/ilab/data/AGB/test/mcruns/output/exp_2_bands_bandListFile_1_trials_20240225/754873093086037409/PERMUTATION_IMPORTANCE_VALUES/MLP_SGD_7_layers_1024_units_MAE::754873093086037409.keras[2, 10].shap_values0to50'\n",
    "Path(path).touch()"
   ]
  },
  {
   "cell_type": "code",
   "execution_count": 10,
   "metadata": {},
   "outputs": [
    {
     "name": "stdout",
     "output_type": "stream",
     "text": [
      "/explore/nobackup/projects/ilab/data/AGB/test/mcruns/output/exp_2_bands_bandListFile_1_trials_20240225/754873093086037409/PERMUTATION_IMPORTANCE_VALUES/MLP_SGD_7_layers_1024_units_MAE::754873093086037409.keras[2, 10].shap_values0to50  size ==  0\n",
      "/explore/nobackup/projects/ilab/data/AGB/test/mcruns/output/exp_2_bands_bandListFile_1_trials_20240225/754873093086037409/PERMUTATION_IMPORTANCE_VALUES/MLP_SGD_7_layers_1024_units_MAE::754873093086037409.keras[2, 10].shap_values0to50  size still ==  0\n"
     ]
    }
   ],
   "source": [
    "print(path, ' size == ', os.path.getsize(path))\n",
    "if ( os.path.getsize(path) == 0):\n",
    "    print(path, ' size still == ', os.path.getsize(path))"
   ]
  },
  {
   "cell_type": "code",
   "execution_count": null,
   "metadata": {},
   "outputs": [],
   "source": []
  },
  {
   "cell_type": "code",
   "execution_count": 1,
   "metadata": {},
   "outputs": [
    {
     "ename": "NameError",
     "evalue": "name 'pickle' is not defined",
     "output_type": "error",
     "traceback": [
      "\u001b[0;31m---------------------------------------------------------------------------\u001b[0m",
      "\u001b[0;31mNameError\u001b[0m                                 Traceback (most recent call last)",
      "Cell \u001b[0;32mIn[1], line 4\u001b[0m\n\u001b[1;32m      2\u001b[0m bandListFile \u001b[38;5;241m=\u001b[39m \u001b[38;5;124m'\u001b[39m\u001b[38;5;124m/explore/nobackup/projects/ilab/data/AGB/test/mcruns/input/random_sets/random_sets_2.bak\u001b[39m\u001b[38;5;124m'\u001b[39m\n\u001b[1;32m      3\u001b[0m setFile \u001b[38;5;241m=\u001b[39m \u001b[38;5;28mopen\u001b[39m(bandListFile, \u001b[38;5;124m\"\u001b[39m\u001b[38;5;124mrb\u001b[39m\u001b[38;5;124m\"\u001b[39m)\n\u001b[0;32m----> 4\u001b[0m random_sets_r \u001b[38;5;241m=\u001b[39m \u001b[43mpickle\u001b[49m\u001b[38;5;241m.\u001b[39mload(setFile)\n\u001b[1;32m      5\u001b[0m setFile\u001b[38;5;241m.\u001b[39mflush()\n\u001b[1;32m      6\u001b[0m setFile\u001b[38;5;241m.\u001b[39mclose()\n",
      "\u001b[0;31mNameError\u001b[0m: name 'pickle' is not defined"
     ]
    }
   ],
   "source": [
    "#bandListFile = '/explore/nobackup/projects/ilab/data/AGB/test/mcruns/input/random_sets/random_sets_20240203_collection-ALL_max_occurrences-50_batch_size-10_num_samples-3227_bandLen-447.pkl.test'\n",
    "bandListFile = '/explore/nobackup/projects/ilab/data/AGB/test/mcruns/input/random_sets/random_sets_2.bak'\n",
    "setFile = open(bandListFile, \"rb\")\n",
    "random_sets_r = pickle.load(setFile)\n",
    "setFile.flush()\n",
    "setFile.close()\n",
    "print('initial # of subsets in input file:', len(random_sets_r))\n",
    "print(random_sets_r)"
   ]
  },
  {
   "cell_type": "code",
   "execution_count": 6,
   "metadata": {},
   "outputs": [
    {
     "name": "stdout",
     "output_type": "stream",
     "text": [
      "# of model files already processed: 2 \n",
      " ['/explore/nobackup/projects/ilab/data/AGB/test/mcruns/output/exp_10_bands_10_trials/446420826688885424/MODELS/MLP_SGD_7_layers_1024_units_MAE::446420826688885424.keras[[196, 235, 227, 410, 39, 263, 214, 256, 442, 60]].model', '/explore/nobackup/projects/ilab/data/AGB/test/mcruns/output/exp_10_bands_10_trials/446420826688885424/MODELS/MLP_SGD_7_layers_1024_units_MAE::446420826688885424.keras[[284, 31, 307, 262, 71, 204, 92, 390, 248, 164]].model']\n"
     ]
    }
   ],
   "source": [
    "shapPrefix = '/explore/nobackup/projects/ilab/data/AGB/test/mcruns/output/exp_10_bands_10_trials'\n",
    "#'\\]\\.model:' \n",
    "processedModelFiles = glob.glob(shapPrefix + '**/**/MODELS/*].model',\n",
    "                       recursive=True)\n",
    "print('# of model files already processed:', len(processedModelFiles), '\\n', processedModelFiles)\n"
   ]
  },
  {
   "cell_type": "code",
   "execution_count": 8,
   "metadata": {},
   "outputs": [
    {
     "name": "stdout",
     "output_type": "stream",
     "text": [
      "# of shap files already processed: 2 \n",
      " ['/explore/nobackup/projects/ilab/data/AGB/test/mcruns/output/exp_10_bands_10_trials/446420826688885424/PERMUTATION_IMPORTANCE_VALUES/MLP_SGD_7_layers_1024_units_MAE::446420826688885424.keras[[196, 235, 227, 410, 39, 263, 214, 256, 442, 60]].shap_values0to50', '/explore/nobackup/projects/ilab/data/AGB/test/mcruns/output/exp_10_bands_10_trials/446420826688885424/PERMUTATION_IMPORTANCE_VALUES/MLP_SGD_7_layers_1024_units_MAE::446420826688885424.keras[[284, 31, 307, 262, 71, 204, 92, 390, 248, 164]].shap_values0to50']\n"
     ]
    }
   ],
   "source": [
    "shapPrefix = '/explore/nobackup/projects/ilab/data/AGB/test/mcruns/output/exp_10_bands_10_trials'\n",
    "processedShapFiles = glob.glob(shapPrefix + '**/**/PERMUTATION_IMPORTANCE_VALUES/*.shap_values0to50',\n",
    "                       recursive=True)\n",
    "print('# of shap files already processed:', len(processedShapFiles), '\\n', processedShapFiles)\n"
   ]
  },
  {
   "cell_type": "code",
   "execution_count": 2,
   "metadata": {},
   "outputs": [
    {
     "name": "stdout",
     "output_type": "stream",
     "text": [
      "    Index Name=ARI\n",
      "    Index Name=CAI\n",
      "    Index Name=CRI550\n",
      "    Index Name=CRI700\n",
      "    Index Name=EVI\n",
      "    Index Name=EVI2\n",
      "    Index Name=fPAR\n",
      "    Index Name=LAI\n",
      "    Index Name=MCTI\n",
      "    Index Name=MSI\n",
      "    Index Name=NDII\n",
      "    Index Name=NDLI\n",
      "    Index Name=NDNI\n",
      "    Index Name=NDVI\n",
      "    Index Name=NDWI\n",
      "    Index Name=NIRv\n",
      "    Index Name=PRIn\n",
      "    Index Name=PRIw\n",
      "    Index Name=SAVI\n",
      "    Index Name=WBI\n",
      "    Index Name=Albedo\n"
     ]
    }
   ],
   "source": [
    "!gdalinfo /explore/nobackup/projects/ilab/data/AGB/test/beta_pmm/MLBS_2018_541567.6_4136443.0_542567.6_4137443.0/MLBS_2018_hyperspectral_indices.tif | grep Index > /explore/nobackup/projects/ilab/data/AGB/test/mlruns/aggregate/MLBS_2018_hyperspectral_indices-bandnames.csv\n",
    "!more /explore/nobackup/projects/ilab/data/AGB/test/mlruns/aggregate/MLBS_2018_hyperspectral_indices-bandnames.csv"
   ]
  },
  {
   "cell_type": "code",
   "execution_count": 3,
   "metadata": {
    "tags": []
   },
   "outputs": [],
   "source": [
    "!gdalinfo /explore/nobackup/projects/ilab/projects/AGB/MLBS-2015/2015_NEON_D07_MLBS_DP3_547000_4141000_reflectance.tif | grep Wavelength > /explore/nobackup/projects/ilab/data/AGB/test/mlruns/aggregate/2015_NEON_D07_MLBS_DP3_547000_4141000_reflectance.csv\n",
    "#!more /explore/nobackup/projects/ilab/data/AGB/test/mlruns/aggregate/MLBS_2018_541567.6_4136443.0_542567.6_4137443.0-hyperspectral-aggregate.separate-background-scaled-named.csv"
   ]
  },
  {
   "cell_type": "code",
   "execution_count": 6,
   "metadata": {},
   "outputs": [],
   "source": [
    "hyperspectral_indices = '/explore/nobackup/projects/ilab/data/AGB/test/mlruns/aggregate/MLBS_2018_hyperspectral_indices-bandnames.csv'\n",
    "neon_reflectance = '/explore/nobackup/projects/ilab/data/AGB/test/mlruns/aggregate/2015_NEON_D07_MLBS_DP3_547000_4141000_reflectance.csv'"
   ]
  },
  {
   "cell_type": "code",
   "execution_count": 9,
   "metadata": {},
   "outputs": [
    {
     "name": "stdout",
     "output_type": "stream",
     "text": [
      "['ARI', 'CAI', 'CRI550', 'CRI700', 'EVI', 'EVI2', 'fPAR', 'LAI', 'MCTI', 'MSI', 'NDII', 'NDLI', 'NDNI', 'NDVI', 'NDWI', 'NIRv', 'PRIn', 'PRIw', 'SAVI', 'WBI', 'Albedo']\n"
     ]
    }
   ],
   "source": [
    "import csv\n",
    "\n",
    "hyperspectral_indices_bandnames = []\n",
    "with open(hyperspectral_indices) as csv_file:\n",
    "    csv_reader = csv.reader(csv_file, delimiter='=')\n",
    "    line_count = 0\n",
    "    for row in csv_reader:\n",
    "#        print(row[1])\n",
    "        hyperspectral_indices_bandnames.append(row[1])\n",
    "print(hyperspectral_indices_bandnames)"
   ]
  },
  {
   "cell_type": "code",
   "execution_count": 10,
   "metadata": {},
   "outputs": [
    {
     "name": "stdout",
     "output_type": "stream",
     "text": [
      "['ARI', 'CAI', 'CRI550', 'CRI700', 'EVI', 'EVI2', 'fPAR', 'LAI', 'MCTI', 'MSI', 'NDII', 'NDLI', 'NDNI', 'NDVI', 'NDWI', 'NIRv', 'PRIn', 'PRIw', 'SAVI', 'WBI', 'Albedo', '383.072', '388.0806', '393.0891', '398.0977', '403.1062', '408.1147', '413.1233', '418.1318', '423.1403', '428.1489', '433.1574', '438.1659', '443.1745', '448.183', '453.1916', '458.2001', '463.2086', '468.2172', '473.2257', '478.2342', '483.2428', '488.2513', '493.2598', '498.2684', '503.2769', '508.2855', '513.294', '518.3025', '523.3111', '528.3196', '533.3281', '538.3367', '543.3452', '548.3537', '553.3623', '558.3708', '563.3794', '568.3879', '573.3964', '578.405', '583.4135', '588.422', '593.4306', '598.4391', '603.4476', '608.4562', '613.4647', '618.4733', '623.4818', '628.4903', '633.4989', '638.5074', '643.5159', '648.5245', '653.533', '658.5415', '663.5501', '668.5586', '673.5672', '678.5757', '683.5842', '688.5928', '693.6013', '698.6098', '703.6184', '708.6269', '713.6354', '718.644', '723.6525', '728.6611', '733.6696', '738.6781', '743.6867', '748.6952', '753.7037', '758.7123', '763.7208', '768.7293', '773.7379', '778.7464', '783.755', '788.7635', '793.772', '798.7806', '803.7891', '808.7976', '813.8062', '818.8147', '823.8232', '828.8318', '833.8403', '838.8489', '843.8574', '848.8659', '853.8745', '858.883', '863.8915', '868.9001', '873.9086', '878.9171', '883.9257', '888.9342', '893.9428', '898.9513', '903.9598', '908.9684', '913.9769', '918.9854', '923.994', '929.0025', '934.011', '939.0196', '944.0281', '949.0367', '954.0452', '959.0537', '964.0623', '969.0708', '974.0793', '979.0879', '984.0964', '989.1049', '994.1135', '999.122', '1004.1306', '1009.1391', '1014.1476', '1019.1562', '1024.1647', '1029.1732', '1034.1818', '1039.1903', '1044.1989', '1049.2074', '1054.216', '1059.2245', '1064.233', '1069.2415', '1074.2501', '1079.2585', '1084.2671', '1089.2758', '1094.2842', '1099.2927', '1104.3013', '1109.3098', '1114.3184', '1119.3269', '1124.3354', '1129.344', '1134.3525', '1139.361', '1144.3696', '1149.378', '1154.3866', '1159.3951', '1164.4037', '1169.4124', '1174.4208', '1179.4293', '1184.4379', '1189.4464', '1194.455', '1199.4635', '1204.472', '1209.4805', '1214.4891', '1219.4976', '1224.5062', '1229.5146', '1234.5232', '1239.5319', '1244.5403', '1249.5488', '1254.5574', '1259.5659', '1264.5743', '1269.583', '1274.5916', '1279.6001', '1284.6086', '1289.6171', '1294.6257', '1299.6342', '1304.6427', '1309.6512', '1314.6598', '1319.6683', '1324.6769', '1329.6854', '1334.694', '1339.7025', '1344.711', '1349.7196', '1354.7281', '1359.7366', '1364.7452', '1369.7537', '1374.7622', '1379.7708', '1384.7793', '1389.7878', '1394.7964', '1399.8049', '1404.8135', '1409.822', '1414.8304', '1419.8391', '1424.8477', '1429.8561', '1434.8647', '1439.8732', '1444.8818', '1449.8903', '1454.8988', '1459.9073', '1464.9159', '1469.9244', '1474.933', '1479.9415', '1484.95', '1489.9586', '1494.967', '1499.9757', '1504.9843', '1509.9927', '1515.0013', '1520.0098', '1525.0183', '1530.0269', '1535.0354', '1540.044', '1545.0525', '1550.061', '1555.0696', '1560.0781', '1565.0865', '1570.0952', '1575.1038', '1580.1122', '1585.1208', '1590.1293', '1595.1378', '1600.1464', '1605.1549', '1610.1635', '1615.172', '1620.1805', '1625.1891', '1630.1976', '1635.206', '1640.2147', '1645.2231', '1650.2317', '1655.2404', '1660.2488', '1665.2574', '1670.2659', '1675.2744', '1680.283', '1685.2915', '1690.3', '1695.3086', '1700.3171', '1705.3256', '1710.3342', '1715.3427', '1720.3513', '1725.3597', '1730.3683', '1735.377', '1740.3854', '1745.3939', '1750.4025', '1755.411', '1760.4196', '1765.4281', '1770.4366', '1775.4452', '1780.4537', '1785.4622', '1790.4708', '1795.4792', '1800.4878', '1805.4965', '1810.5049', '1815.5134', '1820.522', '1825.5305', '1830.5391', '1835.5476', '1840.5562', '1845.5647', '1850.5732', '1855.5817', '1860.5903', '1865.5988', '1870.6073', '1875.6158', '1880.6244', '1885.633', '1890.6415', '1895.65', '1900.6586', '1905.6671', '1910.6757', '1915.6842', '1920.6927', '1925.7012', '1930.7098', '1935.7183', '1940.7269', '1945.7354', '1950.7439', '1955.7524', '1960.761', '1965.7695', '1970.7781', '1975.7866', '1980.795', '1985.8037', '1990.8123', '1995.8208', '2000.8293', '2005.8378', '2010.8464', '2015.8549', '2020.8634', '2025.872', '2030.8805', '2035.889', '2040.8976', '2045.9061', '2050.9148', '2055.923', '2060.9316', '2065.9402', '2070.9487', '2075.9573', '2080.9658', '2085.9744', '2090.983', '2095.9915', '2101.0', '2106.0085', '2111.017', '2116.0256', '2121.0342', '2126.0427', '2131.0513', '2136.0598', '2141.0684', '2146.077', '2151.0854', '2156.094', '2161.1025', '2166.111', '2171.1194', '2176.1282', '2181.1367', '2186.145', '2191.1538', '2196.162', '2201.1707', '2206.1792', '2211.1877', '2216.1963', '2221.2048', '2226.2134', '2231.222', '2236.2305', '2241.239', '2246.2476', '2251.256', '2256.2646', '2261.2732', '2266.2817', '2271.2903', '2276.2988', '2281.3074', '2286.316', '2291.3245', '2296.333', '2301.3416', '2306.35', '2311.3584', '2316.3672', '2321.3755', '2326.3843', '2331.3926', '2336.4011', '2341.41', '2346.4182', '2351.4268', '2356.4353', '2361.4438', '2366.4524', '2371.461', '2376.4695', '2381.478', '2386.4866', '2391.495', '2396.5037', '2401.5122', '2406.5208', '2411.5293', '2416.5378', '2421.5464', '2426.555', '2431.5635', '2436.572', '2441.5806', '2446.589', '2451.5977', '2456.6062', '2461.6145', '2466.6233', '2471.6316', '2476.6401', '2481.6487', '2486.6572', '2491.666', '2496.6743', '2501.6829', '2506.6914', '2511.7']\n"
     ]
    }
   ],
   "source": [
    "with open(neon_reflectance) as csv_file:\n",
    "    csv_reader = csv.reader(csv_file, delimiter='=')\n",
    "    line_count = 0\n",
    "    for row in csv_reader:\n",
    "#        print(row[1])\n",
    "        hyperspectral_indices_bandnames.append(row[1])\n",
    "print(hyperspectral_indices_bandnames)"
   ]
  },
  {
   "cell_type": "code",
   "execution_count": null,
   "metadata": {},
   "outputs": [],
   "source": [
    "# read csv file to a list of dictionaries\n",
    "with open(hyperspectral_indices_bandnames, 'r') as file:\n",
    "    csv_reader = csv.DictReader(file)\n",
    "    data = [row for row in csv_reader]\n",
    "print(data[1])"
   ]
  },
  {
   "cell_type": "code",
   "execution_count": null,
   "metadata": {},
   "outputs": [],
   "source": [
    "from datetime import datetime\n",
    "start_time = datetime.now()\n",
    "import socket\n",
    "hostname = socket.gethostname()\n",
    "IPAddr = socket.gethostbyname(hostname)\n",
    "print(\"Your Computer Name is:\" + hostname)\n",
    "print(\"Your Computer IP Address is:\" + IPAddr)\n",
    "\n",
    "time_elapsed = datetime.now() - start_time\n",
    "print('Time elapsed on node [{}] = (hh:mm:ss.ms) {}'.format(hostname, time_elapsed))"
   ]
  },
  {
   "cell_type": "code",
   "execution_count": null,
   "metadata": {},
   "outputs": [],
   "source": [
    "file = \"/explore/nobackup/projects/ilab/data/AGB/test/beta_pmm/MLBS_2018_541567.6_4136443.0_542567.6_4137443.0/MLBS_2018_Reflectance_reflectance_warp.tif\"\n",
    "raster = rasterio.open(file)\n",
    "\n",
    "plt.imshow(raster.read(1), cmap=\"BrBG\")\n",
    "plt.title(\"Temperature\")\n",
    "plt.show()\n",
    "raster.close()"
   ]
  },
  {
   "cell_type": "code",
   "execution_count": null,
   "metadata": {},
   "outputs": [],
   "source": [
    "# ds = gdal.Open(file)  \n",
    "\n",
    "# for band in range(1, ds.RasterCount):\n",
    "#     print(ds.GetRasterBand(band).GetMetadata())"
   ]
  },
  {
   "cell_type": "code",
   "execution_count": null,
   "metadata": {},
   "outputs": [],
   "source": [
    "with rasterio.open(file) as src:\n",
    "    print(src.descriptions)\n",
    "    print(src.meta)\n",
    "    print(src.profile)"
   ]
  },
  {
   "cell_type": "code",
   "execution_count": null,
   "metadata": {},
   "outputs": [],
   "source": [
    "file = \"/explore/nobackup/projects/ilab/data/AGB/test/beta_pmm/MLBS_2018_541567.6_4136443.0_542567.6_4137443.0/MLBS_2018_Reflectance_reflectance_warp.tif\"\n",
    "raster = rasterio.open(file)"
   ]
  },
  {
   "cell_type": "code",
   "execution_count": null,
   "metadata": {},
   "outputs": [],
   "source": [
    "raster.profile"
   ]
  },
  {
   "cell_type": "code",
   "execution_count": null,
   "metadata": {},
   "outputs": [],
   "source": [
    "raster.profile['height']"
   ]
  },
  {
   "cell_type": "code",
   "execution_count": null,
   "metadata": {},
   "outputs": [],
   "source": [
    "raster_band = raster.read(1)\n",
    "raster_band"
   ]
  },
  {
   "cell_type": "code",
   "execution_count": null,
   "metadata": {},
   "outputs": [],
   "source": [
    "scaled_raster_band = np.divide(raster_band, 10000)\n",
    "scaled_raster_band"
   ]
  },
  {
   "cell_type": "code",
   "execution_count": null,
   "metadata": {},
   "outputs": [],
   "source": [
    "# Loop through raster bands\n",
    "file = \"/explore/nobackup/projects/ilab/data/AGB/test/beta_pmm/MLBS_2018_541567.6_4136443.0_542567.6_4137443.0/MLBS_2018_Reflectance_reflectance_warp.tif\"\n",
    "raster_out = '/explore/nobackup/projects/ilab/data/AGB/test/mlruns/aggregate/MLBS_2018_541567.6_4136443.0_542567.6_4137443.0-hyperspectral-aggregate.separate-background-scaled.tif'\n",
    "raster = rasterio.open(file)\n",
    "\n",
    "scaled_bands = []\n",
    "for band_no in range(1, raster.count + 1):\n",
    "    # Read band\n",
    "    raster_band = raster.read(band_no)\n",
    "\n",
    "    scaled_raster_band = np.divide(raster_band, 10000)\n",
    "\n",
    "    # Append padded raster band to list\n",
    "    scaled_bands.append(scaled_raster_band)\n",
    "\n",
    "with rio.open(raster_out, 'w', **out_meta) as dest:\n",
    "    for band_nr, src in enumerate(scaled_bands, start=1):\n",
    "        dest.write(src, band_nr)"
   ]
  },
  {
   "cell_type": "code",
   "execution_count": null,
   "metadata": {},
   "outputs": [],
   "source": [
    "!ls '/explore/nobackup/projects/ilab/data/AGB/test/mlruns/exp_7bands/20240115/600584965588330414/MODELS/MLP_7bands_2_epochs::600584965588330414.keras[[2, 16]].model/variables'"
   ]
  },
  {
   "cell_type": "code",
   "execution_count": null,
   "metadata": {},
   "outputs": [],
   "source": [
    "import sys\n",
    "sys.path.append('/explore/nobackup/people/gtamkin/dev/AGB/mpf-model-factories/MultiPathFusion')\n",
    "sys.path.append('/explore/nobackup/people/gtamkin/dev/AGB/monte-carlo/monte-carlo')\n",
    "# from mc.model.config.MpfConfig import MpfConfig"
   ]
  },
  {
   "cell_type": "code",
   "execution_count": null,
   "metadata": {},
   "outputs": [],
   "source": [
    "!ls -alRt /explore/nobackup/projects/ilab/data/AGB/test/mlruns/aggregate/20240112/789617681324607598/MODELS/ | grep '\\]\\.model:' | wc -l\n",
    "!ls -alRt /explore/nobackup/projects/ilab/data/AGB/test/mlruns/aggregate/20240112/789617681324607598/MODELS/ | grep '\\]\\.test' | wc -l\n",
    "!ls -alRt /explore/nobackup/projects/ilab/data/AGB/test/mlruns/aggregate/20240112/789617681324607598/PERMUTATION_IMPORTANCE_VALUES/ | grep shap |wc -l"
   ]
  },
  {
   "cell_type": "code",
   "execution_count": null,
   "metadata": {},
   "outputs": [],
   "source": [
    "bandListFile = '/explore/nobackup/projects/ilab/data/AGB/test/mlruns/random_sets/random_sets_20240111_shrink_False_num_samples_1088_bandLen_447'\n",
    "random_sets_r = pickle.load(open(bandListFile, \"rb\"))\n",
    "print(len(random_sets_r))\n",
    "\n",
    "bandListFile = '/explore/nobackup/projects/ilab/data/AGB/test/mlruns/aggregate/random_sets_20240111_shrink_False_num_samples_1088_bandLen_447.bak'\n",
    "random_sets_orig = pickle.load(open(bandListFile, \"rb\"))\n",
    "print(len(random_sets_orig))\n"
   ]
  },
  {
   "cell_type": "code",
   "execution_count": null,
   "metadata": {},
   "outputs": [],
   "source": [
    "\n",
    "file1 = '/explore/nobackup/projects/ilab/data/AGB/test/mlruns/MLP_SGD_7_layers_1024_units_MAE::642759939845152617.keras[[382, 116, 40, 358, 112, 346, 137, 76, 136, 83]].shap_values0to50'\n",
    "file0 = '/_explore/nobackup/projects/ilab/data/AGB/test/mlruns/MLP_SGD_7_layers_1024_units_MAE::642759939845152617.keras[[382, 116, 40, 358, 112, 346, 137, 76, 136, 83]].shap_values0to50'\n",
    "file2 = \"/explore/nobackup/people/gtamkin/dev/AGB/mpf-model-factories/MultiPathFusion/multi_path_fusion/notebooks/glenn\"\n",
    "result = subprocess.run([\"/usr/bin/ls\", file1], stdout=subprocess.PIPE, stderr=subprocess.PIPE)\n",
    "print('result: ', result)\n",
    "print('result.returncode: ', result.returncode)\n",
    "print('result.stdout: ', result.stdout)\n",
    "print('result.stderr: ', result.stderr)\n"
   ]
  },
  {
   "cell_type": "code",
   "execution_count": null,
   "metadata": {
    "tags": []
   },
   "outputs": [],
   "source": [
    "bandListFile = '/explore/nobackup/projects/ilab/data/AGB/test/mlruns/20240108/random_sets_20240108_shrink_False_num_samples_1196_bandLen_426'\n",
    "random_sets_r = pickle.load(open(bandListFile, \"rb\"))\n",
    "\n",
    "indexListIntStr = ''\n",
    "print(str(random_sets_r[0]))\n",
    "count = 0\n",
    "for band in random_sets_r[0]: \n",
    "    if (count == 0):\n",
    "        indexListIntStr = indexListIntStr + band\n",
    "    else:\n",
    "            indexListIntStr = indexListIntStr + ', ' + band   \n",
    "    count = count + 1\n",
    "print('indexListIntStr:', indexListIntStr) \n",
    "\n",
    "shapFile =  \"'/explore/nobackup/projects/ilab/data/AGB/test/mlruns/MLP_SGD_7_layers_1024_units_MAE::642759939845152617.keras[[\" + str(indexListIntStr) + \"]].shap_values0to50'\"\n",
    "\n",
    "print(pathlib.Path(str(shapFile)).is_file())\n",
    "print (os.path.isfile(str(shapFile)))\n",
    "\n",
    "shapFile2 =  \"/explore/nobackup/projects/ilab/data/AGB/test/mlruns/MLP_SGD_7_layers_1024_units_MAE::642759939845152617.keras[[\" + str(indexListIntStr) + \"]].shap_values0to50\"\n",
    "result = subprocess.run([\"/usr/bin/ls\", shapFile2], stdout=subprocess.PIPE, stderr=subprocess.PIPE)\n",
    "print('\\nresult: ', result)\n",
    "print('result.returncode: ', result.returncode)\n",
    "print('result.stdout: ', result.stdout)\n",
    "print('result.stderr: ', result.stderr)\n",
    "\n",
    "print('\\n', shapFile)\n",
    "!/usr/bin/ls -alt $shapFile\n",
    "\n"
   ]
  },
  {
   "cell_type": "code",
   "execution_count": null,
   "metadata": {},
   "outputs": [],
   "source": [
    "# # pip install gdal-utils\n",
    "# import osgeo_utils.gdal_merge\n",
    "\n",
    "# img_list = ['/explore/nobackup/projects/ilab/data/AGB/test/beta_pmm/MLBS_2018_541567.6_4136443.0_542567.6_4137443.0/MLBS_2018_hyperspectral_indices.tif', \n",
    "#             '/explore/nobackup/projects/ilab/data/AGB/test/beta_pmm/MLBS_2018_541567.6_4136443.0_542567.6_4137443.0/MLBS_2018_Reflectance_reflectance_warp.tif']\n",
    "# output_file_path = 'MLBS_2018_541567.6_4136443.0_542567.6_4137443.0-hyperspectral-aggregate-separate.tif'\n",
    "# parameters = ['', '-o', output_file_path] + img_list + ['-separate', '-ot', 'Float32']\n",
    "# osgeo_utils.gdal_merge.main(parameters)"
   ]
  },
  {
   "cell_type": "code",
   "execution_count": null,
   "metadata": {
    "tags": []
   },
   "outputs": [],
   "source": [
    "bandListFile = '/explore/nobackup/projects/ilab/data/AGB/test/mlruns/20240108/random_sets_20240108_shrink_False_num_samples_1196_bandLen_426'\n",
    "random_sets_r = pickle.load(open(bandListFile, \"rb\"))\n",
    "\n",
    "indexListIntStr = ''\n",
    "print(str(random_sets_r[0]))\n",
    "count = 0\n",
    "for band in random_sets_r[0]: \n",
    "    if (count == 0):\n",
    "        indexListIntStr = indexListIntStr + band\n",
    "    else:\n",
    "        if (int(band) < 10):\n",
    "            indexListIntStr = indexListIntStr + ',   ' + band\n",
    "        elif (int(band) < 100):\n",
    "            indexListIntStr = indexListIntStr + ', ' + band   \n",
    "        else:\n",
    "            indexListIntStr = indexListIntStr + ', ' + band   \n",
    "    count = count + 1\n",
    "print('indexListIntStr:', indexListIntStr) \n",
    "\n",
    "shapFile =  \"'/explore/nobackup/projects/ilab/data/AGB/test/mlruns/MLP_SGD_7_layers_1024_units_MAE::642759939845152617.keras[[\" + str(indexListIntStr) + \"]].shap_values0to50'\"\n",
    "print(shapFile)\n",
    "!/usr/bin/ls -alt $shapFile\n",
    "\n",
    "shapFile2 =  \"/explore/nobackup/projects/ilab/data/AGB/test/mlruns/MLP_SGD_7_layers_1024_units_MAE::642759939845152617.keras[[\" + str(indexListIntStr) + \"]].shap_values0to50\"\n",
    "result = subprocess.run([\"/usr/bin/ls\", shapFile2], stdout=subprocess.PIPE, stderr=subprocess.PIPE)\n",
    "print('result: ', result)\n",
    "print('result.returncode: ', result.returncode)\n",
    "print('result.stdout: ', result.stdout)\n",
    "print('result.stderr: ', result.stderr)\n"
   ]
  },
  {
   "cell_type": "code",
   "execution_count": null,
   "metadata": {},
   "outputs": [],
   "source": [
    "bandListFile = '/explore/nobackup/projects/ilab/data/AGB/test/mlruns/20240108/random_sets_20240108_shrink_False_num_samples_1196_bandLen_426'\n",
    "random_sets_r = pickle.load(open(bandListFile, \"rb\"))\n",
    "# print(shapFile)\n",
    "#indexListStr = '\\\\[\\\\'\n",
    "indexListStr = ''\n",
    "print(str(random_sets_r[0]))\n",
    "count = 0\n",
    "for band in random_sets_r[0]: \n",
    "    if (count == 0):\n",
    "        indexListStr = indexListStr + str(band)\n",
    "    else:\n",
    "        if (int(band) < 10):\n",
    "            indexListStr = indexListStr + '\\\\,\\\\   ' + str(band) \n",
    "        elif (int(band) < 100):\n",
    "            indexListStr = indexListStr + '\\\\,\\\\ ' + str(band)    \n",
    "        else:\n",
    "            indexListStr = indexListStr + '\\\\,\\\\ ' + str(band)  \n",
    "    count = count + 1\n",
    "print('indexListStr:', indexListStr) \n",
    "\n",
    "goodList = '382\\,\\ 116\\,\\ 40\\,\\ 358\\,\\ 112\\,\\ 346\\,\\ 137\\,\\ 76\\,\\ 136\\,\\ 83'\n",
    "print('goodList    :', goodList)\n",
    "if (indexListStr != goodList):\n",
    "    print('No: indexListStr != goodList')\n",
    "else:\n",
    "    print('Yes: indexListStr == goodList')\n",
    "        \n",
    "    print('indexList2:', goodList)\n",
    "    shapFile =  '/explore/nobackup/projects/ilab/data/AGB/test/mlruns/MLP_SGD_7_layers_1024_units_MAE::642759939845152617.keras[[' + goodList + ']].shap_values0to50'\n",
    "#    shapFile =  \"/explore/nobackup/projects/ilab/data/AGB/test/mlruns/MLP_SGD_7_layers_1024_units_MAE::642759939845152617.keras[[' + goodList + ']].shap_values0to50\"\n",
    "    print(shapFile)\n",
    "    !/usr/bin/ls -alt $shapFile\n",
    "\n",
    "    result = subprocess.run([\"/usr/bin/ls\", shapFile], stdout=subprocess.PIPE, stderr=subprocess.PIPE)\n",
    "    print('result: ', result)\n",
    "    print('result.stdout: ', result.stdout)\n",
    "    print('result.stderr: ', result.stderr)\n",
    "    \n",
    "    print(pathlib.Path(shapFile).is_file())\n",
    "    if (os.path.isfile(str(shapFile))):\n",
    "        print(' found: ', shapFile)\n",
    "    else:\n",
    "        print(' did not find: ', shapFile)\n",
    "#indexList1 = '\\[\\[181\\,\\ 302\\,\\ 342\\,\\ 333\\,\\ 389\\,\\ 300\\]\\]'\n",
    "indexList1 = '181\\,\\ 302\\,\\ 342\\,\\ 333\\,\\ 389\\,\\ 300'\n",
    "print('\\nindexList1:', indexList1)\n",
    "shapFile =  '/explore/nobackup/projects/ilab/data/AGB/test/mlruns/MLP_SGD_7_layers_1024_units_MAE::423994812500766108.keras[[' + indexList1 + ']].shap_values0to50'\n",
    "#shapFile =  '/explore/nobackup/projects/ilab/data/AGB/test/mlruns/MLP_SGD_7_layers_1024_units_MAE::423994812500766108.keras' + indexList1 + '.shap_values0to50'\n",
    "print(shapFile)\n",
    "!ls -alt $shapFile\n"
   ]
  },
  {
   "cell_type": "markdown",
   "metadata": {},
   "source": [
    "## Read batch of configuration files for experiment, which contain pointers to other run-time artifacts (e.g., SHAP files)"
   ]
  },
  {
   "cell_type": "code",
   "execution_count": null,
   "metadata": {},
   "outputs": [],
   "source": [
    "#cfg_dir = \"/explore/nobackup/projects/ilab/data/AGB/test/mlruns/exp_all21bands/01022024/random/CONFIG\"\n",
    "#cfg_dir = \"/explore/nobackup/projects/ilab/data/AGB/test/mlruns/exp_random21bands/0102212024/CONFIG\"\n",
    "#cfg_dir = \"/explore/nobackup/projects/ilab/data/AGB/test/mlruns/exp_full_hyperspectral/01032024/CONFIG\"\n",
    "#cfg_dir = \"/explore/nobackup/projects/ilab/data/AGB/test/mlruns/exp_full_hyperspectral/20240105b/423994812500766108/PERMUTATION_IMPORTANCE_VALUES\"\n",
    "cfg_dir = \"/explore/nobackup/projects/ilab/data/AGB/test/mlruns/exp_full_hyperspectral/20240105b/423994812500766108/CONFIG\"\n",
    "# Returns a list of names in list files. \n",
    "print(\"Using glob.glob()\") \n",
    "cfg_files = glob.glob(cfg_dir + '**/*.cfg',  \n",
    "                   recursive = True) \n",
    "for file in cfg_files: \n",
    "    print(file) \n",
    "print('num cfg files: ', len(cfg_files))  \n"
   ]
  },
  {
   "cell_type": "code",
   "execution_count": null,
   "metadata": {},
   "outputs": [],
   "source": [
    "#cfg_dir = \"/explore/nobackup/projects/ilab/data/AGB/test/mlruns/exp_all21bands/01022024/random/CONFIG\"\n",
    "#cfg_dir = \"/explore/nobackup/projects/ilab/data/AGB/test/mlruns/exp_random21bands/0102212024/CONFIG\"\n",
    "#cfg_dir = \"/explore/nobackup/projects/ilab/data/AGB/test/mlruns/exp_full_hyperspectral/01032024/CONFIG\"\n",
    "shap_dir = \"/explore/nobackup/projects/ilab/data/AGB/test/mlruns/exp_full_hyperspectral/20240105b/423994812500766108/PERMUTATION_IMPORTANCE_VALUES\"\n",
    "# Returns a list of names in list files. \n",
    "print(\"Using glob.glob()\") \n",
    "shap_files = glob.glob(shap_dir + '**/*.shap_values0to50',  \n",
    "                   recursive = True) \n",
    "# for file in cfg_files: \n",
    "#     print(file) \n",
    "print('shap_files[0]: ', shap_files[0], '\\nnum shap files: ', len(shap_files))  \n"
   ]
  },
  {
   "cell_type": "code",
   "execution_count": null,
   "metadata": {},
   "outputs": [],
   "source": [
    "Bands = !/panfs/ccds02/app/modules/anaconda/platform/x86_64/rhel/8.6/3-2022.05/envs/ilab-tensorflow/bin/gdalinfo /explore/nobackup/projects/ilab/data/AGB/test/beta_pmm/MLBS_2018_541567.6_4136443.0_542567.6_4137443.0/MLBS_2018_Reflectance_reflectance_warp.tif | grep Band | wc -l\n",
    "print('Bands: ', Bands)"
   ]
  },
  {
   "cell_type": "code",
   "execution_count": null,
   "metadata": {},
   "outputs": [],
   "source": [
    "# set to max number of hyperspectral indices in experiment\n",
    "#bandLen = 21\n",
    "bandLen = int(Bands[0])\n",
    "print(bandLen)\n",
    "bandOccurenceArr = np.zeros(bandLen).astype(int)\n",
    "print('bandOccurenceArr: \\n', bandOccurenceArr)\n",
    "bandAbsSumArr = np.zeros(bandLen)\n",
    "bandMaxArr = np.zeros(bandLen)\n",
    "bandMinArr = np.zeros(bandLen)\n",
    "bandAvgArr = np.zeros(bandLen)\n",
    "\n",
    "indexArray = np.zeros(bandLen).astype(int)\n",
    "for i in range(bandLen):\n",
    "    indexArray[i] = indexArray[i] + i\n",
    "print('indexArray: \\n', indexArray, len(indexArray))\n"
   ]
  },
  {
   "cell_type": "markdown",
   "metadata": {},
   "source": [
    "## Load SHAP values for each batch in experiment.  \n",
    "### Aggregate results and rank features "
   ]
  },
  {
   "cell_type": "code",
   "execution_count": 3,
   "metadata": {},
   "outputs": [
    {
     "ename": "FileNotFoundError",
     "evalue": "[Errno 2] No such file or directory: '/explore/nobackup/projects/ilab/data/AGB/test/mlruns/exp_full_hyperspectral/20240105b/423994812500766108/PERMUTATION_IMPORTANCE_VALUES/MLP_SGD_7_layers_1024_units_MAE::423994812500766108.keras[[181, 302, 342, 333, 389, 300]].shap_values0to50'",
     "output_type": "error",
     "traceback": [
      "\u001b[0;31m---------------------------------------------------------------------------\u001b[0m",
      "\u001b[0;31mFileNotFoundError\u001b[0m                         Traceback (most recent call last)",
      "Cell \u001b[0;32mIn[3], line 3\u001b[0m\n\u001b[1;32m      1\u001b[0m \u001b[38;5;28;01mimport\u001b[39;00m \u001b[38;5;21;01mre\u001b[39;00m\n\u001b[1;32m      2\u001b[0m s \u001b[38;5;241m=\u001b[39m text \u001b[38;5;241m=\u001b[39m shap_vals_path \u001b[38;5;241m=\u001b[39m \u001b[38;5;124m'\u001b[39m\u001b[38;5;124m/explore/nobackup/projects/ilab/data/AGB/test/mlruns/exp_full_hyperspectral/20240105b/423994812500766108/PERMUTATION_IMPORTANCE_VALUES/MLP_SGD_7_layers_1024_units_MAE::423994812500766108.keras[[181, 302, 342, 333, 389, 300]].shap_values0to50\u001b[39m\u001b[38;5;124m'\u001b[39m\n\u001b[0;32m----> 3\u001b[0m shap_values0to50 \u001b[38;5;241m=\u001b[39m pickle\u001b[38;5;241m.\u001b[39mload(\u001b[38;5;28;43mopen\u001b[39;49m\u001b[43m(\u001b[49m\u001b[43mshap_vals_path\u001b[49m\u001b[43m,\u001b[49m\u001b[43m \u001b[49m\u001b[38;5;124;43m\"\u001b[39;49m\u001b[38;5;124;43mrb\u001b[39;49m\u001b[38;5;124;43m\"\u001b[39;49m\u001b[43m)\u001b[49m)\n\u001b[1;32m      5\u001b[0m num_bands \u001b[38;5;241m=\u001b[39m \u001b[38;5;28mlen\u001b[39m(shap_values0to50[\u001b[38;5;241m0\u001b[39m][\u001b[38;5;241m0\u001b[39m])\n\u001b[1;32m      6\u001b[0m \u001b[38;5;28mprint\u001b[39m(\u001b[38;5;124m'\u001b[39m\u001b[38;5;124mnum_bands :\u001b[39m\u001b[38;5;124m'\u001b[39m, num_bands)\n",
      "File \u001b[0;32m/panfs/ccds02/app/modules/jupyter/ilab/tensorflow-kernel/lib/python3.8/site-packages/IPython/core/interactiveshell.py:282\u001b[0m, in \u001b[0;36m_modified_open\u001b[0;34m(file, *args, **kwargs)\u001b[0m\n\u001b[1;32m    275\u001b[0m \u001b[38;5;28;01mif\u001b[39;00m file \u001b[38;5;129;01min\u001b[39;00m {\u001b[38;5;241m0\u001b[39m, \u001b[38;5;241m1\u001b[39m, \u001b[38;5;241m2\u001b[39m}:\n\u001b[1;32m    276\u001b[0m     \u001b[38;5;28;01mraise\u001b[39;00m \u001b[38;5;167;01mValueError\u001b[39;00m(\n\u001b[1;32m    277\u001b[0m         \u001b[38;5;124mf\u001b[39m\u001b[38;5;124m\"\u001b[39m\u001b[38;5;124mIPython won\u001b[39m\u001b[38;5;124m'\u001b[39m\u001b[38;5;124mt let you open fd=\u001b[39m\u001b[38;5;132;01m{\u001b[39;00mfile\u001b[38;5;132;01m}\u001b[39;00m\u001b[38;5;124m by default \u001b[39m\u001b[38;5;124m\"\u001b[39m\n\u001b[1;32m    278\u001b[0m         \u001b[38;5;124m\"\u001b[39m\u001b[38;5;124mas it is likely to crash IPython. If you know what you are doing, \u001b[39m\u001b[38;5;124m\"\u001b[39m\n\u001b[1;32m    279\u001b[0m         \u001b[38;5;124m\"\u001b[39m\u001b[38;5;124myou can use builtins\u001b[39m\u001b[38;5;124m'\u001b[39m\u001b[38;5;124m open.\u001b[39m\u001b[38;5;124m\"\u001b[39m\n\u001b[1;32m    280\u001b[0m     )\n\u001b[0;32m--> 282\u001b[0m \u001b[38;5;28;01mreturn\u001b[39;00m \u001b[43mio_open\u001b[49m\u001b[43m(\u001b[49m\u001b[43mfile\u001b[49m\u001b[43m,\u001b[49m\u001b[43m \u001b[49m\u001b[38;5;241;43m*\u001b[39;49m\u001b[43margs\u001b[49m\u001b[43m,\u001b[49m\u001b[43m \u001b[49m\u001b[38;5;241;43m*\u001b[39;49m\u001b[38;5;241;43m*\u001b[39;49m\u001b[43mkwargs\u001b[49m\u001b[43m)\u001b[49m\n",
      "\u001b[0;31mFileNotFoundError\u001b[0m: [Errno 2] No such file or directory: '/explore/nobackup/projects/ilab/data/AGB/test/mlruns/exp_full_hyperspectral/20240105b/423994812500766108/PERMUTATION_IMPORTANCE_VALUES/MLP_SGD_7_layers_1024_units_MAE::423994812500766108.keras[[181, 302, 342, 333, 389, 300]].shap_values0to50'"
     ]
    }
   ],
   "source": [
    "import re\n",
    "s = text = shap_vals_path = '/explore/nobackup/projects/ilab/data/AGB/test/mlruns/exp_full_hyperspectral/20240105b/423994812500766108/PERMUTATION_IMPORTANCE_VALUES/MLP_SGD_7_layers_1024_units_MAE::423994812500766108.keras[[181, 302, 342, 333, 389, 300]].shap_values0to50'\n",
    "shap_values0to50 = pickle.load(open(shap_vals_path, \"rb\"))\n",
    "\n",
    "num_bands = len(shap_values0to50[0][0])\n",
    "print('num_bands :', num_bands)\n",
    "\n",
    "print('len(shap_values0to50[0][0][0] (', len(shap_values0to50),',', len(shap_values0to50[0]),',', len(shap_values0to50[0][0]),')')\n",
    "\n",
    "# Transpose test data for shap_values generation\n",
    "import pandas as pd\n",
    "df = pd.DataFrame(data=shap_values0to50[0])\n",
    "#print(df[:12])\n",
    "\n",
    "shap_values0to50_abs = np.abs(shap_values0to50[0])\n",
    "df = pd.DataFrame(data=shap_values0to50_abs)\n",
    "#print(df[:12])\n",
    "\n",
    "for k in range(0, num_bands):\n",
    "    print('column[',k,']',df[k].sum())\n",
    "\n",
    "#print(df[0:3], df[0:3].sum())\n",
    "#print(df[:], df[:].sum())\n",
    "\n",
    "df = pd.DataFrame(data=shap_values0to50[0][0])\n",
    "#print(df[:12])\n",
    "\n",
    "df = pd.DataFrame(data=shap_values0to50[0][0][0].flatten())\n",
    "#print(df[:12])\n"
   ]
  },
  {
   "cell_type": "code",
   "execution_count": null,
   "metadata": {},
   "outputs": [],
   "source": [
    "start = left = '[['\n",
    "end = right = ']]'\n",
    "print(text[text.index(left)+len(left):text.index(right)])\n",
    "\n",
    "bandStr = shap_vals_path[shap_vals_path.index(left)+len(left):shap_vals_path.index(right)]\n",
    "#print(bandStr)\n",
    "#bandList = [bandStr]\n",
    "#print(bandList)\n",
    "#bandList = [int(e) if e.isdigit() else e for e in bandStr.split(',')]\n",
    "bandList = [e for e in bandStr.split(',')]\n",
    "print(bandList, len(bandList))"
   ]
  },
  {
   "cell_type": "code",
   "execution_count": null,
   "metadata": {},
   "outputs": [],
   "source": [
    "def reset_stats():\n",
    "    # set to max number of hyperspectral indices in experiment\n",
    "    #bandLen = 21\n",
    "    bandLen = int(Bands[0])\n",
    "#    print(bandLen)\n",
    "    bandOccurenceArr = np.zeros(bandLen).astype(int)\n",
    "#    print('\\ninitial bandOccurenceArr: \\n', bandOccurenceArr)\n",
    "    bandAbsSumArr = np.zeros(bandLen)\n",
    "#    print('initial bandAbsSumArr: \\n', bandOccurenceArr)\n",
    "    bandMaxArr = np.zeros(bandLen)\n",
    "    bandMinArr = np.zeros(bandLen)\n",
    "    bandAvgArr = np.zeros(bandLen)\n",
    "\n",
    "    indexArray = np.zeros(bandLen).astype(int)\n",
    "    for i in range(bandLen):\n",
    "        indexArray[i] = indexArray[i] + i\n",
    "    #print('indexArray: \\n', indexArray, len(indexArray))\n"
   ]
  },
  {
   "cell_type": "code",
   "execution_count": null,
   "metadata": {
    "tags": []
   },
   "outputs": [],
   "source": [
    "    #  Walk across bins [0,4]\n",
    "    print('len(shap_values0to50[0][0][0] (', len(shap_values0to50),',', len(shap_values0to50[0]),',', len(shap_values0to50[0][0]),')')\n",
    "#    shap_values_raw = shap_values0to50[_bin]\n",
    "#    shap_values_abs = np.abs(shap_values0to50[_bin])\n",
    "#    print('\\nshap_values_abs.shape  : ', shap_values_abs.shape)\n",
    " #   print('shap_values_raw.shape  : ', shap_values_raw.shape)\n",
    "    shap_values0to50_abs = np.abs(shap_values0to50[0])\n",
    "    df_abs = pd.DataFrame(data=shap_values0to50_abs)\n",
    "    for k in range(0, num_bands):\n",
    "        print('column[',k,']', df_abs[k].sum())\n",
    "\n",
    "    for _bin in range(0, 5):\n",
    "        print('\\n _bin:', _bin)\n",
    "        # print('len(shap_values0to50[',_bin,'][0])', len(shap_values0to50[_bin]),' X ', len(shap_values0to50[_bin][0]))\n",
    "#        shap_values_raw = shap_values0to50[_bin]\n",
    "#        shap_values_abs = np.abs(shap_values0to50[_bin])\n",
    "#        print('\\shap_values0to50[_bin].shape  : ', shap_values0to50[_bin].shape)\n",
    "#        print('shap_values_raw.shape  : ', shap_values_raw.shape)\n",
    "        \n",
    "        for _row in range(0, 50):\n",
    "            print('\\n _bin:', _bin, ' _row:', _row)\n",
    "            shap_values_raw_row = shap_values0to50[_bin][_row]\n",
    "            shap_values_abs_row = np.abs(shap_values0to50[_bin][_row])\n",
    "            print('shap_values_raw bin [', _bin, '] x row [', _row, '] :', shap_values_raw_row)\n",
    "            print('shap_values_abs bin [', _bin, '] x row [', _row, '] :', shap_values_abs_row)\n",
    "\n",
    "            shap_values_abs_row_sum_axis0 = np.sum(shap_values_abs_row[0], axis=0)\n",
    "            print('shap_values_abs_row_sum_axis0  : ', shap_values_abs_row_sum_axis0)\n",
    "\n",
    "            for _cell in range(0, 6):\n",
    "                o = 9\n",
    "            \n",
    "            \n",
    "#             shap_values_abs_row = np.abs(shap_values0to50[_bin][_row])\n",
    "#             print('shap_values_abs_row  : ', shap_values0to50[_bin][_row])\n",
    "\n",
    "#             shap_values_abs_row_sum_axis0 = np.sum(shap_values_abs_row, axis=0)\n",
    "#             print('shap_values_abs_row_sum_axis0  : ', shap_values_abs_row_sum_axis0)\n",
    "\n",
    "#         print(shap_values_abs[_row])\n",
    "#             shap_values_abs_sum_axis0 = np.sum(np.abs(shap_values0to50[_bin]), axis=0)\n",
    "#             print('shap_values_abs_sum_axis0.shape  : ', shap_values_abs_sum_axis0.shape)\n",
    "\n",
    "#             shap_values_abs_sum_argsort = np.argsort(shap_values_abs_sum_axis0)\n",
    "#             print('L->H :', shap_values_abs_sum_argsort)\n",
    "\n",
    "                \n",
    "#            for _cell in range(0, 6):\n",
    "                # if first column of row is negative, print debug\n",
    "#                print('\\n _bin:', _bin, ' _row:', _row, '_cell:', _cell)\n",
    "                # if ((shap_values_raw[_row][_cell] < 0) and (_row == 0) and (_cell == 0)):\n",
    "                #     debug = True\n",
    "                #     print('\\nshap_values_raw bin [', _bin, '] x row [', _row, '] :', shap_values_raw[_row])\n",
    "                #     print('shap_values_raw bin [', _bin, '] x row [', _row, '] x cell[', _cell, ']:', shap_values_raw[_row][_cell])\n",
    "                #     print('shap_values_abs bin [', _bin, '] x row [', _row, '] :', shap_values_abs[_row])\n",
    "                #     print('shap_values_abs bin [', _bin, '] x row [', _row, '] x cell[', _cell, ']:', shap_values_abs[_row][_cell])\n",
    "                #     debug = False\n",
    "                    \n",
    "#         shap_values_abs_sum_axis0 = np.sum(shap_values_abs, axis=0)\n",
    "#         print('shap_values_abs_sum_axis0.shape  : ', shap_values_abs_sum_axis0.shape)\n",
    "\n",
    "#         shap_values_abs_sum_argsort = np.argsort(shap_values_abs_sum_axis0)\n",
    "#         print('L->H :', shap_values_abs_sum_argsort[0])\n",
    "\n"
   ]
  },
  {
   "cell_type": "code",
   "execution_count": null,
   "metadata": {
    "tags": []
   },
   "outputs": [],
   "source": [
    "first_time = True\n",
    "index = 0\n",
    "# Reload config\n",
    "start = left = '[['\n",
    "end = right = ']]'\n",
    "reset_stats()\n",
    "\n",
    "for shap_vals_path in shap_files:\n",
    "    \n",
    "    index = index+1\n",
    "    num_shap_files = len(shap_files)\n",
    "    bandListStr = shap_vals_path[shap_vals_path.index(left)+len(left):shap_vals_path.index(right)]\n",
    "    bandList = [e for e in bandListStr.split(',')]\n",
    "    \n",
    "    # Reload shap values\n",
    "    shap_values0to50 = pickle.load(open(shap_vals_path, \"rb\"))\n",
    "    num_bins = len(shap_values0to50)\n",
    "    num_rows = len(shap_values0to50[0])\n",
    "    num_bands = num_cols = len(shap_values0to50[0][0])\n",
    "    print('\\nProcessing shap file: index ', index,' out of ', num_shap_files, ':', os.path.basename(shap_vals_path))\n",
    "    print('num_bins (', num_bins, ') num_rows (', num_rows, ') num_bands = num_cols(', num_bands, ') bandList(', bandList)\n",
    "    \n",
    "    #  Walk across bins [0,4]\n",
    "    for _bin in range(0, num_bins):\n",
    "#        print('len(shap_values0to50[',_bin,'])', len(shap_values0to50[_bin]))\n",
    "        shap_values0to50_bin_abs = np.abs(shap_values0to50[_bin])\n",
    "        print('shap_values0to50_bin_abs.shape  : ', shap_values0to50_bin_abs.shape)\n",
    "        \n",
    "        # get sum of absolute value each column\n",
    "        df_shap_values0to50_bin_abs = pd.DataFrame(data=shap_values0to50_bin_abs)\n",
    "\n",
    "        shap_values_abs_sum_axis0 = np.sum(df_shap_values0to50_bin_abs, axis=0)\n",
    "        print('shap_values_abs_sum_axis0.shape  : ', shap_values_abs_sum_axis0.shape)\n",
    "\n",
    "        shap_values_abs_sum_argsort = np.argsort(shap_values_abs_sum_axis0)\n",
    "        print('L->H:\\n', shap_values_abs_sum_argsort)\n",
    "        \n",
    "        # print sum of absolute value each column\n",
    "        for _col in range(0, num_cols):\n",
    "            print('band[',bandList[_col].strip(),'] column[',_col,']', df_shap_values0to50_bin_abs[_col].sum())\n",
    "\n",
    "        #\n",
    "        break;\n",
    "        #  Walk across bins [0,4]\n",
    "        for i in range(0, num_bands):\n",
    "\n",
    "             #  Walk across bins [0,4]\n",
    "            for j in range(0, num_bands):\n",
    "                   # get band from band list\n",
    "                bandNum = int(bandList[i])\n",
    "\n",
    "        #         print('i', str(i), '\\nbandNum: ', bandNum, shap_values_abs_sum_axis0[0]\n",
    "        # #              ' shap_values_abs_sum_axis0[', str(bandNum-1),'][', str(i),']', \n",
    "        # #              str(shap_values_abs_sum_axis0[bandNum-1][i]), \n",
    "        #                ' bands: ', str(bandList), ' num_bands: ', str(num_bands), ' bandNum: ', str(bandNum))\n",
    "\n",
    "                # increment Occurence value in the cell that contains the band number\n",
    "                bandOccurenceArr[bandNum-1] = bandOccurenceArr[bandNum-1] + 1\n",
    "\n",
    "                # add the absolute value of the current shape_value to the existing value in the cell that is indexed by the band number\n",
    "                # this allows us to keep a running total shap values per feature for downselection later....\n",
    "        #        bandAbsSumArr[bandNum-1] = (bandAbsSumArr[bandNum-1] + shap_values_abs_sum_axis0[bandNum-1][i])\n",
    "                bandAbsSumArr[bandNum-1] = (bandAbsSumArr[bandNum-1] + shap_values_abs_sum_axis0[bandNum-1][i])\n",
    "\n",
    "                occurences_axis0 = np.sum(shap_values_abs, axis=0)\n",
    "\n",
    "                # calculate average value of each band by dividing the absolute value by the number of occurences\n",
    "                bandAvgArr[bandNum-1] = (bandAbsSumArr[bandNum-1] / bandOccurenceArr[bandNum-1])\n",
    "\n",
    "                with np.printoptions(precision=5, suppress=True):\n",
    "                    print('\\nbandNum: ', bandNum)\n",
    "        #            print('bandOccurenceArr: ', bandOccurenceArr)\n",
    "                    print('bandAbsSumArr: ',bandAbsSumArr)\n",
    "        #             print('bandAvgArr: ',bandAvgArr)\n",
    "\n",
    "    if (index > 2):\n",
    "        break;\n",
    "        \n",
    "#shap.summary_plot(shap_values0to50, X.iloc[0:50, :], plot_type=\"bar\", feature_names=keyword)"
   ]
  },
  {
   "cell_type": "code",
   "execution_count": null,
   "metadata": {},
   "outputs": [],
   "source": []
  },
  {
   "cell_type": "code",
   "execution_count": null,
   "metadata": {},
   "outputs": [],
   "source": [
    "        # get band from band list\n",
    "\n",
    "bandNum = int(bandList[i-1])\n",
    "print(bandNum)\n",
    "\n",
    "# print('i', str(i), ' shap_values_abs_sum_axis0[', str(bandNum-1),'][', str(i),']', str(shap_values_abs_sum_axis0[bandNum-1][i]), \n",
    "#        ' bands: ', str(cfg_obj.bandList), ' num_bands: ', str(num_bands), ' bandNum: ', str(bandNum))\n",
    "\n",
    "# increment Occurence value in the cell that contains the band number\n",
    "bandOccurenceArr[bandNum-1] = bandOccurenceArr[bandNum-1] + 1\n",
    "\n",
    "# add the absolute value of the current shape_value to the existing value in the cell that is indexed by the band number\n",
    "# this allows us to keep a running total shap values per feature for downselection later....\n",
    "#        bandAbsSumArr[bandNum-1] = (bandAbsSumArr[bandNum-1] + shap_values_abs_sum_axis0[bandNum-1][i])\n",
    "bandAbsSumArr[bandNum-1] = (bandAbsSumArr[bandNum-1] + shap_values_abs_sum_axis0[i][i])\n",
    "\n",
    "occurences_axis0 = np.sum(shap_values_abs, axis=0)\n",
    "\n",
    "# calculate average value of each band by dividing the absolute value by the number of occurences\n",
    "bandAvgArr[bandNum-1] = (bandAbsSumArr[bandNum-1] / bandOccurenceArr[bandNum-1])\n"
   ]
  },
  {
   "cell_type": "code",
   "execution_count": null,
   "metadata": {},
   "outputs": [],
   "source": [
    "#cfg = '/explore/nobackup/projects/ilab/data/AGB/test/mlruns/exp_all21bands/01012024/bandListFile-save/CONFIG/Exp_all21bands::725617110916401361.keras[[20, 11, 13, 15, 21, 7, 9, 17, 1, 4]].cfg'\n",
    "# cfg = cfg_files[0]\n",
    "# cfg_obj = pickle.load(open(cfg, \"rb\"))\n",
    "# print(cfg_obj)\n",
    "# shap_vals_path = cfg_obj.shap_path\n",
    "# print('shap_vals_path:', shap_vals_path)"
   ]
  },
  {
   "cell_type": "code",
   "execution_count": null,
   "metadata": {},
   "outputs": [],
   "source": []
  },
  {
   "cell_type": "code",
   "execution_count": null,
   "metadata": {},
   "outputs": [],
   "source": [
    "# shap_vals_path = cfg_obj.shap_path\n",
    "# shap_values0to50 = pickle.load(open(shap_vals_path, \"rb\"))\n",
    "# print(len(shap_values0to50[0][0]), cfg_obj.bandList)"
   ]
  },
  {
   "cell_type": "code",
   "execution_count": null,
   "metadata": {
    "tags": []
   },
   "outputs": [],
   "source": [
    "first_time = True\n",
    "# Reload config\n",
    "for file in cfg_files:\n",
    "    print('Processing file: \\n', file)\n",
    "    cfg_obj = pickle.load(open(file, \"rb\"))   \n",
    "    cfg_path = cfg_obj.configFile\n",
    "#    num_bands = len(cfg_obj.bandList)\n",
    "    shap_vals_path = cfg_obj.shap_path\n",
    "    modelPath = cfg_obj.model_path\n",
    "    # archive_test_generator_id = cfg_obj.trial_path\n",
    "    keyword = cfg_obj.bandList\n",
    "\n",
    "#     # Reload test data\n",
    "#     test_generator = pickle.load(open(archive_test_generator_id, \"rb\"))\n",
    "\n",
    "#     # Transpose test data for shap_values generation\n",
    "#     import pandas as pd\n",
    "#     df = pd.DataFrame(data=test_generator.file_x_stack)\n",
    "#     X = df.transpose()\n",
    "#     X.iloc[:, :]\n",
    "\n",
    "    # Reload shap values\n",
    "    shap_values0to50 = pickle.load(open(shap_vals_path, \"rb\"))\n",
    "    num_bands = len(shap_values0to50[0][0])\n",
    "                    \n",
    "    shap_values_abs = np.abs(shap_values0to50)\n",
    "\n",
    "    shap_values_abs_sum_axis0 = np.sum(shap_values_abs, axis=0)\n",
    "\n",
    "    shap_values_abs_sum_argsort = np.argsort(shap_values_abs_sum_axis0)\n",
    "    \n",
    "    shap_values_abs_sum_argsort_r = np.argsort(-shap_values_abs_sum_axis0)\n",
    "    \n",
    "    print(\"\\n**** feature_order = np.argsort(np.sum(np.abs(shap_values), axis=0))\")\n",
    "    print('shap_vals_path: ', str(shap_vals_path))\n",
    "    print('bands: ', str(cfg_obj.bandList))\n",
    "    print('sum  : ', shap_values_abs_sum_axis0[0])\n",
    "    print('L->H :', shap_values_abs_sum_argsort[0])\n",
    "    print('H->L :', shap_values_abs_sum_argsort_r[0])\n",
    "    \n",
    "    for i in range(num_bands):\n",
    "\n",
    "        # get band from band list\n",
    "        bandNum = cfg_obj.bandList[i]\n",
    "        \n",
    "        # print('i', str(i), ' shap_values_abs_sum_axis0[', str(bandNum-1),'][', str(i),']', str(shap_values_abs_sum_axis0[bandNum-1][i]), \n",
    "        #       ' bands: ', str(cfg_obj.bandList), ' num_bands: ', str(num_bands), ' bandNum: ', str(bandNum))\n",
    "        \n",
    "        # increment Occurence value in the cell that contains the band number\n",
    "        bandOccurenceArr[bandNum-1] = bandOccurenceArr[bandNum-1] + 1\n",
    "    \n",
    "        # add the absolute value of the current shape_value to the existing value in the cell that is indexed by the band number\n",
    "        # this allows us to keep a running total shap values per feature for downselection later....\n",
    "        bandAbsSumArr[bandNum-1] = (bandAbsSumArr[bandNum-1] + shap_values_abs_sum_axis0[bandNum-1][i])\n",
    "    \n",
    "        occurences_axis0 = np.sum(shap_values_abs, axis=0)\n",
    "    \n",
    "        # calculate average value of each band by dividing the absolute value by the number of occurences\n",
    "        bandAvgArr[bandNum-1] = (bandAbsSumArr[bandNum-1] / bandOccurenceArr[bandNum-1])\n",
    "\n",
    "    \n",
    "    with np.printoptions(precision=5, suppress=True):\n",
    "        print(indexArray)\n",
    "        print(bandOccurenceArr)\n",
    "        print(bandAbsSumArr)\n",
    "        print(bandAvgArr)\n",
    "        \n",
    "#shap.summary_plot(shap_values0to50, X.iloc[0:50, :], plot_type=\"bar\", feature_names=keyword)"
   ]
  },
  {
   "cell_type": "markdown",
   "metadata": {},
   "source": [
    "# ***Derive aggregated feature order***"
   ]
  },
  {
   "cell_type": "markdown",
   "metadata": {},
   "source": [
    "**================================================= RANK ==================================**"
   ]
  },
  {
   "cell_type": "code",
   "execution_count": null,
   "metadata": {},
   "outputs": [],
   "source": [
    "\n",
    "print('\\nDerive feature order based on average:')\n",
    "avg_shap_values_abs_sum_argsort_r = np.argsort(bandAvgArr)\n",
    "print('avg cumulative: \\nmin()' , bandAvgArr.min(), '\\nmax()', bandAvgArr.max(), '\\n', bandAvgArr) \n",
    "print('avg cumulative feature order L->H :' , avg_shap_values_abs_sum_argsort_r) \n",
    "\n",
    "print('\\nDerive feature order based on aggregate sum:')\n",
    "cum_shap_values_abs_sum_argsort_r = np.argsort(bandAbsSumArr)\n",
    "print('raw cumulative: \\nmin()' , bandAbsSumArr.min(), '\\nmax()', bandAbsSumArr.max(), '\\n', bandAbsSumArr) \n",
    "print('raw cumulative feature order L->H :' , cum_shap_values_abs_sum_argsort_r) \n",
    "\n"
   ]
  },
  {
   "cell_type": "markdown",
   "metadata": {},
   "source": [
    "**================================================= RANK ==================================**"
   ]
  },
  {
   "cell_type": "markdown",
   "metadata": {},
   "source": [
    "# *FYI...*"
   ]
  },
  {
   "cell_type": "markdown",
   "metadata": {},
   "source": [
    "## Calculate additional SHAP values (sum, abs, sort)"
   ]
  },
  {
   "cell_type": "code",
   "execution_count": null,
   "metadata": {},
   "outputs": [],
   "source": [
    "# from _beeswarm.py.   \n",
    "#        feature_order = np.argsort(np.sum(np.abs(shap_values), axis=0))\n",
    "\n",
    "\n",
    "def permutation_importance(shap_values):\n",
    "#    print(\"\\nshap_values:\\n\", shap_values.shape)\n",
    "#    print(\"\\nshap_values:\\n\", shap_values, shap_values.dtype, shap_values.shape)\n",
    "\n",
    "    shap_values_sum_axis1 = np.sum(shap_values, axis=1)\n",
    "#    print(\"\\nshap_values_sum_axis1: np.sum(shap_values_sum, axis=1) [sum across row]\\n\", shap_values_sum_axis1)\n",
    "\n",
    "    shap_values_sum_axis0 = np.sum(shap_values, axis=0)\n",
    "#    print(\"\\nshap_values_sum_axis0 : np.sum(shap_values, axis=0) [sum down column]\\n\", shap_values_sum_axis0)\n",
    "\n",
    "    shap_values_sum_argsort = np.argsort(shap_values_sum_axis0)\n",
    "#    print (\"\\nshap_values_sum_argsort: np.argsort(shap_values_sum_axis0)  [sum down column]\\n\", shap_values_sum_argsort)\n",
    "\n",
    "    shap_values_abs = np.abs(shap_values)\n",
    "#    print(\"\\nshap_values_abs: (np.abs(nd_a))\\n\", shap_values_abs)\n",
    "\n",
    "    shap_values_abs_sum_axis1 = np.sum(shap_values_abs, axis=1)\n",
    "#    print(\"\\nshap_values_abs_sum_axis1: np.sum(shap_values_abs, axis=1) [sum across row]\\n\", shap_values_abs_sum_axis1)\n",
    "\n",
    "    shap_values_abs_sum_axis0 = np.sum(shap_values_abs, axis=0)\n",
    "#    print(\"\\nshap_values_abs_sum_axis0: np.sum(shap_values_abs, axis=0) [sum down column]\\n\", shap_values_abs_sum_axis0)\n",
    "\n",
    "    shap_values_abs_sum_argsort = np.argsort(shap_values_abs_sum_axis0)\n",
    "#    print(\"\\n**** feature_order = np.argsort(np.sum(np.abs(shap_values), axis=0))\")\n",
    "#    print (\"shap_values_abs_sum_argsort: np.argsort(shap_values_abs_sum_axis0)  [sum down column]\\n *\", shap_values_abs_sum_argsort)\n",
    "\n",
    "    feature_order = shap_values_abs_sum_argsort\n",
    "#    if not (shap_values_abs_sum_argsort[0] == feature_order[0]): raise AssertionError\n",
    "#    print('\\nfeature_order:\\n', feature_order)\n",
    "    \n",
    "    return shap_values_sum_axis1, shap_values_sum_axis0, shap_values_sum_argsort, \\\n",
    "        shap_values_abs, shap_values_abs_sum_axis1, shap_values_abs_sum_axis0, shap_values_abs_sum_argsort, feature_order"
   ]
  },
  {
   "cell_type": "code",
   "execution_count": null,
   "metadata": {
    "tags": []
   },
   "outputs": [],
   "source": [
    "# example row/column statistics with test matrix that is easy to predict.  Note that argsort goes from low to high.\n",
    "a = [[1, 2, 3, 4, 5, 6, -7], [1, 2, 3, 4, 5, -29, 7], [1, 2, 3, 4, 5, 6, 7], [1, 2, 3, 4, 5, 6, 7], [1, 2, 3, 4, 5, 6, 7], [-1, 2, 3, 4, 5, 6, 7]]\n",
    "print(np.array(a))\n",
    "permutation_importance(np.array(a))\n",
    "    # return shap_values_sum_axis1, shap_values_sum_axis0, shap_values_sum_argsort, \\\n",
    "    #     shap_values_abs, shap_values_abs_sum_axis1, shap_values_abs_sum_axis0, shap_values_abs_sum_argsort, feature_order"
   ]
  },
  {
   "cell_type": "code",
   "execution_count": null,
   "metadata": {},
   "outputs": [],
   "source": []
  },
  {
   "cell_type": "code",
   "execution_count": null,
   "metadata": {},
   "outputs": [],
   "source": [
    "print(i, bandNum, bandAbsSumArr[bandNum-1], shap_values_abs_sum_axis0[bandNum-1][i])\n",
    "print('sum  : ', shap_values_abs_sum_axis0[0][1])\n"
   ]
  },
  {
   "cell_type": "markdown",
   "metadata": {},
   "source": [
    "## Interrogate configuration object (optional)"
   ]
  },
  {
   "cell_type": "code",
   "execution_count": null,
   "metadata": {},
   "outputs": [],
   "source": [
    "# Reload config\n",
    "cfg_obj = pickle.load(open(cfg_files[0], \"rb\"))   \n",
    "print(cfg_obj)\n",
    "print(cfg_obj.bandList)\n",
    "#mpfConfig = (MpfConfig) cfg_obj\n",
    "#print(mpfConfig)"
   ]
  },
  {
   "cell_type": "code",
   "execution_count": null,
   "metadata": {},
   "outputs": [],
   "source": [
    "print(cfg_obj.model_config)\n",
    "print(cfg_obj.model_config['model_name'])"
   ]
  },
  {
   "cell_type": "code",
   "execution_count": null,
   "metadata": {},
   "outputs": [],
   "source": [
    "print(cfg_obj.mlflow_config)\n",
    "print(cfg_obj.mlflow_config['EXPERIMENT_NAME'])"
   ]
  },
  {
   "cell_type": "code",
   "execution_count": null,
   "metadata": {},
   "outputs": [],
   "source": [
    "print(cfg_obj.X)\n",
    "print(cfg_obj.data_generator_config)\n",
    "print(cfg_obj.data_generator_config['data_path'])\n",
    "print(cfg_obj.model_path)"
   ]
  },
  {
   "cell_type": "code",
   "execution_count": null,
   "metadata": {},
   "outputs": [],
   "source": [
    "cfg_path = cfg_obj.configFile\n",
    "num_bands = len(cfg_obj.bandList)\n",
    "shap_vals_path = cfg_obj.shap_path\n",
    "modelPath = cfg_obj.model_path\n",
    "archive_test_generator_id = cfg_obj.trial_path\n",
    "keyword = cfg_obj.bandList\n",
    "\n",
    "print(cfg_path)\n",
    "print(modelPath)\n",
    "print(archive_test_generator_id)\n",
    "print(shap_vals_path)\n",
    "print(cfg_obj.bandList, num_bands)"
   ]
  },
  {
   "cell_type": "markdown",
   "metadata": {},
   "source": [
    "## Load test data to run additional plots (optional)"
   ]
  },
  {
   "cell_type": "code",
   "execution_count": null,
   "metadata": {},
   "outputs": [],
   "source": [
    "# Reload test data\n",
    "test_generator = pickle.load(open(archive_test_generator_id, \"rb\"))\n",
    "\n",
    "# Transpose test data for shap_values generation\n",
    "import pandas as pd\n",
    "df = pd.DataFrame(data=test_generator.file_x_stack)\n",
    "X = df.transpose()\n",
    "X.iloc[:, :]\n",
    "print(X.shape, X.shape[0], X.shape[1])"
   ]
  },
  {
   "cell_type": "code",
   "execution_count": null,
   "metadata": {},
   "outputs": [],
   "source": [
    "# Reload shap values\n",
    "shap_values0to50 = pickle.load(open(shap_vals_path, \"rb\"))"
   ]
  },
  {
   "cell_type": "code",
   "execution_count": null,
   "metadata": {},
   "outputs": [],
   "source": [
    "# print according to most in particular bin:  0 < -1.0, 1 < -0.5, 2 < 0, 3 < 0.5, 4 < 1.0\n",
    "print('bin value 0: [-1.0, -0.5]] = summary_plot(shap_values0to50[0]') \n",
    "shap.summary_plot(shap_values0to50[4], X.iloc[0:50, :], plot_type=\"bar\", feature_names=keyword)"
   ]
  },
  {
   "cell_type": "code",
   "execution_count": null,
   "metadata": {},
   "outputs": [],
   "source": [
    "shap.summary_plot(shap_values0to50, X, plot_type=\"bar\", feature_names=keyword)"
   ]
  },
  {
   "cell_type": "code",
   "execution_count": null,
   "metadata": {},
   "outputs": [],
   "source": [
    "shap_values_np = np.array(shap_values0to50)\n",
    "shap_values_np[0].shape"
   ]
  },
  {
   "cell_type": "code",
   "execution_count": null,
   "metadata": {},
   "outputs": [],
   "source": [
    "df = pd.DataFrame(data=shap_values0to50[4])\n",
    "df.head(5)"
   ]
  },
  {
   "cell_type": "code",
   "execution_count": null,
   "metadata": {
    "tags": []
   },
   "outputs": [],
   "source": [
    "# example row/column statistics with test matrix that is easy to predict.  Note that argsort goes from low to high.\n",
    "#print(np.array(shap_values50))\n",
    "_shap_values50_sum_axis1, _shap_values50_sum_axis0, _shap_value50s_sum_argsort, \\\n",
    "        _shap_values50_abs, _shap_values50_abs_sum_axis1, _shap_values50_abs_sum_axis0, _shap_values50_abs_sum_argsort, _feature50_order = \\\n",
    "        permutation_importance(np.array(shap_values0to50[0]))\n",
    "\n",
    "print ('shap_values0to50[0] feature_order:\\n', _feature50_order.shape, '\\n', _feature50_order)\n",
    "\n",
    "_shap_values50_sum_axis1, _shap_values50_sum_axis0, _shap_value50s_sum_argsort, \\\n",
    "        _shap_values50_abs, _shap_values50_abs_sum_axis1, _shap_values50_abs_sum_axis0, _shap_values50_abs_sum_argsort, _feature50_order = \\\n",
    "        permutation_importance(np.array(shap_values0to50))\n",
    "\n",
    "print ('\\nshap_values0to50[0] feature_order:\\n', _feature50_order[0].shape, '\\n', _feature50_order[0], '\\n',  _shap_values50_abs_sum_axis0[0])\n",
    "print ('\\nshap_values0to50 feature_order:\\n', _feature50_order.shape, '\\n', _feature50_order, '\\n',  _shap_values50_abs_sum_axis0)"
   ]
  },
  {
   "cell_type": "code",
   "execution_count": null,
   "metadata": {
    "tags": []
   },
   "outputs": [],
   "source": [
    "# example row/column statistics with test matrix that is easy to predict.  Note that argsort goes from low to high.\n",
    "#print(np.array(shap_values0to50))\n",
    "permutation_importance(np.array(shap_values0to50))"
   ]
  },
  {
   "cell_type": "code",
   "execution_count": null,
   "metadata": {},
   "outputs": [],
   "source": []
  },
  {
   "cell_type": "code",
   "execution_count": null,
   "metadata": {},
   "outputs": [],
   "source": [
    "#!/usr/bin/env python3\n",
    "from functools import partial\n",
    "from itertools import repeat\n",
    "from multiprocessing import Pool, freeze_support\n",
    "\n",
    "def func(a, b):\n",
    "    print(a+b)\n",
    "    return a + b\n",
    "\n",
    "def main():\n",
    "    a_args = [1,2,3]\n",
    "    second_arg = 1\n",
    "    with Pool() as pool:\n",
    "        L = pool.starmap(func, [(1, 1), (2, 1), (3, 1)])\n",
    "        M = pool.starmap(func, zip(a_args, repeat(second_arg)))\n",
    "        N = pool.map(partial(func, b=second_arg), a_args)\n",
    "        assert L == M == N\n",
    "\n",
    "if __name__==\"__main__\":\n",
    "    freeze_support()\n",
    "    main()"
   ]
  },
  {
   "cell_type": "code",
   "execution_count": null,
   "metadata": {},
   "outputs": [],
   "source": [
    "import multiprocessing\n",
    "\n",
    "pool = multiprocessing.Pool(processes=6)\n",
    "pool.starmap(func, [(1, 1), (2, 1), (3, 1)])\n",
    "pool.close()\n",
    "pool.join()"
   ]
  },
  {
   "cell_type": "code",
   "execution_count": null,
   "metadata": {},
   "outputs": [],
   "source": []
  }
 ],
 "metadata": {
  "kernelspec": {
   "display_name": "Python [conda env:ilab-tensorflow]",
   "language": "python",
   "name": "conda-env-ilab-tensorflow-py"
  },
  "language_info": {
   "codemirror_mode": {
    "name": "ipython",
    "version": 3
   },
   "file_extension": ".py",
   "mimetype": "text/x-python",
   "name": "python",
   "nbconvert_exporter": "python",
   "pygments_lexer": "ipython3",
   "version": "3.8.16"
  }
 },
 "nbformat": 4,
 "nbformat_minor": 4
}
