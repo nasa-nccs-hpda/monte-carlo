{
 "cells": [
  {
   "cell_type": "markdown",
   "metadata": {},
   "source": [
    "# Runtime Dashboard - V3 - randint U (unique index per random subset)"
   ]
  },
  {
   "cell_type": "code",
   "execution_count": 1,
   "metadata": {},
   "outputs": [],
   "source": [
    "import shap\n",
    "import numpy as np\n",
    "import pickle\n",
    "import glob\n",
    "import pandas as pd"
   ]
  },
  {
   "cell_type": "code",
   "execution_count": 2,
   "metadata": {},
   "outputs": [],
   "source": [
    "import sys\n",
    "sys.path.append('/explore/nobackup/people/gtamkin/dev/AGB/mpf-model-factories/MultiPathFusion')\n",
    "sys.path.append('/explore/nobackup/people/gtamkin/dev/AGB/monte-carlo/monte-carlo')"
   ]
  },
  {
   "cell_type": "markdown",
   "metadata": {
    "tags": []
   },
   "source": [
    "## Check status of runs"
   ]
  },
  {
   "cell_type": "markdown",
   "metadata": {},
   "source": [
    "## -----------------------------------------------------------------\n",
    "## COMPLETE runs\n",
    "## -----------------------------------------------------------------"
   ]
  },
  {
   "cell_type": "code",
   "execution_count": 9,
   "metadata": {},
   "outputs": [
    {
     "name": "stdout",
     "output_type": "stream",
     "text": [
      "38\n",
      "38\n",
      "38\n"
     ]
    }
   ],
   "source": [
    "results_dir_cpu = '/explore/nobackup/projects/ilab/data/AGB/test/mcruns/output/randint_sets_20240220_collection-VI_min_occurrences-10_batch_size-10_num_samples-38_bandLen-21/966726550854174484'\n",
    "!ls -alRt $results_dir_cpu/MODELS/ | grep '\\]\\.model:' | wc -l\n",
    "!ls -alRt $results_dir_cpu/MODELS/ | grep '\\]\\.test' | wc -l\n",
    "!ls -alRt $results_dir_cpu/PERMUTATION_IMPORTANCE_VALUES/ | grep shap |wc -l"
   ]
  },
  {
   "cell_type": "code",
   "execution_count": 6,
   "metadata": {},
   "outputs": [
    {
     "name": "stdout",
     "output_type": "stream",
     "text": [
      "261\n",
      "261\n",
      "261\n",
      "1\n"
     ]
    }
   ],
   "source": [
    "results_dir_cpu = '/explore/nobackup/projects/ilab/data/AGB/test/mcruns/output/randint_sets_20240226_collection-VI_max_occurrences-100_batch_size-10_num_samples-261_bandLen-21.pkl/799211385114410726'\n",
    "!ls -alRt $results_dir_cpu/MODELS/ | grep '\\]\\.model:' | wc -l\n",
    "!ls -alRt $results_dir_cpu/MODELS/ | grep '\\]\\.test' | wc -l\n",
    "!ls -alRt $results_dir_cpu/PERMUTATION_IMPORTANCE_VALUES/ | grep shap |wc -l\n",
    "!ls -alRt $results_dir_cpu/PERMUTATION_IMPORTANCE_VALUES/  | grep \"0 Feb\" | wc -l"
   ]
  },
  {
   "cell_type": "markdown",
   "metadata": {
    "tags": []
   },
   "source": [
    "## VI - ilab213:  Time elapsed on node [ilab213] = (hh:mm:ss.ms) 0:27:43.264823\n",
    "### sh /home/gtamkin/_AGB-dev/monte-carlo/monte-carlo/tests/pdsh--VI.sh /explore/nobackup/projects/ilab/data/AGB/test/mcruns/output/VI_randint_U_20240229_1 /explore/nobackup/projects/ilab/data/AGB/test/mcruns/input/random_sets/randint_sets_20240229_collection-VI_min_occurrences-10_batch_size-10_num_samples-32_bandLen-21.pkl 40 shap"
   ]
  },
  {
   "cell_type": "code",
   "execution_count": 17,
   "metadata": {
    "tags": []
   },
   "outputs": [
    {
     "name": "stdout",
     "output_type": "stream",
     "text": [
      "32\n",
      "32\n",
      "32\n",
      "0\n"
     ]
    }
   ],
   "source": [
    "results_dir_cpu = '/explore/nobackup/projects/ilab/data/AGB/test/mcruns/output/VI_randint_U_20240229_1/711241757083075094'\n",
    "!ls -alRt $results_dir_cpu/MODELS/ | grep '\\]\\.model:' | wc -l\n",
    "!ls -alRt $results_dir_cpu/MODELS/ | grep '\\]\\.test' | wc -l\n",
    "!ls -alRt $results_dir_cpu/PERMUTATION_IMPORTANCE_VALUES/ | grep shap |wc -l\n",
    "!ls -alRt $results_dir_cpu/PERMUTATION_IMPORTANCE_VALUES/  | grep \"0 Feb\" | wc -l"
   ]
  },
  {
   "cell_type": "markdown",
   "metadata": {
    "tags": []
   },
   "source": [
    "## VI - ilab213:  Time elapsed on node [ilab213] = (hh:mm:ss.ms) 0:26:56.519002\n",
    "### sh /home/gtamkin/_AGB-dev/monte-carlo/monte-carlo/tests/pdsh--VI.sh /explore/nobackup/projects/ilab/data/AGB/test/mcruns/output/VI_randint_U_20240229_2 /explore/nobackup/projects/ilab/data/AGB/test/mcruns/input/random_sets/randint_sets_20240229_collection-VI_min_occurrences-10_batch_size-10_num_samples-32_bandLen-21.pkl 40 shap"
   ]
  },
  {
   "cell_type": "code",
   "execution_count": 22,
   "metadata": {
    "tags": []
   },
   "outputs": [
    {
     "name": "stdout",
     "output_type": "stream",
     "text": [
      "32\n",
      "32\n",
      "32\n",
      "0\n"
     ]
    }
   ],
   "source": [
    "results_dir_cpu = '/explore/nobackup/projects/ilab/data/AGB/test/mcruns/output/VI_randint_U_20240229_2/418094143373180009'\n",
    "!ls -alRt $results_dir_cpu/MODELS/ | grep '\\]\\.model:' | wc -l\n",
    "!ls -alRt $results_dir_cpu/MODELS/ | grep '\\]\\.test' | wc -l\n",
    "!ls -alRt $results_dir_cpu/PERMUTATION_IMPORTANCE_VALUES/ | grep shap |wc -l\n",
    "!ls -alRt $results_dir_cpu/PERMUTATION_IMPORTANCE_VALUES/  | grep \"0 Feb\" | wc -l"
   ]
  },
  {
   "cell_type": "markdown",
   "metadata": {
    "tags": []
   },
   "source": [
    "## VI - ilab213:  Time elapsed on node [ilab213] = (hh:mm:ss.ms) 0:26:52.317282\n",
    "### sh /home/gtamkin/_AGB-dev/monte-carlo/monte-carlo/tests/pdsh--VI.sh /explore/nobackup/projects/ilab/data/AGB/test/mcruns/output/VI_randint_U_20240229_3 /explore/nobackup/projects/ilab/data/AGB/test/mcruns/input/random_sets/randint_sets_20240229_collection-VI_min_occurrences-10_batch_size-10_num_samples-32_bandLen-21.pkl 40 shap"
   ]
  },
  {
   "cell_type": "code",
   "execution_count": 25,
   "metadata": {
    "tags": []
   },
   "outputs": [
    {
     "name": "stdout",
     "output_type": "stream",
     "text": [
      "32\n",
      "32\n",
      "32\n",
      "0\n"
     ]
    }
   ],
   "source": [
    "results_dir_cpu = '/explore/nobackup/projects/ilab/data/AGB/test/mcruns/output/VI_randint_U_20240229_3/548764528868727045'\n",
    "!ls -alRt $results_dir_cpu/MODELS/ | grep '\\]\\.model:' | wc -l\n",
    "!ls -alRt $results_dir_cpu/MODELS/ | grep '\\]\\.test' | wc -l\n",
    "!ls -alRt $results_dir_cpu/PERMUTATION_IMPORTANCE_VALUES/ | grep shap |wc -l\n",
    "!ls -alRt $results_dir_cpu/PERMUTATION_IMPORTANCE_VALUES/  | grep \"0 Feb\" | wc -l"
   ]
  },
  {
   "cell_type": "markdown",
   "metadata": {
    "tags": []
   },
   "source": [
    "## VI - ilab213:  Time elapsed on node [ilab213] = (hh:mm:ss.ms) 0:26:52.317282\n",
    "### sh /home/gtamkin/_AGB-dev/monte-carlo/monte-carlo/tests/pdsh--VI.sh /explore/nobackup/projects/ilab/data/AGB/test/mcruns/output/VI_randint_U_20240229_4 /explore/nobackup/projects/ilab/data/AGB/test/mcruns/input/random_sets/randint_sets_20240229_collection-VI_min_occurrences-10_batch_size-10_num_samples-32_bandLen-21.pkl 40 shap"
   ]
  },
  {
   "cell_type": "code",
   "execution_count": 32,
   "metadata": {
    "tags": []
   },
   "outputs": [
    {
     "name": "stdout",
     "output_type": "stream",
     "text": [
      "32\n",
      "32\n",
      "32\n",
      "0\n"
     ]
    }
   ],
   "source": [
    "results_dir_cpu = '/explore/nobackup/projects/ilab/data/AGB/test/mcruns/output/VI_randint_U_20240229_5/345536919353575236'\n",
    "!ls -alRt $results_dir_cpu/MODELS/ | grep '\\]\\.model:' | wc -l\n",
    "!ls -alRt $results_dir_cpu/MODELS/ | grep '\\]\\.test' | wc -l\n",
    "!ls -alRt $results_dir_cpu/PERMUTATION_IMPORTANCE_VALUES/ | grep shap |wc -l\n",
    "!ls -alRt $results_dir_cpu/PERMUTATION_IMPORTANCE_VALUES/  | grep \"0 Feb\" | wc -l"
   ]
  },
  {
   "cell_type": "markdown",
   "metadata": {
    "tags": []
   },
   "source": [
    "## VI - ilab213:  Time elapsed on node [ilab213] = (hh:mm:ss.ms) 0:26:36.387707\n",
    "### sh /home/gtamkin/_AGB-dev/monte-carlo/monte-carlo/tests/pdsh--VI.sh /explore/nobackup/projects/ilab/data/AGB/test/mcruns/output/VI_randint_U_20240229_5 /explore/nobackup/projects/ilab/data/AGB/test/mcruns/input/random_sets/randint_sets_20240229_collection-VI_min_occurrences-10_batch_size-10_num_samples-32_bandLen-21.pkl 40 shap"
   ]
  },
  {
   "cell_type": "code",
   "execution_count": 28,
   "metadata": {
    "tags": []
   },
   "outputs": [
    {
     "name": "stdout",
     "output_type": "stream",
     "text": [
      "32\n",
      "32\n",
      "32\n",
      "0\n"
     ]
    }
   ],
   "source": [
    "results_dir_cpu = '/explore/nobackup/projects/ilab/data/AGB/test/mcruns/output/VI_randint_U_20240229_4/673843053471350852'\n",
    "!ls -alRt $results_dir_cpu/MODELS/ | grep '\\]\\.model:' | wc -l\n",
    "!ls -alRt $results_dir_cpu/MODELS/ | grep '\\]\\.test' | wc -l\n",
    "!ls -alRt $results_dir_cpu/PERMUTATION_IMPORTANCE_VALUES/ | grep shap |wc -l\n",
    "!ls -alRt $results_dir_cpu/PERMUTATION_IMPORTANCE_VALUES/  | grep \"0 Feb\" | wc -l"
   ]
  },
  {
   "cell_type": "markdown",
   "metadata": {
    "tags": []
   },
   "source": [
    "## VI - ilab213:  Time elapsed on node [ilab213] = (hh:mm:ss.ms) 0:27:25.246467\n",
    "### sh /home/gtamkin/_AGB-dev/monte-carlo/monte-carlo/tests/pdsh--VI.sh /explore/nobackup/projects/ilab/data/AGB/test/mcruns/output/VI_randint_U_20240229_6 /explore/nobackup/projects/ilab/data/AGB/test/mcruns/input/random_sets/randint_sets_20240229_collection-VI_min_occurrences-10_batch_size-10_num_samples-32_bandLen-21.pkl 40 shap"
   ]
  },
  {
   "cell_type": "code",
   "execution_count": 34,
   "metadata": {
    "tags": []
   },
   "outputs": [
    {
     "name": "stdout",
     "output_type": "stream",
     "text": [
      "32\n",
      "32\n",
      "32\n",
      "0\n"
     ]
    }
   ],
   "source": [
    "results_dir_cpu = '/explore/nobackup/projects/ilab/data/AGB/test/mcruns/output/VI_randint_U_20240229_6/891516017211874507'\n",
    "!ls -alRt $results_dir_cpu/MODELS/ | grep '\\]\\.model:' | wc -l\n",
    "!ls -alRt $results_dir_cpu/MODELS/ | grep '\\]\\.test' | wc -l\n",
    "!ls -alRt $results_dir_cpu/PERMUTATION_IMPORTANCE_VALUES/ | grep shap |wc -l\n",
    "!ls -alRt $results_dir_cpu/PERMUTATION_IMPORTANCE_VALUES/  | grep \"0 Feb\" | wc -l"
   ]
  },
  {
   "cell_type": "markdown",
   "metadata": {
    "tags": []
   },
   "source": [
    "## VI - gpu007 - started 03/02/2024 GOAL=182:  Time elapsed on node [gpu007] = (hh:mm:ss.ms) 0:37:52.041731??\n",
    "### sh /home/gtamkin/_AGB-dev/monte-carlo/monte-carlo/tests/pdsh--VI.sh /explore/nobackup/projects/ilab/data/AGB/test/mcruns/output/VI_randintU_20240301_182_20m_3b /explore/nobackup/projects/ilab/data/AGB/test/mcruns/input/random_sets/randint_sets_20240301_collection-VI_min_occurrences-20_batch_size-3_num_samples-182_bandLen-21.pkl 200 model;"
   ]
  },
  {
   "cell_type": "code",
   "execution_count": 33,
   "metadata": {
    "tags": []
   },
   "outputs": [
    {
     "name": "stdout",
     "output_type": "stream",
     "text": [
      "179\n",
      "179\n",
      "179\n",
      "1\n"
     ]
    }
   ],
   "source": [
    "results_dir_cpu = '/explore/nobackup/projects/ilab/data/AGB/test/mcruns/output/VI_randintU_20240302_182_20m_3b/664566777047688659'\n",
    "!ls -alRt $results_dir_cpu/MODELS/ | grep '\\]\\.model:' | wc -l\n",
    "!ls -alRt $results_dir_cpu/MODELS/ | grep '\\]\\.test' | wc -l\n",
    "!ls -alRt $results_dir_cpu/PERMUTATION_IMPORTANCE_VALUES/ | grep shap |wc -l\n",
    "!ls -alRt $results_dir_cpu/PERMUTATION_IMPORTANCE_VALUES/  | grep \"0 Mar\" | wc -l"
   ]
  },
  {
   "cell_type": "markdown",
   "metadata": {
    "tags": []
   },
   "source": [
    "## NEON - ilab213 -  10min - GOAL=946:  Time elapsed on node [ilab213] = (hh:mm:ss.ms) ??\n",
    "### 10 * sh -> sh /home/gtamkin/_AGB-dev/monte-carlo/monte-carlo/tests/pdsh--NEON.sh /explore/nobackup/projects/ilab/data/AGB/test/mcruns/output/NEON_randintU_20240229_946 /explore/nobackup/projects/ilab/data/AGB/test/mcruns/input/random_sets/randint_sets_20240229_collection-NEON_min_occurrences-10_batch_size-10_num_samples-946_bandLen-426.pkl 40 shap; "
   ]
  },
  {
   "cell_type": "code",
   "execution_count": 43,
   "metadata": {
    "tags": []
   },
   "outputs": [
    {
     "name": "stdout",
     "output_type": "stream",
     "text": [
      "946\n",
      "946\n",
      "946\n",
      "1\n"
     ]
    }
   ],
   "source": [
    "results_dir_cpu = '/explore/nobackup/projects/ilab/data/AGB/test/mcruns/output/NEON_randintU_20240229_946/385964282732336317'\n",
    "!ls -alRt $results_dir_cpu/MODELS/ | grep '\\]\\.model:' | wc -l\n",
    "!ls -alRt $results_dir_cpu/MODELS/ | grep '\\]\\.test' | wc -l\n",
    "!ls -alRt $results_dir_cpu/PERMUTATION_IMPORTANCE_VALUES/ | grep shap |wc -l\n",
    "#!ls -alRt $results_dir_cpu/PERMUTATION_IMPORTANCE_VALUES/  | grep \"0 Feb\" | wc -l\n",
    "!ls -alRt $results_dir_cpu/PERMUTATION_IMPORTANCE_VALUES/  | grep \"0 Mar\" | wc -l"
   ]
  },
  {
   "cell_type": "markdown",
   "metadata": {
    "tags": []
   },
   "source": [
    "## VI - gpu007 - started 03/02/2024 GOAL=188-247:  Time elapsed on node [gpu007] = Time elapsed on node [gpu002] = (hh:mm:ss.ms) 0:49:49.616953\n",
    "#### sh /home/gtamkin/_AGB-dev/monte-carlo/monte-carlo/tests/pdsh--VI.sh /explore/nobackup/projects/ilab/data/AGB/test/mcruns/output/VI_randintU_20240302_188_20m_3b /explore/nobackup/projects/ilab/data/AGB/test/mcruns/input/random_sets/randint_sets_20240301_collection-VI_min_occurrences-20_batch_size-3_num_samples-188_bandLen-21.pkl 200 model;sh /home/gtamkin/_AGB-dev/monte-carlo/monte-carlo/tests/pdsh--VI.sh /explore/nobackup/projects/ilab/data/AGB/test/mcruns/output/VI_randintU_20240302_191_20m_3b /explore/nobackup/projects/ilab/data/AGB/test/mcruns/input/random_sets/randint_sets_20240301_collection-VI_min_occurrences-20_batch_size-3_num_samples-191_bandLen-21.pkl 200 model;sh /home/gtamkin/_AGB-dev/monte-carlo/monte-carlo/tests/pdsh--VI.sh /explore/nobackup/projects/ilab/data/AGB/test/mcruns/output/VI_randintU_20240302_193_20m_3b /explore/nobackup/projects/ilab/data/AGB/test/mcruns/input/random_sets/randint_sets_20240301_collection-VI_min_occurrences-20_batch_size-3_num_samples-193_bandLen-21.pkl 200 model;sh /home/gtamkin/_AGB-dev/monte-carlo/monte-carlo/tests/pdsh--VI.sh /explore/nobackup/projects/ilab/data/AGB/test/mcruns/output/VI_randintU_20240302_200_20m_3b /explore/nobackup/projects/ilab/data/AGB/test/mcruns/input/random_sets/randint_sets_20240301_collection-VI_min_occurrences-20_batch_size-3_num_samples-200_bandLen-21.pkl 200 model;sh /home/gtamkin/_AGB-dev/monte-carlo/monte-carlo/tests/pdsh--VI.sh /explore/nobackup/projects/ilab/data/AGB/test/mcruns/output/VI_randintU_20240302_214_20m_3b /explore/nobackup/projects/ilab/data/AGB/test/mcruns/input/random_sets/randint_sets_20240301_collection-VI_min_occurrences-20_batch_size-3_num_samples-214_bandLen-21.pkl 250 model;sh /home/gtamkin/_AGB-dev/monte-carlo/monte-carlo/tests/pdsh--VI.sh /explore/nobackup/projects/ilab/data/AGB/test/mcruns/output/VI_randintU_20240302_225_20m_3b /explore/nobackup/projects/ilab/data/AGB/test/mcruns/input/random_sets/randint_sets_20240301_collection-VI_min_occurrences-20_batch_size-3_num_samples-225_bandLen-21.pkl 250 model;sh /home/gtamkin/_AGB-dev/monte-carlo/monte-carlo/tests/pdsh--VI.sh /explore/nobackup/projects/ilab/data/AGB/test/mcruns/output/VI_randintU_20240302_230_20m_3b /explore/nobackup/projects/ilab/data/AGB/test/mcruns/input/random_sets/randint_sets_20240301_collection-VI_min_occurrences-20_batch_size-3_num_samples-230_bandLen-21.pkl 250 model;sh /home/gtamkin/_AGB-dev/monte-carlo/monte-carlo/tests/pdsh--VI.sh /explore/nobackup/projects/ilab/data/AGB/test/mcruns/output/VI_randintU_20240302_245_20m_3b /explore/nobackup/projects/ilab/data/AGB/test/mcruns/input/random_sets/randint_sets_20240301_collection-VI_min_occurrences-20_batch_size-3_num_samples-245_bandLen-21.pkl 250 model;sh /home/gtamkin/_AGB-dev/monte-carlo/monte-carlo/tests/pdsh--VI.sh /explore/nobackup/projects/ilab/data/AGB/test/mcruns/output/VI_randintU_20240302_247_20m_3b /explore/nobackup/projects/ilab/data/AGB/test/mcruns/input/random_sets/randint_sets_20240301_collection-VI_min_occurrences-20_batch_size-3_num_samples-247_bandLen-21.pkl 250 model;"
   ]
  },
  {
   "cell_type": "markdown",
   "metadata": {
    "tags": []
   },
   "source": [
    "## Attempted cleanup of above....Still no more processed.  Assuming that there are multiple identical random sets in the input file, accounting for the total result to be less than the total number of rows.\n",
    "#### 10 * -> sh /home/gtamkin/_AGB-dev/monte-carlo/monte-carlo/tests/pdsh--VI.sh /explore/nobackup/projects/ilab/data/AGB/test/mcruns/output/VI_randintU_20240302_188_20m_3b /explore/nobackup/projects/ilab/data/AGB/test/mcruns/input/random_sets/randint_sets_20240301_collection-VI_min_occurrences-20_batch_size-3_num_samples-188_bandLen-21.pkl 20 shap;sh /home/gtamkin/_AGB-dev/monte-carlo/monte-carlo/tests/pdsh--VI.sh /explore/nobackup/projects/ilab/data/AGB/test/mcruns/output/VI_randintU_20240302_191_20m_3b /explore/nobackup/projects/ilab/data/AGB/test/mcruns/input/random_sets/randint_sets_20240301_collection-VI_min_occurrences-20_batch_size-3_num_samples-191_bandLen-21.pkl 20 shap;sh /home/gtamkin/_AGB-dev/monte-carlo/monte-carlo/tests/pdsh--VI.sh /explore/nobackup/projects/ilab/data/AGB/test/mcruns/output/VI_randintU_20240302_193_20m_3b /explore/nobackup/projects/ilab/data/AGB/test/mcruns/input/random_sets/randint_sets_20240301_collection-VI_min_occurrences-20_batch_size-3_num_samples-193_bandLen-21.pkl 20 shap;sh /home/gtamkin/_AGB-dev/monte-carlo/monte-carlo/tests/pdsh--VI.sh /explore/nobackup/projects/ilab/data/AGB/test/mcruns/output/VI_randintU_20240302_200_20m_3b /explore/nobackup/projects/ilab/data/AGB/test/mcruns/input/random_sets/randint_sets_20240301_collection-VI_min_occurrences-20_batch_size-3_num_samples-200_bandLen-21.pkl 20 shap;sh /home/gtamkin/_AGB-dev/monte-carlo/monte-carlo/tests/pdsh--VI.sh /explore/nobackup/projects/ilab/data/AGB/test/mcruns/output/VI_randintU_20240302_214_20m_3b /explore/nobackup/projects/ilab/data/AGB/test/mcruns/input/random_sets/randint_sets_20240301_collection-VI_min_occurrences-20_batch_size-3_num_samples-214_bandLen-21.pkl 20 shap;sh /home/gtamkin/_AGB-dev/monte-carlo/monte-carlo/tests/pdsh--VI.sh /explore/nobackup/projects/ilab/data/AGB/test/mcruns/output/VI_randintU_20240302_225_20m_3b /explore/nobackup/projects/ilab/data/AGB/test/mcruns/input/random_sets/randint_sets_20240301_collection-VI_min_occurrences-20_batch_size-3_num_samples-225_bandLen-21.pkl 20 shap;sh /home/gtamkin/_AGB-dev/monte-carlo/monte-carlo/tests/pdsh--VI.sh /explore/nobackup/projects/ilab/data/AGB/test/mcruns/output/VI_randintU_20240302_230_20m_3b /explore/nobackup/projects/ilab/data/AGB/test/mcruns/input/random_sets/randint_sets_20240301_collection-VI_min_occurrences-20_batch_size-3_num_samples-230_bandLen-21.pkl 20 shap;sh /home/gtamkin/_AGB-dev/monte-carlo/monte-carlo/tests/pdsh--VI.sh /explore/nobackup/projects/ilab/data/AGB/test/mcruns/output/VI_randintU_20240302_245_20m_3b /explore/nobackup/projects/ilab/data/AGB/test/mcruns/input/random_sets/randint_sets_20240301_collection-VI_min_occurrences-20_batch_size-3_num_samples-245_bandLen-21.pkl 20 shap;sh /home/gtamkin/_AGB-dev/monte-carlo/monte-carlo/tests/pdsh--VI.sh /explore/nobackup/projects/ilab/data/AGB/test/mcruns/output/VI_randintU_20240302_247_20m_3b /explore/nobackup/projects/ilab/data/AGB/test/mcruns/input/random_sets/randint_sets_20240301_collection-VI_min_occurrences-20_batch_size-3_num_samples-247_bandLen-21.pkl 20 shap;sh /home/gtamkin/_AGB-dev/monte-carlo/monte-carlo/tests/pdsh--VI.sh /explore/nobackup/projects/ilab/data/AGB/test/mcruns/output/VI_randintU_20240302_247_20m_3b /explore/nobackup/projects/ilab/data/AGB/test/mcruns/input/random_sets/randint_sets_20240301_collection-VI_min_occurrences-20_batch_size-3_num_samples-247_bandLen-21.pkl 20 shap;"
   ]
  },
  {
   "cell_type": "code",
   "execution_count": 41,
   "metadata": {
    "tags": []
   },
   "outputs": [
    {
     "name": "stdout",
     "output_type": "stream",
     "text": [
      "186\n",
      "186\n",
      "186\n",
      "1\n"
     ]
    }
   ],
   "source": [
    "results_dir_cpu = '/explore/nobackup/projects/ilab/data/AGB/test/mcruns/output/VI_randintU_20240302_188_20m_3b/575050868397492482'\n",
    "!ls -alRt $results_dir_cpu/MODELS/ | grep '\\]\\.model:' | wc -l\n",
    "!ls -alRt $results_dir_cpu/MODELS/ | grep '\\]\\.test' | wc -l\n",
    "!ls -alRt $results_dir_cpu/PERMUTATION_IMPORTANCE_VALUES/ | grep shap |wc -l\n",
    "!ls -alRt $results_dir_cpu/PERMUTATION_IMPORTANCE_VALUES/  | grep \"0 Mar\" | wc -l"
   ]
  },
  {
   "cell_type": "code",
   "execution_count": 42,
   "metadata": {
    "tags": []
   },
   "outputs": [
    {
     "name": "stdout",
     "output_type": "stream",
     "text": [
      "191\n",
      "191\n",
      "191\n",
      "0\n"
     ]
    }
   ],
   "source": [
    "results_dir_cpu = '/explore/nobackup/projects/ilab/data/AGB/test/mcruns/output/VI_randintU_20240302_191_20m_3b/972812867574749608'\n",
    "!ls -alRt $results_dir_cpu/MODELS/ | grep '\\]\\.model:' | wc -l\n",
    "!ls -alRt $results_dir_cpu/MODELS/ | grep '\\]\\.test' | wc -l\n",
    "!ls -alRt $results_dir_cpu/PERMUTATION_IMPORTANCE_VALUES/ | grep shap |wc -l\n",
    "!ls -alRt $results_dir_cpu/PERMUTATION_IMPORTANCE_VALUES/  | grep \"0 Mar\" | wc -l"
   ]
  },
  {
   "cell_type": "code",
   "execution_count": 38,
   "metadata": {
    "tags": []
   },
   "outputs": [
    {
     "name": "stdout",
     "output_type": "stream",
     "text": [
      "189\n",
      "189\n",
      "189\n",
      "1\n"
     ]
    }
   ],
   "source": [
    "results_dir_cpu = '/explore/nobackup/projects/ilab/data/AGB/test/mcruns/output/VI_randintU_20240302_193_20m_3b/853379430912402815'\n",
    "!ls -alRt $results_dir_cpu/MODELS/ | grep '\\]\\.model:' | wc -l\n",
    "!ls -alRt $results_dir_cpu/MODELS/ | grep '\\]\\.test' | wc -l\n",
    "!ls -alRt $results_dir_cpu/PERMUTATION_IMPORTANCE_VALUES/ | grep shap |wc -l\n",
    "!ls -alRt $results_dir_cpu/PERMUTATION_IMPORTANCE_VALUES/  | grep \"0 Mar\" | wc -l"
   ]
  },
  {
   "cell_type": "code",
   "execution_count": 37,
   "metadata": {
    "tags": []
   },
   "outputs": [
    {
     "name": "stdout",
     "output_type": "stream",
     "text": [
      "196\n",
      "196\n",
      "196\n",
      "0\n"
     ]
    }
   ],
   "source": [
    "results_dir_cpu = '/explore/nobackup/projects/ilab/data/AGB/test/mcruns/output/VI_randintU_20240302_200_20m_3b/875083503082867641'\n",
    "!ls -alRt $results_dir_cpu/MODELS/ | grep '\\]\\.model:' | wc -l\n",
    "!ls -alRt $results_dir_cpu/MODELS/ | grep '\\]\\.test' | wc -l\n",
    "!ls -alRt $results_dir_cpu/PERMUTATION_IMPORTANCE_VALUES/ | grep shap |wc -l\n",
    "!ls -alRt $results_dir_cpu/PERMUTATION_IMPORTANCE_VALUES/  | grep \"0 Mar\" | wc -l"
   ]
  },
  {
   "cell_type": "code",
   "execution_count": 36,
   "metadata": {
    "tags": []
   },
   "outputs": [
    {
     "name": "stdout",
     "output_type": "stream",
     "text": [
      "212\n",
      "212\n",
      "212\n",
      "0\n"
     ]
    }
   ],
   "source": [
    "results_dir_cpu = '/explore/nobackup/projects/ilab/data/AGB/test/mcruns/output/VI_randintU_20240302_214_20m_3b/279550132438151710'\n",
    "!ls -alRt $results_dir_cpu/MODELS/ | grep '\\]\\.model:' | wc -l\n",
    "!ls -alRt $results_dir_cpu/MODELS/ | grep '\\]\\.test' | wc -l\n",
    "!ls -alRt $results_dir_cpu/PERMUTATION_IMPORTANCE_VALUES/ | grep shap |wc -l\n",
    "!ls -alRt $results_dir_cpu/PERMUTATION_IMPORTANCE_VALUES/  | grep \"0 Mar\" | wc -l"
   ]
  },
  {
   "cell_type": "code",
   "execution_count": 35,
   "metadata": {
    "tags": []
   },
   "outputs": [
    {
     "name": "stdout",
     "output_type": "stream",
     "text": [
      "221\n",
      "221\n",
      "221\n",
      "0\n"
     ]
    }
   ],
   "source": [
    "results_dir_cpu = '/explore/nobackup/projects/ilab/data/AGB/test/mcruns/output/VI_randintU_20240302_225_20m_3b/424433684070503325'\n",
    "!ls -alRt $results_dir_cpu/MODELS/ | grep '\\]\\.model:' | wc -l\n",
    "!ls -alRt $results_dir_cpu/MODELS/ | grep '\\]\\.test' | wc -l\n",
    "!ls -alRt $results_dir_cpu/PERMUTATION_IMPORTANCE_VALUES/ | grep shap |wc -l\n",
    "!ls -alRt $results_dir_cpu/PERMUTATION_IMPORTANCE_VALUES/  | grep \"0 Mar\" | wc -l"
   ]
  },
  {
   "cell_type": "code",
   "execution_count": 34,
   "metadata": {
    "tags": []
   },
   "outputs": [
    {
     "name": "stdout",
     "output_type": "stream",
     "text": [
      "225\n",
      "225\n",
      "225\n",
      "0\n"
     ]
    }
   ],
   "source": [
    "results_dir_cpu = '/explore/nobackup/projects/ilab/data/AGB/test/mcruns/output/VI_randintU_20240302_230_20m_3b/500424548463509068'\n",
    "!ls -alRt $results_dir_cpu/MODELS/ | grep '\\]\\.model:' | wc -l\n",
    "!ls -alRt $results_dir_cpu/MODELS/ | grep '\\]\\.test' | wc -l\n",
    "!ls -alRt $results_dir_cpu/PERMUTATION_IMPORTANCE_VALUES/ | grep shap |wc -l\n",
    "!ls -alRt $results_dir_cpu/PERMUTATION_IMPORTANCE_VALUES/  | grep \"0 Mar\" | wc -l"
   ]
  },
  {
   "cell_type": "code",
   "execution_count": 33,
   "metadata": {
    "tags": []
   },
   "outputs": [
    {
     "name": "stdout",
     "output_type": "stream",
     "text": [
      "241\n",
      "241\n",
      "241\n",
      "0\n"
     ]
    }
   ],
   "source": [
    "results_dir_cpu = '/explore/nobackup/projects/ilab/data/AGB/test/mcruns/output/VI_randintU_20240302_245_20m_3b/350549990093852854'\n",
    "!ls -alRt $results_dir_cpu/MODELS/ | grep '\\]\\.model:' | wc -l\n",
    "!ls -alRt $results_dir_cpu/MODELS/ | grep '\\]\\.test' | wc -l\n",
    "!ls -alRt $results_dir_cpu/PERMUTATION_IMPORTANCE_VALUES/ | grep shap |wc -l\n",
    "!ls -alRt $results_dir_cpu/PERMUTATION_IMPORTANCE_VALUES/  | grep \"0 Mar\" | wc -l"
   ]
  },
  {
   "cell_type": "code",
   "execution_count": 32,
   "metadata": {
    "tags": []
   },
   "outputs": [
    {
     "name": "stdout",
     "output_type": "stream",
     "text": [
      "244\n",
      "244\n",
      "244\n",
      "0\n"
     ]
    }
   ],
   "source": [
    "results_dir_cpu = '/explore/nobackup/projects/ilab/data/AGB/test/mcruns/output/VI_randintU_20240302_247_20m_3b/498345501911623626'\n",
    "!ls -alRt $results_dir_cpu/MODELS/ | grep '\\]\\.model:' | wc -l\n",
    "!ls -alRt $results_dir_cpu/MODELS/ | grep '\\]\\.test' | wc -l\n",
    "!ls -alRt $results_dir_cpu/PERMUTATION_IMPORTANCE_VALUES/ | grep shap |wc -l\n",
    "!ls -alRt $results_dir_cpu/PERMUTATION_IMPORTANCE_VALUES/  | grep \"0 Mar\" | wc -l"
   ]
  },
  {
   "cell_type": "markdown",
   "metadata": {
    "tags": []
   },
   "source": [
    "## VI - gpu007 - started 03/02/2024 GOAL=188-247:  ??\n",
    "#### sh /home/gtamkin/_AGB-dev/monte-carlo/monte-carlo/tests/pdsh--VI.sh /explore/nobackup/projects/ilab/data/AGB/test/mcruns/output/VI/VI_randintU_20240302_188_20m_3b /explore/nobackup/projects/ilab/data/AGB/test/mcruns/input/random_sets/randint_sets_20240301_collection-VI_min_occurrences-20_batch_size-3_num_samples-188_bandLen-21.pkl 200 model;sh /home/gtamkin/_AGB-dev/monte-carlo/monte-carlo/tests/pdsh--VI.sh /explore/nobackup/projects/ilab/data/AGB/test/mcruns/output/VI/VI_randintU_20240302_191_20m_3b /explore/nobackup/projects/ilab/data/AGB/test/mcruns/input/random_sets/randint_sets_20240301_collection-VI_min_occurrences-20_batch_size-3_num_samples-191_bandLen-21.pkl 200 model;sh /home/gtamkin/_AGB-dev/monte-carlo/monte-carlo/tests/pdsh--VI.sh /explore/nobackup/projects/ilab/data/AGB/test/mcruns/output/VI/VI_randintU_20240302_193_20m_3b /explore/nobackup/projects/ilab/data/AGB/test/mcruns/input/random_sets/randint_sets_20240301_collection-VI_min_occurrences-20_batch_size-3_num_samples-193_bandLen-21.pkl 200 model;sh /home/gtamkin/_AGB-dev/monte-carlo/monte-carlo/tests/pdsh--VI.sh /explore/nobackup/projects/ilab/data/AGB/test/mcruns/output/VI/VI_randintU_20240302_200_20m_3b /explore/nobackup/projects/ilab/data/AGB/test/mcruns/input/random_sets/randint_sets_20240301_collection-VI_min_occurrences-20_batch_size-3_num_samples-200_bandLen-21.pkl 200 model;sh /home/gtamkin/_AGB-dev/monte-carlo/monte-carlo/tests/pdsh--VI.sh /explore/nobackup/projects/ilab/data/AGB/test/mcruns/output/VI/VI_randintU_20240302_214_20m_3b /explore/nobackup/projects/ilab/data/AGB/test/mcruns/input/random_sets/randint_sets_20240301_collection-VI_min_occurrences-20_batch_size-3_num_samples-214_bandLen-21.pkl 250 model;sh /home/gtamkin/_AGB-dev/monte-carlo/monte-carlo/tests/pdsh--VI.sh /explore/nobackup/projects/ilab/data/AGB/test/mcruns/output/VI/VI_randintU_20240302_225_20m_3b /explore/nobackup/projects/ilab/data/AGB/test/mcruns/input/random_sets/randint_sets_20240301_collection-VI_min_occurrences-20_batch_size-3_num_samples-225_bandLen-21.pkl 250 model;sh /home/gtamkin/_AGB-dev/monte-carlo/monte-carlo/tests/pdsh--VI.sh /explore/nobackup/projects/ilab/data/AGB/test/mcruns/output/VI/VI_randintU_20240302_230_20m_3b /explore/nobackup/projects/ilab/data/AGB/test/mcruns/input/random_sets/randint_sets_20240301_collection-VI_min_occurrences-20_batch_size-3_num_samples-230_bandLen-21.pkl 250 model;sh /home/gtamkin/_AGB-dev/monte-carlo/monte-carlo/tests/pdsh--VI.sh /explore/nobackup/projects/ilab/data/AGB/test/mcruns/output/VI/VI_randintU_20240302_245_20m_3b /explore/nobackup/projects/ilab/data/AGB/test/mcruns/input/random_sets/randint_sets_20240301_collection-VI_min_occurrences-20_batch_size-3_num_samples-245_bandLen-21.pkl 250 model;sh /home/gtamkin/_AGB-dev/monte-carlo/monte-carlo/tests/pdsh--VI.sh /explore/nobackup/projects/ilab/data/AGB/test/mcruns/output/VI/VI_randintU_20240302_247_20m_3b /explore/nobackup/projects/ilab/data/AGB/test/mcruns/input/random_sets/randint_sets_20240301_collection-VI_min_occurrences-20_batch_size-3_num_samples-247_bandLen-21.pkl 250 model;"
   ]
  },
  {
   "cell_type": "code",
   "execution_count": 41,
   "metadata": {
    "tags": []
   },
   "outputs": [
    {
     "name": "stdout",
     "output_type": "stream",
     "text": [
      "186\n",
      "186\n",
      "186\n",
      "1\n"
     ]
    }
   ],
   "source": [
    "results_dir_cpu = '/explore/nobackup/projects/ilab/data/AGB/test/mcruns/output/VI/VI_randintU_20240302_188_20m_3b/575050868397492482'\n",
    "!ls -alRt $results_dir_cpu/MODELS/ | grep '\\]\\.model:' | wc -l\n",
    "!ls -alRt $results_dir_cpu/MODELS/ | grep '\\]\\.test' | wc -l\n",
    "!ls -alRt $results_dir_cpu/PERMUTATION_IMPORTANCE_VALUES/ | grep shap |wc -l\n",
    "!ls -alRt $results_dir_cpu/PERMUTATION_IMPORTANCE_VALUES/  | grep \"0 Mar\" | wc -l"
   ]
  },
  {
   "cell_type": "code",
   "execution_count": 47,
   "metadata": {
    "tags": []
   },
   "outputs": [
    {
     "name": "stdout",
     "output_type": "stream",
     "text": [
      "244\n",
      "244\n",
      "244\n",
      "0\n"
     ]
    }
   ],
   "source": [
    "results_dir_cpu = '/explore/nobackup/projects/ilab/data/AGB/test/mcruns/output/VI/VI_randintU_20240302_247_20m_3b/214107507827042739'\n",
    "!ls -alRt $results_dir_cpu/MODELS/ | grep '\\]\\.model:' | wc -l\n",
    "!ls -alRt $results_dir_cpu/MODELS/ | grep '\\]\\.test' | wc -l\n",
    "!ls -alRt $results_dir_cpu/PERMUTATION_IMPORTANCE_VALUES/ | grep shap |wc -l\n",
    "!ls -alRt $results_dir_cpu/PERMUTATION_IMPORTANCE_VALUES/  | grep \"0 Mar\" | wc -l"
   ]
  },
  {
   "cell_type": "markdown",
   "metadata": {
    "tags": []
   },
   "source": [
    "## ALL - gpu002 - 10min - GOAL=1016\n",
    "### sh /home/gtamkin/_AGB-dev/monte-carlo/monte-carlo/tests/pdsh--ALL.sh /explore/nobackup/projects/ilab/data/AGB/test/mcruns/output/ALL_randintU_20240229_1016 /explore/nobackup/projects/ilab/data/AGB/test/mcruns/input/random_sets/randint_sets_20240229_collection-ALL_min_occurrences-10_batch_size-10_num_samples-1016_bandLen-447.pkl 40 model"
   ]
  },
  {
   "cell_type": "code",
   "execution_count": 45,
   "metadata": {},
   "outputs": [
    {
     "name": "stdout",
     "output_type": "stream",
     "text": [
      "1016\n",
      "1016\n",
      "1016\n",
      "1\n"
     ]
    }
   ],
   "source": [
    "results_dir_cpu = '/explore/nobackup/projects/ilab/data/AGB/test/mcruns/output/ALL_randintU_20240229_1016/983932495984268956'\n",
    "!ls -alRt $results_dir_cpu/MODELS/ | grep '\\]\\.model:' | wc -l\n",
    "!ls -alRt $results_dir_cpu/MODELS/ | grep '\\]\\.test' | wc -l\n",
    "!ls -alRt $results_dir_cpu/PERMUTATION_IMPORTANCE_VALUES/ | grep shap |wc -l\n",
    "!ls -alRt $results_dir_cpu/PERMUTATION_IMPORTANCE_VALUES/  | grep \"0 Mar\" | wc -l"
   ]
  },
  {
   "cell_type": "markdown",
   "metadata": {
    "tags": []
   },
   "source": [
    "## ALL - ilab213 - 10min - GOAL=1016\n",
    "### 20 * -> sh /home/gtamkin/_AGB-dev/monte-carlo/monte-carlo/tests/pdsh--ALL.sh  /explore/nobackup/projects/ilab/data/AGB/test/mcruns/output/ALL/ALL_randintU_20240229_1016 /explore/nobackup/projects/ilab/data/AGB/test/mcruns/input/random_sets/randint_sets_20240229_collection-ALL_min_occurrences-10_batch_size-10_num_samples-1016_bandLen-447.pkl 40 model"
   ]
  },
  {
   "cell_type": "code",
   "execution_count": 55,
   "metadata": {},
   "outputs": [
    {
     "name": "stdout",
     "output_type": "stream",
     "text": [
      "1016\n",
      "1016\n",
      "1016\n",
      "1\n"
     ]
    }
   ],
   "source": [
    "results_dir_cpu = '/explore/nobackup/projects/ilab/data/AGB/test/mcruns/output/ALL/ALL_randintU_20240229_1016/336385964190893936'\n",
    "!ls -alRt $results_dir_cpu/MODELS/ | grep '\\]\\.model:' | wc -l\n",
    "!ls -alRt $results_dir_cpu/MODELS/ | grep '\\]\\.test' | wc -l\n",
    "!ls -alRt $results_dir_cpu/PERMUTATION_IMPORTANCE_VALUES/ | grep shap |wc -l\n",
    "!ls -alRt $results_dir_cpu/PERMUTATION_IMPORTANCE_VALUES/  | grep \"0 Mar\" | wc -l"
   ]
  },
  {
   "cell_type": "markdown",
   "metadata": {
    "tags": []
   },
   "source": [
    "## VI - gpu002 - started 03/03/2024 GOAL=188-247:  ??\n",
    "#### sh /home/gtamkin/_AGB-dev/monte-carlo/monte-carlo/tests/pdsh--VI.sh /explore/nobackup/projects/ilab/data/AGB/test/mcruns/output/VI/VI_randintU_20240303_188_20m_3b /explore/nobackup/projects/ilab/data/AGB/test/mcruns/input/random_sets/randint_sets_20240301_collection-VI_min_occurrences-20_batch_size-3_num_samples-188_bandLen-21.pkl 200 shap;sh /home/gtamkin/_AGB-dev/monte-carlo/monte-carlo/tests/pdsh--VI.sh /explore/nobackup/projects/ilab/data/AGB/test/mcruns/output/VI/VI_randintU_20240303_191_20m_3b /explore/nobackup/projects/ilab/data/AGB/test/mcruns/input/random_sets/randint_sets_20240301_collection-VI_min_occurrences-20_batch_size-3_num_samples-191_bandLen-21.pkl 200 shap;sh /home/gtamkin/_AGB-dev/monte-carlo/monte-carlo/tests/pdsh--VI.sh /explore/nobackup/projects/ilab/data/AGB/test/mcruns/output/VI/VI_randintU_20240303_193_20m_3b /explore/nobackup/projects/ilab/data/AGB/test/mcruns/input/random_sets/randint_sets_20240301_collection-VI_min_occurrences-20_batch_size-3_num_samples-193_bandLen-21.pkl 200 shap;sh /home/gtamkin/_AGB-dev/monte-carlo/monte-carlo/tests/pdsh--VI.sh /explore/nobackup/projects/ilab/data/AGB/test/mcruns/output/VI/VI_randintU_20240303_200_20m_3b /explore/nobackup/projects/ilab/data/AGB/test/mcruns/input/random_sets/randint_sets_20240301_collection-VI_min_occurrences-20_batch_size-3_num_samples-200_bandLen-21.pkl 200 shap;sh /home/gtamkin/_AGB-dev/monte-carlo/monte-carlo/tests/pdsh--VI.sh /explore/nobackup/projects/ilab/data/AGB/test/mcruns/output/VI/VI_randintU_20240303_214_20m_3b /explore/nobackup/projects/ilab/data/AGB/test/mcruns/input/random_sets/randint_sets_20240301_collection-VI_min_occurrences-20_batch_size-3_num_samples-214_bandLen-21.pkl 250 shap;sh /home/gtamkin/_AGB-dev/monte-carlo/monte-carlo/tests/pdsh--VI.sh /explore/nobackup/projects/ilab/data/AGB/test/mcruns/output/VI/VI_randintU_20240303_225_20m_3b /explore/nobackup/projects/ilab/data/AGB/test/mcruns/input/random_sets/randint_sets_20240301_collection-VI_min_occurrences-20_batch_size-3_num_samples-225_bandLen-21.pkl 250 shap;sh /home/gtamkin/_AGB-dev/monte-carlo/monte-carlo/tests/pdsh--VI.sh /explore/nobackup/projects/ilab/data/AGB/test/mcruns/output/VI/VI_randintU_20240303_230_20m_3b /explore/nobackup/projects/ilab/data/AGB/test/mcruns/input/random_sets/randint_sets_20240301_collection-VI_min_occurrences-20_batch_size-3_num_samples-230_bandLen-21.pkl 250 shap;sh /home/gtamkin/_AGB-dev/monte-carlo/monte-carlo/tests/pdsh--VI.sh /explore/nobackup/projects/ilab/data/AGB/test/mcruns/output/VI/VI_randintU_20240303_245_20m_3b /explore/nobackup/projects/ilab/data/AGB/test/mcruns/input/random_sets/randint_sets_20240301_collection-VI_min_occurrences-20_batch_size-3_num_samples-245_bandLen-21.pkl 250 shap;sh /home/gtamkin/_AGB-dev/monte-carlo/monte-carlo/tests/pdsh--VI.sh /explore/nobackup/projects/ilab/data/AGB/test/mcruns/output/VI/VI_randintU_20240303_247_20m_3b /explore/nobackup/projects/ilab/data/AGB/test/mcruns/input/random_sets/randint_sets_20240301_collection-VI_min_occurrences-20_batch_size-3_num_samples-247_bandLen-21.pkl 250 shap;"
   ]
  },
  {
   "cell_type": "code",
   "execution_count": 46,
   "metadata": {
    "tags": []
   },
   "outputs": [
    {
     "name": "stdout",
     "output_type": "stream",
     "text": [
      "186\n",
      "186\n",
      "186\n",
      "1\n"
     ]
    }
   ],
   "source": [
    "results_dir_cpu = '/explore/nobackup/projects/ilab/data/AGB/test/mcruns/output/VI/VI_randintU_20240303_188_20m_3b/898188862101410804'\n",
    "!ls -alRt $results_dir_cpu/MODELS/ | grep '\\]\\.model:' | wc -l\n",
    "!ls -alRt $results_dir_cpu/MODELS/ | grep '\\]\\.test' | wc -l\n",
    "!ls -alRt $results_dir_cpu/PERMUTATION_IMPORTANCE_VALUES/ | grep shap |wc -l\n",
    "!ls -alRt $results_dir_cpu/PERMUTATION_IMPORTANCE_VALUES/  | grep \"0 Mar\" | wc -l"
   ]
  },
  {
   "cell_type": "code",
   "execution_count": 65,
   "metadata": {
    "tags": []
   },
   "outputs": [
    {
     "name": "stdout",
     "output_type": "stream",
     "text": [
      "244\n",
      "244\n",
      "244\n",
      "0\n"
     ]
    }
   ],
   "source": [
    "results_dir_cpu = '/explore/nobackup/projects/ilab/data/AGB/test/mcruns/output/VI/VI_randintU_20240303_247_20m_3b/120201914459639429'\n",
    "!ls -alRt $results_dir_cpu/MODELS/ | grep '\\]\\.model:' | wc -l\n",
    "!ls -alRt $results_dir_cpu/MODELS/ | grep '\\]\\.test' | wc -l\n",
    "!ls -alRt $results_dir_cpu/PERMUTATION_IMPORTANCE_VALUES/ | grep shap |wc -l\n",
    "!ls -alRt $results_dir_cpu/PERMUTATION_IMPORTANCE_VALUES/  | grep \"0 Mar\" | wc -l"
   ]
  },
  {
   "cell_type": "markdown",
   "metadata": {},
   "source": [
    "## -----------------------------------------------------------------\n",
    "## IN_PROGRESS runs\n",
    "## -----------------------------------------------------------------"
   ]
  },
  {
   "cell_type": "markdown",
   "metadata": {
    "tags": []
   },
   "source": [
    "## ALL - gpu002 - 50min - GOAL=3108\n",
    "### 20 * -> sh /home/gtamkin/_AGB-dev/monte-carlo/monte-carlo/tests/pdsh--ALL.sh /explore/nobackup/projects/ilab/data/AGB/test/mcruns/output/ALL_randintU_20240301_3108 /explore/nobackup/projects/ilab/data/AGB/test/mcruns/input/random_sets/randint_sets_20240229_collection-ALL_min_occurrences-50_batch_size-10_num_samples-3108_bandLen-447.pkl 40 model;"
   ]
  },
  {
   "cell_type": "code",
   "execution_count": 85,
   "metadata": {},
   "outputs": [
    {
     "name": "stdout",
     "output_type": "stream",
     "text": [
      "1760\n",
      "1757\n",
      "1760\n",
      "42\n"
     ]
    }
   ],
   "source": [
    "results_dir_cpu = '/explore/nobackup/projects/ilab/data/AGB/test/mcruns/output/ALL_randintU_20240301_3108/195018083738905409'\n",
    "!ls -alRt $results_dir_cpu/MODELS/ | grep '\\]\\.model:' | wc -l\n",
    "!ls -alRt $results_dir_cpu/MODELS/ | grep '\\]\\.test' | wc -l\n",
    "!ls -alRt $results_dir_cpu/PERMUTATION_IMPORTANCE_VALUES/ | grep shap |wc -l\n",
    "!ls -alRt $results_dir_cpu/PERMUTATION_IMPORTANCE_VALUES/  | grep \"0 Mar\" | wc -l"
   ]
  },
  {
   "cell_type": "markdown",
   "metadata": {
    "tags": []
   },
   "source": [
    "## ALL - ilab213 - 100m- GOAL=6064\n",
    "### 20 * -> sh /home/gtamkin/_AGB-dev/monte-carlo/monte-carlo/tests/pdsh--ALL.sh /explore/nobackup/projects/ilab/data/AGB/test/mcruns/output/ALL_randintU_20240301_6064 /explore/nobackup/projects/ilab/data/AGB/test/mcruns/input/random_sets/randint_sets_20240229_collection-ALL_min_occurrences-100_batch_size-10_num_samples-6064_bandLen-447.pkl 40 model"
   ]
  },
  {
   "cell_type": "code",
   "execution_count": 86,
   "metadata": {},
   "outputs": [
    {
     "name": "stdout",
     "output_type": "stream",
     "text": [
      "2623\n",
      "2403\n",
      "2623\n",
      "269\n"
     ]
    }
   ],
   "source": [
    "results_dir_cpu = '/explore/nobackup/projects/ilab/data/AGB/test/mcruns/output/ALL_randintU_20240301_6064/215041145914163553'\n",
    "!ls -alRt $results_dir_cpu/MODELS/ | grep '\\]\\.model:' | wc -l\n",
    "!ls -alRt $results_dir_cpu/MODELS/ | grep '\\]\\.test' | wc -l\n",
    "!ls -alRt $results_dir_cpu/PERMUTATION_IMPORTANCE_VALUES/ | grep shap |wc -l\n",
    "#!ls -alRt $results_dir_cpu/PERMUTATION_IMPORTANCE_VALUES/  | grep \"0 Feb\" | wc -l\n",
    "!ls -alRt $results_dir_cpu/PERMUTATION_IMPORTANCE_VALUES/  | grep \"0 Mar\" | wc -l"
   ]
  },
  {
   "cell_type": "code",
   "execution_count": null,
   "metadata": {},
   "outputs": [],
   "source": []
  },
  {
   "cell_type": "code",
   "execution_count": null,
   "metadata": {},
   "outputs": [],
   "source": []
  }
 ],
 "metadata": {
  "kernelspec": {
   "display_name": "Python [conda env:ilab-tensorflow]",
   "language": "python",
   "name": "conda-env-ilab-tensorflow-py"
  },
  "language_info": {
   "codemirror_mode": {
    "name": "ipython",
    "version": 3
   },
   "file_extension": ".py",
   "mimetype": "text/x-python",
   "name": "python",
   "nbconvert_exporter": "python",
   "pygments_lexer": "ipython3",
   "version": "3.8.16"
  }
 },
 "nbformat": 4,
 "nbformat_minor": 4
}
