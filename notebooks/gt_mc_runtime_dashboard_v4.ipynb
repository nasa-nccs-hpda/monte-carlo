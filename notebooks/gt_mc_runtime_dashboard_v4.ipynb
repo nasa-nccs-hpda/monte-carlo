{
 "cells": [
  {
   "cell_type": "markdown",
   "metadata": {},
   "source": [
    "# Runtime Dashboard - V4 - randint U (unique index per random subset) + Pairwise VI"
   ]
  },
  {
   "cell_type": "code",
   "execution_count": 1,
   "metadata": {},
   "outputs": [],
   "source": [
    "import sys\n",
    "sys.path.append('/explore/nobackup/people/gtamkin/dev/AGB/mpf-model-factories/MultiPathFusion')\n",
    "sys.path.append('/explore/nobackup/people/gtamkin/dev/AGB/monte-carlo/monte-carlo')"
   ]
  },
  {
   "cell_type": "raw",
   "metadata": {},
   "source": [
    "(base) gtamkin@ilab212:/home/gtamkin$ pdsh -w ilab[201-213] lscpu | grep \": CPU(s):\"\n",
    "ilab206: CPU(s):                10\n",
    "ilab205: CPU(s):                10\n",
    "ilab212: CPU(s):                10\n",
    "ilab201: CPU(s):                10\n",
    "ilab211: CPU(s):                10\n",
    "ilab204: CPU(s):                10\n",
    "ilab213: CPU(s):              30\n",
    "ilab207: CPU(s):                10\n",
    "ilab210: CPU(s):                10\n",
    "ilab203: CPU(s):                10\n",
    "ilab202: CPU(s):                10\n",
    "ilab208: CPU(s):                10\n",
    "ilab209: CPU(s):                10"
   ]
  },
  {
   "cell_type": "markdown",
   "metadata": {
    "tags": []
   },
   "source": [
    "## Check status of runs"
   ]
  },
  {
   "cell_type": "markdown",
   "metadata": {},
   "source": [
    "## -----------------------------------------------------------------\n",
    "## COMPLETE runs\n",
    "## -----------------------------------------------------------------"
   ]
  },
  {
   "cell_type": "markdown",
   "metadata": {
    "tags": []
   },
   "source": [
    "## VI - Combinations - ilab213 - started 04/02/2024: Epochs = 10, Trials = 2, Batch = 30, Goal = 210\n",
    "### 8 * -> sh /home/gtamkin/_AGB-dev/monte-carlo/monte-carlo/tests/pdsh--VI_epochs-10.sh /explore/nobackup/projects/ilab/data/AGB/test/mcruns/output/VI/combinations_sets_20240402_collection-VI_batch_size-2_num_samples-210_bandLen-21_epochs-10 /explore/nobackup/projects/ilab/data/AGB/test/mcruns/input/random_sets/combinations_sets_20240326_collection-VI_batch_size-2_num_samples-210_bandLen-21.pkl 30 model\n",
    "### NOTE:  Have to manually remove [[[x, y]]]*shap* until I fix app to handle index pair strings correctly (currently leaving these droppings)"
   ]
  },
  {
   "cell_type": "code",
   "execution_count": 2,
   "metadata": {},
   "outputs": [
    {
     "name": "stdout",
     "output_type": "stream",
     "text": [
      "210\n",
      "210\n",
      "210\n",
      "0\n"
     ]
    }
   ],
   "source": [
    "results_dir_cpu = '/explore/nobackup/projects/ilab/data/AGB/test/mcruns/output/VI/combinations_sets_20240402_collection-VI_batch_size-2_num_samples-210_bandLen-21_epochs-10/110930597116663652'\n",
    "!ls -alRt $results_dir_cpu/MODELS/ | grep '\\]\\.model:' | wc -l\n",
    "!ls -alRt $results_dir_cpu/MODELS/ | grep '\\]\\.test' | wc -l\n",
    "!ls -alRt $results_dir_cpu/PERMUTATION_IMPORTANCE_VALUES/ | grep shap |grep '\\]\\]' | wc -l\n",
    "!ls -alRt $results_dir_cpu/PERMUTATION_IMPORTANCE_VALUES/ | grep shap |grep ')\\]' | wc -l\n",
    "#!ls -alRt $results_dir_cpu/PERMUTATION_IMPORTANCE_VALUES/  | grep \"0 Mar\" | grep shap |  wc -l"
   ]
  },
  {
   "cell_type": "markdown",
   "metadata": {
    "tags": []
   },
   "source": [
    "## VI - Combinations - ilab213 - started 03/26/2024: Trials = 2, Batch = 40, Goal = 210\n",
    "### 7 * -> sh /home/gtamkin/_AGB-dev/monte-carlo/monte-carlo/tests/pdsh--VI.sh /explore/nobackup/projects/ilab/data/AGB/test/mcruns/output/VI/combinations_sets_20240326_collection-VI_batch_size-2_num_samples-210_bandLen-21 /explore/nobackup/projects/ilab/data/AGB/test/mcruns/input/random_sets/combinations_sets_20240326_collection-VI_batch_size-2_num_samples-210_bandLen-21.pkl 40 model;\n",
    "### NOTE:  Have to manually remove [[[x, y]]]*shap* until I fix app to handle index pair strings correctly (currently leaving these droppings)"
   ]
  },
  {
   "cell_type": "code",
   "execution_count": 3,
   "metadata": {},
   "outputs": [
    {
     "name": "stdout",
     "output_type": "stream",
     "text": [
      "210\n",
      "210\n",
      "210\n",
      "0\n"
     ]
    }
   ],
   "source": [
    "results_dir_cpu = '/explore/nobackup/projects/ilab/data/AGB/test/mcruns/output/VI/combinations_sets_20240326_collection-VI_batch_size-2_num_samples-210_bandLen-21/874262913239269001'\n",
    "!ls -alRt $results_dir_cpu/MODELS/ | grep '\\]\\.model:' | wc -l\n",
    "!ls -alRt $results_dir_cpu/MODELS/ | grep '\\]\\.test' | wc -l\n",
    "!ls -alRt $results_dir_cpu/PERMUTATION_IMPORTANCE_VALUES/ | grep shap |grep '\\]\\]' | wc -l\n",
    "!ls -alRt $results_dir_cpu/PERMUTATION_IMPORTANCE_VALUES/ | grep shap |grep ')\\]' | wc -l\n",
    "#!ls -alRt $results_dir_cpu/PERMUTATION_IMPORTANCE_VALUES/  | grep \"0 Mar\" | grep shap |  wc -l"
   ]
  },
  {
   "cell_type": "markdown",
   "metadata": {
    "tags": []
   },
   "source": [
    "## VI - Combinations - prismcompute201 - started 04/02/2024: Trials = 2, Batch = 24, Goal = 210\n",
    "### X * -> sh /home/gtamkin/_AGB-dev/monte-carlo/monte-carlo/tests/pdsh--VI.sh /explore/nobackup/projects/ilab/data/AGB/test/mcruns/output/VI/permutations_sets_20240401_collection-VI_batch_size-2_num_samples-420_bandLen-21 /explore/nobackup/projects/ilab/data/AGB/test/mcruns/input/random_sets/permutations_sets_20240326_collection-VI_batch_size-2_num_samples-420_bandLen-21.pkl 30 model;\n",
    "### NOTE:  Have to manually remove [[[x, y]]]*shap* until I fix app to handle index pair strings correctly (currently leaving these droppings)"
   ]
  },
  {
   "cell_type": "code",
   "execution_count": 4,
   "metadata": {
    "tags": []
   },
   "outputs": [
    {
     "name": "stdout",
     "output_type": "stream",
     "text": [
      "210\n",
      "210\n",
      "210\n",
      "0\n"
     ]
    }
   ],
   "source": [
    "results_dir_cpu = '/explore/nobackup/projects/ilab/data/AGB/test/mcruns/output/VI/combinations_sets_20240401_collection-VI_batch_size-2_num_samples-210_bandLen-21/686296879186232154'\n",
    "!ls -alRt $results_dir_cpu/MODELS/ | grep '\\]\\.model:' | wc -l\n",
    "!ls -alRt $results_dir_cpu/MODELS/ | grep '\\]\\.test' | wc -l\n",
    "!ls -alRt $results_dir_cpu/PERMUTATION_IMPORTANCE_VALUES/ | grep shap |grep '\\]\\]' | wc -l\n",
    "!ls -alRt $results_dir_cpu/PERMUTATION_IMPORTANCE_VALUES/ | grep shap |grep '\\]\\]\\]' | wc -l\n"
   ]
  },
  {
   "cell_type": "markdown",
   "metadata": {
    "tags": []
   },
   "source": [
    "## VI - Permutations - ilab213 - started 04/02/2024: Trials = 2, Batch = 30, Goal = 420\n",
    "### 22 * -> sh /home/gtamkin/_AGB-dev/monte-carlo/monte-carlo/tests/pdsh--VI.sh /explore/nobackup/projects/ilab/data/AGB/test/mcruns/output/VI/permutations_sets_20240401_collection-VI_batch_size-2_num_samples-420_bandLen-21 /explore/nobackup/projects/ilab/data/AGB/test/mcruns/input/random_sets/permutations_sets_20240326_collection-VI_batch_size-2_num_samples-420_bandLen-21.pkl 30 model;\n",
    "### NOTE:  Have to manually remove [[[x, y]]]*shap* until I fix app to handle index pair strings correctly (currently leaving these droppings)"
   ]
  },
  {
   "cell_type": "code",
   "execution_count": 5,
   "metadata": {},
   "outputs": [
    {
     "name": "stdout",
     "output_type": "stream",
     "text": [
      "420\n",
      "420\n",
      "420\n",
      "0\n"
     ]
    }
   ],
   "source": [
    "results_dir_cpu = '/explore/nobackup/projects/ilab/data/AGB/test/mcruns/output/VI/permutations_sets_20240401_collection-VI_batch_size-2_num_samples-420_bandLen-21/721589469845150807'\n",
    "!ls -alRt $results_dir_cpu/MODELS/ | grep '\\]\\.model:' | wc -l\n",
    "!ls -alRt $results_dir_cpu/MODELS/ | grep '\\]\\.test' | wc -l\n",
    "!ls -alRt $results_dir_cpu/PERMUTATION_IMPORTANCE_VALUES/ | grep shap |grep '\\]\\]' | wc -l\n",
    "!ls -alRt $results_dir_cpu/PERMUTATION_IMPORTANCE_VALUES/ | grep shap |grep '\\]\\]\\]' | wc -l\n"
   ]
  },
  {
   "cell_type": "markdown",
   "metadata": {
    "jp-MarkdownHeadingCollapsed": true,
    "tags": []
   },
   "source": [
    "## -----------------------------------------------------------------\n",
    "## IN_PROGRESS runs\n",
    "## -----------------------------------------------------------------"
   ]
  },
  {
   "cell_type": "markdown",
   "metadata": {
    "tags": []
   },
   "source": [
    "## ALL - 30 Epochs - ilab213 - started 05/02/2024: Trials = 10, Batch = 30, Goal = 1016\n",
    "### 35 * -> time sh /home/gtamkin/_AGB-dev/monte-carlo/monte-carlo/tests/pdsh--ALL_epochs-30.sh /explore/nobackup/projects/ilab/data/AGB/test/mcruns/output/ALL_randintU_epochs30_20240502_1016 /explore/nobackup/projects/ilab/data/AGB/test/mcruns/input/random_sets/randint_sets_20240229_collection-ALL_min_occurrences-10_batch_size-10_num_samples-1016_bandLen-447.pkl 30 model;"
   ]
  },
  {
   "cell_type": "code",
   "execution_count": 2,
   "metadata": {
    "tags": []
   },
   "outputs": [
    {
     "name": "stdout",
     "output_type": "stream",
     "text": [
      "1016\n",
      "1016\n",
      "1016\n"
     ]
    }
   ],
   "source": [
    "results_dir_cpu = '/explore/nobackup/projects/ilab/data/AGB/test/mcruns/output/ALL_randintU_epochs30_20240502_1016/931628725990482715'\n",
    "!ls -alRt $results_dir_cpu/MODELS/ | grep '\\]\\.model:' | wc -l\n",
    "!ls -alRt $results_dir_cpu/MODELS/ | grep '\\]\\.test' | wc -l\n",
    "!ls -alRt $results_dir_cpu/PERMUTATION_IMPORTANCE_VALUES/ | grep shap |grep '\\]\\]' | wc -l"
   ]
  },
  {
   "cell_type": "raw",
   "metadata": {},
   "source": [
    "Processing complete.  See: /explore/nobackup/projects/ilab/data/AGB/test/mcruns/output/ALL_randintU_epochs30_20240502_1016\n",
    "Time elapsed on node [ilab213] = (hh:mm:ss.ms) 0:00:24.366277\n"
   ]
  },
  {
   "cell_type": "markdown",
   "metadata": {
    "tags": []
   },
   "source": [
    "## -----------------------------------------------------------------\n",
    "## COMPLETED EPOCH runs\n",
    "## -----------------------------------------------------------------"
   ]
  },
  {
   "cell_type": "markdown",
   "metadata": {
    "tags": []
   },
   "source": [
    "## VI - 50 Epochs - gpu005 - started 05/01/2024: Trials = 10, Batch = 10, Goal = 32\n",
    "### time sh /home/gtamkin/_AGB-dev/monte-carlo/monte-carlo/tests/pdsh--VI_epochs-50.sh /explore/nobackup/projects/ilab/data/AGB/test/mcruns/output/VI/combinations_sets_20240501_gpu005_collection-VI_epochs-50_min_occurrences-10_batch_size-10_num_samples-32_bandLen-21 /explore/nobackup/projects/ilab/data/AGB/test/mcruns/input/random_sets/randintU_sets_20240430_collection-VI_min_occurrences-10_batch_size-10_num_samples-32_bandLen-21.pkl 10 model;sh /home/gtamkin/_AGB-dev/monte-carlo/monte-carlo/tests/pdsh--VI_epochs-50.sh /explore/nobackup/projects/ilab/data/AGB/test/mcruns/output/VI/combinations_sets_20240501_gpu005_collection-VI_epochs-50_min_occurrences-10_batch_size-10_num_samples-32_bandLen-21 /explore/nobackup/projects/ilab/data/AGB/test/mcruns/input/random_sets/randintU_sets_20240430_collection-VI_min_occurrences-10_batch_size-10_num_samples-32_bandLen-21.pkl 10 model;sh /home/gtamkin/_AGB-dev/monte-carlo/monte-carlo/tests/pdsh--VI_epochs-50.sh /explore/nobackup/projects/ilab/data/AGB/test/mcruns/output/VI/combinations_sets_20240501_gpu005_collection-VI_epochs-50_min_occurrences-10_batch_size-10_num_samples-32_bandLen-21 /explore/nobackup/projects/ilab/data/AGB/test/mcruns/input/random_sets/randintU_sets_20240430_collection-VI_min_occurrences-10_batch_size-10_num_samples-32_bandLen-21.pkl 10 model;sh /home/gtamkin/_AGB-dev/monte-carlo/monte-carlo/tests/pdsh--VI_epochs-50.sh /explore/nobackup/projects/ilab/data/AGB/test/mcruns/output/VI/combinations_sets_20240501_gpu005_collection-VI_epochs-50_min_occurrences-10_batch_size-10_num_samples-32_bandLen-21 /explore/nobackup/projects/ilab/data/AGB/test/mcruns/input/random_sets/randintU_sets_20240430_collection-VI_min_occurrences-10_batch_size-10_num_samples-32_bandLen-21.pkl 5 shap;"
   ]
  },
  {
   "cell_type": "code",
   "execution_count": 7,
   "metadata": {
    "tags": []
   },
   "outputs": [
    {
     "name": "stdout",
     "output_type": "stream",
     "text": [
      "32\n",
      "32\n",
      "32\n"
     ]
    }
   ],
   "source": [
    "results_dir_cpu = '/explore/nobackup/projects/ilab/data/AGB/test/mcruns/output/VI/combinations_sets_20240501_gpu005_collection-VI_epochs-50_min_occurrences-10_batch_size-10_num_samples-32_bandLen-21//854448484021496104'\n",
    "!ls -alRt $results_dir_cpu/MODELS/ | grep '\\]\\.model:' | wc -l\n",
    "!ls -alRt $results_dir_cpu/MODELS/ | grep '\\]\\.test' | wc -l\n",
    "!ls -alRt $results_dir_cpu/PERMUTATION_IMPORTANCE_VALUES/ | grep shap |grep '\\]\\]' | wc -l"
   ]
  },
  {
   "cell_type": "raw",
   "metadata": {},
   "source": [
    "Time elapsed on node [gpu005] = (hh:mm:ss.ms) 0:12:26.465224"
   ]
  },
  {
   "cell_type": "markdown",
   "metadata": {
    "tags": []
   },
   "source": [
    "## VI - 50 Epochs - ilab213 - started 05/01/2024: Trials = 10, Batch = 10, Goal = 32\n",
    "### time sh /home/gtamkin/_AGB-dev/monte-carlo/monte-carlo/tests/pdsh--VI_epochs-50.sh /explore/nobackup/projects/ilab/data/AGB/test/mcruns/output/VI/combinations_sets_20240501_ilab213_collection-VI_epochs-50_min_occurrences-10_batch_size-10_num_samples-32_bandLen-21 /explore/nobackup/projects/ilab/data/AGB/test/mcruns/input/random_sets/randintU_sets_20240430_collection-VI_min_occurrences-10_batch_size-10_num_samples-32_bandLen-21.pkl 10 model;sh /home/gtamkin/_AGB-dev/monte-carlo/monte-carlo/tests/pdsh--VI_epochs-50.sh /explore/nobackup/projects/ilab/data/AGB/test/mcruns/output/VI/combinations_sets_20240501_ilab213_collection-VI_epochs-50_min_occurrences-10_batch_size-10_num_samples-32_bandLen-21 /explore/nobackup/projects/ilab/data/AGB/test/mcruns/input/random_sets/randintU_sets_20240430_collection-VI_min_occurrences-10_batch_size-10_num_samples-32_bandLen-21.pkl 10 model;sh /home/gtamkin/_AGB-dev/monte-carlo/monte-carlo/tests/pdsh--VI_epochs-50.sh /explore/nobackup/projects/ilab/data/AGB/test/mcruns/output/VI/combinations_sets_20240501_ilab213_collection-VI_epochs-50_min_occurrences-10_batch_size-10_num_samples-32_bandLen-21 /explore/nobackup/projects/ilab/data/AGB/test/mcruns/input/random_sets/randintU_sets_20240430_collection-VI_min_occurrences-10_batch_size-10_num_samples-32_bandLen-21.pkl 10 model;sh /home/gtamkin/_AGB-dev/monte-carlo/monte-carlo/tests/pdsh--VI_epochs-50.sh /explore/nobackup/projects/ilab/data/AGB/test/mcruns/output/VI/combinations_sets_20240501_ilab213_collection-VI_epochs-50_min_occurrences-10_batch_size-10_num_samples-32_bandLen-21 /explore/nobackup/projects/ilab/data/AGB/test/mcruns/input/random_sets/randintU_sets_20240430_collection-VI_min_occurrences-10_batch_size-10_num_samples-32_bandLen-21.pkl 5 shap;"
   ]
  },
  {
   "cell_type": "code",
   "execution_count": 8,
   "metadata": {
    "tags": []
   },
   "outputs": [
    {
     "name": "stdout",
     "output_type": "stream",
     "text": [
      "32\n",
      "32\n",
      "32\n"
     ]
    }
   ],
   "source": [
    "results_dir_cpu = '/explore/nobackup/projects/ilab/data/AGB/test/mcruns/output/VI/combinations_sets_20240501_ilab213_collection-VI_epochs-50_min_occurrences-10_batch_size-10_num_samples-32_bandLen-21/508386558032476138'\n",
    "!ls -alRt $results_dir_cpu/MODELS/ | grep '\\]\\.model:' | wc -l\n",
    "!ls -alRt $results_dir_cpu/MODELS/ | grep '\\]\\.test' | wc -l\n",
    "!ls -alRt $results_dir_cpu/PERMUTATION_IMPORTANCE_VALUES/ | grep shap |grep '\\]\\]' | wc -l"
   ]
  },
  {
   "cell_type": "raw",
   "metadata": {},
   "source": [
    "Time elapsed on node [ilab213] = (hh:mm:ss.ms) 0:18:22.766054"
   ]
  },
  {
   "cell_type": "markdown",
   "metadata": {
    "tags": []
   },
   "source": [
    "## VI - 50 Epochs - ilab209 - started 04/30/2024: Trials = 10, Batch = 10, Goal = 32\n",
    "## Time elapsed on node [ilab209] = (hh:mm:ss.ms) 0:56:34.534550\n",
    "### time sh /home/gtamkin/_AGB-dev/monte-carlo/monte-carlo/tests/pdsh--VI_epochs-50.sh /explore/nobackup/projects/ilab/data/AGB/test/mcruns/output/VI/combinations_sets_20240430_ilab209_collection-VI_epochs-50_min_occurrences-10_batch_size-10_num_samples-32_bandLen-21 /explore/nobackup/projects/ilab/data/AGB/test/mcruns/input/random_sets/randintU_sets_20240430_collection-VI_min_occurrences-10_batch_size-10_num_samples-32_bandLen-21.pkl 10 model;sh /home/gtamkin/_AGB-dev/monte-carlo/monte-carlo/tests/pdsh--VI_epochs-50.sh /explore/nobackup/projects/ilab/data/AGB/test/mcruns/output/VI/combinations_sets_20240430_ilab209_collection-VI_epochs-50_min_occurrences-10_batch_size-10_num_samples-32_bandLen-21 /explore/nobackup/projects/ilab/data/AGB/test/mcruns/input/random_sets/randintU_sets_20240430_collection-VI_min_occurrences-10_batch_size-10_num_samples-32_bandLen-21.pkl 10 model;sh /home/gtamkin/_AGB-dev/monte-carlo/monte-carlo/tests/pdsh--VI_epochs-50.sh /explore/nobackup/projects/ilab/data/AGB/test/mcruns/output/VI/combinations_sets_20240430_ilab209_collection-VI_epochs-50_min_occurrences-10_batch_size-10_num_samples-32_bandLen-21 /explore/nobackup/projects/ilab/data/AGB/test/mcruns/input/random_sets/randintU_sets_20240430_collection-VI_min_occurrences-10_batch_size-10_num_samples-32_bandLen-21.pkl 10 model;sh /home/gtamkin/_AGB-dev/monte-carlo/monte-carlo/tests/pdsh--VI_epochs-50.sh /explore/nobackup/projects/ilab/data/AGB/test/mcruns/output/VI/combinations_sets_20240430_ilab209_collection-VI_epochs-50_min_occurrences-10_batch_size-10_num_samples-32_bandLen-21 /explore/nobackup/projects/ilab/data/AGB/test/mcruns/input/random_sets/randintU_sets_20240430_collection-VI_min_occurrences-10_batch_size-10_num_samples-32_bandLen-21.pkl 5 shap;"
   ]
  },
  {
   "cell_type": "code",
   "execution_count": 9,
   "metadata": {
    "tags": []
   },
   "outputs": [
    {
     "name": "stdout",
     "output_type": "stream",
     "text": [
      "32\n",
      "32\n",
      "32\n"
     ]
    }
   ],
   "source": [
    "results_dir_cpu = ' /explore/nobackup/projects/ilab/data/AGB/test/mcruns/output/VI/combinations_sets_20240430_ilab209_collection-VI_epochs-50_min_occurrences-10_batch_size-10_num_samples-32_bandLen-21/799261882294034652'\n",
    "!ls -alRt $results_dir_cpu/MODELS/ | grep '\\]\\.model:' | wc -l\n",
    "!ls -alRt $results_dir_cpu/MODELS/ | grep '\\]\\.test' | wc -l\n",
    "!ls -alRt $results_dir_cpu/PERMUTATION_IMPORTANCE_VALUES/ | grep shap |grep '\\]\\]' | wc -l"
   ]
  },
  {
   "cell_type": "raw",
   "metadata": {},
   "source": [
    "drwxr-s---. 38 gtamkin ilab    8192 May  1 06:22 799261882294034652\n",
    "-rw-r-----.  1 gtamkin ilab 20296 May  1 07:18 MLP_SGD_7_layers_1024_units_MAE_50_epochs_callbacks::799261882294034652.keras[[16, 1, 3, 13, 7, 17, 18, 12, 20, 10]].shap_values0to50\n",
    "\n",
    "Got result: [16, 1, 3, 13, 7, 17, 18, 12, 20, 10]\n",
    "Time elapsed on node [ilab209] = (hh:mm:ss.ms) 0:56:34.534550\n"
   ]
  },
  {
   "cell_type": "markdown",
   "metadata": {
    "tags": []
   },
   "source": [
    "## VI - 50 Epochs - ilab207 - started 04/30/2024: Trials = 10, Batch = 10, Goal = 32 \n",
    "## Time elapsed on node [ilab207] = (hh:mm:ss.ms) 0:28:04.493193\n",
    "### time sh /home/gtamkin/_AGB-dev/monte-carlo/monte-carlo/tests/pdsh--VI_epochs-50.sh /explore/nobackup/projects/ilab/data/AGB/test/mcruns/output/VI/combinations_sets_20240430_ilab207_collection-VI_epochs-50_min_occurrences-10_batch_size-10_num_samples-32_bandLen-21 /explore/nobackup/projects/ilab/data/AGB/test/mcruns/input/random_sets/randintU_sets_20240430_collection-VI_min_occurrences-10_batch_size-10_num_samples-32_bandLen-21.pkl 10 model;sh /home/gtamkin/_AGB-dev/monte-carlo/monte-carlo/tests/pdsh--VI_epochs-50.sh /explore/nobackup/projects/ilab/data/AGB/test/mcruns/output/VI/combinations_sets_20240430_ilab207_collection-VI_epochs-50_min_occurrences-10_batch_size-10_num_samples-32_bandLen-21 /explore/nobackup/projects/ilab/data/AGB/test/mcruns/input/random_sets/randintU_sets_20240430_collection-VI_min_occurrences-10_batch_size-10_num_samples-32_bandLen-21.pkl 10 model;sh /home/gtamkin/_AGB-dev/monte-carlo/monte-carlo/tests/pdsh--VI_epochs-50.sh /explore/nobackup/projects/ilab/data/AGB/test/mcruns/output/VI/combinations_sets_20240430_ilab207_collection-VI_epochs-50_min_occurrences-10_batch_size-10_num_samples-32_bandLen-21 /explore/nobackup/projects/ilab/data/AGB/test/mcruns/input/random_sets/randintU_sets_20240430_collection-VI_min_occurrences-10_batch_size-10_num_samples-32_bandLen-21.pkl 10 model;sh /home/gtamkin/_AGB-dev/monte-carlo/monte-carlo/tests/pdsh--VI_epochs-50.sh /explore/nobackup/projects/ilab/data/AGB/test/mcruns/output/VI/combinations_sets_20240430_ilab207_collection-VI_epochs-50_min_occurrences-10_batch_size-10_num_samples-32_bandLen-21 /explore/nobackup/projects/ilab/data/AGB/test/mcruns/input/random_sets/randintU_sets_20240430_collection-VI_min_occurrences-10_batch_size-10_num_samples-32_bandLen-21.pkl 5 shap;"
   ]
  },
  {
   "cell_type": "code",
   "execution_count": 10,
   "metadata": {
    "tags": []
   },
   "outputs": [
    {
     "name": "stdout",
     "output_type": "stream",
     "text": [
      "32\n",
      "32\n",
      "32\n"
     ]
    }
   ],
   "source": [
    "results_dir_cpu = '/explore/nobackup/projects/ilab/data/AGB/test/mcruns/output/VI/combinations_sets_20240430_ilab207_collection-VI_epochs-50_min_occurrences-10_batch_size-10_num_samples-32_bandLen-21/647254132847848174'\n",
    "!ls -alRt $results_dir_cpu/MODELS/ | grep '\\]\\.model:' | wc -l\n",
    "!ls -alRt $results_dir_cpu/MODELS/ | grep '\\]\\.test' | wc -l\n",
    "!ls -alRt $results_dir_cpu/PERMUTATION_IMPORTANCE_VALUES/ | grep shap |grep '\\]\\]' | wc -l"
   ]
  },
  {
   "cell_type": "raw",
   "metadata": {},
   "source": [
    "Got result: [16, 1, 3, 13, 7, 17, 18, 12, 20, 10]\n",
    "Time elapsed on node [ilab207] = (hh:mm:ss.ms) 0:28:04.493193\n"
   ]
  },
  {
   "cell_type": "markdown",
   "metadata": {
    "tags": []
   },
   "source": [
    "## VI - 30 Epochs - ilab207 - started 05/01/2024: Trials = 10, Batch = 10, Goal = 32\n",
    "### 3 * -> time sh /home/gtamkin/_AGB-dev/monte-carlo/monte-carlo/tests/pdsh--VI_epochs-30.sh /explore/nobackup/projects/ilab/data/AGB/test/mcruns/output/VI/combinations_sets_20240501_ilab207_collection-VI_epochs-30_min_occurrences-10_batch_size-10_num_samples-32_bandLen-21 /explore/nobackup/projects/ilab/data/AGB/test/mcruns/input/random_sets/randintU_sets_20240430_collection-VI_min_occurrences-10_batch_size-10_num_samples-32_bandLen-21.pkl 10 model;\n",
    "\n",
    "### 1 * -> sh /home/gtamkin/_AGB-dev/monte-carlo/monte-carlo/tests/pdsh--VI_epochs-30.sh /explore/nobackup/projects/ilab/data/AGB/test/mcruns/output/VI/combinations_sets_20240501_ilab207_collection-VI_epochs-30_min_occurrences-10_batch_size-10_num_samples-32_bandLen-21 /explore/nobackup/projects/ilab/data/AGB/test/mcruns/input/random_sets/randintU_sets_20240430_collection-VI_min_occurrences-10_batch_size-10_num_samples-32_bandLen-21.pkl 5 shao;"
   ]
  },
  {
   "cell_type": "code",
   "execution_count": 11,
   "metadata": {
    "tags": []
   },
   "outputs": [
    {
     "name": "stdout",
     "output_type": "stream",
     "text": [
      "32\n",
      "31\n",
      "32\n"
     ]
    }
   ],
   "source": [
    "results_dir_cpu = '/explore/nobackup/projects/ilab/data/AGB/test/mcruns/output/VI/combinations_sets_20240501_ilab207_collection-VI_epochs-30_min_occurrences-10_batch_size-10_num_samples-32_bandLen-21/502742172878765632'\n",
    "!ls -alRt $results_dir_cpu/MODELS/ | grep '\\]\\.model:' | wc -l\n",
    "!ls -alRt $results_dir_cpu/MODELS/ | grep '\\]\\.test' | wc -l\n",
    "!ls -alRt $results_dir_cpu/PERMUTATION_IMPORTANCE_VALUES/ | grep shap |grep '\\]\\]' | wc -l"
   ]
  },
  {
   "cell_type": "raw",
   "metadata": {},
   "source": [
    "Time elapsed on node [ilab207] = (hh:mm:ss.ms) 0:17:30.737088"
   ]
  },
  {
   "cell_type": "markdown",
   "metadata": {
    "tags": []
   },
   "source": [
    "## VI - 30 Epochs - ilab209 - started 05/01/2024: Trials = 10, Batch = 10, Goal = 32\n",
    "### 3 * -> time sh /home/gtamkin/_AGB-dev/monte-carlo/monte-carlo/tests/pdsh--VI_epochs-30.sh /explore/nobackup/projects/ilab/data/AGB/test/mcruns/output/VI/combinations_sets_20240501_ilab209_collection-VI_epochs-30_min_occurrences-10_batch_size-10_num_samples-32_bandLen-21 /explore/nobackup/projects/ilab/data/AGB/test/mcruns/input/random_sets/randintU_sets_20240430_collection-VI_min_occurrences-10_batch_size-10_num_samples-32_bandLen-21.pkl 10 model;\n",
    "\n",
    "### 1 * -> sh /home/gtamkin/_AGB-dev/monte-carlo/monte-carlo/tests/pdsh--VI_epochs-30.sh /explore/nobackup/projects/ilab/data/AGB/test/mcruns/output/VI/combinations_sets_20240501_ilab209_collection-VI_epochs-30_min_occurrences-10_batch_size-10_num_samples-32_bandLen-21 /explore/nobackup/projects/ilab/data/AGB/test/mcruns/input/random_sets/randintU_sets_20240430_collection-VI_min_occurrences-10_batch_size-10_num_samples-32_bandLen-21.pkl 5 shap;"
   ]
  },
  {
   "cell_type": "code",
   "execution_count": 12,
   "metadata": {
    "tags": []
   },
   "outputs": [
    {
     "name": "stdout",
     "output_type": "stream",
     "text": [
      "32\n",
      "32\n",
      "32\n"
     ]
    }
   ],
   "source": [
    "results_dir_cpu = '/explore/nobackup/projects/ilab/data/AGB/test/mcruns/output/VI/combinations_sets_20240501_ilab209_collection-VI_epochs-30_min_occurrences-10_batch_size-10_num_samples-32_bandLen-21/770164563465191834'\n",
    "!ls -alRt $results_dir_cpu/MODELS/ | grep '\\]\\.model:' | wc -l\n",
    "!ls -alRt $results_dir_cpu/MODELS/ | grep '\\]\\.test' | wc -l\n",
    "!ls -alRt $results_dir_cpu/PERMUTATION_IMPORTANCE_VALUES/ | grep shap |grep '\\]\\]' | wc -l"
   ]
  },
  {
   "cell_type": "raw",
   "metadata": {},
   "source": [
    "Time elapsed on node [ilab209] = (hh:mm:ss.ms) 0:35:44.727687"
   ]
  },
  {
   "cell_type": "markdown",
   "metadata": {
    "tags": []
   },
   "source": [
    "## VI - 30 Epochs - gpu005 - started 04/30/2024: Trials = 10, Batch = 10, Goal = 32\n",
    "## Time elapsed on node [gpu005] = (hh:mm:ss.ms) 0:07:04.336714\n",
    "### 3 * -> time sh /home/gtamkin/_AGB-dev/monte-carlo/monte-carlo/tests/pdsh--VI_epochs-30.sh /explore/nobackup/projects/ilab/data/AGB/test/mcruns/output/VI/combinations_sets_20240430_gpu005_collection-VI_epochs-30_min_occurrences-10_batch_size-10_num_samples-32_bandLen-21 /explore/nobackup/projects/ilab/data/AGB/test/mcruns/input/random_sets/randintU_sets_20240430_collection-VI_min_occurrences-10_batch_size-10_num_samples-32_bandLen-21.pkl 10 model;\n",
    "\n",
    "### 1 * -> sh /home/gtamkin/_AGB-dev/monte-carlo/monte-carlo/tests/pdsh--VI_epochs-30.sh /explore/nobackup/projects/ilab/data/AGB/test/mcruns/output/VI/combinations_sets_20240430_gpu005_collection-VI_epochs-30_min_occurrences-10_batch_size-10_num_samples-32_bandLen-21 /explore/nobackup/projects/ilab/data/AGB/test/mcruns/input/random_sets/randintU_sets_20240430_collection-VI_min_occurrences-10_batch_size-10_num_samples-32_bandLen-21.pkl 5 shap;"
   ]
  },
  {
   "cell_type": "code",
   "execution_count": 13,
   "metadata": {
    "tags": []
   },
   "outputs": [
    {
     "name": "stdout",
     "output_type": "stream",
     "text": [
      "32\n",
      "32\n",
      "32\n"
     ]
    }
   ],
   "source": [
    "results_dir_cpu = '/explore/nobackup/projects/ilab/data/AGB/test/mcruns/output/VI/combinations_sets_20240430_gpu005_collection-VI_epochs-30_min_occurrences-10_batch_size-10_num_samples-32_bandLen-21/633569878306525734'\n",
    "!ls -alRt $results_dir_cpu/MODELS/ | grep '\\]\\.model:' | wc -l\n",
    "!ls -alRt $results_dir_cpu/MODELS/ | grep '\\]\\.test' | wc -l\n",
    "!ls -alRt $results_dir_cpu/PERMUTATION_IMPORTANCE_VALUES/ | grep shap |grep '\\]\\]' | wc -l"
   ]
  },
  {
   "cell_type": "raw",
   "metadata": {},
   "source": [
    "Got result: [16, 1, 3, 13, 7, 17, 18, 12, 20, 10]\n",
    "Time elapsed on node [gpu005] = (hh:mm:ss.ms) 0:07:04.336714\n"
   ]
  },
  {
   "cell_type": "markdown",
   "metadata": {
    "tags": []
   },
   "source": [
    "## VI - 30 Epochs - ilab213 - started 04/30/2024: Trials = 10, Batch = 10, Goal = 32\n",
    "## Time elapsed on node [ilab213] = (hh:mm:ss.ms) 0:11:42.876002\n",
    "### 3 * -> time sh /home/gtamkin/_AGB-dev/monte-carlo/monte-carlo/tests/pdsh--VI_epochs-30.sh /explore/nobackup/projects/ilab/data/AGB/test/mcruns/output/VI/combinations_sets_20240430_ilab213_collection-VI_epochs-30_min_occurrences-10_batch_size-10_num_samples-32_bandLen-21 /explore/nobackup/projects/ilab/data/AGB/test/mcruns/input/random_sets/randintU_sets_20240430_collection-VI_min_occurrences-10_batch_size-10_num_samples-32_bandLen-21.pkl 10 model;\n",
    "\n",
    "### 1 * -> sh /home/gtamkin/_AGB-dev/monte-carlo/monte-carlo/tests/pdsh--VI_epochs-30.sh /explore/nobackup/projects/ilab/data/AGB/test/mcruns/output/VI/combinations_sets_20240430_ilab213_collection-VI_epochs-30_min_occurrences-10_batch_size-10_num_samples-32_bandLen-21 /explore/nobackup/projects/ilab/data/AGB/test/mcruns/input/random_sets/randintU_sets_20240430_collection-VI_min_occurrences-10_batch_size-10_num_samples-32_bandLen-21.pkl 5 shap;"
   ]
  },
  {
   "cell_type": "code",
   "execution_count": 14,
   "metadata": {
    "tags": []
   },
   "outputs": [
    {
     "name": "stdout",
     "output_type": "stream",
     "text": [
      "32\n",
      "32\n",
      "32\n"
     ]
    }
   ],
   "source": [
    "results_dir_cpu = '/explore/nobackup/projects/ilab/data/AGB/test/mcruns/output/VI/combinations_sets_20240430_ilab213_collection-VI_epochs-30_min_occurrences-10_batch_size-10_num_samples-32_bandLen-21/392917562366869977'\n",
    "!ls -alRt $results_dir_cpu/MODELS/ | grep '\\]\\.model:' | wc -l\n",
    "!ls -alRt $results_dir_cpu/MODELS/ | grep '\\]\\.test' | wc -l\n",
    "!ls -alRt $results_dir_cpu/PERMUTATION_IMPORTANCE_VALUES/ | grep shap |grep '\\]\\]' | wc -l"
   ]
  },
  {
   "cell_type": "raw",
   "metadata": {},
   "source": [
    "Time elapsed on node [ilab213] = (hh:mm:ss.ms) 0:11:42.876002\n",
    "(ilab-tensorflow) gtamkin@ilab213:/home/gtamkin$ \n"
   ]
  },
  {
   "cell_type": "markdown",
   "metadata": {
    "tags": []
   },
   "source": [
    "## -----------------------------------------------------------------\n",
    "## BENCHMARK runs\n",
    "## -----------------------------------------------------------------"
   ]
  },
  {
   "cell_type": "markdown",
   "metadata": {
    "tags": []
   },
   "source": [
    "## VI - Combinations - ilab213 - started 04/15/2024: Trials = 2, Batch = 30, Goal = 210\n",
    "### 7 * -> time sh /home/gtamkin/_AGB-dev/monte-carlo/monte-carlo/tests/pdsh--VI.sh /explore/nobackup/projects/ilab/data/AGB/test/mcruns/output/VI/combinations_sets_20240415_ilab213_collection-VI_batch_size-2_num_samples-210_bandLen-21 /explore/nobackup/projects/ilab/data/AGB/test/mcruns/input/random_sets/combinations_sets_20240326_collection-VI_batch_size-2_num_samples-210_bandLen-21.pkl 30 model;\n",
    "### NOTE:  Have to manually remove [[[x, y]]]*shap* until I fix app to handle index pair strings correctly (currently leaving these droppings)"
   ]
  },
  {
   "cell_type": "code",
   "execution_count": 15,
   "metadata": {
    "tags": []
   },
   "outputs": [
    {
     "name": "stdout",
     "output_type": "stream",
     "text": [
      "155\n",
      "155\n",
      "155\n",
      "0\n"
     ]
    }
   ],
   "source": [
    "results_dir_cpu = '/explore/nobackup/projects/ilab/data/AGB/test/mcruns/output/VI/combinations_sets_20240415_ilab213_collection-VI_batch_size-2_num_samples-210_bandLen-21/920273018892222405'\n",
    "!ls -alRt $results_dir_cpu/MODELS/ | grep '\\]\\.model:' | wc -l\n",
    "!ls -alRt $results_dir_cpu/MODELS/ | grep '\\]\\.test' | wc -l\n",
    "!ls -alRt $results_dir_cpu/PERMUTATION_IMPORTANCE_VALUES/ | grep shap |grep '\\]\\]' | wc -l\n",
    "!ls -alRt $results_dir_cpu/PERMUTATION_IMPORTANCE_VALUES/ | grep shap |grep '\\]\\]\\]' | wc -l\n"
   ]
  },
  {
   "cell_type": "markdown",
   "metadata": {
    "tags": []
   },
   "source": [
    "## VI - Combinations - ilab213 - started 04/13/2024: Trials = 2, Batch = 215, Goal = 210\n",
    "### 1 * -> sh /home/gtamkin/_AGB-dev/monte-carlo/monte-carlo/tests/pdsh--VI.sh /explore/nobackup/projects/ilab/data/AGB/test/mcruns/output/VI/combinations_sets_20240413-ilab213b-_collection-VI_batch_size-2_num_samples-210_bandLen-21/745039429388868288 /explore/nobackup/projects/ilab/data/AGB/test/mcruns/input/random_sets/combinations_sets_20240326_collection-VI_batch_size-2_num_samples-210_bandLen-21.pkl 215 model;\n",
    "### NOTE:  Have to manually remove [[[x, y]]]*shap* until I fix app to handle index pair strings correctly (currently leaving these droppings)"
   ]
  },
  {
   "cell_type": "code",
   "execution_count": 16,
   "metadata": {
    "tags": []
   },
   "outputs": [
    {
     "name": "stdout",
     "output_type": "stream",
     "text": [
      "210\n",
      "210\n",
      "210\n",
      "0\n"
     ]
    }
   ],
   "source": [
    "results_dir_cpu = '/explore/nobackup/projects/ilab/data/AGB/test/mcruns/output/VI/combinations_sets_20240413-ilab213b-_collection-VI_batch_size-2_num_samples-210_bandLen-21/745039429388868288'\n",
    "!ls -alRt $results_dir_cpu/MODELS/ | grep '\\]\\.model:' | wc -l\n",
    "!ls -alRt $results_dir_cpu/MODELS/ | grep '\\]\\.test' | wc -l\n",
    "!ls -alRt $results_dir_cpu/PERMUTATION_IMPORTANCE_VALUES/ | grep shap |grep '\\]\\]' | wc -l\n",
    "!ls -alRt $results_dir_cpu/PERMUTATION_IMPORTANCE_VALUES/ | grep shap |grep '\\]\\]\\]' | wc -l\n"
   ]
  },
  {
   "cell_type": "markdown",
   "metadata": {
    "tags": []
   },
   "source": [
    "## VI - Combinations - ilab213 - started 04/13/2024: Trials = 2, Batch = 215, Goal = 210\n",
    "### 1 * -> sh /home/gtamkin/_AGB-dev/monte-carlo/monte-carlo/tests/pdsh--VI.sh /explore/nobackup/projects/ilab/data/AGB/test/mcruns/output/VI/combinations_sets_20240413_collection-VI_batch_size-2_num_samples-210_bandLen-21 /explore/nobackup/projects/ilab/data/AGB/test/mcruns/input/random_sets/combinations_sets_20240326_collection-VI_batch_size-2_num_samples-210_bandLen-21.pkl 215 model;\n",
    "### NOTE:  Have to manually remove [[[x, y]]]*shap* until I fix app to handle index pair strings correctly (currently leaving these droppings)"
   ]
  },
  {
   "cell_type": "code",
   "execution_count": 17,
   "metadata": {
    "tags": []
   },
   "outputs": [
    {
     "name": "stdout",
     "output_type": "stream",
     "text": [
      "210\n",
      "210\n",
      "210\n",
      "0\n"
     ]
    }
   ],
   "source": [
    "results_dir_cpu = '/explore/nobackup/projects/ilab/data/AGB/test/mcruns/output/VI/combinations_sets_20240413_collection-VI_batch_size-2_num_samples-210_bandLen-21/826868458183938193'\n",
    "!ls -alRt $results_dir_cpu/MODELS/ | grep '\\]\\.model:' | wc -l\n",
    "!ls -alRt $results_dir_cpu/MODELS/ | grep '\\]\\.test' | wc -l\n",
    "!ls -alRt $results_dir_cpu/PERMUTATION_IMPORTANCE_VALUES/ | grep shap |grep '\\]\\]' | wc -l\n",
    "!ls -alRt $results_dir_cpu/PERMUTATION_IMPORTANCE_VALUES/ | grep shap |grep '\\]\\]\\]' | wc -l\n"
   ]
  },
  {
   "cell_type": "markdown",
   "metadata": {
    "tags": []
   },
   "source": [
    "## VI - Combinations - gpu022 - started 04/13/2024: Trials = 2, Batch = 215, Goal = 210\n",
    "### 1 * -> sh /home/gtamkin/_AGB-dev/monte-carlo/monte-carlo/tests/pdsh--VI.sh /explore/nobackup/projects/ilab/data/AGB/test/mcruns/output/VI/combinations_sets_20240413-gpu022-collection-VI_batch_size-2_num_samples-210_bandLen-21 /explore/nobackup/projects/ilab/data/AGB/test/mcruns/input/random_sets/combinations_sets_20240326_collection-VI_batch_size-2_num_samples-210_bandLen-21.pkl 215 model;\n",
    "### NOTE:  Have to manually remove [[[x, y]]]*shap* until I fix app to handle index pair strings correctly (currently leaving these droppings)"
   ]
  },
  {
   "cell_type": "code",
   "execution_count": 18,
   "metadata": {
    "tags": []
   },
   "outputs": [
    {
     "name": "stdout",
     "output_type": "stream",
     "text": [
      "111\n",
      "47\n",
      "210\n",
      "0\n"
     ]
    }
   ],
   "source": [
    "results_dir_cpu = '/explore/nobackup/projects/ilab/data/AGB/test/mcruns/output/VI/combinations_sets_20240413-gpu022-collection-VI_batch_size-2_num_samples-210_bandLen-21/930857505159053438'\n",
    "!ls -alRt $results_dir_cpu/MODELS/ | grep '\\]\\.model:' | wc -l\n",
    "!ls -alRt $results_dir_cpu/MODELS/ | grep '\\]\\.test' | wc -l\n",
    "!ls -alRt $results_dir_cpu/PERMUTATION_IMPORTANCE_VALUES/ | grep shap |grep '\\]\\]' | wc -l\n",
    "!ls -alRt $results_dir_cpu/PERMUTATION_IMPORTANCE_VALUES/ | grep shap |grep '\\]\\]\\]' | wc -l\n"
   ]
  },
  {
   "cell_type": "markdown",
   "metadata": {
    "tags": []
   },
   "source": [
    "## -----------------------------------------------------------------\n",
    "## INCOMPLETE runs\n",
    "## -----------------------------------------------------------------"
   ]
  },
  {
   "cell_type": "markdown",
   "metadata": {
    "tags": []
   },
   "source": [
    "## Manually Stopped 04/05/24 - took to long to process all 100000 values\n",
    "## VI - Combinations - gpu015 - started 04/04/2024: Trials = 2, Batch = 40, Goal = 210\n",
    "### 6 * -> sh /home/gtamkin/_AGB-dev/monte-carlo/monte-carlo/tests/pdsh--VI.sh /explore/nobackup/projects/ilab/data/AGB/test/mcruns/output/VI/combinations_sets_20240404_collection-VI_batch_size-2_num_samples-210_bandLen-21 /explore/nobackup/projects/ilab/data/AGB/test/mcruns/input/random_sets/combinations_sets_20240326_collection-VI_batch_size-2_num_samples-210_bandLen-21.pkl 40 model;\n",
    "### NOTE:  Have to manually remove [[[x, y]]]*shap* until I fix app to handle index pair strings correctly (currently leaving these droppings)"
   ]
  },
  {
   "cell_type": "code",
   "execution_count": 19,
   "metadata": {
    "tags": []
   },
   "outputs": [
    {
     "name": "stdout",
     "output_type": "stream",
     "text": [
      "80\n",
      "79\n",
      "40\n",
      "40\n"
     ]
    }
   ],
   "source": [
    "results_dir_cpu = '/explore/nobackup/projects/ilab/data/AGB/test/mcruns/output/VI/combinations_sets_20240404_collection-VI_batch_size-2_num_samples-210_bandLen-21/205062059756291186'\n",
    "!ls -alRt $results_dir_cpu/MODELS/ | grep '\\]\\.model:' | wc -l\n",
    "!ls -alRt $results_dir_cpu/MODELS/ | grep '\\]\\.test' | wc -l\n",
    "!ls -alRt $results_dir_cpu/PERMUTATION_IMPORTANCE_VALUES/ | grep shap |grep '\\]\\]' | wc -l\n",
    "!ls -alRt $results_dir_cpu/PERMUTATION_IMPORTANCE_VALUES/ | grep shap |grep '\\]\\]\\]' | wc -l\n"
   ]
  },
  {
   "cell_type": "code",
   "execution_count": null,
   "metadata": {},
   "outputs": [],
   "source": []
  },
  {
   "cell_type": "code",
   "execution_count": null,
   "metadata": {},
   "outputs": [],
   "source": []
  }
 ],
 "metadata": {
  "kernelspec": {
   "display_name": "Python [conda env:.conda-ilab-tensorflow-srlite]",
   "language": "python",
   "name": "conda-env-.conda-ilab-tensorflow-srlite-py"
  },
  "language_info": {
   "codemirror_mode": {
    "name": "ipython",
    "version": 3
   },
   "file_extension": ".py",
   "mimetype": "text/x-python",
   "name": "python",
   "nbconvert_exporter": "python",
   "pygments_lexer": "ipython3",
   "version": "3.8.16"
  }
 },
 "nbformat": 4,
 "nbformat_minor": 4
}
