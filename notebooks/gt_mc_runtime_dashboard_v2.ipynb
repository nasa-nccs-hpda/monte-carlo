{
 "cells": [
  {
   "cell_type": "markdown",
   "metadata": {},
   "source": [
    "# Runtime Dashboard"
   ]
  },
  {
   "cell_type": "code",
   "execution_count": 1,
   "metadata": {},
   "outputs": [],
   "source": [
    "import shap\n",
    "import numpy as np\n",
    "import pickle\n",
    "import glob\n",
    "import pandas as pd"
   ]
  },
  {
   "cell_type": "code",
   "execution_count": 2,
   "metadata": {},
   "outputs": [],
   "source": [
    "import sys\n",
    "sys.path.append('/explore/nobackup/people/gtamkin/dev/AGB/mpf-model-factories/MultiPathFusion')\n",
    "sys.path.append('/explore/nobackup/people/gtamkin/dev/AGB/monte-carlo/monte-carlo')\n",
    "\n",
    "last0=0\n",
    "last1=0\n",
    "last2=0\n",
    "last3=0\n",
    "last4=0\n",
    "last5=0"
   ]
  },
  {
   "cell_type": "code",
   "execution_count": 3,
   "metadata": {},
   "outputs": [],
   "source": [
    "last6=0\n",
    "last7=0\n",
    "last8=0\n",
    "last9=0\n",
    "last10=0\n",
    "last11=0"
   ]
  },
  {
   "cell_type": "markdown",
   "metadata": {
    "tags": []
   },
   "source": [
    "## Check status of runs"
   ]
  },
  {
   "cell_type": "markdown",
   "metadata": {},
   "source": [
    "## Bottom line as of 02/03/2024 - Trying runs of 447 bands with minimum of 50 occurrences on new dedicated ilab213 [30 CPUs & 240GB RAM].  Seemingly blew out gpu007 on 2/2/24 too. "
   ]
  },
  {
   "cell_type": "markdown",
   "metadata": {},
   "source": [
    "## -----------------------------------------------------------------\n",
    "## COMPLETE runs\n",
    "## -----------------------------------------------------------------"
   ]
  },
  {
   "cell_type": "markdown",
   "metadata": {},
   "source": [
    "# FINISHED: ALL on gpu004, etc. - min 200 occurrences: 141 hours\n",
    "### Goal = 10897, Started @ 2/17 ~10:00AM -> Feb 23 07:32 = 141 hrs"
   ]
  },
  {
   "cell_type": "code",
   "execution_count": 31,
   "metadata": {},
   "outputs": [
    {
     "name": "stdout",
     "output_type": "stream",
     "text": [
      "10897\n",
      "10897\n",
      "10897\n"
     ]
    }
   ],
   "source": [
    "results_dir_cpu = '/explore/nobackup/projects/ilab/data/AGB/test/mcruns/output/randint_sets_20240217_collection-ALL_min_occurrences-200_batch_size-10_num_samples-10897_bandLen-447/866122034458507573'\n",
    "!ls -alRt $results_dir_cpu/MODELS/ | grep '\\]\\.model:' | wc -l\n",
    "!ls -alRt $results_dir_cpu/MODELS/ | grep '\\]\\.test' | wc -l\n",
    "!ls -alRt $results_dir_cpu/PERMUTATION_IMPORTANCE_VALUES/ | grep shap |wc -l"
   ]
  },
  {
   "cell_type": "markdown",
   "metadata": {},
   "source": [
    "# FINISHED: ALL on gpu004 - min 10 occurrences: ~96 hours \n",
    "### Goal = 922, Started @ 2/22 ~06:20AM -> Feb 22 14:26 = 10:06:25"
   ]
  },
  {
   "cell_type": "code",
   "execution_count": 30,
   "metadata": {},
   "outputs": [
    {
     "name": "stdout",
     "output_type": "stream",
     "text": [
      "922\n",
      "922\n",
      "922\n"
     ]
    }
   ],
   "source": [
    "results_dir_cpu = '/explore/nobackup/projects/ilab/data/AGB/test/mcruns/output/randint_sets_20240220_collection-ALL_max_occurrences-10_batch_size-10_num_samples-922_bandLen-447/814952172296500040'\n",
    "!ls -alRt $results_dir_cpu/MODELS/ | grep '\\]\\.model:' | wc -l\n",
    "!ls -alRt $results_dir_cpu/MODELS/ | grep '\\]\\.test' | wc -l\n",
    "!ls -alRt $results_dir_cpu/PERMUTATION_IMPORTANCE_VALUES/ | grep shap |wc -l"
   ]
  },
  {
   "cell_type": "markdown",
   "metadata": {},
   "source": [
    "# FINISHED: ALL on ilab213 - min 100 occurrences: ~96 hours \n",
    "### Goal = 5737, Started @ 2/11 ~10:50AM - Feb 15 22:15 = 96:13:25"
   ]
  },
  {
   "cell_type": "raw",
   "metadata": {},
   "source": [
    "# */10 * * * *  pdsh -w ilab213 sh /home/gtamkin/_AGB-dev/monte-carlo/monte-carlo/tests/pdsh-ALL-20trials-min-100-randint.sh "
   ]
  },
  {
   "cell_type": "code",
   "execution_count": 4,
   "metadata": {},
   "outputs": [
    {
     "name": "stdout",
     "output_type": "stream",
     "text": [
      "5737\n",
      "5737\n",
      "5737\n"
     ]
    }
   ],
   "source": [
    "results_dir_cpu = '/explore/nobackup/projects/ilab/data/AGB/test/mcruns/output/randint_sets_20240211_collection-ALL_max_occurrences-100_batch_size-10_num_samples-5737_bandLen-447/218557492334736085'\n",
    "!ls -alRt $results_dir_cpu/MODELS/ | grep '\\]\\.model:' | wc -l\n",
    "!ls -alRt $results_dir_cpu/MODELS/ | grep '\\]\\.test' | wc -l\n",
    "!ls -alRt $results_dir_cpu/PERMUTATION_IMPORTANCE_VALUES/ | grep shap |wc -l\n"
   ]
  },
  {
   "cell_type": "markdown",
   "metadata": {},
   "source": [
    "# PRUNE FINISHED: ALL on ilab201-212 - min 50 occurrences: ~48 hours\n",
    "## goal = 3227[ilab201-212] -> final 3227 - ~48 hours"
   ]
  },
  {
   "cell_type": "code",
   "execution_count": 28,
   "metadata": {},
   "outputs": [
    {
     "name": "stdout",
     "output_type": "stream",
     "text": [
      "# shap files found on last check ....[ 3227 ]\n",
      "# shap files found so far....[ 3227 ]\n",
      "Time elapsed = (hh:mm:ss.ms) 0:05:25.916550\n"
     ]
    }
   ],
   "source": [
    "#goal = 3227[ilab201-212] -> final 3163 - ~48 hours\n",
    "\n",
    "# drwxr-s---.    6 gtamkin ilab    4096 Feb  9 08:20 af013048e991498b820aad1e774ee8ef ->\n",
    "#-rw-r-----.    1 gtamkin ilab   20296 Feb 11 08:00 MLP_SGD_7_layers_1024_units_MAE_50_epochs_callbacks::961551132591233530.keras[[55, 11, 430, 100, 309, 135, 6, 134, 447, 381]].shap_values0to50\n",
    "\n",
    "# # of shap files to process in this run: 0\n",
    "# Processing complete.  See: /explore/nobackup/projects/ilab/data/AGB/test/mcruns/output/random_sets_20240209_10trials_collection-ALL_min_occurrences-50_batch_size-10_num_samples-3227_bandLen-447\n",
    "\n",
    "# 10-59/15 * * * * pdsh -w ilab201 sh /home/gtamkin/_AGB-dev/monte-carlo/monte-carlo/tests/pdsh-ALL-10trials-min-50.sh\n",
    "# 15-59/15 * * * * pdsh -w ilab202 sh /home/gtamkin/_AGB-dev/monte-carlo/monte-carlo/tests/pdsh-ALL-10trials-min-50.sh\n",
    "# 20-59/60 * * * * pdsh -w ilab203 sh /home/gtamkin/_AGB-dev/monte-carlo/monte-carlo/tests/pdsh-ALL-10trials-min-50.sh\n",
    "# 25-59/15 * * * * pdsh -w ilab204 sh /home/gtamkin/_AGB-dev/monte-carlo/monte-carlo/tests/pdsh-ALL-10trials-min-50.sh\n",
    "# 30-59/15 * * * * pdsh -w ilab205 sh /home/gtamkin/_AGB-dev/monte-carlo/monte-carlo/tests/pdsh-ALL-10trials-min-50.sh\n",
    "# 35-59/15 * * * * pdsh -w ilab206 sh /home/gtamkin/_AGB-dev/monte-carlo/monte-carlo/tests/pdsh-ALL-10trials-min-50.sh\n",
    "# 40-59/15 * * * * pdsh -w ilab207 sh /home/gtamkin/_AGB-dev/monte-carlo/monte-carlo/tests/pdsh-ALL-10trials-min-50.sh\n",
    "# 45-59/15 * * * * pdsh -w ilab208 sh /home/gtamkin/_AGB-dev/monte-carlo/monte-carlo/tests/pdsh-ALL-10trials-min-50.sh\n",
    "# 50-59/15 * * * * pdsh -w ilab209 sh /home/gtamkin/_AGB-dev/monte-carlo/monte-carlo/tests/pdsh-ALL-10trials-min-50.sh\n",
    "# 55-59/15 * * * * pdsh -w ilab210 sh /home/gtamkin/_AGB-dev/monte-carlo/monte-carlo/tests/pdsh-ALL-10trials-min-50.sh\n",
    "# 00-59/60 * * * * pdsh -w ilab211 sh /home/gtamkin/_AGB-dev/monte-carlo/monte-carlo/tests/pdsh-ALL-10trials-min-50.sh\n",
    "# 05-59/15 * * * * pdsh -w ilab212 sh /home/gtamkin/_AGB-dev/monte-carlo/monte-carlo/tests/pdsh-ALL-10trials-min-50.sh\n",
    "\n",
    "results_dir_cpu = '/explore/nobackup/projects/ilab/data/AGB/test/mcruns/output/random_sets_20240209_10trials_collection-ALL_min_occurrences-50_batch_size-10_num_samples-3227_bandLen-447'\n",
    "#results_dir_cpu = '/explore/nobackup/projects/ilab/data/AGB/test/mcruns/output/random_sets_20240208_20trials_collection-ALL_min_occurrences-100_batch_size-10_num_samples-5658_bandLen-447'\n",
    "from datetime import datetime\n",
    "start_time = datetime.now()\n",
    "shap_files = glob.glob(results_dir_cpu + '**/**/*.shap_values0to50',  recursive = True) \n",
    "print('# shap files found on last check ....[',last10,']')\n",
    "print('# shap files found so far....[',len(shap_files),']')\n",
    "time_elapsed = datetime.now() - start_time\n",
    "\n",
    "# !ls -alRt $results_dir_cpu/MODELS/ | grep '\\]\\.model:' | wc -l\n",
    "# !ls -alRt $results_dir_cpu/MODELS/ | grep '\\]\\.test' | wc -l\n",
    "# !ls -alRt $results_dir_cpu/PERMUTATION_IMPORTANCE_VALUES/ | grep shap |wc -l\n",
    "\n",
    "\n",
    "print('Time elapsed = (hh:mm:ss.ms) {}'.format(time_elapsed))\n",
    "last10 = len(shap_files)"
   ]
  },
  {
   "cell_type": "markdown",
   "metadata": {},
   "source": [
    "# DONE AS CAN BE: ALL on ilabs213 - min 100 occurrences: ~60 hours\n",
    "## goal = 5658[ilab201-212] -> final 5650 - ~48 hours\n",
    "### #NOTE:  Accidentally removed index file, so can't reproduce.  Arggh!  Re-running with randint()"
   ]
  },
  {
   "cell_type": "code",
   "execution_count": 6,
   "metadata": {},
   "outputs": [
    {
     "name": "stdout",
     "output_type": "stream",
     "text": [
      "Time elapsed = (hh:mm:ss.ms) 0:08:18.208463\n",
      "# shap files found on last check ....[ 0 ]\n",
      "# shap files found so far....[ 5650 ]\n"
     ]
    }
   ],
   "source": [
    "# goal = 5658[ilab201-212] -> final 5650 - ~48 hours\n",
    "\n",
    "# drwxr-s---.    6 gtamkin ilab    4096 Feb  8 16:11 98681a5edc3a46aa8c151bfc0dd5bc6e ->\n",
    "#-rw-r-----.    1 gtamkin ilab   20296 Feb 11 01:35 MLP_SGD_7_layers_1024_units_MAE_50_epochs_callbacks::111962329121030626.keras[[117, 252, 48, 125, 353, 347, 95, 37, 119, 104]].shap_values0to50\n",
    "#NOTE:  Accidentally removed index file, so can't reproduce.  Arggh!  Re-running with randint()\n",
    "\n",
    "# */10 * * * *  pdsh -w ilab213 sh /home/gtamkin/_AGB-dev/monte-carlo/monte-carlo/tests/pdsh-ALL-20trials-min-100.sh \n",
    "#\n",
    "results_dir_cpu = '/explore/nobackup/projects/ilab/data/AGB/test/mcruns/output/random_sets_20240208_20trials_collection-ALL_min_occurrences-100_batch_size-10_num_samples-5658_bandLen-447'\n",
    "from datetime import datetime\n",
    "start_time = datetime.now()\n",
    "shap_files = glob.glob(results_dir_cpu + '**/**/*.shap_values0to50',  recursive = True) \n",
    "time_elapsed = datetime.now() - start_time\n",
    "print('Time elapsed = (hh:mm:ss.ms) {}'.format(time_elapsed))\n",
    "\n",
    "print('# shap files found on last check ....[',last9,']')\n",
    "print('# shap files found so far....[',len(shap_files),']')\n",
    "last9 = len(shap_files)"
   ]
  },
  {
   "cell_type": "markdown",
   "metadata": {},
   "source": [
    "# FINISHED: VI on ilab213 - min 100 occurrences: ~26 hours\n",
    "### Goal = 261, Started @ 2/13 ~5 PM -> Feb 14 06:48 = ~26 hr"
   ]
  },
  {
   "cell_type": "raw",
   "metadata": {},
   "source": [
    "#Time elapsed on node [ilab213] = (hh:mm:ss.ms) 1:04:21.295479  (for 100)"
   ]
  },
  {
   "cell_type": "code",
   "execution_count": 7,
   "metadata": {},
   "outputs": [
    {
     "name": "stdout",
     "output_type": "stream",
     "text": [
      "261\n",
      "261\n",
      "261\n"
     ]
    }
   ],
   "source": [
    "!ls -alRt /explore/nobackup/projects/ilab/data/AGB/test/mcruns/output/ilab213-finale-VI/681206886322137043/MODELS/ | grep '\\]\\.model:' | wc -l\n",
    "!ls -alRt /explore/nobackup/projects/ilab/data/AGB/test/mcruns/output/ilab213-finale-VI/681206886322137043/MODELS/ | grep '\\]\\.test_results' | wc -l\n",
    "!ls -alt /explore/nobackup/projects/ilab/data/AGB/test/mcruns/output/ilab213-finale-VI/681206886322137043/PERMUTATION_IMPORTANCE_VALUES/*shap_* | wc -l\n",
    "#!ls -alRt $results_dir_cpu/MODELS/ | grep '\\]\\.model:' |"
   ]
  },
  {
   "cell_type": "markdown",
   "metadata": {},
   "source": [
    "# *FINISHED VIs:* Determine how long it will take @ 20 tasks [10 indices per subset]/1 node [30 CPUs] /60 minutes\n",
    "#### (base) gtamkin@ilab209: pdsh -w ilab213 sh /home/gtamkin/_AGB-dev/monte-carlo/monte-carlo/tests/pdsh-VI-20trials-ilab213.sh &\n",
    "#### */10 * * * *  pdsh -w ilab213 sh /home/gtamkin/_AGB-dev/monte-carlo/monte-carlo/tests/pdsh-VI-20trials-ilab213.sh \n",
    "#### 10 Min Occurrences - __UNLIMITED__ CRON/10 minutes: pdsh on ilab213"
   ]
  },
  {
   "cell_type": "code",
   "execution_count": 8,
   "metadata": {},
   "outputs": [
    {
     "name": "stdout",
     "output_type": "stream",
     "text": [
      "128\n",
      "Time elapsed = (hh:mm:ss.ms) 0:00:19.919759\n",
      "# shap files found on last check ....[ 0 ]\n",
      "# shap files found so far....[ 128 ]\n"
     ]
    }
   ],
   "source": [
    "from datetime import datetime\n",
    "start_time = datetime.now()\n",
    "results_dir_cpu = '/explore/nobackup/projects/ilab/data/AGB/test/mcruns/output/random_sets_ilab213_20240205_20trials_collection-VI_max_occurrences-10_batch_size-10_num_samples-128_bandLen-447'\n",
    "!ls -alRt $results_dir_cpu/855815048022458276/MODELS/ | grep '\\]\\.model:' | wc -l\n",
    "shap_files = glob.glob(results_dir_cpu + '**/**/*.shap_values0to50',  recursive = True) \n",
    "time_elapsed = datetime.now() - start_time\n",
    "print('Time elapsed = (hh:mm:ss.ms) {}'.format(time_elapsed))\n",
    "\n",
    "print('# shap files found on last check ....[',last0,']')\n",
    "print('# shap files found so far....[',len(shap_files),']')\n",
    "last0 = len(shap_files)"
   ]
  },
  {
   "cell_type": "markdown",
   "metadata": {},
   "source": [
    "# FINISHED: VI on ilabs202-212 - ~3 hours\n",
    "#### */60 * * * *  pdsh -w ilab[202,203,204,205,206,207,208,210,211,212] sh /home/gtamkin/_AGB-dev/monte-carlo/monte-carlo/tests/pdsh-aggregate-20trials.sh\n"
   ]
  },
  {
   "cell_type": "code",
   "execution_count": 9,
   "metadata": {},
   "outputs": [
    {
     "name": "stdout",
     "output_type": "stream",
     "text": [
      "Time elapsed = (hh:mm:ss.ms) 0:00:18.097743\n",
      "# shap files found on last check ....[ 0 ]\n",
      "# shap files found so far....[ 128 ]\n"
     ]
    }
   ],
   "source": [
    "from datetime import datetime\n",
    "start_time = datetime.now()\n",
    "results_dir_cpu = '/explore/nobackup/projects/ilab/data/AGB/test/mcruns/output/random_sets_20240204_20trials_collection-VI_max_occurrences-10_batch_size-10_num_samples-128_bandLen-447'\n",
    "shap_files = glob.glob(results_dir_cpu + '**/**/*.shap_values0to50',  recursive = True) \n",
    "time_elapsed = datetime.now() - start_time\n",
    "print('Time elapsed = (hh:mm:ss.ms) {}'.format(time_elapsed))\n",
    "\n",
    "print('# shap files found on last check ....[',last1,']')\n",
    "print('# shap files found so far....[',len(shap_files),']')\n",
    "last1 = len(shap_files)"
   ]
  },
  {
   "cell_type": "markdown",
   "metadata": {},
   "source": [
    "# *!!FINISHED: NEON* on gpu004 - min 100 occurrences: ~31 hours\n",
    "### Goal = 5666, Feb 15 19:16 -  Feb 17 06:06 = 30h 51m"
   ]
  },
  {
   "cell_type": "code",
   "execution_count": 10,
   "metadata": {},
   "outputs": [
    {
     "name": "stdout",
     "output_type": "stream",
     "text": [
      "5666\n",
      "5666\n",
      "5666\n"
     ]
    }
   ],
   "source": [
    "results_dir_cpu = '/explore/nobackup/projects/ilab/data/AGB/test/mcruns/output/randint_sets_20240215_collection-NEON_max_occurrences-100_batch_size-10_num_samples-5666_bandLen-426/188577871478003488'\n",
    "!ls -alRt $results_dir_cpu/MODELS/ | grep '\\]\\.model:' | wc -l\n",
    "!ls -alRt $results_dir_cpu/MODELS/ | grep '\\]\\.test' | wc -l\n",
    "!ls -alRt $results_dir_cpu/PERMUTATION_IMPORTANCE_VALUES/ | grep shap |wc -l"
   ]
  },
  {
   "cell_type": "markdown",
   "metadata": {},
   "source": [
    "# *!!FINISHED:* NEON on ilab213 - min 50 occurrences: ~53 hours\n",
    "#### Feb  5 14:09 -> Feb  7 18:50 = 52hrs 41m\n",
    "#### (base) gtamkin@ilab209: pdsh -w ilab213 sh /home/gtamkin/_AGB-dev/monte-carlo/monte-carlo/tests/pdsh-VI-20trials-ilab213.sh &\n",
    "#### */10 * * * *  pdsh -w ilab213 sh /home/gtamkin/_AGB-dev/monte-carlo/monte-carlo/tests/pdsh-VI-20trials-ilab213.sh \n",
    "#### 10 Min Occurrences - __UNLIMITED__ CRON/10 minutes: pdsh on ilab213"
   ]
  },
  {
   "cell_type": "code",
   "execution_count": 11,
   "metadata": {
    "tags": []
   },
   "outputs": [
    {
     "name": "stdout",
     "output_type": "stream",
     "text": [
      "Time elapsed = (hh:mm:ss.ms) 0:06:21.342786\n",
      "# shap files found on last check ....[ 0 ]\n",
      "# shap files found so far....[ 3153 ]\n"
     ]
    }
   ],
   "source": [
    "# /explore/nobackup/projects/ilab/data/AGB/test/mcruns/output/random_sets_20240205_collection-NEON_max_occurrences-50_batch_size-10_num_samples-3153_bandLen-426\n",
    "\n",
    "#*/10 * * * *  pdsh -w ilab213 sh /home/gtamkin/_AGB-dev/monte-carlo/monte-carlo/tests/pdsh-NEON-20trials.sh \n",
    "\n",
    "\n",
    "# (base) gtamkin@ilab213:/home/gtamkin$ more /home/gtamkin/_AGB-dev/monte-carlo/monte-carlo/tests/pdsh-NEON-20trials.sh\n",
    "\n",
    "# cd /panfs/ccds02/home/gtamkin/dev/AGB/monte-carlo/monte-carlo\n",
    "# /panfs/ccds02/app/modules/anaconda/platform/x86_64/rhel/8.6/3-2022.05/bin/conda activate ilab-tensorflow\n",
    "# export PYTHONPATH=/explore/nobackup/people/gtamkin/dev/AGB/mpf-model-factories/MultiPathFusion:/explore/nobackup/people/gtamkin/dev/AGB/monte-carlo/monte-carlo\n",
    "# sleep 5\n",
    "# /app/jupyter/ilab/tensorflow-kernel/bin/python3.8 /panfs/ccds02/nobackup/people/gtamkin/dev/AGB/monte-carlo/monte-carlo/mc/view/MpfSimulationMultiprocess.py \\\n",
    "#    --config ./tests/exp_aggregate_hyperspectral_callbacks_noMinMax.json -o /explore/nobackup/projects/ilab/data/AGB/test/mcruns/output/random_sets_20240205_collection-NEON_max_occurrences-50_batch_size-10_num_samples-3153_bandLen-426 \\\n",
    "#    --bandListFile /explore/nobackup/projects/ilab/data/AGB/test/mcruns/input/random_sets/random_sets_20240202_collection-NEON_max_occurrences-50_batch_size-10_num_samples-3153_bandLen-426.pkl \\\n",
    "#    -hf /explore/nobackup/projects/ilab/data/AGB/test/mcruns/input/bands/MLBS_2018_Reflectance_reflectance_warp_scaled.tif \\\n",
    "#    -t 20\n",
    "\n",
    "from datetime import datetime\n",
    "start_time = datetime.now()\n",
    "results_dir_cpu = '/explore/nobackup/projects/ilab/data/AGB/test/mcruns/output/random_sets_20240205_collection-NEON_max_occurrences-50_batch_size-10_num_samples-3153_bandLen-426'\n",
    "#!ls -alRt $results_dir_cpu/855815048022458276/MODELS/ | grep '\\]\\.model:' | wc -l\n",
    "shap_files = glob.glob(results_dir_cpu + '**/**/*.shap_values0to50',  recursive = True) \n",
    "time_elapsed = datetime.now() - start_time\n",
    "print('Time elapsed = (hh:mm:ss.ms) {}'.format(time_elapsed))\n",
    "\n",
    "print('# shap files found on last check ....[',last5,']')\n",
    "print('# shap files found so far....[',len(shap_files),']')\n",
    "last5 = len(shap_files)"
   ]
  },
  {
   "cell_type": "markdown",
   "metadata": {},
   "source": [
    "# *!! FINISHED:* ALL on ilab202-212 - min 100 occurrences: ~49 hours\n",
    "### Goal = 5876, Started @ 2/11 ~11:15AM - 2/14 12:11 = 48hr 56m"
   ]
  },
  {
   "cell_type": "raw",
   "metadata": {},
   "source": [
    "### 00-59/15 * * * * pdsh -w ilab202 sh /home/gtamkin/_AGB-dev/monte-carlo/monte-carlo/tests/pdsh-NEON-10trials-min-100-randint.sh\n",
    "### . . .  \n",
    "### 50-59/15 * * * * pdsh -w ilab212 sh /home/gtamkin/_AGB-dev/monte-carlo/monte-carlo/tests/pdsh-NEON-10trials-min-100-randint.sh"
   ]
  },
  {
   "cell_type": "code",
   "execution_count": 1,
   "metadata": {},
   "outputs": [
    {
     "name": "stdout",
     "output_type": "stream",
     "text": [
      "5876\n"
     ]
    }
   ],
   "source": [
    "# from datetime import datetime\n",
    "# start_time = datetime.now()\n",
    "# results_dir_cpu = '/explore/nobackup/projects/ilab/data/AGB/test/mcruns/output/randint_sets_20240211_collection-NEON_max_occurrences-100_batch_size-10_num_samples-5876_bandLen-426'\n",
    "# shap_files = glob.glob(results_dir_cpu + '**/**/*.shap_values0to50',  recursive = True) \n",
    "# time_elapsed = datetime.now() - start_time\n",
    "# print('Time elapsed = (hh:mm:ss.ms) {}'.format(time_elapsed))\n",
    "\n",
    "# print('# shap files found on last check ....[',last3,']')\n",
    "# print('# shap files found so far....[',len(shap_files),']')\n",
    "# last3 = len(shap_files)\n",
    "!ls -alt /explore/nobackup/projects/ilab/data/AGB/test/mcruns/output/randint_sets_20240211_collection-NEON_max_occurrences-100_batch_size-10_num_samples-5876_bandLen-426/286420834988853426/PERMUTATION_IMPORTANCE_VALUES/*shap_* | wc -l"
   ]
  },
  {
   "cell_type": "markdown",
   "metadata": {},
   "source": [
    "## -----------------------------------------------------------------\n",
    "## IN_PROGRESS runs\n",
    "## -----------------------------------------------------------------"
   ]
  },
  {
   "cell_type": "markdown",
   "metadata": {},
   "source": [
    "# GOING: VI on gpu002, ilab213 - min 100 occurrences: ? hours\n",
    "### Goal = 261, Started @ 2/20 ~20:57 PM"
   ]
  },
  {
   "cell_type": "code",
   "execution_count": 14,
   "metadata": {},
   "outputs": [],
   "source": [
    "# /app/jupyter/ilab/tensorflow-kernel/bin/python3.8 /panfs/ccds02/nobackup/people/gtamkin/dev/AGB/monte-carlo/monte-carlo/mc/view/MpfSimulationMultiprocess.py \\\n",
    "#    --config ./tests/exp_aggregate_hyperspectral_callbacks_noMinMax.json -o /explore/nobackup/projects/ilab/data/AGB/test/mcruns/output/randint_sets_20240220_collection-VI_max_occurrences-100_batch_size-10_num_samples-261_bandLen-21 \\\n",
    "#    --bandListFile /explore/nobackup/projects/ilab/data/AGB/test/mcruns/input/random_sets/randint_sets_20240211_collection-VI_max_occurrences-100_batch_size-10_num_samples-261_bandLen-21.pkl \\\n",
    "#    -hf /explore/nobackup/projects/ilab/data/AGB/test/beta_pmm/MLBS_2018_541567.6_4136443.0_542567.6_4137443.0/MLBS_2018_hyperspectral_indices.tif  \\\n",
    "#    -t 100"
   ]
  },
  {
   "cell_type": "code",
   "execution_count": 15,
   "metadata": {},
   "outputs": [
    {
     "name": "stdout",
     "output_type": "stream",
     "text": [
      "261\n",
      "261\n",
      "261\n"
     ]
    }
   ],
   "source": [
    "results_dir_cpu = '/explore/nobackup/projects/ilab/data/AGB/test/mcruns/output/randint_sets_20240220_collection-VI_max_occurrences-100_batch_size-10_num_samples-261_bandLen-21/922896727533290330'\n",
    "!ls -alRt $results_dir_cpu/MODELS/ | grep '\\]\\.model:' | wc -l\n",
    "!ls -alRt $results_dir_cpu/MODELS/ | grep '\\]\\.test' | wc -l\n",
    "!ls -alRt $results_dir_cpu/PERMUTATION_IMPORTANCE_VALUES/ | grep shap |wc -l"
   ]
  },
  {
   "cell_type": "markdown",
   "metadata": {},
   "source": [
    "## -----------------------------------------------------------------\n",
    "## Valid, but old or partial jobs, before adding filtering per shap file across outputs [Deprecated]\n",
    "## -----------------------------------------------------------------"
   ]
  },
  {
   "cell_type": "markdown",
   "metadata": {},
   "source": [
    "# PAUSED: VI on ilab201 - min 100 occurrences: ? hours, restarted 2/12 ~8:20 AM\n",
    "## Goal = 261, Started @ 2/11 ~10:50AM"
   ]
  },
  {
   "cell_type": "code",
   "execution_count": 16,
   "metadata": {},
   "outputs": [
    {
     "name": "stdout",
     "output_type": "stream",
     "text": [
      "520\n"
     ]
    }
   ],
   "source": [
    "!ls /explore/nobackup/projects/ilab/data/AGB/test/mcruns/output/randint_sets_20240211_collection-VI_max_occurrences-100_batch_size-10_num_samples-261_bandLen-21.pk/432327967241936724/PERMUTATION_IMPORTANCE_VALUES/*shap_* | wc -l"
   ]
  },
  {
   "cell_type": "raw",
   "metadata": {},
   "source": [
    "### */10 * * * *  pdsh -w adaptjh2 sh /home/gtamkin/_AGB-dev/monte-carlo/monte-carlo/tests/pdsh-VI-20trials-min-100-randint.sh"
   ]
  },
  {
   "cell_type": "code",
   "execution_count": 17,
   "metadata": {},
   "outputs": [
    {
     "name": "stdout",
     "output_type": "stream",
     "text": [
      "Time elapsed = (hh:mm:ss.ms) 0:00:27.919345\n",
      "# shap files found on last check ....[ 128 ]\n",
      "# shap files found so far....[ 718 ]\n"
     ]
    }
   ],
   "source": [
    "from datetime import datetime\n",
    "start_time = datetime.now()\n",
    "results_dir_cpu = '/explore/nobackup/projects/ilab/data/AGB/test/mcruns/output/randint_sets_20240211_collection-VI_max_occurrences-100_batch_size-10_num_samples-261_bandLen-21.pk'\n",
    "shap_files = glob.glob(results_dir_cpu + '**/**/*.shap_values0to50',  recursive = True) \n",
    "time_elapsed = datetime.now() - start_time\n",
    "print('Time elapsed = (hh:mm:ss.ms) {}'.format(time_elapsed))\n",
    "\n",
    "print('# shap files found on last check ....[',last1,']')\n",
    "print('# shap files found so far....[',len(shap_files),']')\n",
    "last1 = len(shap_files)"
   ]
  },
  {
   "cell_type": "markdown",
   "metadata": {},
   "source": [
    "# PAUSED: VI on gpu002 CLI - min 100 occurrences: 1/2 hours \n",
    "## Goal = 261, Started @ 2/11 ~12:33PM\n",
    "## Time elapsed on node [gpu002] = (hh:mm:ss.ms) 0:32:02.125094 per CLI run"
   ]
  },
  {
   "cell_type": "raw",
   "metadata": {},
   "source": [
    "# /app/jupyter/ilab/tensorflow-kernel/bin/python3.8 /panfs/ccds02/nobackup/people/gtamkin/dev/AGB/monte-carlo/monte-carlo/mc/view/MpfSimulationMultiprocess.py \\\n",
    "#    --config ./tests/exp_aggregate_hyperspectral_callbacks_noMinMax.json -o /explore/nobackup/projects/ilab/data/AGB/test/mcruns/output/randint_sets_20240211_collection-VI_max_occurrences-100_batch_size-10_num_samples-261_bandLen-21 \\\n",
    "#    --bandListFile /explore/nobackup/projects/ilab/data/AGB/test/mcruns/input/random_sets/randint_sets_20240211_collection-VI_max_occurrences-100_batch_size-10_num_samples-261_bandLen-21.pkl \\\n",
    "#    -hf /explore/nobackup/projects/ilab/data/AGB/test/mcruns/input/bands/MLBS_2018_541567.6_4136443.0_542567.6_4137443.0-hyperspectral-aggregate.separate-background-scaled.tif \\\n",
    "#    -t 40"
   ]
  },
  {
   "cell_type": "code",
   "execution_count": 18,
   "metadata": {},
   "outputs": [
    {
     "name": "stdout",
     "output_type": "stream",
     "text": [
      "Time elapsed = (hh:mm:ss.ms) 0:00:21.943198\n",
      "# shap files found on last check ....[ 0 ]\n",
      "# shap files found so far....[ 894 ]\n"
     ]
    }
   ],
   "source": [
    "from datetime import datetime\n",
    "start_time = datetime.now()\n",
    "results_dir_cpu = '/explore/nobackup/projects/ilab/data/AGB/test/mcruns/output/randint_sets_20240211_collection-VI_max_occurrences-100_batch_size-10_num_samples-261_bandLen-21'\n",
    "shap_files = glob.glob(results_dir_cpu + '**/**/*.shap_values0to50',  recursive = True) \n",
    "time_elapsed = datetime.now() - start_time\n",
    "print('Time elapsed = (hh:mm:ss.ms) {}'.format(time_elapsed))\n",
    "\n",
    "print('# shap files found on last check ....[',last4,']')\n",
    "print('# shap files found so far....[',len(shap_files),']')\n",
    "last4 = len(shap_files)"
   ]
  },
  {
   "cell_type": "markdown",
   "metadata": {},
   "source": [
    "# *GOAL:* Determine how long it will take @ 20 tasks [10 indices per subset]/11 nodes [10 CPUs each]/60 minutes\n",
    "#### 50 Min Occurrences - __UNLIMITED__ CRON/60 minutes: pdsh across adaptjh2 overnight then switched to ilab202-ilab212 = 20 tasks per node, max of 10 nodes with 10 CPUs each\n",
    "#### */60 * * * *  pdsh -w ilab[202,203,204,205,206,207,208,209,210,211,212] sh /home/gtamkin/_AGB-dev/monte-carlo/monte-carlo/tests/pdsh-aggregate-20trials.sh "
   ]
  },
  {
   "cell_type": "code",
   "execution_count": 19,
   "metadata": {},
   "outputs": [
    {
     "name": "stdout",
     "output_type": "stream",
     "text": [
      "Time elapsed = (hh:mm:ss.ms) 0:08:01.139037\n",
      "# shap files found on last check ....[ 0 ]\n",
      "# shap files found so far....[ 4138 ]\n"
     ]
    }
   ],
   "source": [
    "from datetime import datetime\n",
    "start_time = datetime.now()\n",
    "results_dir_cpu = '/explore/nobackup/projects/ilab/data/AGB/test/mcruns/output/random_sets_20240204_20trials_collection-ALL_max_occurrences-50_batch_size-10_num_samples-3227_bandLen-447'\n",
    "shap_files = glob.glob(results_dir_cpu + '**/**/*.shap_values0to50',  recursive = True) \n",
    "time_elapsed = datetime.now() - start_time\n",
    "print('Time elapsed = (hh:mm:ss.ms) {}'.format(time_elapsed))\n",
    "\n",
    "print('# shap files found on last check ....[',last2,']')\n",
    "print('# shap files found so far....[',len(shap_files),']')\n",
    "last2 = len(shap_files)"
   ]
  },
  {
   "cell_type": "code",
   "execution_count": 20,
   "metadata": {},
   "outputs": [
    {
     "data": {
      "text/plain": [
       "'/explore/nobackup/projects/ilab/data/AGB/test/mcruns/output/random_sets_20240204_20trials_collection-ALL_max_occurrences-50_batch_size-10_num_samples-3227_bandLen-447/808694102422041349/PERMUTATION_IMPORTANCE_VALUES/MLP_SGD_7_layers_1024_units_MAE_50_epochs_callbacks::808694102422041349.keras[[76, 66, 309, 240, 255, 29, 250, 216, 418, 192]].shap_values0to50'"
      ]
     },
     "execution_count": 20,
     "metadata": {},
     "output_type": "execute_result"
    }
   ],
   "source": [
    "shap_files[0]"
   ]
  },
  {
   "cell_type": "markdown",
   "metadata": {},
   "source": [
    "# *GOAL:* Determine if we can schedule 100 tasks [50 indices per subset]/10 nodes [10 CPUs each]/4 hours\n",
    "#### *UPDATED 2/5 - 5 AM:*  00 02,06,10,14,16 05 02 *  pdsh -w ilab[202,203,204,205,206,208,209,210,211,212] sh /home/gtamkin/_AGB-dev/monte-carlo/monte-carlo/tests/pdsh-aggregate.sh \n",
    "#### *UPDATED 2/5 - 5:30 AM* - linked output from job below to aggregate results across runs (check for duplicates later)\n",
    "#### 50 Min Occurrences - **SCHEDULED** CRON: pdsh across ilab202-ilab212 w/ cron [00 02,07,12,17 04 02] = 4 jobs {1 per 4/5 hours} - 100 tasks per node, max of 10 nodes with 10 CPUs each\n",
    "#### 1st Scheduled cron: 00 02,07,12,17 04 02 *  pdsh -w ilab[202,203,204,205,206,208,209,210,211,212] sh /home/gtamkin/_AGB-dev/monte-carlo/monte-carlo/tests/pdsh-aggregate.sh"
   ]
  },
  {
   "cell_type": "code",
   "execution_count": 21,
   "metadata": {},
   "outputs": [
    {
     "name": "stdout",
     "output_type": "stream",
     "text": [
      "Time elapsed = (hh:mm:ss.ms) 0:01:34.974350\n",
      "# shap files found on last check ....[ 0 ]\n",
      "# shap files found so far....[ 2061 ]\n"
     ]
    }
   ],
   "source": [
    "from datetime import datetime\n",
    "start_time = datetime.now()\n",
    "results_dir_cpu = '/explore/nobackup/projects/ilab/data/AGB/test/mcruns/output/random_sets_20240204_collection-ALL_max_occurrences-50_batch_size-10_num_samples-3227_bandLen-447'\n",
    "shap_files = glob.glob(results_dir_cpu + '**/**/*.shap_values0to50',  recursive = True) \n",
    "#shap_files = glob.glob(results_dir_cpu + '**/**/PERMUTATION_IMPORTANCE_VALUES/*.shap_values0to50',  recursive = True) \n",
    "time_elapsed = datetime.now() - start_time\n",
    "print('Time elapsed = (hh:mm:ss.ms) {}'.format(time_elapsed))\n",
    "\n",
    "print('# shap files found on last check ....[',last3,']')\n",
    "print('# shap files found so far....[',len(shap_files),']')\n",
    "last3 = len(shap_files)"
   ]
  },
  {
   "cell_type": "markdown",
   "metadata": {},
   "source": [
    "# Valid, but old job, before adding filtering per shap file across outputs... results linked into output above \n",
    "#### *UPDATED 2/5 - 6:26 AM* - manually stopped stalled jobs (base) gtamkin@ilab203:/home/gtamkin$ pdsh -w ilab[202,203,204,205,206,207,208,209,210,211,212] ps -ef | grep gtamkin | grep 20240203_collection-ALL | more\n",
    "### 50 Min Occurrences - pdsh across ilab202-ilab212 - Expecting more final shap files than original list because of multiple output dirs - logic before filtering was applied\n",
    "## 50 tasks per node = anecdotal from one node ilab208: Time elapsed on node [ilab208] = (hh:mm:ss.ms) 2:09:05.470882"
   ]
  },
  {
   "cell_type": "code",
   "execution_count": 22,
   "metadata": {},
   "outputs": [
    {
     "name": "stdout",
     "output_type": "stream",
     "text": [
      "# shap files found on last check ....[ 894 ]\n",
      "# shap files found so far....[ 1507 ]\n"
     ]
    }
   ],
   "source": [
    "#(ilab-tensorflow) gtamkin@ilab209:/home/gtamkin$ pdsh -w ilab[202,203,204,205,206,208,209,210,211,212] sh /home/gtamkin/_AGB-dev/monte-carlo/monte-carlo/tests/pdsh-aggregate.sh 2>&1 | tee -a /explore/nobackup/projects/ilab/data/AGB/test/mcruns/output/random_sets_20240203_collection-ALL_max_occurrences-50_batch_size-10_num_samples-3227_bandLen-44/ilab202_212.out &\n",
    "\n",
    "# cd /panfs/ccds02/home/gtamkin/dev/AGB/monte-carlo/monte-carlo\n",
    "# /panfs/ccds02/app/modules/anaconda/platform/x86_64/rhel/8.6/3-2022.05/bin/conda activate ilab-tensorflow\n",
    "# export PYTHONPATH=/explore/nobackup/people/gtamkin/dev/AGB/mpf-model-factories/MultiPathFusion:/explore/nobackup/people/gtamkin/dev/AGB/monte-carlo/monte-carlo\n",
    "# sleep 5\n",
    "# /app/jupyter/ilab/tensorflow-kernel/bin/python3.8 /panfs/ccds02/nobackup/people/gtamkin/dev/AGB/monte-carlo/monte-carlo/mc/view/MpfSimulationMultiprocess.py \\\n",
    "#    --config ./tests/exp_aggregate_hyperspectral_callbacks_noMinMax.json -o /explore/nobackup/projects/ilab/data/AGB/test/mcruns/output/random_sets_20240203_collection-ALL_max_occurrences-50_batch_size-10_num_samples-3227_bandLen-447 \\\n",
    "#    --bandListFile /explore/nobackup/projects/ilab/data/AGB/test/mcruns/input/random_sets/random_sets_20240203_collection-ALL_max_occurrences-50_batch_size-10_num_samples-3227_bandLen-447.pkl \\\n",
    "#    -hf /explore/nobackup/projects/ilab/data/AGB/test/mcruns/input/bands/MLBS_2018_541567.6_4136443.0_542567.6_4137443.0-hyperspectral-aggregate.separate-background-scaled.tif \\\n",
    "#    -t 10\n",
    "results_dir_cpu = '/explore/nobackup/projects/ilab/data/AGB/test/mcruns/output/random_sets_20240203_collection-ALL_max_occurrences-50_batch_size-10_num_samples-3227_bandLen-447'\n",
    "shap_files = glob.glob(results_dir_cpu + '**/**/*.shap_values0to50',  recursive = True) \n",
    "\n",
    "print('# shap files found on last check ....[',last4,']')\n",
    "print('# shap files found so far....[',len(shap_files),']')\n",
    "last4 = len(shap_files)"
   ]
  },
  {
   "cell_type": "markdown",
   "metadata": {},
   "source": [
    "# 50 Min Occurrences - ilab213: OSError: [Errno 12] Cannot allocate memory"
   ]
  },
  {
   "cell_type": "code",
   "execution_count": 23,
   "metadata": {},
   "outputs": [
    {
     "name": "stdout",
     "output_type": "stream",
     "text": [
      "1519\n",
      "0\n",
      "ls: cannot access '/explore/nobackup/projects/ilab/data/AGB/test/mlruns/aggregate/random_sets_20240203_collection-ALL_max_occurrences-50_batch_size-10_num_samples-3227_bandLen-447/806638708288219801/PERMUTATION_IMPORTANCE_VALUES/': No such file or directory\n",
      "0\n",
      "[]\n"
     ]
    }
   ],
   "source": [
    "#100 tasks per node = \n",
    "#50 tasks per node = ilab208: Time elapsed on node [ilab208] = (hh:mm:ss.ms) 2:09:05.470882\n",
    "#\n",
    "# ilab213:     self._launch(process_obj)\n",
    "# ilab213:   File \"/app/jupyter/ilab/tensorflow-kernel/lib/python3.8/multiprocessing/popen_fork.py\", line 70, in _launch\n",
    "# ilab213:     self.pid = os.fork()\n",
    "# ilab213: OSError: [Errno 12] Cannot allocate memory\n",
    "\n",
    "\n",
    "#(ilab-tensorflow) gtamkin@ilab209:/home/gtamkin$ pdsh -w ilab213 sh /home/gtamkin/_AGB-dev/monte-carlo/monte-carlo/tests/pdsh-aggregate.sh 2>&1 | tee -a /explore/nobackup/projects/ilab/data/AGB/test/mlruns/aggregate/exp_random_sets_20240203_collection-ALL_max_occurrences-50_batch_size-10_num_samples-3227_bandLen-447.out &\n",
    "\n",
    "# cd /panfs/ccds02/home/gtamkin/dev/AGB/monte-carlo/monte-carlo\n",
    "# /panfs/ccds02/app/modules/anaconda/platform/x86_64/rhel/8.6/3-2022.05/bin/conda activate ilab-tensorflow\n",
    "# export PYTHONPATH=/explore/nobackup/people/gtamkin/dev/AGB/mpf-model-factories/MultiPathFusion:/explore/nobackup/people/gtamkin/dev/AGB/monte-carlo/monte-carlo\n",
    "# sleep 5\n",
    "# /app/jupyter/ilab/tensorflow-kernel/bin/python3.8 /panfs/ccds02/nobackup/people/gtamkin/dev/AGB/monte-carlo/monte-carlo/mc/view/MpfSimulationMultiprocess.py \\\n",
    "#    --config ./tests/exp_aggregate_hyperspectral_callbacks_noMinMax.json -o /explore/nobackup/projects/ilab/data/AGB/test/mlruns/aggregate/random_sets_20240203_collection-ALL_max_occurrences-50_batch_size-10_num_samples-3227_bandLen-447 \\\n",
    "#    --bandListFile /explore/nobackup/projects/ilab/data/AGB/test/mlruns/random_sets/random_sets_20240203_collection-ALL_max_occurrences-50_batch_size-10_num_samples-3227_bandLen-447.pkl \\\n",
    "#    -hf /explore/nobackup/projects/ilab/data/AGB/test/mlruns/aggregate/MLBS_2018_541567.6_4136443.0_542567.6_4137443.0-hyperspectral-aggregate.separate-background-scaled.tif \\\n",
    "#    -t 5000\n",
    "results_dir_cpu = '/explore/nobackup/projects/ilab/data/AGB/test/mlruns/aggregate/random_sets_20240203_collection-ALL_max_occurrences-50_batch_size-10_num_samples-3227_bandLen-447/806638708288219801'\n",
    "!ls -alRt $results_dir_cpu/MODELS/ | grep '\\]\\.model:' | wc -l\n",
    "!ls -alRt $results_dir_cpu/MODELS/ | grep '\\]\\.test' | wc -l\n",
    "!ls -alRt $results_dir_cpu/PERMUTATION_IMPORTANCE_VALUES/ | grep shap |wc -l\n",
    "\n",
    "shap_files = glob.glob(results_dir_cpu + '**/*.shap_values0to50',  \n",
    "                       recursive = True) \n",
    "print(shap_files)"
   ]
  },
  {
   "cell_type": "markdown",
   "metadata": {},
   "source": [
    "# Experimenting below......"
   ]
  },
  {
   "cell_type": "code",
   "execution_count": 24,
   "metadata": {},
   "outputs": [
    {
     "name": "stdout",
     "output_type": "stream",
     "text": [
      "# shap files found so far....[ 1507 ]\n",
      "Time elapsed = (hh:mm:ss.ms) 0:00:52.015240\n"
     ]
    }
   ],
   "source": [
    "from datetime import datetime\n",
    "start_time = datetime.now()\n",
    "results_dir_cpu = '/explore/nobackup/projects/ilab/data/AGB/test/mcruns/output/random_sets_20240203_collection-ALL_max_occurrences-50_batch_size-10_num_samples-3227_bandLen-447'\n",
    "shap_files = glob.glob(results_dir_cpu + '**/**/PERMUTATION_IMPORTANCE_VALUES/*.shap_values0to50',  recursive = True) \n",
    "print('# shap files found so far....[',len(shap_files),']')\n",
    "time_elapsed = datetime.now() - start_time\n",
    "print('Time elapsed = (hh:mm:ss.ms) {}'.format(time_elapsed))\n"
   ]
  },
  {
   "cell_type": "code",
   "execution_count": 25,
   "metadata": {},
   "outputs": [
    {
     "name": "stdout",
     "output_type": "stream",
     "text": [
      "51.56645703315735 51.91580367088318 52.367411375045776\n"
     ]
    }
   ],
   "source": [
    "import glob\n",
    "import json\n",
    "import fnmatch\n",
    "import os\n",
    "from pathlib import Path\n",
    "from time import time\n",
    "\n",
    "results_dir_cpu = '/explore/nobackup/projects/ilab/data/AGB/test/mcruns/output/random_sets_20240203_collection-ALL_max_occurrences-50_batch_size-10_num_samples-3227_bandLen-447'\n",
    "\n",
    "def find_files_iglob():\n",
    "    return glob.iglob(results_dir_cpu + '**/**/*.shap_values0to50', recursive=True)\n",
    "\n",
    "\n",
    "def find_files_oswalk():\n",
    "    for root, dirnames, filenames in os.walk(results_dir_cpu):\n",
    "        for filename in fnmatch.filter(filenames, '*.shap_values0to50'):\n",
    "            yield os.path.join(root, filename)\n",
    "\n",
    "def find_files_rglob():\n",
    "    return Path(results_dir_cpu).rglob('*.shap_values0to50')\n",
    "\n",
    "t0 = time()\n",
    "for f in find_files_oswalk(): pass    \n",
    "t1 = time()\n",
    "for f in find_files_rglob(): pass\n",
    "t2 = time()\n",
    "for f in find_files_iglob(): pass \n",
    "t3 = time()\n",
    "print(t1-t0, t2-t1, t3-t2)"
   ]
  },
  {
   "cell_type": "code",
   "execution_count": 26,
   "metadata": {},
   "outputs": [
    {
     "name": "stdout",
     "output_type": "stream",
     "text": [
      "# shap files found so far....[ 558 ]\n",
      "Time elapsed = (hh:mm:ss.ms) 0:00:38.693828\n"
     ]
    }
   ],
   "source": [
    "import fnmatch\n",
    "import os\n",
    "from datetime import datetime\n",
    "\n",
    "def recursive_glob(rootdir='.', pattern='*'):\n",
    "    return [os.path.join(looproot, filename)\n",
    "            for looproot, _, filenames in os.walk(rootdir)\n",
    "            for filename in filenames\n",
    "            if fnmatch.fnmatch(filename, pattern)]\n",
    "\n",
    "start_time = datetime.now()\n",
    "results_dir_cpu = '/explore/nobackup/projects/ilab/data/AGB/test/mcruns/output/random_sets_20240204_collection-ALL_max_occurrences-50_batch_size-10_num_samples-3227_bandLen-447'\n",
    "shap_files = recursive_glob(results_dir_cpu, '*.shap_values0to50')\n",
    "print('# shap files found so far....[',len(shap_files),']')\n",
    "time_elapsed = datetime.now() - start_time\n",
    "print('Time elapsed = (hh:mm:ss.ms) {}'.format(time_elapsed))"
   ]
  },
  {
   "cell_type": "code",
   "execution_count": 27,
   "metadata": {},
   "outputs": [
    {
     "name": "stdout",
     "output_type": "stream",
     "text": [
      "/explore/nobackup/projects/ilab/data/AGB/test/mcruns/output/random_sets_20240204_collection-ALL_max_occurrences-50_batch_size-10_num_samples-3227_bandLen-447/649739583246043123/PERMUTATION_IMPORTANCE_VALUES/MLP_SGD_7_layers_1024_units_MAE_50_epochs_callbacks::649739583246043123.keras[[443, 24, 352, 81, 384, 148, 425, 256, 257, 373]].shap_values0to50\n",
      "substring =  443, 24, 352, 81, 384, 148, 425, 256, 257, 373\n",
      "substring [ 443, 24, 352, 81, 384, 148, 425, 256, 257, 373 ] exists at index 286  in  /explore/nobackup/projects/ilab/data/AGB/test/mcruns/output/random_sets_20240204_collection-ALL_max_occurrences-50_batch_size-10_num_samples-3227_bandLen-447/649739583246043123/PERMUTATION_IMPORTANCE_VALUES/MLP_SGD_7_layers_1024_units_MAE_50_epochs_callbacks::649739583246043123.keras[[443, 24, 352, 81, 384, 148, 425, 256, 257, 373]].shap_values0to50\n"
     ]
    }
   ],
   "source": [
    "print(shap_files[0])\n",
    "import re\n",
    "m = re.search('\\[\\[(.*?)\\]\\]', str(shap_files[0]))\n",
    "#m = re.search(r\"(?<=[[).*?(?=]])\", str(shap_files[0]))\n",
    "if m:\n",
    "    found = m.group(1)\n",
    "    print('substring = ',found)\n",
    "\n",
    "currentStr = shap_files[0]\n",
    "#currentStr = 'wrongemboyo'\n",
    "if (currentStr.find(found) > 0):\n",
    "    print('substring [', found, '] exists at index', str(currentStr.find(found)), ' in ', currentStr)\n",
    "else:\n",
    "     print('No substring [', found, '] found in ', currentStr)\n",
    "   "
   ]
  },
  {
   "cell_type": "code",
   "execution_count": null,
   "metadata": {},
   "outputs": [],
   "source": []
  }
 ],
 "metadata": {
  "kernelspec": {
   "display_name": "Python [conda env:ilab-tensorflow]",
   "language": "python",
   "name": "conda-env-ilab-tensorflow-py"
  },
  "language_info": {
   "codemirror_mode": {
    "name": "ipython",
    "version": 3
   },
   "file_extension": ".py",
   "mimetype": "text/x-python",
   "name": "python",
   "nbconvert_exporter": "python",
   "pygments_lexer": "ipython3",
   "version": "3.8.16"
  }
 },
 "nbformat": 4,
 "nbformat_minor": 4
}
