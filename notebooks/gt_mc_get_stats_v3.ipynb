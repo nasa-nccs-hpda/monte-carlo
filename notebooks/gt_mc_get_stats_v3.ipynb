{
 "cells": [
  {
   "cell_type": "markdown",
   "metadata": {},
   "source": [
    "# DEMO#3 - Re-run with randint and unique indices per random subset..."
   ]
  },
  {
   "cell_type": "raw",
   "metadata": {},
   "source": [
    "# Now - Run Three experiments:\n",
    "1). >= 2 identical runs of 21 VI bands with 10 per subset (compare results)\n",
    "2). 426 NEON bands with 50 per subset\n",
    "3). Aggregated (477) bands with 50 per subset\n",
    "\n",
    "# Other todos:\n",
    "1). Make sure that random # generator is TRULY random each time AND unique to random subset\n",
    "2). Print out contents of trials (e.g., [42, 310, 6, 88,...]) AND absolute values of ranked shap values\n",
    "3). Cleanup old stuff"
   ]
  },
  {
   "cell_type": "code",
   "execution_count": 1,
   "metadata": {},
   "outputs": [
    {
     "name": "stdout",
     "output_type": "stream",
     "text": [
      "Python 3.10.6\n"
     ]
    }
   ],
   "source": [
    "!python --version"
   ]
  },
  {
   "cell_type": "code",
   "execution_count": 2,
   "metadata": {},
   "outputs": [
    {
     "ename": "AttributeError",
     "evalue": "module 'llvmlite.binding' has no attribute 'get_host_cpu_name'",
     "output_type": "error",
     "traceback": [
      "\u001b[0;31m---------------------------------------------------------------------------\u001b[0m",
      "\u001b[0;31mAttributeError\u001b[0m                            Traceback (most recent call last)",
      "Cell \u001b[0;32mIn[2], line 1\u001b[0m\n\u001b[0;32m----> 1\u001b[0m \u001b[38;5;28;01mimport\u001b[39;00m \u001b[38;5;21;01mshap\u001b[39;00m\n",
      "File \u001b[0;32m~/.local/lib/python3.10/site-packages/shap/__init__.py:4\u001b[0m\n\u001b[1;32m      2\u001b[0m __version__ \u001b[38;5;241m=\u001b[39m \u001b[38;5;124m\"\u001b[39m\u001b[38;5;124m0.43.0\u001b[39m\u001b[38;5;124m\"\u001b[39m\n\u001b[0;32m----> 4\u001b[0m \u001b[38;5;28;01mfrom\u001b[39;00m \u001b[38;5;21;01m.\u001b[39;00m\u001b[38;5;21;01m_explanation\u001b[39;00m \u001b[38;5;28;01mimport\u001b[39;00m Cohorts, Explanation\n\u001b[1;32m      6\u001b[0m \u001b[38;5;66;03m# explainers\u001b[39;00m\n\u001b[1;32m      7\u001b[0m \u001b[38;5;28;01mfrom\u001b[39;00m \u001b[38;5;21;01m.\u001b[39;00m\u001b[38;5;21;01mexplainers\u001b[39;00m \u001b[38;5;28;01mimport\u001b[39;00m other\n",
      "File \u001b[0;32m~/.local/lib/python3.10/site-packages/shap/_explanation.py:13\u001b[0m\n\u001b[1;32m     10\u001b[0m \u001b[38;5;28;01mimport\u001b[39;00m \u001b[38;5;21;01msklearn\u001b[39;00m\n\u001b[1;32m     11\u001b[0m \u001b[38;5;28;01mfrom\u001b[39;00m \u001b[38;5;21;01mslicer\u001b[39;00m \u001b[38;5;28;01mimport\u001b[39;00m Alias, Obj, Slicer\n\u001b[0;32m---> 13\u001b[0m \u001b[38;5;28;01mfrom\u001b[39;00m \u001b[38;5;21;01m.\u001b[39;00m\u001b[38;5;21;01mutils\u001b[39;00m\u001b[38;5;21;01m.\u001b[39;00m\u001b[38;5;21;01m_exceptions\u001b[39;00m \u001b[38;5;28;01mimport\u001b[39;00m DimensionError\n\u001b[1;32m     14\u001b[0m \u001b[38;5;28;01mfrom\u001b[39;00m \u001b[38;5;21;01m.\u001b[39;00m\u001b[38;5;21;01mutils\u001b[39;00m\u001b[38;5;21;01m.\u001b[39;00m\u001b[38;5;21;01m_general\u001b[39;00m \u001b[38;5;28;01mimport\u001b[39;00m OpChain\n\u001b[1;32m     16\u001b[0m \u001b[38;5;66;03m# slicer confuses pylint...\u001b[39;00m\n\u001b[1;32m     17\u001b[0m \u001b[38;5;66;03m# pylint: disable=no-member\u001b[39;00m\n",
      "File \u001b[0;32m~/.local/lib/python3.10/site-packages/shap/utils/__init__.py:1\u001b[0m\n\u001b[0;32m----> 1\u001b[0m \u001b[38;5;28;01mfrom\u001b[39;00m \u001b[38;5;21;01m.\u001b[39;00m\u001b[38;5;21;01m_clustering\u001b[39;00m \u001b[38;5;28;01mimport\u001b[39;00m (\n\u001b[1;32m      2\u001b[0m     delta_minimization_order,\n\u001b[1;32m      3\u001b[0m     hclust,\n\u001b[1;32m      4\u001b[0m     hclust_ordering,\n\u001b[1;32m      5\u001b[0m     partition_tree,\n\u001b[1;32m      6\u001b[0m     partition_tree_shuffle,\n\u001b[1;32m      7\u001b[0m )\n\u001b[1;32m      8\u001b[0m \u001b[38;5;28;01mfrom\u001b[39;00m \u001b[38;5;21;01m.\u001b[39;00m\u001b[38;5;21;01m_general\u001b[39;00m \u001b[38;5;28;01mimport\u001b[39;00m (\n\u001b[1;32m      9\u001b[0m     OpChain,\n\u001b[1;32m     10\u001b[0m     approximate_interactions,\n\u001b[0;32m   (...)\u001b[0m\n\u001b[1;32m     20\u001b[0m     suppress_stderr,\n\u001b[1;32m     21\u001b[0m )\n\u001b[1;32m     22\u001b[0m \u001b[38;5;28;01mfrom\u001b[39;00m \u001b[38;5;21;01m.\u001b[39;00m\u001b[38;5;21;01m_masked_model\u001b[39;00m \u001b[38;5;28;01mimport\u001b[39;00m MaskedModel, make_masks\n",
      "File \u001b[0;32m~/.local/lib/python3.10/site-packages/shap/utils/_clustering.py:7\u001b[0m\n\u001b[1;32m      5\u001b[0m \u001b[38;5;28;01mimport\u001b[39;00m \u001b[38;5;21;01mscipy\u001b[39;00m\u001b[38;5;21;01m.\u001b[39;00m\u001b[38;5;21;01mspatial\u001b[39;00m\n\u001b[1;32m      6\u001b[0m \u001b[38;5;28;01mimport\u001b[39;00m \u001b[38;5;21;01msklearn\u001b[39;00m\n\u001b[0;32m----> 7\u001b[0m \u001b[38;5;28;01mfrom\u001b[39;00m \u001b[38;5;21;01mnumba\u001b[39;00m \u001b[38;5;28;01mimport\u001b[39;00m njit\n\u001b[1;32m      9\u001b[0m \u001b[38;5;28;01mfrom\u001b[39;00m \u001b[38;5;21;01m.\u001b[39;00m\u001b[38;5;21;01m_general\u001b[39;00m \u001b[38;5;28;01mimport\u001b[39;00m safe_isinstance\n\u001b[1;32m     10\u001b[0m \u001b[38;5;28;01mfrom\u001b[39;00m \u001b[38;5;21;01m.\u001b[39;00m\u001b[38;5;21;01m_show_progress\u001b[39;00m \u001b[38;5;28;01mimport\u001b[39;00m show_progress\n",
      "File \u001b[0;32m~/.local/lib/python3.10/site-packages/numba/__init__.py:69\u001b[0m\n\u001b[1;32m     65\u001b[0m \u001b[38;5;28;01mdel\u001b[39;00m get_versions\n\u001b[1;32m     66\u001b[0m \u001b[38;5;28;01mdel\u001b[39;00m generate_version_info\n\u001b[0;32m---> 69\u001b[0m \u001b[38;5;28;01mfrom\u001b[39;00m \u001b[38;5;21;01mnumba\u001b[39;00m\u001b[38;5;21;01m.\u001b[39;00m\u001b[38;5;21;01mcore\u001b[39;00m \u001b[38;5;28;01mimport\u001b[39;00m config\n\u001b[1;32m     70\u001b[0m \u001b[38;5;28;01mfrom\u001b[39;00m \u001b[38;5;21;01mnumba\u001b[39;00m\u001b[38;5;21;01m.\u001b[39;00m\u001b[38;5;21;01mcore\u001b[39;00m \u001b[38;5;28;01mimport\u001b[39;00m types, errors\n\u001b[1;32m     72\u001b[0m \u001b[38;5;66;03m# Re-export typeof\u001b[39;00m\n",
      "File \u001b[0;32m~/.local/lib/python3.10/site-packages/numba/core/config.py:573\u001b[0m\n\u001b[1;32m    569\u001b[0m             \u001b[38;5;28;01mif\u001b[39;00m name\u001b[38;5;241m.\u001b[39misupper():\n\u001b[1;32m    570\u001b[0m                 \u001b[38;5;28mglobals\u001b[39m()[name] \u001b[38;5;241m=\u001b[39m value\n\u001b[0;32m--> 573\u001b[0m _env_reloader \u001b[38;5;241m=\u001b[39m \u001b[43m_EnvReloader\u001b[49m\u001b[43m(\u001b[49m\u001b[43m)\u001b[49m\n\u001b[1;32m    576\u001b[0m \u001b[38;5;28;01mdef\u001b[39;00m \u001b[38;5;21mreload_config\u001b[39m():\n\u001b[1;32m    577\u001b[0m \u001b[38;5;250m    \u001b[39m\u001b[38;5;124;03m\"\"\"\u001b[39;00m\n\u001b[1;32m    578\u001b[0m \u001b[38;5;124;03m    Reload the configuration from environment variables, if necessary.\u001b[39;00m\n\u001b[1;32m    579\u001b[0m \u001b[38;5;124;03m    \"\"\"\u001b[39;00m\n",
      "File \u001b[0;32m~/.local/lib/python3.10/site-packages/numba/core/config.py:129\u001b[0m, in \u001b[0;36m_EnvReloader.__init__\u001b[0;34m(self)\u001b[0m\n\u001b[1;32m    128\u001b[0m \u001b[38;5;28;01mdef\u001b[39;00m \u001b[38;5;21m__init__\u001b[39m(\u001b[38;5;28mself\u001b[39m):\n\u001b[0;32m--> 129\u001b[0m     \u001b[38;5;28;43mself\u001b[39;49m\u001b[38;5;241;43m.\u001b[39;49m\u001b[43mreset\u001b[49m\u001b[43m(\u001b[49m\u001b[43m)\u001b[49m\n",
      "File \u001b[0;32m~/.local/lib/python3.10/site-packages/numba/core/config.py:133\u001b[0m, in \u001b[0;36m_EnvReloader.reset\u001b[0;34m(self)\u001b[0m\n\u001b[1;32m    131\u001b[0m \u001b[38;5;28;01mdef\u001b[39;00m \u001b[38;5;21mreset\u001b[39m(\u001b[38;5;28mself\u001b[39m):\n\u001b[1;32m    132\u001b[0m     \u001b[38;5;28mself\u001b[39m\u001b[38;5;241m.\u001b[39mold_environ \u001b[38;5;241m=\u001b[39m {}\n\u001b[0;32m--> 133\u001b[0m     \u001b[38;5;28;43mself\u001b[39;49m\u001b[38;5;241;43m.\u001b[39;49m\u001b[43mupdate\u001b[49m\u001b[43m(\u001b[49m\u001b[43mforce\u001b[49m\u001b[38;5;241;43m=\u001b[39;49m\u001b[38;5;28;43;01mTrue\u001b[39;49;00m\u001b[43m)\u001b[49m\n",
      "File \u001b[0;32m~/.local/lib/python3.10/site-packages/numba/core/config.py:162\u001b[0m, in \u001b[0;36m_EnvReloader.update\u001b[0;34m(self, force)\u001b[0m\n\u001b[1;32m    157\u001b[0m \u001b[38;5;66;03m# We update the config variables if at least one NUMBA environment\u001b[39;00m\n\u001b[1;32m    158\u001b[0m \u001b[38;5;66;03m# variable was modified.  This lets the user modify values\u001b[39;00m\n\u001b[1;32m    159\u001b[0m \u001b[38;5;66;03m# directly in the config module without having them when\u001b[39;00m\n\u001b[1;32m    160\u001b[0m \u001b[38;5;66;03m# reload_config() is called by the compiler.\u001b[39;00m\n\u001b[1;32m    161\u001b[0m \u001b[38;5;28;01mif\u001b[39;00m force \u001b[38;5;129;01mor\u001b[39;00m \u001b[38;5;28mself\u001b[39m\u001b[38;5;241m.\u001b[39mold_environ \u001b[38;5;241m!=\u001b[39m new_environ:\n\u001b[0;32m--> 162\u001b[0m     \u001b[38;5;28;43mself\u001b[39;49m\u001b[38;5;241;43m.\u001b[39;49m\u001b[43mprocess_environ\u001b[49m\u001b[43m(\u001b[49m\u001b[43mnew_environ\u001b[49m\u001b[43m)\u001b[49m\n\u001b[1;32m    163\u001b[0m     \u001b[38;5;66;03m# Store a copy\u001b[39;00m\n\u001b[1;32m    164\u001b[0m     \u001b[38;5;28mself\u001b[39m\u001b[38;5;241m.\u001b[39mold_environ \u001b[38;5;241m=\u001b[39m \u001b[38;5;28mdict\u001b[39m(new_environ)\n",
      "File \u001b[0;32m~/.local/lib/python3.10/site-packages/numba/core/config.py:390\u001b[0m, in \u001b[0;36m_EnvReloader.process_environ\u001b[0;34m(self, environ)\u001b[0m\n\u001b[1;32m    386\u001b[0m         cpu_name \u001b[38;5;241m=\u001b[39m ll\u001b[38;5;241m.\u001b[39mget_host_cpu_name()\n\u001b[1;32m    387\u001b[0m         \u001b[38;5;28;01mreturn\u001b[39;00m cpu_name \u001b[38;5;129;01mnot\u001b[39;00m \u001b[38;5;129;01min\u001b[39;00m (\u001b[38;5;124m'\u001b[39m\u001b[38;5;124mcorei7-avx\u001b[39m\u001b[38;5;124m'\u001b[39m, \u001b[38;5;124m'\u001b[39m\u001b[38;5;124mcore-avx-i\u001b[39m\u001b[38;5;124m'\u001b[39m,\n\u001b[1;32m    388\u001b[0m                                 \u001b[38;5;124m'\u001b[39m\u001b[38;5;124msandybridge\u001b[39m\u001b[38;5;124m'\u001b[39m, \u001b[38;5;124m'\u001b[39m\u001b[38;5;124mivybridge\u001b[39m\u001b[38;5;124m'\u001b[39m)\n\u001b[0;32m--> 390\u001b[0m ENABLE_AVX \u001b[38;5;241m=\u001b[39m \u001b[43m_readenv\u001b[49m\u001b[43m(\u001b[49m\u001b[38;5;124;43m\"\u001b[39;49m\u001b[38;5;124;43mNUMBA_ENABLE_AVX\u001b[39;49m\u001b[38;5;124;43m\"\u001b[39;49m\u001b[43m,\u001b[49m\u001b[43m \u001b[49m\u001b[38;5;28;43mint\u001b[39;49m\u001b[43m,\u001b[49m\u001b[43m \u001b[49m\u001b[43mavx_default\u001b[49m\u001b[43m)\u001b[49m\n\u001b[1;32m    392\u001b[0m \u001b[38;5;66;03m# if set and SVML is available, it will be disabled\u001b[39;00m\n\u001b[1;32m    393\u001b[0m \u001b[38;5;66;03m# By default, it's disabled on 32-bit platforms.\u001b[39;00m\n\u001b[1;32m    394\u001b[0m DISABLE_INTEL_SVML \u001b[38;5;241m=\u001b[39m _readenv(\n\u001b[1;32m    395\u001b[0m     \u001b[38;5;124m\"\u001b[39m\u001b[38;5;124mNUMBA_DISABLE_INTEL_SVML\u001b[39m\u001b[38;5;124m\"\u001b[39m, \u001b[38;5;28mint\u001b[39m, IS_32BITS)\n",
      "File \u001b[0;32m~/.local/lib/python3.10/site-packages/numba/core/config.py:193\u001b[0m, in \u001b[0;36m_EnvReloader.process_environ.<locals>._readenv\u001b[0;34m(name, ctor, default)\u001b[0m\n\u001b[1;32m    191\u001b[0m value \u001b[38;5;241m=\u001b[39m environ\u001b[38;5;241m.\u001b[39mget(name)\n\u001b[1;32m    192\u001b[0m \u001b[38;5;28;01mif\u001b[39;00m value \u001b[38;5;129;01mis\u001b[39;00m \u001b[38;5;28;01mNone\u001b[39;00m:\n\u001b[0;32m--> 193\u001b[0m     \u001b[38;5;28;01mreturn\u001b[39;00m \u001b[43mdefault\u001b[49m\u001b[43m(\u001b[49m\u001b[43m)\u001b[49m \u001b[38;5;28;01mif\u001b[39;00m \u001b[38;5;28mcallable\u001b[39m(default) \u001b[38;5;28;01melse\u001b[39;00m default\n\u001b[1;32m    194\u001b[0m \u001b[38;5;28;01mtry\u001b[39;00m:\n\u001b[1;32m    195\u001b[0m     \u001b[38;5;28;01mreturn\u001b[39;00m ctor(value)\n",
      "File \u001b[0;32m~/.local/lib/python3.10/site-packages/numba/core/config.py:386\u001b[0m, in \u001b[0;36m_EnvReloader.process_environ.<locals>.avx_default\u001b[0;34m()\u001b[0m\n\u001b[1;32m    380\u001b[0m     \u001b[38;5;28;01mreturn\u001b[39;00m \u001b[38;5;28;01mFalse\u001b[39;00m\n\u001b[1;32m    381\u001b[0m \u001b[38;5;28;01melse\u001b[39;00m:\n\u001b[1;32m    382\u001b[0m     \u001b[38;5;66;03m# There are various performance issues with AVX and LLVM\u001b[39;00m\n\u001b[1;32m    383\u001b[0m     \u001b[38;5;66;03m# on some CPUs (list at\u001b[39;00m\n\u001b[1;32m    384\u001b[0m     \u001b[38;5;66;03m# http://llvm.org/bugs/buglist.cgi?quicksearch=avx).\u001b[39;00m\n\u001b[1;32m    385\u001b[0m     \u001b[38;5;66;03m# For now we'd rather disable it, since it can pessimize code\u001b[39;00m\n\u001b[0;32m--> 386\u001b[0m     cpu_name \u001b[38;5;241m=\u001b[39m \u001b[43mll\u001b[49m\u001b[38;5;241;43m.\u001b[39;49m\u001b[43mget_host_cpu_name\u001b[49m()\n\u001b[1;32m    387\u001b[0m     \u001b[38;5;28;01mreturn\u001b[39;00m cpu_name \u001b[38;5;129;01mnot\u001b[39;00m \u001b[38;5;129;01min\u001b[39;00m (\u001b[38;5;124m'\u001b[39m\u001b[38;5;124mcorei7-avx\u001b[39m\u001b[38;5;124m'\u001b[39m, \u001b[38;5;124m'\u001b[39m\u001b[38;5;124mcore-avx-i\u001b[39m\u001b[38;5;124m'\u001b[39m,\n\u001b[1;32m    388\u001b[0m                             \u001b[38;5;124m'\u001b[39m\u001b[38;5;124msandybridge\u001b[39m\u001b[38;5;124m'\u001b[39m, \u001b[38;5;124m'\u001b[39m\u001b[38;5;124mivybridge\u001b[39m\u001b[38;5;124m'\u001b[39m)\n",
      "\u001b[0;31mAttributeError\u001b[0m: module 'llvmlite.binding' has no attribute 'get_host_cpu_name'"
     ]
    }
   ],
   "source": [
    "import shap"
   ]
  },
  {
   "cell_type": "code",
   "execution_count": 3,
   "metadata": {},
   "outputs": [
    {
     "name": "stdout",
     "output_type": "stream",
     "text": [
      "SLURM_EXPORT_ENV=PATH,LANG,JUPYTERHUB_API_TOKEN,JPY_API_TOKEN,JUPYTERHUB_ADMIN_ACCESS,JUPYTERHUB_CLIENT_ID,JUPYTERHUB_HOST,JUPYTERHUB_OAUTH_CALLBACK_URL,JUPYTERHUB_USER,JUPYTERHUB_SERVER_NAME,JUPYTERHUB_API_URL,JUPYTERHUB_ACTIVITY_URL,JUPYTERHUB_BASE_URL,JUPYTERHUB_SERVICE_PREFIX,USER,HOME,SHELL\n",
      "PATH=/app/jupyter/ilab/lab-env/bin:/panfs/ccds02/app/modules/anaconda/platform/x86_64/rhel/8.6/3-2022.05/condabin:/usr/local/bin:/usr/bin:/bin:/usr/cumulus/bin:/sbin:/usr/sbin\n"
     ]
    }
   ],
   "source": [
    "!env | grep PATH"
   ]
  },
  {
   "cell_type": "code",
   "execution_count": null,
   "metadata": {},
   "outputs": [],
   "source": [
    "conda list | grep shap"
   ]
  },
  {
   "cell_type": "code",
   "execution_count": null,
   "metadata": {},
   "outputs": [],
   "source": [
    "pip freeze | grep shap"
   ]
  },
  {
   "cell_type": "markdown",
   "metadata": {},
   "source": [
    "# DEMO#2 - Expand Experiments..."
   ]
  },
  {
   "cell_type": "markdown",
   "metadata": {},
   "source": [
    "# DEMO#1 - 01/31/2024 - See https://jh-ml.nccs.nasa.gov/jupyterhub-prism/user/gtamkin/lab/workspaces/auto-0/tree/_AGB-dev/mpf-model-factories/MultiPathFusion/multi_path_fusion/notebooks/glenn/gt_mc_get_stats.ipynb"
   ]
  },
  {
   "cell_type": "markdown",
   "metadata": {},
   "source": [
    "# Generate Permutation Importance (i.e., rank) from SHAP files"
   ]
  },
  {
   "cell_type": "code",
   "execution_count": null,
   "metadata": {},
   "outputs": [],
   "source": [
    "#import shap\n",
    "import numpy as np\n",
    "import pickle\n",
    "import glob\n",
    "import pandas as pdconda\n",
    "import subprocess\n",
    "import csv\n",
    "from pathlib import Path"
   ]
  },
  {
   "cell_type": "code",
   "execution_count": null,
   "metadata": {},
   "outputs": [],
   "source": [
    "def format_band_set(subset):\n",
    "    indexListIntStr = ''\n",
    "    count = 0\n",
    "    for band in subset:\n",
    "        if (count == 0):\n",
    "            indexListIntStr = indexListIntStr + str(band)\n",
    "        else:\n",
    "            indexListIntStr = indexListIntStr + ', ' + str(band)\n",
    "        count = count + 1\n",
    "    return indexListIntStr\n"
   ]
  },
  {
   "cell_type": "markdown",
   "metadata": {
    "tags": []
   },
   "source": [
    "# Read from CSV"
   ]
  },
  {
   "cell_type": "code",
   "execution_count": null,
   "metadata": {},
   "outputs": [],
   "source": [
    "hyperspectral_aggregate_bandnames = '/explore/nobackup/projects/ilab/data/AGB/test/mcruns/input/bands/MLBS_2018_541567.6_4136443.0_542567.6_4137443.0-hyperspectral-aggregate-bandnames.csv'\n",
    "only_row = None\n",
    "with open(hyperspectral_aggregate_bandnames) as csv_file:\n",
    "    csv_reader = csv.reader(csv_file, delimiter=',')\n",
    "    line_count = 0\n",
    "    for row in csv_reader:\n",
    "        only_row = row\n",
    "        print(row[0])\n",
    "        print(row[446])\n",
    "#print(only_row)"
   ]
  },
  {
   "cell_type": "code",
   "execution_count": null,
   "metadata": {},
   "outputs": [],
   "source": [
    "# initialize list of lists\n",
    "headers = ['Group','Top10Index','Top10Rank','Top10Value','Scaling','Randomizer', '#Bands','#Trials','Band/Trial','MinBands','hh:mm:ss.ms','Host(s)','CPUs/Host','Concurrency','ResultDir','ID','Description','HF', 'Callbacks']\n",
    "site = 'MLBS_2018_541567.6_4136443.0_542567.6_4137443.0'"
   ]
  },
  {
   "cell_type": "markdown",
   "metadata": {
    "tags": []
   },
   "source": [
    "## Read batch of shap files for experiment, which contains run-time artifacts (e.g., SHAP values)"
   ]
  },
  {
   "cell_type": "code",
   "execution_count": null,
   "metadata": {},
   "outputs": [],
   "source": [
    "root_data_path = '/explore/nobackup/projects/ilab/data/AGB/test/mcruns/output'"
   ]
  },
  {
   "cell_type": "code",
   "execution_count": null,
   "metadata": {},
   "outputs": [],
   "source": [
    "epochs_results_ALL_nocallbacks = [\n",
    "     ['ALL-epochs-30','NoTop10Index', 'Top10Rank', 'Top10Value','DivBy10K','randitU','477', '1016', '10', '10','0:12:26.46','ilab213','30','Pool', \n",
    "       'ALL_randintU_epochs30_20240502_1016','931628725990482715', '## ALL - 30 Epochs - ilab213 - started 05/02/2024: Trials = 10, Batch = 30, Goal = 1016',\n",
    "       'MLBS_2018_541567.6_4136443.0_542567.6_4137443.0-hyperspectral-aggregate.separate-background-scaled.tif','NoEarlyWarning'],\n",
    "]"
   ]
  },
  {
   "cell_type": "code",
   "execution_count": null,
   "metadata": {},
   "outputs": [],
   "source": [
    "epochs_results_VI_nocallbacks = [\n",
    "     ['V1-epochs-30','NoTop10Index', 'Top10Rank', 'Top10Value','DivBy10K','randitU','21', '32', '10', '10','0:07:04.33','gpu005','10','Pool', \n",
    "       'VI/combinations_sets_20240430_gpu005_collection-VI_epochs-30_min_occurrences-10_batch_size-10_num_samples-32_bandLen-21','633569878306525734', '## VI - 30 Epochs - gpu005 - started 04/30/2024: Trials = 10, Batch = 10, Goal = 32',\n",
    "       'MLBS_2018_hyperspectral_indices.tif','NoEarlyWarning'],\n",
    "     ['V1-epochs-30','NoTop10Index', 'Top10Rank', 'Top10Value','DivBy10K','randitU','21', '32', '10', '10','0:35:44','ilab213','10','Pool', \n",
    "       'VI/combinations_sets_20240430_ilab213_collection-VI_epochs-30_min_occurrences-10_batch_size-10_num_samples-32_bandLen-21','392917562366869977', '## VI - 30 Epochs - ilab213 - started 04/30/2024: Trials = 10, Batch = 10, Goal = 32',\n",
    "       'MLBS_2018_hyperspectral_indices.tif','NoEarlyWarning'],\n",
    "     ['V1-epochs-30','NoTop10Index', 'Top10Rank', 'Top10Value','DivBy10K','randitU','21', '32', '10', '10','0:56:34','ilab209','10','Pool', \n",
    "       'VI/combinations_sets_20240501_ilab209_collection-VI_epochs-30_min_occurrences-10_batch_size-10_num_samples-32_bandLen-21','770164563465191834', '## VI - 30 Epochs - ilab209 - started 05/01/2024: Trials = 10, Batch = 10, Goal = 32',\n",
    "       'MLBS_2018_hyperspectral_indices.tif','NoEarlyWarning'],\n",
    "     ['V1-epochs-50','NoTop10Index', 'Top10Rank', 'Top10Value','DivBy10K','randitU','21', '32', '10', '10','0:12:26.46','gpu005','10','Pool', \n",
    "       'VI/combinations_sets_20240501_gpu005_collection-VI_epochs-50_min_occurrences-10_batch_size-10_num_samples-32_bandLen-21','854448484021496104', '## VI - 50 Epochs - gpu005 - started 05/01/2024: Trials = 10, Batch = 10, Goal = 32',\n",
    "       'MLBS_2018_hyperspectral_indices.tif','NoEarlyWarning'],\n",
    "     ['V1-epochs-50','NoTop10Index', 'Top10Rank', 'Top10Value','DivBy10K','randitU','21', '32', '10', '10','0:18:22.76','ilab213','10','Pool', \n",
    "       'VI/combinations_sets_20240501_ilab213_collection-VI_epochs-50_min_occurrences-10_batch_size-10_num_samples-32_bandLen-21','508386558032476138', '## VI - 50 Epochs - ilab213 - started 05/01/2024: Trials = 10, Batch = 10, Goal = 32',\n",
    "       'MLBS_2018_hyperspectral_indices.tif','NoEarlyWarning'],\n",
    "     ['V1-epochs-50','NoTop10Index', 'Top10Rank', 'Top10Value','DivBy10K','randitU','21', '32', '10', '10','0:56:34.53','ilab209','10','Pool', \n",
    "       'VI/combinations_sets_20240430_ilab209_collection-VI_epochs-50_min_occurrences-10_batch_size-10_num_samples-32_bandLen-21','799261882294034652', '## VI - 50 Epochs - ilab209 - started 04/30/2024: Trials = 10, Batch = 10, Goal = 32',\n",
    "       'MLBS_2018_hyperspectral_indices.tif','NoEarlyWarning'],\n",
    "     ['V1-epochs-50','NoTop10Index', 'Top10Rank', 'Top10Value','DivBy10K','randitU','21', '32', '10', '10','0:28:04.49','ilab207','10','Pool', \n",
    "       'VI/combinations_sets_20240430_ilab207_collection-VI_epochs-50_min_occurrences-10_batch_size-10_num_samples-32_bandLen-21','647254132847848174', '## VI - 50 Epochs - ilab207 - started 04/30/2024: Trials = 10, Batch = 10, Goal = 32',\n",
    "       'MLBS_2018_hyperspectral_indices.tif','NoEarlyWarning'],\n",
    "     # ['V1-epochs-30','NoTop10Index', 'Top10Rank', 'Top10Value','DivBy10K','randitU','21', '32', '10', '21','0:17:30.73','ilab207','10','Pool', \n",
    "     #   'VI/combinations_sets_20240501_ilab207_collection-VI_epochs-30_min_occurrences-10_batch_size-10_num_samples-32_bandLen-21','502742172878765632', '## VI - 30 Epochs - ilab207 - started 05/01/2024: Trials = 10, Batch = 10, Goal = 32',\n",
    "     #   'MLBS_2018_hyperspectral_indices.tif','NoEarlyWarning'],\n",
    "]"
   ]
  },
  {
   "cell_type": "code",
   "execution_count": null,
   "metadata": {},
   "outputs": [],
   "source": [
    "permutation_results_VI_pairwise = [\n",
    "     ['V1-pairs-shap-1000','NoTop10Index', 'Top10Rank', 'Top10Value','DivBy10K','combinations','21', '210', '2', '10','??:27:00.00','gpu016','40','Pool', \n",
    "       'VI/combinations_sets_20240405_sample_size-1000_collection-VI_batch_size-2_num_samples-210_bandLen-21','247881137164239533', '## VI - sample_size-1000',\n",
    "       'MLBS_2018_hyperspectral_indices.tif','EarlyWarning'],\n",
    "     ['V1-pairs-shap-50','NoTop10Index', 'Top10Rank', 'Top10Value','DivBy10K','combinations','21', '210', '2', '10','??:27:00.00','ilab213','30','Pool', \n",
    "       'VI/combinations_sets_20240326_collection-VI_batch_size-2_num_samples-210_bandLen-21','874262913239269001', '## VI - 1 pair of bands per trial until all are paired once',\n",
    "       'MLBS_2018_hyperspectral_indices.tif','EarlyWarning'],\n",
    "     ['V1-pairs-shap-50','NoTop10Index', 'Top10Rank', 'Top10Value','DivBy10K','combinations','21', '210', '2', '10','??:27:00.00','ilab213','30','Pool', \n",
    "       'VI/combinations_sets_20240401_collection-VI_batch_size-2_num_samples-210_bandLen-21','686296879186232154', '## VI - 1 pair of bands per trial until all are paired once',\n",
    "       'MLBS_2018_hyperspectral_indices.tif','EarlyWarning'],\n",
    "     ['V1-pairs-shap-50','NoTop10Index', 'Top10Rank', 'Top10Value','10Epochs','combinations','21', '210', '2', '10','??:27:00.00','ilab213','30','Pool', \n",
    "       'VI/combinations_sets_20240402_collection-VI_batch_size-2_num_samples-210_bandLen-21_epochs-10','110930597116663652', '## VI - 10 epochs - 1 pair of bands per trial until all are paired once',\n",
    "       'MLBS_2018_hyperspectral_indices.tif','10 Epochs'],\n",
    "     ['V1-pairs-shap-50','NoTop10Index', 'Top10Rank', 'Top10Value','DivBy10K','permutations','21', '420', '2', '10','??:27:00.00','ilab213','30','Pool', \n",
    "       'VI/permutations_sets_20240401_collection-VI_batch_size-2_num_samples-420_bandLen-21','721589469845150807', '## VI - 1 pair of bands per trial until all are paired once',\n",
    "       'MLBS_2018_hyperspectral_indices.tif','EarlyWarning'],\n",
    "]"
   ]
  },
  {
   "cell_type": "code",
   "execution_count": null,
   "metadata": {},
   "outputs": [],
   "source": [
    "#headers = ['Group','Top10Index','Top10Rank','Scaling','Randomizer', '#Bands','#Trials','Band/Trial','MinBands','hh:mm:ss.ms','Host(s)','CPUs/Host','Concurrency','ResultDir','ID','Description','HF', 'Callbacks']\n",
    "permutation_results_VI_exp1 = [\n",
    "     ['VIb1','NoTop10Index', 'Top10Rank', 'Top10Value','DivBy10K','randitU','21', '188', '3', '20','~0:27:00.00','gpu007','40','Pool', \n",
    "       'VI_randintU_20240302_188_20m_3b','575050868397492482', '## VI - 20 minimum occurrences, 3 bands per trial',\n",
    "       'MLBS_2018_hyperspectral_indices.tif','EarlyWarning'],\n",
    "     ['VIb1','NoTop10Index', 'Top10Rank', 'Top10Value','DivBy10K','randitU','21', '191', '3', '20','~0:27:00.00','gpu007','40','Pool', \n",
    "       'VI_randintU_20240302_191_20m_3b','972812867574749608', '## VI - 20 minimum occurrences, 3 bands per trial',\n",
    "       'MLBS_2018_hyperspectral_indices.tif','EarlyWarning'],\n",
    "     ['VIb1','NoTop10Index', 'Top10Rank', 'Top10Value','DivBy10K','randitU','21', '193', '3', '20','~0:27:00.00','gpu007','40','Pool', \n",
    "       'VI_randintU_20240302_193_20m_3b','853379430912402815', '## VI - 20 minimum occurrences, 3 bands per trial',\n",
    "       'MLBS_2018_hyperspectral_indices.tif','EarlyWarning'],\n",
    "     ['VIb1','NoTop10Index', 'Top10Rank', 'Top10Value','DivBy10K','randitU','21', '200', '3', '20','~0:27:00.00','gpu007','40','Pool', \n",
    "       'VI_randintU_20240302_200_20m_3b','875083503082867641', '## VI - 20 minimum occurrences, 3 bands per trial',\n",
    "       'MLBS_2018_hyperspectral_indices.tif','EarlyWarning'],\n",
    "     ['VIb1','NoTop10Index', 'Top10Rank', 'Top10Value','DivBy10K','randitU','21', '214', '3', '20','~0:27:00.00','gpu007','40','Pool', \n",
    "       'VI_randintU_20240302_214_20m_3b','279550132438151710', '## VI - 20 minimum occurrences, 3 bands per trial',\n",
    "       'MLBS_2018_hyperspectral_indices.tif','EarlyWarning'],\n",
    "     ['VIb1','NoTop10Index', 'Top10Rank', 'Top10Value','DivBy10K','randitU','21', '225', '3', '20','~0:27:00.00','gpu007','40','Pool', \n",
    "       'VI_randintU_20240302_225_20m_3b','424433684070503325', '## VI - 20 minimum occurrences, 3 bands per trial',\n",
    "       'MLBS_2018_hyperspectral_indices.tif','EarlyWarning'],\n",
    "     ['VIb1','NoTop10Index', 'Top10Rank', 'Top10Value','DivBy10K','randitU','21', '230', '3', '20','~0:27:00.00','gpu007','40','Pool', \n",
    "       'VI_randintU_20240302_230_20m_3b','500424548463509068', '## VI - 20 minimum occurrences, 3 bands per trial',\n",
    "       'MLBS_2018_hyperspectral_indices.tif','EarlyWarning'],\n",
    "     ['VIb1','NoTop10Index', 'Top10Rank', 'Top10Value','DivBy10K','randitU','21', '247', '3', '20','~0:27:00.00','gpu007','40','Pool', \n",
    "       'VI_randintU_20240302_247_20m_3b','498345501911623626', '## VI - 20 minimum occurrences, 3 bands per trial',\n",
    "       'MLBS_2018_hyperspectral_indices.tif','EarlyWarning'],\n",
    "]\n",
    "#    \n",
    "      # ['VIb2','NoTop10Index', 'Top10Rank', 'Top10Value','DivBy10K','randitU','21', '188', '3', '20','~0:27:00.00','gpu007','40','Pool', \n",
    "      #  'VI/VI_randintU_20240302_188_20m_3b','575050868397492482', '## VI - 20 minimum occurrences, 3 bands per trial',\n",
    "      #  'MLBS_2018_hyperspectral_indices.tif','EarlyWarning'],\n",
    "permutation_results_VI_exp2 = [\n",
    "     ['VIb2','NoTop10Index', 'Top10Rank', 'Top10Value','DivBy10K','randitU','21', '191', '3', '20','~0:27:00.00','gpu007','40','Pool', \n",
    "       'VI/VI_randintU_20240302_191_20m_3b','806398069851382119', '## VI - 20 minimum occurrences, 3 bands per trial',\n",
    "       'MLBS_2018_hyperspectral_indices.tif','EarlyWarning'],\n",
    "     ['VIb2','NoTop10Index', 'Top10Rank', 'Top10Value','DivBy10K','randitU','21', '193', '3', '20','~0:27:00.00','gpu007','40','Pool', \n",
    "       'VI/VI_randintU_20240302_193_20m_3b','874529206487521041', '## VI - 20 minimum occurrences, 3 bands per trial',\n",
    "       'MLBS_2018_hyperspectral_indices.tif','EarlyWarning'],\n",
    "     ['VIb2','NoTop10Index', 'Top10Rank', 'Top10Value','DivBy10K','randitU','21', '200', '3', '20','~0:27:00.00','gpu007','40','Pool', \n",
    "       'VI/VI_randintU_20240302_200_20m_3b','965060104529880310', '## VI - 20 minimum occurrences, 3 bands per trial',\n",
    "       'MLBS_2018_hyperspectral_indices.tif','EarlyWarning'],\n",
    "     ['VIb2','NoTop10Index', 'Top10Rank', 'Top10Value','DivBy10K','randitU','21', '214', '3', '20','~0:27:00.00','gpu007','40','Pool', \n",
    "       'VI/VI_randintU_20240302_214_20m_3b','728278796873995749', '## VI - 20 minimum occurrences, 3 bands per trial',\n",
    "       'MLBS_2018_hyperspectral_indices.tif','EarlyWarning'],\n",
    "     ['VIb2','NoTop10Index', 'Top10Rank', 'Top10Value','DivBy10K','randitU','21', '225', '3', '20','~0:27:00.00','gpu007','40','Pool', \n",
    "       'VI/VI_randintU_20240302_225_20m_3b','514050032010718833', '## VI - 20 minimum occurrences, 3 bands per trial',\n",
    "       'MLBS_2018_hyperspectral_indices.tif','EarlyWarning'],\n",
    "     ['VIb2','NoTop10Index', 'Top10Rank', 'Top10Value','DivBy10K','randitU','21', '230', '3', '20','~0:27:00.00','gpu007','40','Pool', \n",
    "       'VI/VI_randintU_20240302_230_20m_3b','360349938924147892', '## VI - 20 minimum occurrences, 3 bands per trial',\n",
    "       'MLBS_2018_hyperspectral_indices.tif','EarlyWarning'],\n",
    "     ['VIb2','NoTop10Index', 'Top10Rank', 'Top10Value','DivBy10K','randitU','21', '247', '3', '20','~0:27:00.00','gpu007','40','Pool', \n",
    "       'VI/VI_randintU_20240302_247_20m_3b','214107507827042739', 'VI - 20 minimum occurrences, 3 bands per trial',\n",
    "       'MLBS_2018_hyperspectral_indices.tif','EarlyWarning'],\n",
    "]\n",
    "#    \n",
    "      # ['VIb3','NoTop10Index', 'Top10Rank', 'Top10Value','DivBy10K','randitU','21', '188', '3', '20','~0:27:00.00','gpu002','40','Pool', \n",
    "      #  'VI/VI_randintU_20240303_188_20m_3b','898188862101410804', '## VI - 20 minimum occurrences, 3 bands per trial',\n",
    "      #  'MLBS_2018_hyperspectral_indices.tif','EarlyWarning'],\n",
    "permutation_results_VI_exp3 = [\n",
    "     ['VIb3','NoTop10Index', 'Top10Rank', 'Top10Value','DivBy10K','randitU','21', '191', '3', '20','~0:27:00.00','gpu002','40','Pool', \n",
    "       'VI/VI_randintU_20240303_191_20m_3b','101554869495136186', '## VI - 20 minimum occurrences, 3 bands per trial',\n",
    "       'MLBS_2018_hyperspectral_indices.tif','EarlyWarning'],\n",
    "     ['VIb3','NoTop10Index', 'Top10Rank', 'Top10Value','DivBy10K','randitU','21', '193', '3', '20','~0:27:00.00','gpu002','40','Pool', \n",
    "       'VI/VI_randintU_20240303_193_20m_3b','261914886327368313', '## VI - 20 minimum occurrences, 3 bands per trial',\n",
    "       'MLBS_2018_hyperspectral_indices.tif','EarlyWarning'],\n",
    "     ['VIb3','NoTop10Index', 'Top10Rank', 'Top10Value','DivBy10K','randitU','21', '200', '3', '20','~0:27:00.00','gpu002','40','Pool', \n",
    "       'VI/VI_randintU_20240303_200_20m_3b','552713534466588559', '## VI - 20 minimum occurrences, 3 bands per trial',\n",
    "       'MLBS_2018_hyperspectral_indices.tif','EarlyWarning'],\n",
    "     ['VIb3','NoTop10Index', 'Top10Rank', 'Top10Value','DivBy10K','randitU','21', '214', '3', '20','~0:27:00.00','gpu002','40','Pool', \n",
    "       'VI/VI_randintU_20240303_214_20m_3b','121679581342470880', '## VI - 20 minimum occurrences, 3 bands per trial',\n",
    "       'MLBS_2018_hyperspectral_indices.tif','EarlyWarning'],\n",
    "     ['VIb3','NoTop10Index', 'Top10Rank', 'Top10Value','DivBy10K','randitU','21', '225', '3', '20','~0:27:00.00','gpu002','40','Pool', \n",
    "       'VI/VI_randintU_20240303_225_20m_3b','664133247155684072', '## VI - 20 minimum occurrences, 3 bands per trial',\n",
    "       'MLBS_2018_hyperspectral_indices.tif','EarlyWarning'],\n",
    "     ['VIb3','NoTop10Index', 'Top10Rank', 'Top10Value','DivBy10K','randitU','21', '230', '3', '20','~0:27:00.00','gpu002','40','Pool', \n",
    "       'VI/VI_randintU_20240303_230_20m_3b','131603933973007654', '## VI - 20 minimum occurrences, 3 bands per trial',\n",
    "       'MLBS_2018_hyperspectral_indices.tif','EarlyWarning'],\n",
    "     ['VIb3','NoTop10Index', 'Top10Rank', 'Top10Value','DivBy10K','randitU','21', '247', '3', '20','~0:27:00.00','gpu007','40','Pool', \n",
    "       'VI/VI_randintU_20240303_247_20m_3b','120201914459639429', '## VI - 20 minimum occurrences, 3 bands per trial',\n",
    "       'MLBS_2018_hyperspectral_indices.tif','EarlyWarning'],\n",
    "]\n",
    "permutation_results_VI_exp_summary = permutation_results_VI_exp1 + permutation_results_VI_exp2 + permutation_results_VI_exp3\n"
   ]
  },
  {
   "cell_type": "code",
   "execution_count": null,
   "metadata": {},
   "outputs": [],
   "source": [
    "#headers = ['Group','Top10Index','Top10Rank','Scaling','Randomizer', '#Bands','#Trials','Band/Trial','MinBands','hh:mm:ss.ms','Host(s)','CPUs/Host','Concurrency','ResultDir','ID','Description','HF', 'Callbacks']\n",
    "permutation_results_VI = [\n",
    "     ['VI','NoTop10Index', 'Top10Rank', 'Top10Value','DivBy10K','randitU','21', '32', '10', '10','0:27:25.246467','ilab213','30','Pool', \n",
    "       'VI_randint_U_20240229_6','891516017211874507', '## VI - ilab213:  Time elapsed on node [ilab213] = (hh:mm:ss.ms) 0:27:25.246467',\n",
    "       'MLBS_2018_hyperspectral_indices.tif','EarlyWarning'],\n",
    "     ['VI','NoTop10Index', 'Top10Rank', 'Top10Value','DivBy10K','randitU','21', '32', '10', '10','0:26:36.387707','ilab213','30','Pool', \n",
    "      'VI_randint_U_20240229_5','345536919353575236', '## VI - ilab213:  Time elapsed on node [ilab213] = (hh:mm:ss.ms) 0:26:36.387707',\n",
    "      'MLBS_2018_hyperspectral_indices.tif','EarlyWarning'],\n",
    "     ['VI','NoTop10Index', 'Top10Rank', 'Top10Value','DivBy10K','randitU','21', '32', '10', '10','0:25:12.317','ilab213','30','Pool', \n",
    "      'VI_randint_U_20240229_4','673843053471350852', '## VI - ilab213:  Time elapsed on node [ilab213] = (hh:mm:ss.ms) 0:25:12.317',\n",
    "      'MLBS_2018_hyperspectral_indices.tif','EarlyWarning'],\n",
    "     ['VI','NoTop10Index', 'Top10Rank', 'Top10Value','DivBy10K','randitU','21', '32', '10', '10','0:26:52.317282','ilab213','30','Pool', \n",
    "      'VI_randint_U_20240229_3','548764528868727045', '## VI - ilab213:  Time elapsed on node [ilab213] = (hh:mm:ss.ms) 0:26:52.317282',\n",
    "      'MLBS_2018_hyperspectral_indices.tif','EarlyWarning'],\n",
    "     # ['VI','NoTop10Index', 'Top10Rank', 'Top10Value','DivBy10K','randitU','21', '32', '10', '10','0:26:56.519002','ilab213','30','Pool', \n",
    "     #  'VI_randint_U_20240229_2','418094143373180009', '## VI - ilab213:  Time elapsed on node [ilab213] = (hh:mm:ss.ms) 0:26:56.519002',\n",
    "     #  'MLBS_2018_hyperspectral_indices.tif','EarlyWarning'],\n",
    "     ['VI','NoTop10Index', 'Top10Rank', 'Top10Value','DivBy10K','randitU','21', '32', '10', '10','0:27:43.264823','ilab213','30','Pool', \n",
    "      'VI_randint_U_20240229_1','711241757083075094', '## VI - ilab213:  Time elapsed on node [ilab213] = (hh:mm:ss.ms) 0:27:43.264823',\n",
    "      'MLBS_2018_hyperspectral_indices.tif','EarlyWarning'],\n",
    "]"
   ]
  },
  {
   "cell_type": "code",
   "execution_count": null,
   "metadata": {},
   "outputs": [],
   "source": [
    "#headers = ['Group','Top10Index','Top10Rank','Top10Value','Scaling','Randomizer', '#Bands','#Trials','Band/Trial','MinBands','hh:mm:ss.ms','Host(s)','CPUs/Host','Concurrency','ResultDir','ID','Description','HF', 'Callbacks']\n",
    "permutation_results_ALL_randint_U = [\n",
    "     ['ALLu','NoTop10Index', 'Top10Rank', 'Top10Value', 'DivBy10K','randitU','447', '1016', '10', '10','??:13:25','gpu002','40','Pool', \n",
    "      'ALL_randintU_20240229_1016','983932495984268956', \n",
    "      'ALL - gpu002 - 10min - GOAL=1016 ~?? hours',\n",
    "      'MLBS_2018_541567.6_4136443.0_542567.6_4137443.0-hyperspectral-aggregate.separate-background-scaled.tif','EarlyWarning'],    \n",
    "     ['ALLu','NoTop10Index', 'Top10Rank', 'Top10Value', 'DivBy10K','randitU','447', '1032', '10', '10','??:13:25','gpu002','40','Pool', \n",
    "      'ALL_randintU_20240305_1032','763030221589651938', \n",
    "      'ALL - gpu002 - started 03/05/2024:  Min 10, Trials = 10, Batch = 40, Goal = 1032',\n",
    "      'MLBS_2018_541567.6_4136443.0_542567.6_4137443.0-hyperspectral-aggregate.separate-background-scaled.tif','EarlyWarning'],    \n",
    "     ['ALLu','NoTop10Index', 'Top10Rank', 'Top10Value', 'DivBy10K','randitU','447', '1653', '10', '20','??:13:25','gpu002','40','Pool', \n",
    "      'ALL_randintU_20240305_1653','882848942719320298', \n",
    "      'ALL - gpu002 - started 03/05/2024:  Min 20, Trials = 10, Batch = 40, Goal = 1653',\n",
    "      'MLBS_2018_541567.6_4136443.0_542567.6_4137443.0-hyperspectral-aggregate.separate-background-scaled.tif','EarlyWarning'],    \n",
    "     ['ALLu','NoTop10Index', 'Top10Rank', 'Top10Value', 'DivBy10K','randitU','447', '3108', '10', '50','??:13:25','gpu002','40','Pool', \n",
    "      'ALL_randintU_20240301_3108','195018083738905409', \n",
    "      'ALL - gpu002 - 50min - GOAL=3108',\n",
    "      'MLBS_2018_541567.6_4136443.0_542567.6_4137443.0-hyperspectral-aggregate.separate-background-scaled.tif','EarlyWarning'],    \n",
    "     ['ALLu','NoTop10Index', 'Top10Rank', 'Top10Value', 'DivBy10K','randitU','447', '6064', '10', '100','??:13:25','gpu002','40','Pool', \n",
    "      'ALL_randintU_20240301_6064','215041145914163553', \n",
    "      'ALL - ilab213 - 100m- GOAL=6064',\n",
    "      'MLBS_2018_541567.6_4136443.0_542567.6_4137443.0-hyperspectral-aggregate.separate-background-scaled.tif','EarlyWarning'],    \n",
    "]\n"
   ]
  },
  {
   "cell_type": "code",
   "execution_count": null,
   "metadata": {},
   "outputs": [],
   "source": [
    "#headers = ['Group','Top10Index','Top10Rank','Scaling','Randomizer', '#Bands','#Trials','Band/Trial','MinBands','hh:mm:ss.ms','Host(s)','CPUs/Host','Concurrency','ResultDir','ID','Description','HF', 'Callbacks']\n",
    "permutation_results_NEON = [\n",
    "     ['_NEON','NoTop10Index', 'Top10Rank', 'Top10Value', 'DivBy10K','randit','426', '5666', '10', '100', '07:00.00','gpu004','40','Pool', \n",
    "      'randint_sets_20240215_collection-NEON_max_occurrences-100_batch_size-10_num_samples-5666_bandLen-426','188577871478003488', \n",
    "      'NEON on gpu004 - min 10 occurrences: ~7hours',\n",
    "      'MLBS_2018_Reflectance_reflectance_warp_scaled.tif','EarlyWarning'],\n",
    "]\n"
   ]
  },
  {
   "cell_type": "code",
   "execution_count": null,
   "metadata": {},
   "outputs": [],
   "source": [
    "permutation_results_VI_exp1_top3 = permutation_results_VI_exp1[:3]\n",
    "permutation_results_VI_top3 = permutation_results_VI[:3]\n",
    "\n",
    "#permutation_results_VI_exp1_top3\n",
    "#permutation_results_VI_top3"
   ]
  },
  {
   "cell_type": "code",
   "execution_count": null,
   "metadata": {},
   "outputs": [],
   "source": [
    "#permutation_results = permutation_results_ALL\n",
    "#permutation_results = permutation_results_VI\n",
    "#permutation_results = permutation_results_NEON\n",
    "#permutation_results = permutation_results_ALL + permutation_results_NEON + permutation_results_VI\n",
    "#permutation_results = permutation_results_ALL + permutation_results_NEON + permutation_results_VI\n",
    "#permutation_results = permutation_results_VI_3trials\n",
    "#permutation_results = permutation_results_ALL_randint_U + permutation_results_ALL  + permutation_results_NEON + permutation_results_VI_3trials + permutation_results_VI\n",
    "#permutation_results = permutation_results_ALL_randint_U  + permutation_results_NEON + permutation_results_VI_pairwise + permutation_results_VI_3trials + permutation_results_VI\n",
    "#permutation_results = permutation_results_VI_pairwise\n",
    "#permutation_results = epochs_results_ALL_nocallbacks + epochs_results_VI_nocallbacks + permutation_results_ALL_randint_U + permutation_results_VI_pairwise + permutation_results_VI_exp1 + permutation_results_VI + permutation_results_NEON \n",
    "permutation_results = permutation_results_ALL_randint_U + epochs_results_ALL_nocallbacks + permutation_results_VI_pairwise + permutation_results_VI_exp1_top3 + permutation_results_VI_top3 + epochs_results_VI_nocallbacks + permutation_results_NEON \n",
    "#permutation_results = epochs_results_ALL_nocallbacks + epochs_results_VI_nocallbacks + permutation_results_ALL_randint_U + permutation_results_VI_pairwise + permutation_results_VI_exp_summary + permutation_results_VI + permutation_results_NEON \n",
    "#permutation_results = permutation_results_ALL_randint_U + permutation_results_VI_pairwise + permutation_results_VI_3trials + permutation_results_VI + permutation_results_NEON \n",
    "#permutation_results = permutation_results_ALL_randint_U + permutation_results_VI_pairwise + permutation_results_VI_pairwise_big_batch + permutation_results_VI_3trials + permutation_results_VI + permutation_results_NEON \n",
    "print(len(permutation_results), '\\n',permutation_results)"
   ]
  },
  {
   "cell_type": "code",
   "execution_count": null,
   "metadata": {},
   "outputs": [],
   "source": [
    "# Create the pandas DataFrame\n",
    "import pandas as pd\n",
    "df = pd.DataFrame(permutation_results, columns=headers)\n",
    "#df"
   ]
  },
  {
   "cell_type": "markdown",
   "metadata": {},
   "source": [
    "# Loop through result files and create the ranking"
   ]
  },
  {
   "cell_type": "code",
   "execution_count": null,
   "metadata": {},
   "outputs": [],
   "source": [
    "#. Loop through result files and create the ranking\n",
    "for r_index, row in df.iterrows():\n",
    "    rank_file = '/explore/nobackup/projects/ilab/data/AGB/test/mcruns/output/rank/' + df.at[r_index,'ResultDir'] + '.rank' \n",
    "#    rank_file = '/explore/nobackup/projects/ilab/data/AGB/test/mcruns/output/rank/VI-20min-3trials/' + df.at[r_index,'ResultDir'] + '.rank' \n",
    "    my_file = Path(rank_file)\n",
    "    if my_file.is_file():\n",
    "        bandAbsSumArr = pickle.load(open(rank_file, \"rb\"))\n",
    "        print('\\n ======== index[', r_index, '] ==========')\n",
    "        print('Loaded:', rank_file)\n",
    "    else:\n",
    "        shap_dir_prefix = root_data_path + '/' + df.at[r_index,'ResultDir'] + '/' + df.at[r_index,'ID'] \n",
    "        shap_dir = shap_dir_prefix + '/PERMUTATION_IMPORTANCE_VALUES/'\n",
    "        print('\\n ======== index[', r_index, '] ==========')\n",
    "        print(r_index,'index: ', shap_dir)\n",
    "\n",
    "        # Returns a list of names in list files. \n",
    "        shap_files = glob.glob(shap_dir + '**/*.shap_values0to50',  \n",
    "                           recursive = True) \n",
    "\n",
    "        # set to max number of hyperspectral indices in experiment\n",
    "        bandLen = int(df.at[r_index,'#Bands'])\n",
    "        bandOccurenceArr = np.zeros(bandLen).astype(int)\n",
    "        bandAbsSumArr = np.zeros(bandLen)\n",
    "\n",
    "        first_time = True\n",
    "        index = 0\n",
    "        # Reload config\n",
    "        start = left = '[['\n",
    "        end = right = ']]'\n",
    "\n",
    "        for shap_vals_path in shap_files:\n",
    "\n",
    "            index = index+1\n",
    "            num_shap_files = len(shap_files)\n",
    "            bandListStr = shap_vals_path[shap_vals_path.index(left)+len(left):shap_vals_path.index(right)]\n",
    "            bandList = [e for e in bandListStr.split(',')]\n",
    "            for bandNum in bandList:\n",
    "                bandOccurenceArr[int(bandNum)-1] = (bandOccurenceArr[int(bandNum)-1]) + 1\n",
    "\n",
    "            # Reload shap values\n",
    "            shap_values0to50 = pickle.load(open(shap_vals_path, \"rb\"))\n",
    "            num_bins = len(shap_values0to50)\n",
    "            num_rows = len(shap_values0to50[0])\n",
    "            num_bands = num_cols = len(shap_values0to50[0][0])\n",
    "\n",
    "            #  Walk across bins [0,4]\n",
    "            for _bin in range(0, num_bins):\n",
    "\n",
    "                # get absolute value of all values in matrix\n",
    "                shap_values0to50_bin_abs = np.abs(shap_values0to50[_bin])\n",
    "\n",
    "                # convert numpy matrix to dataframe and print sum of absolute values in each column\n",
    "                df_shap_values0to50_bin_abs = pd.DataFrame(data=shap_values0to50_bin_abs)\n",
    "\n",
    "                # create a row (numpy array) where each column is the sum of the absolute values in that vertical column\n",
    "                shap_values_abs_sum_axis0 = np.sum(df_shap_values0to50_bin_abs, axis=0)\n",
    "\n",
    "                # sort the row from low to high to determine the rank of the columns (e.g., features)\n",
    "                shap_values_abs_sum_argsort = np.argsort(shap_values_abs_sum_axis0)\n",
    "\n",
    "                # loop thru each column and update the corresponding statistics in the global row\n",
    "                for _col in range(0, num_cols):\n",
    "                    bandNum = int(bandList[_col])\n",
    "\n",
    "                    # add the absolute value of the current shape_value to the existing value in the cell that is indexed by the band number\n",
    "                    # this allows us to keep a running total shap values per feature for downselection later....\n",
    "                    bandAbsSumArr[bandNum-1] = (bandAbsSumArr[bandNum-1] + df_shap_values0to50_bin_abs[_col].sum())\n",
    "\n",
    "#        print('Summary array before sort:', bandAbsSumArr)\n",
    "        ascending_indices = np.argsort(bandAbsSumArr)[:10]\n",
    "        print('Top ten before after:', ascending_indices)\n",
    "        minIndex = ascending_indices[0]\n",
    "\n",
    "        descending_indices = np.argsort(bandAbsSumArr)[::-1][:10]\n",
    "        maxIndex = descending_indices[0]\n",
    "\n",
    "        pickle.dump(bandAbsSumArr, open(rank_file , \"wb\"))\n",
    "        print('Saved:', rank_file)\n",
    "        \n",
    "    with np.printoptions(precision=5, suppress=True):\n",
    "#        print('Final:', bandAbsSumArr[:10])\n",
    "        print('Final.min:', bandAbsSumArr.min(), 'Final.max:', bandAbsSumArr.max())\n",
    "        print('Final L->H:', np.argsort(bandAbsSumArr)[:10])\n",
    "        row['Top10Index'] = np.argsort(bandAbsSumArr)[::-1][:10]\n",
    "\n",
    "        indexList = np.argsort(bandAbsSumArr)[::-1][:10]\n",
    "        bandList = []\n",
    "        valueList = []\n",
    "        for index in range(0, 10):\n",
    "            bandList.append(str(only_row[indexList[index]]))\n",
    "            valueList.append(str(\"{:3.3f}\".format(bandAbsSumArr[indexList[index]])))\n",
    "            print(indexList[index], only_row[indexList[index]],\"{:3.3f}\".format(bandAbsSumArr[indexList[index]]))        \n",
    "            index = index + 1\n",
    "        row['Top10Rank'] = bandList\n",
    "        row['Top10Value'] = valueList\n",
    "\n",
    "        print('Final Top10Rank Names:', bandList )\n",
    "        print('Final Top10Rank Indices:', row['Top10Index'] )\n",
    "        print('Final Top10Rank Cummulative Absolute SHAP values:', valueList)\n",
    "        print('Final max:', row['Top10Index'][0])"
   ]
  },
  {
   "cell_type": "code",
   "execution_count": null,
   "metadata": {},
   "outputs": [],
   "source": [
    "dfTest = df\n",
    "dfTest"
   ]
  },
  {
   "cell_type": "code",
   "execution_count": null,
   "metadata": {},
   "outputs": [],
   "source": [
    "print('[ID]-[Group]-[Min]-[Band]-[Trials]-[Scaling]-[Top 10 Rank]-[Top 10 Indices]-[Randomizer]')\n",
    "#headers = ['Group','Top10Index','Top10Rank','Scaling','Randomizer', '#Bands','#Trials','Band/Trial','MinBands','hh:mm:ss.ms','Host(s)','CPUs/Host','Concurrency','ResultDir','ID','Description','HF', 'Callbacks']\n",
    "for index, row in df.iterrows():\n",
    "    print('', str(index).rjust(2), '-',row['Group'].rjust(4),'-', row['MinBands'].rjust(3), '-', row['#Bands'].rjust(3),'-', row['#Trials'].rjust(4), '-', row['Scaling'].rjust(8), '-', row['Top10Rank'], '-', row['Top10Index'], '-', row['Randomizer'])"
   ]
  },
  {
   "cell_type": "code",
   "execution_count": null,
   "metadata": {},
   "outputs": [],
   "source": [
    "pd.set_option('max_colwidth', 800)\n",
    "pd.set_option('display.colheader_justify', 'left')\n",
    "#dfSummary = df[['Group','MinBands','Band/Trial','#Trials','#Bands','Randomizer','Scaling','Top10Rank','Top10Value']] \n",
    "dfSummary = df[['Group','MinBands','Band/Trial','#Trials','#Bands','Randomizer','Top10Rank','Top10Value']] \n",
    "dfSummary.style.set_properties(**{'text-align': 'left'})\n",
    "dfSummary"
   ]
  },
  {
   "cell_type": "code",
   "execution_count": null,
   "metadata": {},
   "outputs": [],
   "source": [
    "from pandas import DataFrame\n",
    "def left_align(df: DataFrame):\n",
    "    left_aligned_df = df.style.set_properties(**{'text-align': 'left'})\n",
    "    left_aligned_df = left_aligned_df.set_table_styles(\n",
    "        [dict(selector='th', props=[('text-align', 'left')])]\n",
    "    )\n",
    "    return left_aligned_df\n"
   ]
  },
  {
   "cell_type": "code",
   "execution_count": null,
   "metadata": {},
   "outputs": [],
   "source": [
    "left_align(dfSummary)"
   ]
  },
  {
   "cell_type": "markdown",
   "metadata": {},
   "source": [
    "## +++++++++"
   ]
  },
  {
   "cell_type": "code",
   "execution_count": null,
   "metadata": {
    "tags": []
   },
   "outputs": [],
   "source": [
    "import pandas as pd\n",
    "spreadsheet1 = pd.read_csv('/explore/nobackup/people/gtamkin/dev/srlite/test/srlite-2.0-rma-baseline/20240320/csv/WV02_20150911_M1BS_1030010049148A00_rmaSRLite_statistics.csv')"
   ]
  },
  {
   "cell_type": "code",
   "execution_count": null,
   "metadata": {
    "jupyter": {
     "source_hidden": true
    },
    "tags": []
   },
   "outputs": [],
   "source": [
    "spreadsheet1"
   ]
  },
  {
   "cell_type": "code",
   "execution_count": null,
   "metadata": {
    "jupyter": {
     "source_hidden": true
    },
    "tags": []
   },
   "outputs": [],
   "source": [
    "import pandas as pd\n",
    "spreadsheet3 = pd.read_csv('/explore/nobackup/people/gtamkin/dev/srlite/test/srlite-2.0-rma-baseline/20240320_average_sampling/csv/WV02_20150911_M1BS_1030010049148A00_rmaSRLite_statistics.csv')"
   ]
  },
  {
   "cell_type": "code",
   "execution_count": null,
   "metadata": {
    "jupyter": {
     "source_hidden": true
    },
    "tags": []
   },
   "outputs": [],
   "source": [
    "spreadsheet3"
   ]
  },
  {
   "cell_type": "code",
   "execution_count": null,
   "metadata": {},
   "outputs": [],
   "source": [
    "import pandas as pd\n",
    "spreadsheet2 = pd.read_csv('/explore/nobackup/people/gtamkin/dev/srlite/test/srlite-2.0-rma-baseline/20240320-srlite_1.1.0/csv/WV02_20150911_M1BS_1030010049148A00_rma_SRLite_statistics.csv')"
   ]
  },
  {
   "cell_type": "code",
   "execution_count": null,
   "metadata": {},
   "outputs": [],
   "source": [
    "spreadsheet2"
   ]
  },
  {
   "cell_type": "code",
   "execution_count": null,
   "metadata": {},
   "outputs": [],
   "source": []
  },
  {
   "cell_type": "code",
   "execution_count": null,
   "metadata": {},
   "outputs": [],
   "source": [
    "#random_set_path = '/explore/nobackup/projects/ilab/data/AGB/test/mcruns/input/random_sets/randint_sets_20240229_collection-ALL_min_occurrences-100_batch_size-10_num_samples-6064_bandLen-447.pkl'\n",
    "#random_set_path = '/explore/nobackup/projects/ilab/data/AGB/test/mcruns/input/random_sets/randint_sets_20240229_collection-ALL_min_occurrences-50_batch_size-10_num_samples-3108_bandLen-447.pkl'\n",
    "random_set_path = '/explore/nobackup/projects/ilab/data/AGB/test/mcruns/input/random_sets/randint_sets_20240301_collection-VI_min_occurrences-20_batch_size-3_num_samples-188_bandLen-21.pkl'\n",
    "random_set_rows = pickle.load(open(random_set_path, \"rb\"))\n",
    "num_bins = len(random_set_rows)\n",
    "num_rows = len(random_set_rows[0])\n",
    "num_bands = num_cols = len(random_set_rows[0][0])\n",
    "print (random_set_path, num_bins, num_rows, num_bands,num_cols, '\\n', random_set_rows[0])"
   ]
  },
  {
   "cell_type": "code",
   "execution_count": null,
   "metadata": {},
   "outputs": [],
   "source": [
    "df_random_set_rows = pd.DataFrame(data=random_set_rows)\n",
    "df_random_set_rows.head()\n",
    "print(list(df_random_set_rows.columns))\n",
    "df_random_set_rows_sorted0 = df_random_set_rows.sort_values(0, ascending=True)\n",
    "df_random_set_rows_sorted1 = df_random_set_rows_sorted0.sort_values(1, ascending=True)\n",
    "df_random_set_rows_sorted2 = df_random_set_rows_sorted1.sort_values(2, ascending=True)\n",
    "df_random_set_rows_sorted123 = df_random_set_rows.sort_values(by = [0, 1,2 ], ascending = [True, True, True])\n",
    "\n",
    "df_random_set_rows_sorted = df_random_set_rows_sorted123\n",
    "#sorted_df = df_random_set_rows.sort_values(by = [0, 1], ascending = [True, True])\n",
    "#print(sorted_df)\n",
    "with pd.option_context('display.max_rows', None,):\n",
    "#     print(sorted_df)\n",
    "     print(df_random_set_rows_sorted.head())"
   ]
  },
  {
   "cell_type": "code",
   "execution_count": null,
   "metadata": {},
   "outputs": [],
   "source": [
    "df_random_set_rows_sorted0"
   ]
  },
  {
   "cell_type": "code",
   "execution_count": null,
   "metadata": {},
   "outputs": [],
   "source": [
    "# Find Duplicate rows\n",
    "with pd.option_context('display.max_rows', None,):\n",
    "    #print(df_random_set_rows.groupby(df_random_set_rows.columns.tolist(),as_index=False).size())\n",
    "    print(df_random_set_rows.value_counts().head())"
   ]
  },
  {
   "cell_type": "code",
   "execution_count": null,
   "metadata": {},
   "outputs": [],
   "source": []
  },
  {
   "cell_type": "code",
   "execution_count": null,
   "metadata": {},
   "outputs": [],
   "source": [
    "import ast\n",
    "bandNamePairList = list(ast.literal_eval(\"[['blue_ccdc', 'BAND-B']]\"))\n",
    "bandNamePairList"
   ]
  },
  {
   "cell_type": "code",
   "execution_count": null,
   "metadata": {},
   "outputs": [],
   "source": [
    "shap_vals_path = '/explore/nobackup/projects/ilab/data/AGB/test/mcruns/output/VI_randintU_20240302_188_20m_3b/575050868397492482/PERMUTATION_IMPORTANCE_VALUES/MLP_SGD_7_layers_1024_units_MAE_50_epochs_callbacks::575050868397492482.keras[[1, 2, 4]].shap_values0to50'\n",
    "shap_values0to50 = pickle.load(open(shap_vals_path, \"rb\"))\n",
    "num_bins = len(shap_values0to50)\n",
    "num_rows = len(shap_values0to50[0])\n",
    "num_bands = num_cols = len(shap_values0to50[0][0])\n",
    "print (shap_vals_path, num_bins, num_rows, num_bands,num_cols, '\\n', shap_values0to50[0])"
   ]
  },
  {
   "cell_type": "code",
   "execution_count": null,
   "metadata": {},
   "outputs": [],
   "source": [
    "shap_values0to50_bin = shap_values0to50[_bin]\n",
    "df_shap_values0to50_bin = pd.DataFrame(data=shap_values0to50_bin)\n",
    "df_shap_values0to50_bin"
   ]
  },
  {
   "cell_type": "code",
   "execution_count": null,
   "metadata": {},
   "outputs": [],
   "source": [
    "shap_values0to50_bin = shap_values0to50[_bin]\n",
    "df_shap_values0to50_bin = pd.DataFrame(data=shap_values0to50_bin)\n",
    "df_shap_values0to50_bin"
   ]
  },
  {
   "cell_type": "code",
   "execution_count": null,
   "metadata": {},
   "outputs": [],
   "source": [
    "shap_values0to50_bin_abs = np.abs(shap_values0to50[_bin])\n",
    "df_shap_values0to50_bin_abs = pd.DataFrame(data=shap_values0to50_bin_abs)\n",
    "df_shap_values0to50_bin_abs"
   ]
  },
  {
   "cell_type": "code",
   "execution_count": null,
   "metadata": {},
   "outputs": [],
   "source": [
    "hap_values_sum_axis0 = np.sum(df_shap_values0to50_bin, axis=0)\n",
    "hap_values_sum_axis0"
   ]
  },
  {
   "cell_type": "code",
   "execution_count": null,
   "metadata": {},
   "outputs": [],
   "source": [
    "hap_values_sum_axis0_axis0 = np.sum(hap_values_sum_axis0, axis=0)\n",
    "hap_values_sum_axis0_axis0"
   ]
  },
  {
   "cell_type": "code",
   "execution_count": null,
   "metadata": {},
   "outputs": [],
   "source": [
    "hap_values_sum_axis0_axis1 = np.sum(hap_values_sum_axis0, axis=1)\n",
    "hap_values_sum_axis0_axis1"
   ]
  },
  {
   "cell_type": "code",
   "execution_count": null,
   "metadata": {},
   "outputs": [],
   "source": [
    "hap_values_sum = np.sum(df_shap_values0to50_bin)\n",
    "hap_values_sum"
   ]
  },
  {
   "cell_type": "code",
   "execution_count": null,
   "metadata": {},
   "outputs": [],
   "source": [
    "hap_values_abs_sum_axis0 = np.sum(df_shap_values0to50_bin_abs, axis=0)\n",
    "hap_values_abs_sum_axis0"
   ]
  },
  {
   "cell_type": "code",
   "execution_count": null,
   "metadata": {},
   "outputs": [],
   "source": [
    "hap_values_abs_sum = np.sum(df_shap_values0to50_bin_abs[0])\n",
    "hap_values_abs_sum"
   ]
  },
  {
   "cell_type": "code",
   "execution_count": null,
   "metadata": {},
   "outputs": [],
   "source": [
    "dfSort = dfTest.sort_values([\"Group\",\"ID\"])\n",
    "dfSort"
   ]
  },
  {
   "cell_type": "code",
   "execution_count": null,
   "metadata": {},
   "outputs": [],
   "source": []
  },
  {
   "cell_type": "code",
   "execution_count": null,
   "metadata": {},
   "outputs": [],
   "source": []
  },
  {
   "cell_type": "code",
   "execution_count": null,
   "metadata": {},
   "outputs": [],
   "source": []
  }
 ],
 "metadata": {
  "kernelspec": {
   "display_name": "DEV Kernel",
   "language": "python",
   "name": "dev"
  },
  "language_info": {
   "codemirror_mode": {
    "name": "ipython",
    "version": 3
   },
   "file_extension": ".py",
   "mimetype": "text/x-python",
   "name": "python",
   "nbconvert_exporter": "python",
   "pygments_lexer": "ipython3",
   "version": "3.10.14"
  }
 },
 "nbformat": 4,
 "nbformat_minor": 4
}
