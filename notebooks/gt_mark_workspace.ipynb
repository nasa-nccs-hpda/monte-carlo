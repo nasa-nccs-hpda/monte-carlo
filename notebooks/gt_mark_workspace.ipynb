{
 "cells": [
  {
   "cell_type": "code",
   "execution_count": 1,
   "metadata": {},
   "outputs": [
    {
     "name": "stderr",
     "output_type": "stream",
     "text": [
      "2023-10-28 12:47:09.657434: I tensorflow/core/platform/cpu_feature_guard.cc:193] This TensorFlow binary is optimized with oneAPI Deep Neural Network Library (oneDNN) to use the following CPU instructions in performance-critical operations:  SSE4.1 SSE4.2 AVX AVX2 AVX512F AVX512_VNNI FMA\n",
      "To enable them in other operations, rebuild TensorFlow with the appropriate compiler flags.\n",
      "2023-10-28 12:47:09.829708: I tensorflow/core/util/port.cc:104] oneDNN custom operations are on. You may see slightly different numerical results due to floating-point round-off errors from different computation orders. To turn them off, set the environment variable `TF_ENABLE_ONEDNN_OPTS=0`.\n"
     ]
    }
   ],
   "source": [
    "import sys\n",
    "sys.path.append('/explore/nobackup/people/gtamkin/dev/AGB/mpf-model-factories/MultiPathFusion')\n",
    "from multi_path_fusion.src.utils.data_generator_helpers import load_data_generator"
   ]
  },
  {
   "cell_type": "code",
   "execution_count": 3,
   "metadata": {},
   "outputs": [],
   "source": [
    "from tensorflow import keras\n",
    "import json\n",
    "import matplotlib.pyplot as plt\n",
    "import numpy as np\n",
    "import mlflow\n",
    "import rasterio"
   ]
  },
  {
   "cell_type": "code",
   "execution_count": 4,
   "metadata": {},
   "outputs": [],
   "source": [
    "with open('../../config/config_gt_1model_1band.json', 'r') as f:\n",
    "    config = json.load(f)\n",
    "    models_config = config[\"models\"]\n",
    "    data_generator_config = config[\"data_generator\"]\n",
    "    mlflow_config = config[\"mlflow\"]"
   ]
  },
  {
   "cell_type": "code",
   "execution_count": 8,
   "metadata": {},
   "outputs": [
    {
     "name": "stdout",
     "output_type": "stream",
     "text": [
      "reading in band: 18\n",
      "reading in band: 14\n",
      "reading in band: 9\n",
      "reading in band: 3\n",
      "reading in band: 20\n",
      "reading in band: 8\n",
      "reading in band: 10\n"
     ]
    },
    {
     "data": {
      "text/plain": [
       "<multi_path_fusion.src.data_generators.mpf_h_data_generator.MPF_H_DataGenerator at 0x14b58c516250>"
      ]
     },
     "execution_count": 8,
     "metadata": {},
     "output_type": "execute_result"
    }
   ],
   "source": [
    "train_generator = load_data_generator(data_generator_config, split_mode='train')"
   ]
  },
  {
   "cell_type": "code",
   "execution_count": 21,
   "metadata": {},
   "outputs": [
    {
     "name": "stdout",
     "output_type": "stream",
     "text": [
      "(7, 800000)\n",
      "800000\n",
      "[0.         0.00914348 0.00762534 ... 0.         0.         0.        ]\n",
      "[0.21874148 0.1999218  0.2188757  ... 0.31334597 0.32275727 0.32249138]\n",
      "[1.         0.99999994 0.99999994 ... 0.99999994 0.99999994 0.99999994]\n",
      "[0.00217841 0.         0.         ... 0.00703716 0.00864428 0.00371583]\n",
      "[0.24960981 0.228512   0.25062677 ... 0.39478815 0.3997423  0.39363796]\n",
      "[0.40140605 0.31169966 0.41021192 ... 0.54478836 0.5819893  0.6397344 ]\n",
      "[0.09544753 0.0662163  0.07637063 ... 0.26191223 0.25695    0.22452728]\n"
     ]
    }
   ],
   "source": [
    "print(train_generator.file_x_stack.shape)\n",
    "print(len(train_generator.file_x_stack[0]))\n",
    "print(train_generator.file_x_stack[0])\n",
    "print(train_generator.file_x_stack[1])\n",
    "print(train_generator.file_x_stack[2])\n",
    "print(train_generator.file_x_stack[3])\n",
    "print(train_generator.file_x_stack[4])\n",
    "print(train_generator.file_x_stack[5])\n",
    "print(train_generator.file_x_stack[6])"
   ]
  },
  {
   "cell_type": "code",
   "execution_count": 22,
   "metadata": {},
   "outputs": [
    {
     "name": "stdout",
     "output_type": "stream",
     "text": [
      "reading in band: 18\n",
      "reading in band: 14\n",
      "reading in band: 9\n",
      "reading in band: 3\n",
      "reading in band: 20\n",
      "reading in band: 8\n",
      "reading in band: 10\n",
      "(7, 100000)\n",
      "100000\n",
      "[0.         0.         0.00353029 ... 0.00310769 0.00152629 0.00317371]\n",
      "[0.33646894 0.32191247 0.22822113 ... 0.32432133 0.30225524 0.26360014]\n",
      "[1.         0.99999994 1.         ... 1.         1.         0.99999994]\n",
      "[4.0234029e-03 4.4464134e-05 0.0000000e+00 ... 0.0000000e+00 0.0000000e+00\n",
      " 0.0000000e+00]\n",
      "[0.3902713  0.37067035 0.25534904 ... 0.41413903 0.38353664 0.3287818 ]\n",
      "[0.67096096 0.65147847 0.30789918 ... 0.5955001  0.5532503  0.4024672 ]\n",
      "[0.19250262 0.16950335 0.10310959 ... 0.15990072 0.11644876 0.09911121]\n"
     ]
    }
   ],
   "source": [
    "validate_generator = load_data_generator(data_generator_config, 'validate')\n",
    "print(validate_generator.file_x_stack.shape)\n",
    "print(len(validate_generator.file_x_stack[0]))\n",
    "print(validate_generator.file_x_stack[0])\n",
    "print(validate_generator.file_x_stack[1])\n",
    "print(validate_generator.file_x_stack[2])\n",
    "print(validate_generator.file_x_stack[3])\n",
    "print(validate_generator.file_x_stack[4])\n",
    "print(validate_generator.file_x_stack[5])\n",
    "print(validate_generator.file_x_stack[6])"
   ]
  },
  {
   "cell_type": "code",
   "execution_count": 23,
   "metadata": {},
   "outputs": [
    {
     "name": "stdout",
     "output_type": "stream",
     "text": [
      "reading in band: 18\n",
      "reading in band: 14\n",
      "reading in band: 9\n",
      "reading in band: 3\n",
      "reading in band: 20\n",
      "reading in band: 8\n",
      "reading in band: 10\n",
      "(7, 100000)\n",
      "100000\n",
      "[0.00425723 0.00456369 0.00605362 ... 0.         0.0001284  0.00178381]\n",
      "[0.33231062 0.31466985 0.26850963 ... 0.3343295  0.37743014 0.40617245]\n",
      "[1.         1.         0.99999994 ... 0.99999994 0.99999994 1.        ]\n",
      "[0.000000e+00 0.000000e+00 0.000000e+00 ... 8.557644e-05 0.000000e+00\n",
      " 0.000000e+00]\n",
      "[0.37718162 0.35525632 0.30107415 ... 0.40093535 0.4487777  0.48507217]\n",
      "[0.9737624  0.750765   0.8045844  ... 0.8480241  0.93982977 0.89399654]\n",
      "[0.17025279 0.16147678 0.12919019 ... 0.22392356 0.2412937  0.28305784]\n"
     ]
    }
   ],
   "source": [
    "test_generator = load_data_generator(data_generator_config, 'test')\n",
    "print(test_generator.file_x_stack.shape)\n",
    "print(len(test_generator.file_x_stack[0]))\n",
    "print(test_generator.file_x_stack[0])\n",
    "print(test_generator.file_x_stack[1])\n",
    "print(test_generator.file_x_stack[2])\n",
    "print(test_generator.file_x_stack[3])\n",
    "print(test_generator.file_x_stack[4])\n",
    "print(test_generator.file_x_stack[5])\n",
    "print(test_generator.file_x_stack[6])"
   ]
  },
  {
   "cell_type": "code",
   "execution_count": 56,
   "metadata": {},
   "outputs": [
    {
     "name": "stdout",
     "output_type": "stream",
     "text": [
      "\n",
      "train_generator\n",
      "800000\n",
      "[2 3 3 ... 4 2 1]\n",
      "1\n",
      "['MLBS_2018_541567.6_4136443.0_542567.6_4137443.0/MLBS_2018_hyperspectral_indices.tif', array([  0,   1,   2,   3,   4,   5,   6,   7,   8,   9,  10,  11,  12,\n",
      "        13,  14,  15,  16,  17,  18,  19,  20,  21,  22,  23,  24,  25,\n",
      "        26,  27,  28,  29,  30,  31,  32,  33,  34,  35,  36,  37,  38,\n",
      "        39,  40,  41,  42,  43,  44,  45,  46,  47,  48,  49,  50,  51,\n",
      "        52,  53,  54,  55,  56,  57,  58,  59,  60,  61,  62,  63,  64,\n",
      "        65,  66,  67,  68,  69,  70,  71,  72,  73,  74,  75,  76,  77,\n",
      "        78,  79,  80,  81,  82,  83,  84,  85,  86,  87,  88,  89,  90,\n",
      "        91,  92,  93,  94,  95,  96,  97,  98,  99, 100, 101, 102, 103,\n",
      "       104, 105, 106, 107, 108, 109, 110, 111, 112, 113, 114, 115, 116,\n",
      "       117, 118, 119, 120, 121, 122, 123, 124, 125, 126, 127, 128, 129,\n",
      "       130, 131, 132, 133, 134, 135, 136, 137, 138, 139, 140, 141, 142,\n",
      "       143, 144, 145, 146, 147, 148, 149, 150, 151, 152, 153, 154, 155,\n",
      "       156, 157, 158, 159, 160, 161, 162, 163, 164, 165, 166, 167, 168,\n",
      "       169, 170, 171, 172, 173, 174, 175, 176, 177, 178, 179, 180, 181,\n",
      "       182, 183, 184, 185, 186, 187, 188, 189, 190, 191, 192, 193, 194,\n",
      "       195, 196, 197, 198, 199, 200, 201, 202, 203, 204, 205, 206, 207,\n",
      "       208, 209, 210, 211, 212, 213, 214, 215, 216, 217, 218, 219, 220,\n",
      "       221, 222, 223, 224, 225, 226, 227, 228, 229, 230, 231, 232, 233,\n",
      "       234, 235, 236, 237, 238, 239, 240, 241, 242, 243, 244, 245, 246,\n",
      "       247, 248, 249, 250, 251, 252, 253, 254, 255, 256, 257, 258, 259,\n",
      "       260, 261, 262, 263, 264, 265, 266, 267, 268, 269, 270, 271, 272,\n",
      "       273, 274, 275, 276, 277, 278, 279, 280, 281, 282, 283, 284, 285,\n",
      "       286, 287, 288, 289, 290, 291, 292, 293, 294, 295, 296, 297, 298,\n",
      "       299, 300, 301, 302, 303, 304, 305, 306, 307, 308, 309, 310, 311,\n",
      "       312, 313, 314, 315, 316, 317, 318, 319, 320, 321, 322, 323, 324,\n",
      "       325, 326, 327, 328, 329, 330, 331, 332, 333, 334, 335, 336, 337,\n",
      "       338, 339, 340, 341, 342, 343, 344, 345, 346, 347, 348, 349, 350,\n",
      "       351, 352, 353, 354, 355, 356, 357, 358, 359, 360, 361, 362, 363,\n",
      "       364, 365, 366, 367, 368, 369, 370, 371, 372, 373, 374, 375, 376,\n",
      "       377, 378, 379, 380, 381, 382, 383, 384, 385, 386, 387, 388, 389,\n",
      "       390, 391, 392, 393, 394, 395, 396, 397, 398, 399, 400, 401, 402,\n",
      "       403, 404, 405, 406, 407, 408, 409, 410, 411, 412, 413, 414, 415,\n",
      "       416, 417, 418, 419, 420, 421, 422, 423, 424, 425])]\n",
      "\n",
      "test_generator\n",
      "100000\n",
      "[3 3 2 ... 3 3 4]\n",
      "4\n",
      "[[['MLBS_2018_541567.6_4136443.0_542567.6_4137443.0/MLBS_2018_hyperspectral_indices.tif', [18, 14, 9, 3, 20, 8, 10]]]]\n",
      "\n",
      "validate_generator\n",
      "100000\n",
      "3\n",
      "[3 2 2 ... 3 4 3]\n",
      "[[['MLBS_2018_541567.6_4136443.0_542567.6_4137443.0/MLBS_2018_hyperspectral_indices.tif', [18, 14, 9, 3, 20, 8, 10]]]]\n"
     ]
    }
   ],
   "source": [
    "print('\\ntrain_generator')\n",
    "print(len(train_generator.binned))\n",
    "print(train_generator.binned)\n",
    "print(train_generator.binned[799999])\n",
    "print(train_generator.branch_inputs[0][0])\n",
    "\n",
    "print('\\ntest_generator')\n",
    "print(len(test_generator.binned))\n",
    "print(test_generator.binned)\n",
    "print(test_generator.binned[99999])\n",
    "print(test_generator.branch_inputs)\n",
    "\n",
    "print('\\nvalidate_generator')\n",
    "print(len(validate_generator.binned))\n",
    "print(validate_generator.binned[99999])\n",
    "print(validate_generator.binned)\n",
    "print(validate_generator.branch_inputs)"
   ]
  },
  {
   "cell_type": "code",
   "execution_count": 57,
   "metadata": {},
   "outputs": [
    {
     "name": "stdout",
     "output_type": "stream",
     "text": [
      "(800000, 7)\n"
     ]
    }
   ],
   "source": [
    "X_full_hyperspectral = train_generator.get_training_data()\n",
    "print(X_full_hyperspectral.shape)"
   ]
  },
  {
   "cell_type": "code",
   "execution_count": 59,
   "metadata": {},
   "outputs": [
    {
     "name": "stdout",
     "output_type": "stream",
     "text": [
      "2\n",
      "branch_num: 0\n",
      "file_num: 0\n",
      "before\n",
      "[  0   1   2   3   4   5   6   7   8   9  10  11  12  13  14  15  16  17\n",
      "  18  19  20  21  22  23  24  25  26  27  28  29  30  31  32  33  34  35\n",
      "  36  37  38  39  40  41  42  43  44  45  46  47  48  49  50  51  52  53\n",
      "  54  55  56  57  58  59  60  61  62  63  64  65  66  67  68  69  70  71\n",
      "  72  73  74  75  76  77  78  79  80  81  82  83  84  85  86  87  88  89\n",
      "  90  91  92  93  94  95  96  97  98  99 100 101 102 103 104 105 106 107\n",
      " 108 109 110 111 112 113 114 115 116 117 118 119 120 121 122 123 124 125\n",
      " 126 127 128 129 130 131 132 133 134 135 136 137 138 139 140 141 142 143\n",
      " 144 145 146 147 148 149 150 151 152 153 154 155 156 157 158 159 160 161\n",
      " 162 163 164 165 166 167 168 169 170 171 172 173 174 175 176 177 178 179\n",
      " 180 181 182 183 184 185 186 187 188 189 190 191 192 193 194 195 196 197\n",
      " 198 199 200 201 202 203 204 205 206 207 208 209 210 211 212 213 214 215\n",
      " 216 217 218 219 220 221 222 223 224 225 226 227 228 229 230 231 232 233\n",
      " 234 235 236 237 238 239 240 241 242 243 244 245 246 247 248 249 250 251\n",
      " 252 253 254 255 256 257 258 259 260 261 262 263 264 265 266 267 268 269\n",
      " 270 271 272 273 274 275 276 277 278 279 280 281 282 283 284 285 286 287\n",
      " 288 289 290 291 292 293 294 295 296 297 298 299 300 301 302 303 304 305\n",
      " 306 307 308 309 310 311 312 313 314 315 316 317 318 319 320 321 322 323\n",
      " 324 325 326 327 328 329 330 331 332 333 334 335 336 337 338 339 340 341\n",
      " 342 343 344 345 346 347 348 349 350 351 352 353 354 355 356 357 358 359\n",
      " 360 361 362 363 364 365 366 367 368 369 370 371 372 373 374 375 376 377\n",
      " 378 379 380 381 382 383 384 385 386 387 388 389 390 391 392 393 394 395\n",
      " 396 397 398 399 400 401 402 403 404 405 406 407 408 409 410 411 412 413\n",
      " 414 415 416 417 418 419 420 421 422 423 424 425]\n",
      "after\n",
      "[  0   1   2   3   4   5   6   7   8   9  10  11  12  13  14  15  16  17\n",
      "  18  19  20  21  22  23  24  25  26  27  28  29  30  31  32  33  34  35\n",
      "  36  37  38  39  40  41  42  43  44  45  46  47  48  49  50  51  52  53\n",
      "  54  55  56  57  58  59  60  61  62  63  64  65  66  67  68  69  70  71\n",
      "  72  73  74  75  76  77  78  79  80  81  82  83  84  85  86  87  88  89\n",
      "  90  91  92  93  94  95  96  97  98  99 100 101 102 103 104 105 106 107\n",
      " 108 109 110 111 112 113 114 115 116 117 118 119 120 121 122 123 124 125\n",
      " 126 127 128 129 130 131 132 133 134 135 136 137 138 139 140 141 142 143\n",
      " 144 145 146 147 148 149 150 151 152 153 154 155 156 157 158 159 160 161\n",
      " 162 163 164 165 166 167 168 169 170 171 172 173 174 175 176 177 178 179\n",
      " 180 181 182 183 184 185 186 187 188 189 190 191 192 193 194 195 196 197\n",
      " 198 199 200 201 202 203 204 205 206 207 208 209 210 211 212 213 214 215\n",
      " 216 217 218 219 220 221 222 223 224 225 226 227 228 229 230 231 232 233\n",
      " 234 235 236 237 238 239 240 241 242 243 244 245 246 247 248 249 250 251\n",
      " 252 253 254 255 256 257 258 259 260 261 262 263 264 265 266 267 268 269\n",
      " 270 271 272 273 274 275 276 277 278 279 280 281 282 283 284 285 286 287\n",
      " 288 289 290 291 292 293 294 295 296 297 298 299 300 301 302 303 304 305\n",
      " 306 307 308 309 310 311 312 313 314 315 316 317 318 319 320 321 322 323\n",
      " 324 325 326 327 328 329 330 331 332 333 334 335 336 337 338 339 340 341\n",
      " 342 343 344 345 346 347 348 349 350 351 352 353 354 355 356 357 358 359\n",
      " 360 361 362 363 364 365 366 367 368 369 370 371 372 373 374 375 376 377\n",
      " 378 379 380 381 382 383 384 385 386 387 388 389 390 391 392 393 394 395\n",
      " 396 397 398 399 400 401 402 403 404 405 406 407 408 409 410 411 412 413\n",
      " 414 415 416 417 418 419 420 421 422 423 424 425]\n"
     ]
    }
   ],
   "source": [
    "#print(train_generator.branch_inputs)\n",
    "file_num = 0\n",
    "for branch_num in range(len(train_generator.branch_inputs)):\n",
    "    print(len(train_generator.branch_inputs[branch_num][file_num]))\n",
    "    print(f\"branch_num: {branch_num}\")\n",
    "    for file_num in range(len(train_generator.branch_inputs[branch_num])):\n",
    "        print(f\"file_num: {file_num}\")\n",
    "        print('before')\n",
    "        print(train_generator.branch_inputs[branch_num][file_num][1])\n",
    "        # changing bands to full hyperspectral image\n",
    "        train_generator.branch_inputs[branch_num][file_num][1] = np.arange(426)\n",
    "        print('after')\n",
    "        print(train_generator.branch_inputs[branch_num][file_num][1])\n"
   ]
  },
  {
   "cell_type": "code",
   "execution_count": 60,
   "metadata": {},
   "outputs": [],
   "source": [
    "X = train_generator.get_training_data()"
   ]
  },
  {
   "cell_type": "code",
   "execution_count": 62,
   "metadata": {},
   "outputs": [
    {
     "name": "stdout",
     "output_type": "stream",
     "text": [
      "[[0.         0.21874148 1.         ... 0.24960981 0.40140605 0.09544753]\n",
      " [0.00914348 0.1999218  0.99999994 ... 0.228512   0.31169966 0.0662163 ]\n",
      " [0.00762534 0.2188757  0.99999994 ... 0.25062677 0.41021192 0.07637063]\n",
      " ...\n",
      " [0.         0.31334597 0.99999994 ... 0.39478815 0.54478836 0.26191223]\n",
      " [0.         0.32275727 0.99999994 ... 0.3997423  0.5819893  0.25695   ]\n",
      " [0.         0.32249138 0.99999994 ... 0.39363796 0.6397344  0.22452728]]\n",
      "0.0\n",
      "1.0000001\n",
      "(800000, 7)\n"
     ]
    }
   ],
   "source": [
    "print(X)\n",
    "print(np.min(X))\n",
    "print(np.max(X))\n",
    "print(X.shape)"
   ]
  },
  {
   "cell_type": "code",
   "execution_count": 63,
   "metadata": {},
   "outputs": [
    {
     "name": "stdout",
     "output_type": "stream",
     "text": [
      "before scaling\n",
      "[[0.         0.00914348 0.00762534 ... 0.         0.         0.        ]\n",
      " [0.21874148 0.1999218  0.2188757  ... 0.31334597 0.32275727 0.32249138]\n",
      " [1.         0.99999994 0.99999994 ... 0.99999994 0.99999994 0.99999994]\n",
      " ...\n",
      " [0.24960981 0.228512   0.25062677 ... 0.39478815 0.3997423  0.39363796]\n",
      " [0.40140605 0.31169966 0.41021192 ... 0.54478836 0.5819893  0.6397344 ]\n",
      " [0.09544753 0.0662163  0.07637063 ... 0.26191223 0.25695    0.22452728]]\n",
      "(7, 800000)\n",
      "min: 0.0\n",
      "max: 1.0000001192092896\n",
      "avg: 0.34291598200798035\n",
      "std: 0.3424108922481537\n",
      "after scaling\n",
      "[[0.         0.00914348 0.00762534 ... 0.         0.         0.        ]\n",
      " [0.21874148 0.19992183 0.21887574 ... 0.313346   0.3227573  0.3224914 ]\n",
      " [1.         1.         1.         ... 1.         1.         1.        ]\n",
      " ...\n",
      " [0.24960981 0.22851203 0.2506268  ... 0.3947882  0.39974236 0.393638  ]\n",
      " [0.40140605 0.3116997  0.41021198 ... 0.5447884  0.58198935 0.63973445]\n",
      " [0.09544753 0.06621631 0.07637064 ... 0.26191226 0.25695002 0.22452731]]\n",
      "(7, 800000)\n",
      "min: 0.0\n",
      "max: 1.0\n",
      "avg: 0.34291598200798035\n",
      "std: 0.3424108624458313\n"
     ]
    }
   ],
   "source": [
    "print(\"before scaling\")\n",
    "print(train_generator.file_x_stack)\n",
    "print(train_generator.file_x_stack.shape)\n",
    "print(f\"min: {np.min(train_generator.file_x_stack)}\")\n",
    "print(f\"max: {np.max(train_generator.file_x_stack)}\")\n",
    "print(f\"avg: {np.average(train_generator.file_x_stack)}\")\n",
    "print(f\"std: {np.std(train_generator.file_x_stack)}\")\n",
    "train_generator.file_x_stack = train_generator.scale_data(train_generator.file_x_stack)\n",
    "print(\"after scaling\")\n",
    "print(train_generator.file_x_stack)\n",
    "print(train_generator.file_x_stack.shape)\n",
    "print(f\"min: {np.min(train_generator.file_x_stack)}\")\n",
    "print(f\"max: {np.max(train_generator.file_x_stack)}\")\n",
    "print(f\"avg: {np.average(train_generator.file_x_stack)}\")\n",
    "print(f\"std: {np.std(train_generator.file_x_stack)}\")"
   ]
  },
  {
   "cell_type": "code",
   "execution_count": 67,
   "metadata": {},
   "outputs": [],
   "source": [
    "# normalizing training data using sklearn\n",
    "from sklearn.preprocessing import MinMaxScaler\n",
    "\n",
    "min_max_scaler = MinMaxScaler(feature_range=(0,1))\n",
    "#min_max_scaler = MinMaxScaler(feature_range=(-1,1))\n",
    "normalized_X = min_max_scaler.fit_transform(X)"
   ]
  },
  {
   "cell_type": "code",
   "execution_count": 68,
   "metadata": {},
   "outputs": [
    {
     "name": "stdout",
     "output_type": "stream",
     "text": [
      "minmax\n",
      "normalize\n"
     ]
    }
   ],
   "source": [
    "print(train_generator.scale_data_method)\n",
    "if train_generator.scale_data_method:\n",
    "    print(\"normalize\")\n",
    "else:\n",
    "    print(\"None\")"
   ]
  },
  {
   "cell_type": "code",
   "execution_count": 69,
   "metadata": {},
   "outputs": [
    {
     "name": "stdout",
     "output_type": "stream",
     "text": [
      "[[0.         0.21874148 1.         ... 0.24960981 0.40140605 0.09544753]\n",
      " [0.00914348 0.1999218  0.99999994 ... 0.228512   0.31169966 0.0662163 ]\n",
      " [0.00762534 0.2188757  0.99999994 ... 0.25062677 0.41021192 0.07637063]\n",
      " ...\n",
      " [0.         0.31334597 0.99999994 ... 0.39478815 0.54478836 0.26191223]\n",
      " [0.         0.32275727 0.99999994 ... 0.3997423  0.5819893  0.25695   ]\n",
      " [0.         0.32249138 0.99999994 ... 0.39363796 0.6397344  0.22452728]]\n",
      "[[0.         0.21825284 0.9999999  ... 0.24063319 0.401406   0.08643602]\n",
      " [0.0091588  0.19940048 0.9999998  ... 0.219283   0.31169963 0.05691358]\n",
      " [0.00763812 0.21838729 0.9999998  ... 0.24166232 0.41021186 0.06716907]\n",
      " ...\n",
      " [0.         0.3130216  0.9999998  ... 0.3875482  0.5447883  0.25455907]\n",
      " [0.         0.32244924 0.9999998  ... 0.39256164 0.5819892  0.2495474 ]\n",
      " [0.         0.32218286 0.9999998  ... 0.38638428 0.6397343  0.2168017 ]]\n"
     ]
    }
   ],
   "source": [
    "print(X)\n",
    "print(normalized_X)"
   ]
  },
  {
   "cell_type": "code",
   "execution_count": 70,
   "metadata": {},
   "outputs": [],
   "source": [
    "# normalizing training data\n",
    "def normalize_pixels(training_data):\n",
    "    max_val = np.max(training_data, axis=0)\n",
    "    normalized_data = training_data / max_val\n",
    "    return normalized_data\n",
    "\n",
    "normalized_X = normalize_pixels(X)"
   ]
  },
  {
   "cell_type": "code",
   "execution_count": 71,
   "metadata": {},
   "outputs": [
    {
     "name": "stdout",
     "output_type": "stream",
     "text": [
      "[[0.         0.21893115 0.9999999  ... 0.24960978 0.401406   0.09544752]\n",
      " [0.0091588  0.20009516 0.9999998  ... 0.22851197 0.31169963 0.0662163 ]\n",
      " [0.00763812 0.21906549 0.9999998  ... 0.25062674 0.41021186 0.07637063]\n",
      " ...\n",
      " [0.         0.31361768 0.9999998  ... 0.3947881  0.5447883  0.2619122 ]\n",
      " [0.         0.32303715 0.9999998  ... 0.39974225 0.5819892  0.25694996]\n",
      " [0.         0.322771   0.9999998  ... 0.3936379  0.6397343  0.22452725]]\n",
      "(800000, 7)\n"
     ]
    }
   ],
   "source": [
    "print(normalized_X)\n",
    "print(normalized_X.shape)"
   ]
  },
  {
   "cell_type": "code",
   "execution_count": 72,
   "metadata": {},
   "outputs": [
    {
     "name": "stdout",
     "output_type": "stream",
     "text": [
      "[[0.         0.21893115 0.9999999  ... 0.24960978 0.401406   0.09544752]\n",
      " [0.0091588  0.20009516 0.9999998  ... 0.22851197 0.31169963 0.0662163 ]\n",
      " [0.00763812 0.21906549 0.9999998  ... 0.25062674 0.41021186 0.07637063]\n",
      " ...\n",
      " [0.         0.31361768 0.9999998  ... 0.3947881  0.5447883  0.2619122 ]\n",
      " [0.         0.32303715 0.9999998  ... 0.39974225 0.5819892  0.25694996]\n",
      " [0.         0.322771   0.9999998  ... 0.3936379  0.6397343  0.22452725]]\n",
      "1.0\n",
      "0.0\n"
     ]
    }
   ],
   "source": [
    "print(normalized_X)\n",
    "print(np.max(normalized_X))\n",
    "print(np.min(normalized_X))"
   ]
  },
  {
   "cell_type": "code",
   "execution_count": 73,
   "metadata": {},
   "outputs": [
    {
     "data": {
      "text/plain": [
       "array([[0.        , 0.21874148, 1.        , ..., 0.24960981, 0.40140605,\n",
       "        0.09544753],\n",
       "       [0.00914348, 0.1999218 , 0.99999994, ..., 0.228512  , 0.31169966,\n",
       "        0.0662163 ],\n",
       "       [0.00762534, 0.2188757 , 0.99999994, ..., 0.25062677, 0.41021192,\n",
       "        0.07637063],\n",
       "       ...,\n",
       "       [0.        , 0.31334597, 0.99999994, ..., 0.39478815, 0.54478836,\n",
       "        0.26191223],\n",
       "       [0.        , 0.32275727, 0.99999994, ..., 0.3997423 , 0.5819893 ,\n",
       "        0.25695   ],\n",
       "       [0.        , 0.32249138, 0.99999994, ..., 0.39363796, 0.6397344 ,\n",
       "        0.22452728]], dtype=float32)"
      ]
     },
     "execution_count": 73,
     "metadata": {},
     "output_type": "execute_result"
    }
   ],
   "source": [
    "X"
   ]
  },
  {
   "cell_type": "code",
   "execution_count": 74,
   "metadata": {},
   "outputs": [],
   "source": [
    "y = train_generator.get_truth_vals()"
   ]
  },
  {
   "cell_type": "code",
   "execution_count": 75,
   "metadata": {},
   "outputs": [
    {
     "data": {
      "text/plain": [
       "array([2., 3., 3., ..., 4., 2., 1.])"
      ]
     },
     "execution_count": 75,
     "metadata": {},
     "output_type": "execute_result"
    }
   ],
   "source": [
    "y"
   ]
  },
  {
   "cell_type": "code",
   "execution_count": 76,
   "metadata": {},
   "outputs": [],
   "source": [
    "def log_truth_proportions(data_generator):\n",
    "    y = data_generator.get_truth_vals()\n",
    "    bins, counts = np.unique(y, return_counts=True)\n",
    "    proportions = counts / len(y)\n",
    "\n",
    "    for bin, proportion in zip(bins, proportions):\n",
    "        print(f\"Bin {bin}: {proportion*100:.2f}%\")"
   ]
  },
  {
   "cell_type": "code",
   "execution_count": 78,
   "metadata": {},
   "outputs": [
    {
     "name": "stdout",
     "output_type": "stream",
     "text": [
      "[2. 3. 3. ... 4. 2. 1.]\n",
      "800000\n",
      "4.0\n",
      "0.0\n",
      "(array([0., 1., 2., 3., 4.]), array([192105, 117764, 222180, 184522,  83429]))\n"
     ]
    }
   ],
   "source": [
    "print(y)\n",
    "print(len(y))\n",
    "print(np.max(y))\n",
    "print(np.min(y))\n",
    "print(np.unique(y, return_counts=True))\n"
   ]
  },
  {
   "cell_type": "code",
   "execution_count": 79,
   "metadata": {},
   "outputs": [
    {
     "name": "stdout",
     "output_type": "stream",
     "text": [
      "Bin 0.0: 24.01%\n",
      "Bin 1.0: 14.72%\n",
      "Bin 2.0: 27.77%\n",
      "Bin 3.0: 23.07%\n",
      "Bin 4.0: 10.43%\n"
     ]
    }
   ],
   "source": [
    "log_truth_proportions(train_generator)"
   ]
  },
  {
   "cell_type": "code",
   "execution_count": 80,
   "metadata": {},
   "outputs": [
    {
     "name": "stdout",
     "output_type": "stream",
     "text": [
      "[2. 3. 3. ... 4. 2. 1.]\n"
     ]
    }
   ],
   "source": [
    "print(y)"
   ]
  },
  {
   "cell_type": "code",
   "execution_count": 81,
   "metadata": {},
   "outputs": [],
   "source": [
    "normalized_y = normalize_pixels(y)"
   ]
  },
  {
   "cell_type": "code",
   "execution_count": 82,
   "metadata": {},
   "outputs": [
    {
     "name": "stdout",
     "output_type": "stream",
     "text": [
      "[0.5  0.75 0.75 ... 1.   0.5  0.25]\n",
      "1.0\n",
      "0.0\n"
     ]
    }
   ],
   "source": [
    "print(normalized_y)\n",
    "print(np.max(normalized_y))\n",
    "print(np.min(normalized_y))"
   ]
  },
  {
   "cell_type": "code",
   "execution_count": 83,
   "metadata": {},
   "outputs": [
    {
     "name": "stdout",
     "output_type": "stream",
     "text": [
      "192105\n",
      "117764\n",
      "222180\n",
      "184522\n",
      "83429\n",
      "0\n"
     ]
    }
   ],
   "source": [
    "bins_0 = np.count_nonzero(y == 0)\n",
    "print(bins_0)\n",
    "bins_1 = np.count_nonzero(y == 1)\n",
    "print(bins_1)\n",
    "bins_2 = np.count_nonzero(y == 2)\n",
    "print(bins_2)\n",
    "bins_3 = np.count_nonzero(y == 3)\n",
    "print(bins_3)\n",
    "bins_4 = np.count_nonzero(y == 4)\n",
    "print(bins_4)\n",
    "bins_5 = np.count_nonzero(y == 5)\n",
    "print(bins_5)"
   ]
  },
  {
   "cell_type": "code",
   "execution_count": 84,
   "metadata": {},
   "outputs": [
    {
     "name": "stdout",
     "output_type": "stream",
     "text": [
      "0.24013125\n",
      "0.147205\n",
      "0.277725\n",
      "0.2306525\n",
      "0.10428625\n",
      "0.0\n"
     ]
    }
   ],
   "source": [
    "bins_0_percent = np.count_nonzero(y == 0) / len(y)\n",
    "print(bins_0_percent)\n",
    "bins_1_percent = np.count_nonzero(y == 1) / len(y)\n",
    "print(bins_1_percent)\n",
    "bins_2_percent = np.count_nonzero(y == 2) / len(y)\n",
    "print(bins_2_percent)\n",
    "bins_3_percent = np.count_nonzero(y == 3) / len(y)\n",
    "print(bins_3_percent)\n",
    "bins_4_percent = np.count_nonzero(y == 4) / len(y)\n",
    "print(bins_4_percent)\n",
    "bins_5_percent = np.count_nonzero(y == 5) / len(y)\n",
    "print(bins_5_percent)"
   ]
  },
  {
   "cell_type": "code",
   "execution_count": 86,
   "metadata": {},
   "outputs": [
    {
     "name": "stdout",
     "output_type": "stream",
     "text": [
      "[[0.00000000e+00 2.18741477e-01 1.00000000e+00 2.17841333e-03\n",
      "  2.49609813e-01 4.01406050e-01 9.54475328e-02]\n",
      " [9.14347824e-03 1.99921831e-01 1.00000000e+00 0.00000000e+00\n",
      "  2.28512034e-01 3.11699688e-01 6.62163123e-02]\n",
      " [7.62534235e-03 2.18875736e-01 1.00000000e+00 0.00000000e+00\n",
      "  2.50626802e-01 4.10211980e-01 7.63706416e-02]\n",
      " [5.24572795e-03 2.86141038e-01 1.00000000e+00 0.00000000e+00\n",
      "  3.23433876e-01 9.71112549e-01 1.18927665e-01]\n",
      " [3.02418647e-03 1.60404935e-01 4.80374455e-01 0.00000000e+00\n",
      "  1.80504546e-01 1.00000000e+00 7.55406022e-02]\n",
      " [3.46051971e-03 1.47425473e-01 4.45894122e-01 0.00000000e+00\n",
      "  1.65480942e-01 1.00000000e+00 7.11755604e-02]\n",
      " [5.09469677e-03 1.81433633e-01 5.68702102e-01 0.00000000e+00\n",
      "  2.03123480e-01 1.00000000e+00 8.74024704e-02]\n",
      " [6.76979590e-03 2.59662390e-01 1.00000000e+00 0.00000000e+00\n",
      "  2.93149531e-01 8.77770662e-01 1.12459905e-01]\n",
      " [7.51874968e-03 2.01480120e-01 1.00000000e+00 0.00000000e+00\n",
      "  2.31240883e-01 3.86830688e-01 7.76062608e-02]\n",
      " [7.33398274e-03 1.63803175e-01 1.00000000e+00 0.00000000e+00\n",
      "  1.88432217e-01 3.53138000e-01 5.40959649e-02]\n",
      " [4.00942704e-03 1.85961694e-01 1.00000000e+00 0.00000000e+00\n",
      "  2.10902855e-01 4.98249680e-01 6.47188723e-02]\n",
      " [2.20418558e-03 1.99296892e-01 1.00000000e+00 0.00000000e+00\n",
      "  2.27298647e-01 6.25732481e-01 7.18394816e-02]\n",
      " [3.79779702e-03 1.95045978e-01 1.00000000e+00 0.00000000e+00\n",
      "  2.21215695e-01 8.42889249e-01 7.30729327e-02]\n",
      " [4.71526012e-03 1.98512152e-01 1.00000000e+00 0.00000000e+00\n",
      "  2.25889310e-01 6.33463085e-01 7.78084844e-02]\n",
      " [3.78633849e-03 1.90621898e-01 1.00000000e+00 0.00000000e+00\n",
      "  2.18191803e-01 3.86269867e-01 7.49901906e-02]\n",
      " [4.84967045e-03 2.39263266e-01 1.00000000e+00 0.00000000e+00\n",
      "  2.81547189e-01 3.77441347e-01 1.08434074e-01]\n",
      " [2.14663427e-03 2.92001367e-01 1.00000000e+00 0.00000000e+00\n",
      "  3.35404545e-01 8.49965096e-01 1.25925884e-01]\n",
      " [2.58600363e-03 2.96556145e-01 1.00000000e+00 0.00000000e+00\n",
      "  3.47524673e-01 7.34267056e-01 1.32745788e-01]\n",
      " [6.16921391e-03 2.35940054e-01 1.00000000e+00 0.00000000e+00\n",
      "  2.64421374e-01 3.89104545e-01 8.61140043e-02]\n",
      " [8.38419516e-03 2.10678741e-01 1.00000000e+00 0.00000000e+00\n",
      "  2.41074592e-01 3.38991940e-01 6.93756416e-02]\n",
      " [9.47100110e-03 2.24815652e-01 1.00000000e+00 0.00000000e+00\n",
      "  2.58251965e-01 3.52643013e-01 7.61328042e-02]\n",
      " [7.38335680e-03 2.69628227e-01 1.00000000e+00 0.00000000e+00\n",
      "  3.06888610e-01 8.93504918e-01 1.09319374e-01]\n",
      " [5.94371371e-03 2.90086180e-01 9.95009840e-01 0.00000000e+00\n",
      "  3.28552604e-01 1.00000000e+00 1.19382754e-01]\n",
      " [6.13458268e-03 2.67731041e-01 1.00000000e+00 0.00000000e+00\n",
      "  3.04784358e-01 9.43007052e-01 1.08223811e-01]\n",
      " [9.33877286e-03 2.28105843e-01 1.00000000e+00 0.00000000e+00\n",
      "  2.58906543e-01 8.90569270e-01 9.09385607e-02]\n",
      " [5.59973158e-03 1.96126759e-01 1.00000000e+00 0.00000000e+00\n",
      "  2.20368281e-01 6.89391732e-01 7.75169209e-02]\n",
      " [8.90891254e-03 1.93034202e-01 1.00000000e+00 0.00000000e+00\n",
      "  2.18340561e-01 5.17065108e-01 7.78797716e-02]\n",
      " [5.35262749e-03 1.90069199e-01 1.00000000e+00 0.00000000e+00\n",
      "  2.19844103e-01 5.63020051e-01 7.64162391e-02]\n",
      " [4.01382148e-03 1.82879776e-01 1.00000000e+00 0.00000000e+00\n",
      "  2.09582567e-01 5.31578898e-01 7.20100850e-02]\n",
      " [2.98056169e-03 1.85830131e-01 1.00000000e+00 0.00000000e+00\n",
      "  2.12176621e-01 5.06004810e-01 7.39280730e-02]\n",
      " [3.12703755e-03 1.80930004e-01 1.00000000e+00 0.00000000e+00\n",
      "  2.06494316e-01 5.73245287e-01 7.49984682e-02]\n",
      " [6.02982007e-03 2.11987048e-01 1.00000000e+00 0.00000000e+00\n",
      "  2.41969138e-01 5.64525843e-01 9.42527279e-02]\n",
      " [4.18412033e-04 2.37637833e-01 1.00000000e+00 0.00000000e+00\n",
      "  2.73229659e-01 4.89582509e-01 1.13282345e-01]\n",
      " [0.00000000e+00 3.53042811e-01 1.00000000e+00 4.14115191e-03\n",
      "  4.13947374e-01 6.43731654e-01 1.89440265e-01]\n",
      " [0.00000000e+00 3.70330065e-01 1.00000000e+00 5.97482640e-03\n",
      "  4.32086974e-01 7.62160420e-01 1.99468091e-01]\n",
      " [0.00000000e+00 3.40233088e-01 1.00000000e+00 5.93370385e-03\n",
      "  3.94487023e-01 6.96304142e-01 1.85556501e-01]\n",
      " [0.00000000e+00 3.45505565e-01 1.00000000e+00 9.94533673e-03\n",
      "  3.97287905e-01 8.03114831e-01 1.75765753e-01]\n",
      " [0.00000000e+00 3.43145370e-01 1.00000000e+00 7.68391788e-03\n",
      "  3.97987545e-01 7.63911605e-01 1.80040985e-01]\n",
      " [0.00000000e+00 3.53559703e-01 1.00000000e+00 4.90016211e-03\n",
      "  4.09022033e-01 8.39121044e-01 1.80835485e-01]\n",
      " [3.86616215e-03 2.69973636e-01 1.00000000e+00 0.00000000e+00\n",
      "  3.01592112e-01 7.04266310e-01 1.11126691e-01]\n",
      " [6.74884394e-03 2.90312469e-01 1.00000000e+00 0.00000000e+00\n",
      "  3.23051155e-01 7.75853574e-01 1.24380760e-01]\n",
      " [2.63842894e-03 2.75349826e-01 1.00000000e+00 0.00000000e+00\n",
      "  3.09573978e-01 8.70066345e-01 1.11425661e-01]\n",
      " [2.11664732e-03 2.69721597e-01 9.40185726e-01 0.00000000e+00\n",
      "  3.03876579e-01 1.00000000e+00 1.15729712e-01]\n",
      " [2.68713944e-03 2.65671879e-01 1.00000000e+00 0.00000000e+00\n",
      "  2.99466968e-01 7.99785614e-01 1.14271469e-01]\n",
      " [5.33694914e-03 2.71648675e-01 1.00000000e+00 0.00000000e+00\n",
      "  3.02214414e-01 6.72558010e-01 1.13021046e-01]\n",
      " [3.50647373e-03 2.28792742e-01 1.00000000e+00 0.00000000e+00\n",
      "  2.56498516e-01 4.38464999e-01 9.01472196e-02]\n",
      " [4.30546515e-03 2.72925436e-01 9.77646768e-01 0.00000000e+00\n",
      "  3.07824194e-01 1.00000000e+00 1.07556820e-01]\n",
      " [4.72892588e-03 2.44934857e-01 8.27474356e-01 0.00000000e+00\n",
      "  2.74983227e-01 1.00000000e+00 1.09594621e-01]\n",
      " [3.04689910e-03 2.35343203e-01 1.00000000e+00 0.00000000e+00\n",
      "  2.69254476e-01 4.39156592e-01 1.10029921e-01]\n",
      " [7.63207790e-04 1.88118294e-01 1.00000000e+00 0.00000000e+00\n",
      "  2.18859017e-01 3.91838193e-01 8.25075731e-02]]\n",
      "(50, 7)\n",
      "[2 3 3 2 3 2 3 3 3 4 3 3 3 3 2 3 2 2 1 2 3 2 3 1 3 3 2 3 3 3 2 2 3 3 0 1 4\n",
      " 2 3 1 3 1 2 3 3 2 3 2 3 1]\n",
      "(50,)\n"
     ]
    }
   ],
   "source": [
    "# print(train_generator[0])\n",
    "# print(train_generator[0].shape)\n",
    "x, y = train_generator[0]\n",
    "print(x)\n",
    "print(x.shape)\n",
    "print(y)\n",
    "print(y.shape)"
   ]
  },
  {
   "cell_type": "code",
   "execution_count": 89,
   "metadata": {},
   "outputs": [],
   "source": [
    "def log_params(params, parent_key=''):\n",
    "    for k, v in params.items():\n",
    "        new_key = f\"{parent_key} / {k}\" if parent_key else k\n",
    "        if isinstance(v, dict):\n",
    "            log_params(v, new_key)\n",
    "        elif isinstance(v, list):\n",
    "            for i, item in enumerate(v):\n",
    "                if isinstance(item, dict):\n",
    "                    log_params(item, f\"{new_key} / {i+1}\")\n",
    "                else:\n",
    "                    print(f\"{new_key} / {i+1}\", item)\n",
    "        else:\n",
    "            print(new_key, v)"
   ]
  },
  {
   "cell_type": "code",
   "execution_count": 90,
   "metadata": {},
   "outputs": [],
   "source": [
    "def log_params(params, parent_key=''):\n",
    "    for k, v in params.items():\n",
    "        new_key = f\"{parent_key} / {k}\" if parent_key else k\n",
    "        if isinstance(v, dict):\n",
    "            for key, value in v.items():\n",
    "                mlflow.log_param(f\"{key}\", value)\n",
    "        elif isinstance(v, list):\n",
    "            for i, item in enumerate(v):\n",
    "                if isinstance(item, dict):\n",
    "                    log_params(item, f\"{new_key} / {i+1}\")\n",
    "                else:\n",
    "                    mlflow.log_param(f\"{new_key} / {i+1}\", item)\n",
    "        else:\n",
    "            mlflow.log_param(new_key, v)\n"
   ]
  },
  {
   "cell_type": "code",
   "execution_count": 91,
   "metadata": {},
   "outputs": [
    {
     "name": "stdout",
     "output_type": "stream",
     "text": [
      " NEXT MODEL \n"
     ]
    }
   ],
   "source": [
    "for model_config in models_config:\n",
    "    log_params(model_config)\n",
    "    print(\" NEXT MODEL \")"
   ]
  },
  {
   "cell_type": "code",
   "execution_count": null,
   "metadata": {},
   "outputs": [],
   "source": []
  }
 ],
 "metadata": {
  "kernelspec": {
   "display_name": "ILAB Kernel (TensorFlow)",
   "language": "python",
   "name": "tensorflow-kernel"
  },
  "language_info": {
   "codemirror_mode": {
    "name": "ipython",
    "version": 3
   },
   "file_extension": ".py",
   "mimetype": "text/x-python",
   "name": "python",
   "nbconvert_exporter": "python",
   "pygments_lexer": "ipython3",
   "version": "3.8.16"
  }
 },
 "nbformat": 4,
 "nbformat_minor": 4
}
