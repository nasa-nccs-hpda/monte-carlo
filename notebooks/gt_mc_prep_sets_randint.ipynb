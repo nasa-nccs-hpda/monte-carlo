{
 "cells": [
  {
   "cell_type": "code",
   "execution_count": 1,
   "metadata": {},
   "outputs": [],
   "source": [
    "#!python /home/gtamkin/_AGB-dev/mpf-model-factories/MultiPathFusion/multi_path_fusion/notebooks/glenn/gt_mc_prep_sets.py"
   ]
  },
  {
   "cell_type": "code",
   "execution_count": 2,
   "metadata": {},
   "outputs": [],
   "source": [
    "bandLen = 0  # aggregate number of indices\n",
    "batch_size = 0\n",
    "max_num_occurences = 0"
   ]
  },
  {
   "cell_type": "code",
   "execution_count": 3,
   "metadata": {},
   "outputs": [],
   "source": [
    "from random import seed\n",
    "from random import randint\n",
    "def randint_sample(bandLen, batch_size):\n",
    "    random_set = []\n",
    "    #seed()\n",
    "    # generate some integers\n",
    "    for _ in range(10):\n",
    "     random_set.append(str(randint(1, bandLen)))\n",
    "#    print(random_set)    \n",
    "    return random_set"
   ]
  },
  {
   "cell_type": "code",
   "execution_count": 34,
   "metadata": {},
   "outputs": [],
   "source": [
    "import numpy as np\n",
    "\n",
    "from datetime import datetime\n",
    "import socket\n",
    "\n",
    "start_time = datetime.now()\n",
    "\n",
    "spectrum = \"NEON\"\n",
    "#spectrum = \"VI\"\n",
    "#spectrum = \"ALL\"\n",
    "\n",
    "if (spectrum == \"ALL\"):\n",
    "\n",
    "    # aggregate number of indices (426 + 21)\n",
    "    bandLen = 447  # aggregate number of indices\n",
    "    batch_size = 10\n",
    "#    max_num_occurences = 50\n",
    "#    max_num_occurences = 200\n",
    "    max_num_occurences = 10\n",
    "\n",
    "elif (spectrum == \"NEON\"):\n",
    "\n",
    "    # Full indices (#426)\n",
    "    bandLen = 426  # number indices in index file (large file)\n",
    "    batch_size = 10\n",
    "    max_num_occurences = 10\n",
    "#    max_num_occurences = 100\n",
    "#    max_num_occurences = 50\n",
    "\n",
    "else:\n",
    "\n",
    "    # Partial indices (#21)\n",
    "    bandLen = 21  # number of bands in original hyperspectral file\n",
    "    batch_size = 10\n",
    "    max_num_occurences = 50\n",
    "#    max_num_occurences = 100\n",
    "    max_num_occurences = 10\n",
    "\n",
    "MLBS_2018_band_baseline = []\n",
    "for i in range(bandLen):\n",
    "    MLBS_2018_band_baseline.append(str(i + 1))\n",
    "bands = MLBS_2018_band_baseline"
   ]
  },
  {
   "cell_type": "markdown",
   "metadata": {},
   "source": [
    "# Generate sets of random indices"
   ]
  },
  {
   "cell_type": "code",
   "execution_count": 35,
   "metadata": {},
   "outputs": [
    {
     "name": "stdout",
     "output_type": "stream",
     "text": [
      "[0 0 0 0 0 0 0 0 0 0 0 0 0 0 0 0 0 0 0 0 0 0 0 0 0 0 0 0 0 0 0 0 0 0 0 0 0\n",
      " 0 0 0 0 0 0 0 0 0 0 0 0 0 0 0 0 0 0 0 0 0 0 0 0 0 0 0 0 0 0 0 0 0 0 0 0 0\n",
      " 0 0 0 0 0 0 0 0 0 0 0 0 0 0 0 0 0 0 0 0 0 0 0 0 0 0 0 0 0 0 0 0 0 0 0 0 0\n",
      " 0 0 0 0 0 0 0 0 0 0 0 0 0 0 0 0 0 0 0 0 0 0 0 0 0 0 0 0 0 0 0 0 0 0 0 0 0\n",
      " 0 0 0 0 0 0 0 0 0 0 0 0 0 0 0 0 0 0 0 0 0 0 0 0 0 0 0 0 0 0 0 0 0 0 0 0 0\n",
      " 0 0 0 0 0 0 0 0 0 0 0 0 0 0 0 0 0 0 0 0 0 0 0 0 0 0 0 0 0 0 0 0 0 0 0 0 0\n",
      " 0 0 0 0 0 0 0 0 0 0 0 0 0 0 0 0 0 0 0 0 0 0 0 0 0 0 0 0 0 0 0 0 0 0 0 0 0\n",
      " 0 0 0 0 0 0 0 0 0 0 0 0 0 0 0 0 0 0 0 0 0 0 0 0 0 0 0 0 0 0 0 0 0 0 0 0 0\n",
      " 0 0 0 0 0 0 0 0 0 0 0 0 0 0 0 0 0 0 0 0 0 0 0 0 0 0 0 0 0 0 0 0 0 0 0 0 0\n",
      " 0 0 0 0 0 0 0 0 0 0 0 0 0 0 0 0 0 0 0 0 0 0 0 0 0 0 0 0 0 0 0 0 0 0 0 0 0\n",
      " 0 0 0 0 0 0 0 0 0 0 0 0 0 0 0 0 0 0 0 0 0 0 0 0 0 0 0 0 0 0 0 0 0 0 0 0 0\n",
      " 0 0 0 0 0 0 0 0 0 0 0 0 0 0 0 0 0 0 0]\n"
     ]
    }
   ],
   "source": [
    "bandOccurenceArr = np.zeros(bandLen).astype(int)\n",
    "print(bandOccurenceArr)\n",
    "bandAbsSumArr = np.zeros(bandLen)\n",
    "bandMaxArr = np.zeros(bandLen)\n",
    "bandMinArr = np.zeros(bandLen)\n",
    "bandAvgArr = np.zeros(bandLen)"
   ]
  },
  {
   "cell_type": "code",
   "execution_count": 36,
   "metadata": {
    "tags": []
   },
   "outputs": [
    {
     "name": "stdout",
     "output_type": "stream",
     "text": [
      "Processing complete! len(maxed_out_list): 426\n",
      "final tally:  [31 33 28 28 23 27 26 23 25 23 16 33 24 23 24 27 17 23 24 20 18 25 32 19\n",
      " 35 35 32 31 27 35 17 18 23 31 31 28 23 31 26 32 32 23 23 32 26 34 19 25\n",
      " 27 24 17 18 27 26 26 23 25 30 28 27 32 25 30 20 25 24 35 22 33 24 36 20\n",
      " 24 33 27 27 22 24 35 29 21 25 28 20 17 31 27 27 25 39 28 24 34 21 19 23\n",
      " 18 28 21 16 27 21 29 18 22 33 21 20 23 25 21 36 28 25 21 26 25 32 34 24\n",
      " 25 23 25 25 33 24 29 24 19 22 27 22 25 23 25 32 19 30 26 25 24 27 11 30\n",
      " 24 31 28 20 17 29 17 27 16 22 24 20 23 21 20 20 25 24 22 23 38 27 34 27\n",
      " 19 13 30 27 24 33 26 24 26 28 15 22 26 23 28 25 27 25 19 15 28 27 28 27\n",
      " 23 24 22 30 30 37 28 21 36 27 26 35 23 31 26 25 21 26 28 20 26 20 26 28\n",
      " 29 27 26 26 28 19 17 18 34 30 22 31 21 30 30 21 29 28 28 32 28 24 17 31\n",
      " 35 27 27 17 17 21 28 25 35 30 23 16 22 23 30 28 38 35 25 21 27 23 18 31\n",
      " 22 25 22 22 27 18 27 29 26 25 33 26 18 29 24 24 17 37 27 19 20 43 26 26\n",
      " 29 30 20 20 28 30 28 22 30 21 23 25 29 30 24 23 20 28 16 23 28 25 23 32\n",
      " 25 17 24 23 23 29 25 20 24 28 27 26 26 15 26 27 25 23 27 27 26 23 29 23\n",
      " 26 29 25 21 14 38 25 23 22 34 28 23 17 26 36 18 30 32 23 25 19 21 30 22\n",
      " 31 35 23 35 22 38 27 26 26 23 26 28 29 22 23 26 24 24 23 24 28 25 27 24\n",
      " 22 25 21 20 24 18 28 21 30 25 15 13 21 23 19 23 26 30 34 21 25 28 20 29\n",
      " 19 27 33 16 22 18 31 24 28 17 29 21 19 22 29 25 29 22]\n",
      "num random_sets: 1080\n",
      "Saved { 1080 } random sets of { 10 } to file:  /explore/nobackup/projects/ilab/data/AGB/test/mcruns/input/random_sets/randint_sets_20240220_collection-NEON_min_occurrences-10_batch_size-10_num_samples-1080_bandLen-426.pkl\n",
      "Time elapsed on node [gpu004] = (hh:mm:ss.ms) 0:00:07.939446\n",
      "\n",
      "random_sets[0]: ['354', '87', '77', '198', '307', '112', '104', '320', '398', '406']\n"
     ]
    }
   ],
   "source": [
    "#from random import sample\n",
    "random_sets = []\n",
    "num_samples = 0\n",
    "\n",
    "max_num_samples = 250000\n",
    "not_finished = True\n",
    "bandFoundArr = np.zeros(bandLen).astype(int)\n",
    "maxed_out_list = []\n",
    "lastSavedBands = None\n",
    "shrinkSet = False\n",
    "dump = True\n",
    "\n",
    "while not_finished == True:\n",
    "#    random_set = sample(bands, batch_size)\n",
    "    random_set = randint_sample(bandLen, batch_size)\n",
    "    random_sets.append(random_set)\n",
    "\n",
    "    for i in range(len(random_set)):\n",
    "        # get band from band list\n",
    "        bandNum = random_set[i]\n",
    "\n",
    "        # increment Occurence value in the cell that contains the band number\n",
    "        bandFoundArr[int(bandNum)-1] = bandFoundArr[int(bandNum)-1] + 1\n",
    "    \n",
    "        for index in range(len(bandFoundArr)):\n",
    "                if (bandFoundArr[index-1] > max_num_occurences):\n",
    "                    if index not in maxed_out_list:\n",
    "                        maxed_out_list.append(index)\n",
    "                    if (shrinkSet == True):\n",
    "                        print('remove: ', index)\n",
    "                        bands.remove(index)\n",
    "                        print('maxed_out_list of bands = ', maxed_out_list)\n",
    "\n",
    "    num_samples = num_samples+1\n",
    "    if (num_samples > max_num_samples):\n",
    "        print(num_samples,' > ', max_num_samples)\n",
    "        not_finished = False\n",
    "        dump = False\n",
    "        break;    \n",
    "    if (len(maxed_out_list) == bandLen):\n",
    "        print('Processing complete! len(maxed_out_list):', len(maxed_out_list))\n",
    "        not_finished = False\n",
    "        break;\n",
    "\n",
    "print('final tally: ', bandFoundArr)\n",
    "print('num random_sets:', len(random_sets))\n",
    "\n",
    "if (dump == True):\n",
    "    date = '20240220'\n",
    "#    version = date + '_shrink_' + str(shrinkSet)\n",
    "    version = date\n",
    "\n",
    "    import pickle\n",
    "    random_set_file = '/explore/nobackup/projects/ilab/data/AGB/test/mcruns/input/random_sets/randint_sets_' + version + '_' \\\n",
    "        + 'collection-' + str(spectrum) + '_min_occurrences-' + str(max_num_occurences) + '_batch_size-' + str(batch_size) + '_num_samples-' + str(num_samples) + '_bandLen-' + str(bandLen) + '.pkl'\n",
    "    # random_set_file = '/explore/nobackup/projects/ilab/data/AGB/test/mlruns/random_sets/random_sets_' + version + '_' \\\n",
    "    #     + 'collection_' + str(spectrum) + '_batch_size=' + str(batch_size) + '_num_samples=' + str(num_samples) + '_bandLen=' + str(bandLen) + '_' + version + '.pkl'\n",
    "    pickle.dump(random_sets, open(random_set_file , \"wb\"))\n",
    "    print('Saved {', str(len(random_sets)), '} random sets of {', batch_size,'} to file: ', random_set_file)\n",
    "\n",
    "time_elapsed = datetime.now() - start_time\n",
    "print('Time elapsed on node [{}] = (hh:mm:ss.ms) {}'.format(socket.gethostname(), time_elapsed))\n",
    "\n",
    "print('\\nrandom_sets[0]:', random_sets[0])\n"
   ]
  },
  {
   "cell_type": "code",
   "execution_count": 37,
   "metadata": {
    "tags": []
   },
   "outputs": [
    {
     "name": "stdout",
     "output_type": "stream",
     "text": [
      "1080 ['354', '87', '77', '198', '307', '112', '104', '320', '398', '406']\n"
     ]
    }
   ],
   "source": [
    "random_sets_r = pickle.load(open(random_set_file, \"rb\"))   \n",
    "print(len(random_sets_r), random_sets_r[0])"
   ]
  },
  {
   "cell_type": "code",
   "execution_count": null,
   "metadata": {},
   "outputs": [],
   "source": []
  },
  {
   "cell_type": "code",
   "execution_count": 8,
   "metadata": {},
   "outputs": [
    {
     "name": "stdout",
     "output_type": "stream",
     "text": [
      "10897 ['42', '408', '361', '230', '138', '398', '162', '398', '187', '417']\n"
     ]
    }
   ],
   "source": [
    "_random_set_file = '/explore/nobackup/projects/ilab/data/AGB/test/mcruns/input/random_sets/randint_sets_20240217_collection-ALL_max_occurrences-200_batch_size-10_num_samples-10897_bandLen-447.pkl'\n",
    "random_sets_r = pickle.load(open(_random_set_file, \"rb\"))   \n",
    "print(len(random_sets_r),random_sets_r[0])"
   ]
  },
  {
   "cell_type": "code",
   "execution_count": null,
   "metadata": {},
   "outputs": [],
   "source": [
    "import pandas as pd\n",
    "df = pd.DataFrame(random_sets_r)\n",
    "df"
   ]
  },
  {
   "cell_type": "code",
   "execution_count": null,
   "metadata": {},
   "outputs": [],
   "source": []
  }
 ],
 "metadata": {
  "kernelspec": {
   "display_name": "Python [conda env:ilab-tensorflow]",
   "language": "python",
   "name": "conda-env-ilab-tensorflow-py"
  },
  "language_info": {
   "codemirror_mode": {
    "name": "ipython",
    "version": 3
   },
   "file_extension": ".py",
   "mimetype": "text/x-python",
   "name": "python",
   "nbconvert_exporter": "python",
   "pygments_lexer": "ipython3",
   "version": "3.8.16"
  }
 },
 "nbformat": 4,
 "nbformat_minor": 4
}
