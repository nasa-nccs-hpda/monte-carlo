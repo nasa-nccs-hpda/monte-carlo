{
 "cells": [
  {
   "cell_type": "markdown",
   "metadata": {},
   "source": [
    "# Runtime Dashboard"
   ]
  },
  {
   "cell_type": "markdown",
   "metadata": {},
   "source": [
    "## Bottom line as of 01/31/2024 - Completed aggregate runs of 447 bands with minimum of 10 occurrences\n",
    "### Typically took >9 hours and only finished serially on a single gpu.  Jobs spread across ilabXXX ended with defunct processes.  "
   ]
  },
  {
   "cell_type": "code",
   "execution_count": 2,
   "metadata": {},
   "outputs": [],
   "source": [
    "import shap\n",
    "import numpy as np\n",
    "import pickle\n",
    "import glob\n",
    "import pandas as pd"
   ]
  },
  {
   "cell_type": "code",
   "execution_count": 3,
   "metadata": {},
   "outputs": [],
   "source": [
    "import sys\n",
    "sys.path.append('/explore/nobackup/people/gtamkin/dev/AGB/mpf-model-factories/MultiPathFusion')\n",
    "sys.path.append('/explore/nobackup/people/gtamkin/dev/AGB/monte-carlo/monte-carlo')"
   ]
  },
  {
   "cell_type": "markdown",
   "metadata": {
    "tags": []
   },
   "source": [
    "## Check status of runs"
   ]
  },
  {
   "cell_type": "markdown",
   "metadata": {},
   "source": [
    "## Bottom line as of 01/16/2024 - Never converged:  50 or above epochs, 10 epochs in progress (>= 24 hours), completed runs of 3 epochs (11 hours)"
   ]
  },
  {
   "cell_type": "markdown",
   "metadata": {
    "tags": []
   },
   "source": [
    "### Aggregate run for 477 bands [21 hyperspectral bands + 426 NEON Reflectance bands] processed in random sets of 10 bands until all bands have participated in at least 10 trials [1088 subsets of bands]"
   ]
  },
  {
   "cell_type": "markdown",
   "metadata": {
    "tags": []
   },
   "source": [
    "## -----------------------------------------------------------------\n",
    "## COMPLETED runs\n",
    "## -----------------------------------------------------------------"
   ]
  },
  {
   "cell_type": "code",
   "execution_count": 11,
   "metadata": {},
   "outputs": [
    {
     "name": "stdout",
     "output_type": "stream",
     "text": [
      "1088\n",
      "1088\n",
      "1088\n"
     ]
    }
   ],
   "source": [
    "#Time elapsed on node [gpu004] = (hh:mm:ss.ms) 10:04:32.980461 + Time elapsed on node [gpu004] = (hh:mm:ss.ms) 0:09:38.625174\n",
    "\n",
    "# (base) gtamkin@gpu004:/home/gtamkin$ sh /home/gtamkin/_AGB-dev/monte-carlo/monte-carlo/tests/pdsh-aggregate.sh 2>&1 | tee -a /explore/nobackup/projects/ilab/data/AGB/test/mlruns/aggregate/exp_202410130-gpu004-40cpus-callbacks-divideby10k_noMinMax.out &\n",
    "#\n",
    "# cd /panfs/ccds02/home/gtamkin/dev/AGB/monte-carlo/monte-carlo\n",
    "# /panfs/ccds02/app/modules/anaconda/platform/x86_64/rhel/8.6/3-2022.05/bin/conda activate ilab-tensorflow\n",
    "# export PYTHONPATH=/explore/nobackup/people/gtamkin/dev/AGB/mpf-model-factories/MultiPathFusion:/explore/nobackup/people/gtamkin/dev/AGB/monte-carlo/monte-carlo\n",
    "# sleep 5\n",
    "# /app/jupyter/ilab/tensorflow-kernel/bin/python3.8 /panfs/ccds02/nobackup/people/gtamkin/dev/AGB/monte-carlo/monte-carlo/mc/view/MpfSimulationMultiprocess.py \\\n",
    "#    --config ./tests/exp_aggregate_hyperspectral_callbacks_noMinMax.json -o /explore/nobackup/projects/ilab/data/AGB/test/mlruns/aggregate/202410130-gpu004-40cpus-callbacks-divideby10k_noMinMax  \\\n",
    "#    --bandListFile /explore/nobackup/projects/ilab/data/AGB/test/mlruns/random_sets/random_sets_20240111_shrink_False_num_samples_1088_bandLen_447 \\\n",
    "#    -hf /explore/nobackup/projects/ilab/data/AGB/test/mlruns/aggregate/MLBS_2018_541567.6_4136443.0_542567.6_4137443.0-hyperspectral-aggregate.separate-background-scaled.tif \\\n",
    "#    -t 1500\n",
    "results_dir_cpu = '/explore/nobackup/projects/ilab/data/AGB/test/mlruns/aggregate/202410130-gpu004-40cpus-callbacks-divideby10k_noMinMax/225919640119481430'\n",
    "!ls -alRt $results_dir_cpu/MODELS/ | grep '\\]\\.model:' | wc -l\n",
    "!ls -alRt $results_dir_cpu/MODELS/ | grep '\\]\\.test' | wc -l\n",
    "!ls -alRt $results_dir_cpu/PERMUTATION_IMPORTANCE_VALUES/ | grep shap |wc -l"
   ]
  },
  {
   "cell_type": "code",
   "execution_count": 3,
   "metadata": {},
   "outputs": [
    {
     "name": "stdout",
     "output_type": "stream",
     "text": [
      "1073\n",
      "1089\n",
      "1089\n"
     ]
    }
   ],
   "source": [
    "# Time elapsed on node [gpu001] = (hh:mm:ss.ms) 9:44:57.880395 + Time elapsed on node [gpu001] = (hh:mm:ss.ms) 0:06:41.794386\n",
    "\n",
    "# (base) gtamkin@gpu001:/home/gtamkin$ sh /home/gtamkin/_AGB-dev/monte-carlo/monte-carlo/tests/pdsh-aggregate.sh 2>&1 | tee -a /explore/nobackup/projects/ilab/data/AGB/test/mlruns/aggregate/exp_aggregate-20240125-gpu001-callbacks-divideby10k_noMinMax.out &\n",
    "\n",
    "# (base) gtamkin@gpu001:/home/gtamkin$ free -g | grep Mem\n",
    "# Mem:            754         235         180           0         337         427\n",
    "\n",
    "# (base) gtamkin@gpu001:/home/gtamkin$ cat /proc/cpuinfo | grep processor | wc -l\n",
    "# 40\n",
    "\n",
    "# /app/jupyter/ilab/tensorflow-kernel/bin/python3.8 /panfs/ccds02/nobackup/people/gtamkin/dev/AGB/monte-carlo/monte-carlo/mc/view/MpfSimulationMultiprocess.py \\\n",
    "#    --config ./tests/exp_aggregate_hyperspectral_callbacks_noMinMax.json -o /explore/nobackup/projects/ilab/data/AGB/test/mlruns/aggregate/20241025-gpu001-callbacks-divideby10k_noMinMax \\\n",
    "#    --bandListFile /explore/nobackup/projects/ilab/data/AGB/test/mlruns/random_sets/random_sets_20240111_shrink_False_num_samples_1088_bandLen_447 \\\n",
    "#    -hf /explore/nobackup/projects/ilab/data/AGB/test/mlruns/aggregate/MLBS_2018_541567.6_4136443.0_542567.6_4137443.0-hyperspectral-aggregate.separate-background-scaled.tif \\\n",
    "#    -t 1300 \n",
    "results_dir_cpu = '/explore/nobackup/projects/ilab/data/AGB/test/mlruns/aggregate/202410125-gpu001-callbacks-divideby10k_noMinMax/393911649901623133'\n",
    "!ls -alRt $results_dir_cpu/MODELS/ | grep '\\]\\.model:' | wc -l\n",
    "!ls -alRt $results_dir_cpu/MODELS/ | grep '\\]\\.test' | wc -l\n",
    "!ls -alRt $results_dir_cpu/PERMUTATION_IMPORTANCE_VALUES/ | grep shap |wc -l"
   ]
  },
  {
   "cell_type": "markdown",
   "metadata": {
    "tags": []
   },
   "source": [
    "### gpu001: 50 Epochs (w/ EarlyStopping callbacks) after scaling NEON by 10,000 - NO bands normalized (\"scale_data_method\": \"None\")"
   ]
  },
  {
   "cell_type": "code",
   "execution_count": 4,
   "metadata": {},
   "outputs": [
    {
     "name": "stdout",
     "output_type": "stream",
     "text": [
      "1088\n",
      "1088\n",
      "1088\n"
     ]
    }
   ],
   "source": [
    "# /app/jupyter/ilab/tensorflow-kernel/bin/python3.8 /panfs/ccds02/nobackup/people/gtamkin/dev/AGB/monte-carlo/monte-carlo/mc/view/MpfSimulationMultiprocess.py \\\n",
    "#    --config ./tests/exp_aggregate_hyperspectral_callbacks_noMinMax.json -o /explore/nobackup/projects/ilab/data/AGB/test/mlruns/aggregate/20241021b-gpu001-callbacks-divideby10k_noMinMax \\\n",
    "#    --bandListFile /explore/nobackup/projects/ilab/data/AGB/test/mlruns/random_sets/random_sets_20240111_shrink_False_num_samples_1088_bandLen_447 \\\n",
    "#    -hf /explore/nobackup/projects/ilab/data/AGB/test/mlruns/aggregate/MLBS_2018_541567.6_4136443.0_542567.6_4137443.0-hyperspectral-aggregate.separate-background-scaled.tif \\\n",
    "#    -t 50 \\\n",
    "#    --shapArchive /explore/nobackup/projects/ilab/data/AGB/test/mlruns/aggregate/202410121b-gpu001-callbacks-divideby10k_noMinMax/971589025605583160/PERMUTATION_IMPORTANCE_VALUES/MLP_SGD_7_layers_1024_units_MAE_50_epochs_callbacks::971589025605583160.keras\n",
    "\n",
    "\n",
    "#Time elapsed on node [gpu001] = (hh:mm:ss.ms) 9:57:19.194150\n",
    "\n",
    "# base) gtamkin@gpu001:/home/gtamkin$ sh /panfs/ccds02/home/gtamkin/dev/AGB/monte-carlo/monte-carlo/tests/pdsh-aggregate.sh 2>&1 | tee -a /explore/nobackup/projects/ilab/data/AGB/test/mlruns/aggregate/exp_aggregate-20240121b-gpu001-callbacks-divideby10k_noMinMax.out &\n",
    "# /app/jupyter/ilab/tensorflow-kernel/bin/python3.8 /panfs/ccds02/nobackup/people/gtamkin/dev/AGB/monte-carlo/monte-carlo/mc/view/MpfSimulationMultiprocess.py \\\n",
    "#    --config ./tests/exp_aggregate_hyperspectral_callbacks_noMinMax.json -o /explore/nobackup/projects/ilab/data/AGB/test/mlruns/aggregate/20241021b-gpu001-callbacks-divideby10k_noMinMax \\\n",
    "#    --bandListFile /explore/nobackup/projects/ilab/data/AGB/test/mlruns/random_sets/random_sets_20240111_shrink_False_num_samples_1088_bandLen_447 \\\n",
    "#    -hf /explore/nobackup/projects/ilab/data/AGB/test/mlruns/aggregate/MLBS_2018_541567.6_4136443.0_542567.6_4137443.0-hyperspectral-aggregate.separate-background-scaled.tif \\\n",
    "#    -t 1300 \n",
    "\n",
    "results_dir_cpu = '/explore/nobackup/projects/ilab/data/AGB/test/mlruns/aggregate/202410121b-gpu001-callbacks-divideby10k_noMinMax/971589025605583160'\n",
    "!ls -alRt $results_dir_cpu/MODELS/ | grep '\\]\\.model:' | wc -l\n",
    "!ls -alRt $results_dir_cpu/MODELS/ | grep '\\]\\.test' | wc -l\n",
    "!ls -alRt $results_dir_cpu/PERMUTATION_IMPORTANCE_VALUES/ | grep shap |wc -l"
   ]
  },
  {
   "cell_type": "markdown",
   "metadata": {
    "tags": []
   },
   "source": [
    "### gpu001: 50 Epochs (w/ EarlyStopping callbacks) after scaling NEON by 10,000 - NO bands normalized (\"scale_data_method\": \"None\")"
   ]
  },
  {
   "cell_type": "code",
   "execution_count": 5,
   "metadata": {},
   "outputs": [
    {
     "name": "stdout",
     "output_type": "stream",
     "text": [
      "1088\n",
      "1088\n",
      "1088\n"
     ]
    }
   ],
   "source": [
    "# Time elapsed on node [gpu001] = (hh:mm:ss.ms) 9:38:07.808645\n",
    "# (base) gtamkin@gpu001:/home/gtamkin$ sh /panfs/ccds02/home/gtamkin/dev/AGB/monte-carlo/monte-carlo/tests/pdsh-aggregate.sh 2>&1 | tee -a /explore/nobackup/projects/ilab/data/AGB/test/mlruns/aggregate/exp_aggregate-20240121-gpu001-callbacks-divideby10k_noMinMax.out &\n",
    "\n",
    "# /app/jupyter/ilab/tensorflow-kernel/bin/python3.8 /panfs/ccds02/nobackup/people/gtamkin/dev/AGB/monte-carlo/monte-carlo/mc/view/MpfSimulationMultiprocess.py \\\n",
    "#    --config ./tests/exp_aggregate_hyperspectral_callbacks_noMinMax.json -o /explore/nobackup/projects/ilab/data/AGB/test/mlruns/aggregate/202410121-gpu001-callbacks-divideby10k_noMinMax \\\n",
    "#    --bandListFile /explore/nobackup/projects/ilab/data/AGB/test/mlruns/random_sets/random_sets_20240111_shrink_False_num_samples_1088_bandLen_447 \\\n",
    "#    -hf /explore/nobackup/projects/ilab/data/AGB/test/mlruns/aggregate/MLBS_2018_541567.6_4136443.0_542567.6_4137443.0-hyperspectral-aggregate.separate-background-scaled.tif \\\n",
    "#    -t 1300 \n",
    "\n",
    "results_dir_cpu = '/explore/nobackup/projects/ilab/data/AGB/test/mlruns/aggregate/202410121-gpu001-callbacks-divideby10k_noMinMax/916501809805875784'\n",
    "!ls -alRt $results_dir_cpu/MODELS/ | grep '\\]\\.model:' | wc -l\n",
    "!ls -alRt $results_dir_cpu/MODELS/ | grep '\\]\\.test' | wc -l\n",
    "!ls -alRt $results_dir_cpu/PERMUTATION_IMPORTANCE_VALUES/ | grep shap |wc -l"
   ]
  },
  {
   "cell_type": "markdown",
   "metadata": {
    "tags": []
   },
   "source": [
    "### gpu001: 50 Epochs (w/ EarlyStopping callbacks) after scaling NEON by 10,000 - NO bands normalized (\"scale_data_method\": \"None\")"
   ]
  },
  {
   "cell_type": "code",
   "execution_count": 6,
   "metadata": {},
   "outputs": [
    {
     "name": "stdout",
     "output_type": "stream",
     "text": [
      "1088\n",
      "1088\n",
      "1088\n"
     ]
    }
   ],
   "source": [
    "# Time elapsed on node [gpu001] = (hh:mm:ss.ms) 0:07:51.888057\n",
    "# (base) gtamkin@gpu001:/home/gtamkin$ \n",
    "\n",
    "# /app/jupyter/ilab/tensorflow-kernel/bin/python3.8 /panfs/ccds02/nobackup/people/gtamkin/dev/AGB/monte-carlo/monte-carlo/mc/view/MpfSimulationMultiprocess.py \\\n",
    "#    --config ./tests/exp_aggregate_hyperspectral_callbacks_noMinMax.json -o /explore/nobackup/projects/ilab/data/AGB/test/mlruns/aggregate/202410120-gpu001-callbacks-divideby10k_noMinMax \\\n",
    "#    --bandListFile /explore/nobackup/projects/ilab/data/AGB/test/mlruns/random_sets/random_sets_20240111_shrink_False_num_samples_1088_bandLen_447 \\\n",
    "#    -hf /explore/nobackup/projects/ilab/data/AGB/test/mlruns/aggregate/MLBS_2018_541567.6_4136443.0_542567.6_4137443.0-hyperspectral-aggregate.separate-background-scaled.tif \\\n",
    "#    -t 100 \\\n",
    "#    --shapArchive /explore/nobackup/projects/ilab/data/AGB/test/mlruns/aggregate/202410120-gpu001-callbacks-divideby10k_noMinMax/871912588490665214/PERMUTATION_IMPORTANCE_VALUES/MLP_SGD_7_layers_1024_units_MAE_50_epochs_callbacks::871912588490665214.keras\n",
    " \n",
    "\n",
    "# Time elapsed on node [gpu001] = (hh:mm:ss.ms) 9:29:50.877797\n",
    "# /panfs/ccds02/home/gtamkin/dev/AGB/monte-carlo/monte-carlo/tests/pdsh-aggregate.sh: line 18: t: command not found\n",
    "# (base) gtamkin@gpu001:/home/gtamkin$ sh /panfs/ccds02/home/gtamkin/dev/AGB/monte-carlo/monte-carlo/tests/pdsh-aggregate.sh 2>&1 | tee -a /explore/nobackup/projects/ilab/data/AGB/test/mlruns/aggregate/exp_aggregate-20240120-gpu001-callbacks-divideby10k_noMinMax.out\n",
    "# /app/jupyter/ilab/tensorflow-kernel/bin/python3.8 /panfs/ccds02/nobackup/people/gtamkin/dev/AGB/monte-carlo/monte-carlo/mc/view/MpfSimulationMultiprocess.py \\\n",
    "#    --config ./tests/exp_aggregate_hyperspectral_callbacks_noMinMax.json -o /explore/nobackup/projects/ilab/data/AGB/test/mlruns/aggregate/20241020-gpu001-callbacks-divideby10k_noMinMax \\\n",
    "#    --bandListFile /explore/nobackup/projects/ilab/data/AGB/test/mlruns/random_sets/random_sets_20240111_shrink_False_num_samples_1088_bandLen_447 \\\n",
    "#    -hf /explore/nobackup/projects/ilab/data/AGB/test/mlruns/aggregate/MLBS_2018_541567.6_4136443.0_542567.6_4137443.0-hyperspectral-aggregate.separate-background-scaled.tif \\\n",
    "#    -t 1200 \n",
    "results_dir_cpu = '/explore/nobackup/projects/ilab/data/AGB/test/mlruns/aggregate/202410120-gpu001-callbacks-divideby10k_noMinMax/871912588490665214'\n",
    "!ls -alRt $results_dir_cpu/MODELS/ | grep '\\]\\.model:' | wc -l\n",
    "!ls -alRt $results_dir_cpu/MODELS/ | grep '\\]\\.test' | wc -l\n",
    "!ls -alRt $results_dir_cpu/PERMUTATION_IMPORTANCE_VALUES/ | grep shap |wc -l"
   ]
  },
  {
   "cell_type": "markdown",
   "metadata": {
    "tags": []
   },
   "source": [
    "### CPU pdsh[201-212, 211]: 50 Epochs (w/ EarlyStopping callbacks) after scaling NEON by 10,000 - NO bands normalized (\"scale_data_method\": \"None\")\n",
    "#### - NO worries about too many model files, I had to merge two results directories"
   ]
  },
  {
   "cell_type": "code",
   "execution_count": 7,
   "metadata": {},
   "outputs": [
    {
     "name": "stdout",
     "output_type": "stream",
     "text": [
      "1152\n",
      "1124\n",
      "1088\n"
     ]
    }
   ],
   "source": [
    "results_dir_cpu = '/explore/nobackup/projects/ilab/data/AGB/test/mlruns/aggregate/202410120-callbacks-divideby10k_noMinMax/648862663793551468'\n",
    "!ls -alRt $results_dir_cpu/MODELS/ | grep '\\]\\.model:' | wc -l\n",
    "!ls -alRt $results_dir_cpu/MODELS/ | grep '\\]\\.test' | wc -l\n",
    "!ls -alRt $results_dir_cpu/PERMUTATION_IMPORTANCE_VALUES/ | grep shap |wc -l"
   ]
  },
  {
   "cell_type": "markdown",
   "metadata": {
    "tags": []
   },
   "source": [
    "### CPU pdsh[201-212]: 50 Epochs (w/ EarlyStopping callbacks) after scaling NEON by 10,000 - NO bands normalized (\"scale_data_method\": \"None\")"
   ]
  },
  {
   "cell_type": "code",
   "execution_count": 8,
   "metadata": {},
   "outputs": [
    {
     "name": "stdout",
     "output_type": "stream",
     "text": [
      "1088\n",
      "1088\n",
      "1088\n"
     ]
    }
   ],
   "source": [
    "#(base) gtamkin@ilab211:/explore/nobackup/projects/ilab/data/AGB/test/mlruns/aggregate$ pdsh -w ilab[201-212] sh /home/gtamkin/_AGB-dev/monte-carlo/monte-carlo/tests/pdsh-aggregate.sh ^C\n",
    "# ilab209: Time elapsed on node [ilab209] = (hh:mm:ss.ms) 4:06:16.993903 + Time elapsed on node [ilab209] = (hh:mm:ss.ms) 0:18:18.214783\n",
    "results_dir_cpu = '/explore/nobackup/projects/ilab/data/AGB/test/mlruns/aggregate/20241019-callbacks-divideby10k_noMinMax/964586160942144948'\n",
    "!ls -alRt $results_dir_cpu/MODELS/ | grep '\\]\\.model:' | wc -l\n",
    "!ls -alRt $results_dir_cpu/MODELS/ | grep '\\]\\.test' | wc -l\n",
    "!ls -alRt $results_dir_cpu/PERMUTATION_IMPORTANCE_VALUES/ | grep shap |wc -l"
   ]
  },
  {
   "cell_type": "markdown",
   "metadata": {
    "tags": []
   },
   "source": [
    "### gpu003: Epochs = 50 (w/ Early callbacks) and explainer.shap_values(X.iloc[0:50, :], nsamples=150) -  All bands normalized (\"scale_data_method\": \"minmax\")\n",
    "\n",
    "#### Time elapsed (hh:mm:ss.ms) 9:36:55.985009 + Time elapsed (hh:mm:ss.ms) 0:07:06.980348"
   ]
  },
  {
   "cell_type": "code",
   "execution_count": 9,
   "metadata": {},
   "outputs": [
    {
     "name": "stdout",
     "output_type": "stream",
     "text": [
      "1088\n",
      "1088\n",
      "1088\n"
     ]
    }
   ],
   "source": [
    "#(ilab-tensorflow) gtamkin@gpu003:/panfs/ccds02/home/gtamkin/dev/AGB/monte-carlo/monte-carlo$ python ./mc/view/MpfSimulationMultiprocess.py --config ./tests/exp_aggregate_hyperspectral_callbacks.json -o /explore/nobackup/projects/ilab/data/AGB/test/mlruns/aggregate/20240118-callbacks-gpu --bandListFile /explore/nobackup/projects/ilab/data/AGB/test/mlruns/random_sets/random_sets_20240111_shrink_False_num_samples_1088_bandLen_447 \n",
    "#. -hf /explore/nobackup/projects/ilab/data/AGB/test/mlruns/aggregate/MLBS_2018_541567.6_4136443.0_542567.6_4137443.0-hyperspectral-aggregate.separate-background.tif -t 1100 2>&1 | tee -a /explore/nobackup/projects/ilab/data/AGB/test/mlruns/aggregate/exp_aggregate_hyperspectral_20240117_gpu_50_epochs_bandLen_447_callbacks.out &\n",
    "results_dir_cpu = '/explore/nobackup/projects/ilab/data/AGB/test/mlruns/aggregate/20240118-callbacks-gpu/504373152637067057'\n",
    "!ls -alRt $results_dir_cpu/MODELS/ | grep '\\]\\.model:' | wc -l\n",
    "!ls -alRt $results_dir_cpu/MODELS/ | grep '\\]\\.test' | wc -l\n",
    "!ls -alRt $results_dir_cpu/PERMUTATION_IMPORTANCE_VALUES/ | grep shap |wc -l"
   ]
  },
  {
   "cell_type": "markdown",
   "metadata": {
    "tags": []
   },
   "source": [
    "### gpu003: Epochs = 50 (w/ Early callbacks) and explainer.shap_values(X.iloc[0:50, :], nsamples=150) -  All bands normalized (\"scale_data_method\": \"minmax\")\n",
    "#### [Time elapsed (hh:mm:ss.ms) 9:34:11.607509 + Time elapsed (hh:mm:ss.ms) 0:09:31.083978]"
   ]
  },
  {
   "cell_type": "code",
   "execution_count": 10,
   "metadata": {
    "tags": []
   },
   "outputs": [
    {
     "name": "stdout",
     "output_type": "stream",
     "text": [
      "1088\n",
      "1088\n",
      "1088\n"
     ]
    }
   ],
   "source": [
    "#(ilab-tensorflow) gtamkin@gpu003:/panfs/ccds02/home/gtamkin/dev/AGB/monte-carlo/monte-carlo$ python ./mc/view/MpfSimulationMultiprocess.py --config ./tests/exp_aggregate_hyperspectral_callbacks.json -o /explore/nobackup/projects/ilab/data/AGB/test/mlruns/aggregate/20240117-callbacks-gpu --bandListFile /explore/nobackup/projects/ilab/data/AGB/test/mlruns/random_sets/random_sets_20240111_shrink_False_num_samples_1088_bandLen_447 -hf /explore/nobackup/projects/ilab/data/AGB/test/mlruns/aggregate/MLBS_2018_541567.6_4136443.0_542567.6_4137443.0-hyperspectral-aggregate.separate-background.tif -t 1100 2>&1 | tee -a /explore/nobackup/projects/ilab/data/AGB/test/mlruns/aggregate/exp_aggregate_hyperspectral_20240117_gpu_50_epochs_bandLen_447_callbacks.out &\n",
    "#(ilab-tensorflow) gtamkin@gpu003:/panfs/ccds02/home/gtamkin/dev/AGB/monte-carlo/monte-carlo$ cat /proc/cpuinfo | grep processor | wc -l\n",
    "# 40\n",
    "results_dir_cpu = '/explore/nobackup/projects/ilab/data/AGB/test/mlruns/aggregate/20240117-callbacks-gpu/660588493840123655'\n",
    "!ls -alRt $results_dir_cpu/MODELS/ | grep '\\]\\.model:' | wc -l\n",
    "!ls -alRt $results_dir_cpu/MODELS/ | grep '\\]\\.test' | wc -l\n",
    "!ls -alRt $results_dir_cpu/PERMUTATION_IMPORTANCE_VALUES/ | grep shap |wc -l"
   ]
  },
  {
   "cell_type": "markdown",
   "metadata": {
    "tags": []
   },
   "source": [
    "### GPU: Epochs = 3 and explainer.shap_values(X.iloc[0:50, :], nsamples=150) -  All bands normalized (\"scale_data_method\": \"minmax\")"
   ]
  },
  {
   "cell_type": "code",
   "execution_count": 11,
   "metadata": {
    "tags": []
   },
   "outputs": [
    {
     "name": "stdout",
     "output_type": "stream",
     "text": [
      "1088\n",
      "1088\n",
      "1088\n"
     ]
    }
   ],
   "source": [
    "results_dir_gpu = '/explore/nobackup/projects/ilab/data/AGB/test/mlruns/aggregate/20240113_gpu/342218863809278249'\n",
    "!ls -alRt $results_dir_gpu/MODELS/ | grep '\\]\\.model:' | wc -l\n",
    "!ls -alRt $results_dir_gpu/MODELS/ | grep '\\]\\.test' | wc -l\n",
    "!ls -alRt $results_dir_gpu/PERMUTATION_IMPORTANCE_VALUES/ | grep shap |wc -l"
   ]
  },
  {
   "cell_type": "markdown",
   "metadata": {
    "tags": []
   },
   "source": [
    "### CPU & GPU: Epochs = 2 and explainer.shap_values(X.iloc[0:50, :], nsamples=500) - All bands normalized (\"scale_data_method\": \"minmax\")"
   ]
  },
  {
   "cell_type": "code",
   "execution_count": 12,
   "metadata": {
    "tags": []
   },
   "outputs": [
    {
     "name": "stdout",
     "output_type": "stream",
     "text": [
      "1088\n",
      "1088\n",
      "1088\n"
     ]
    }
   ],
   "source": [
    "results_dir0 = '/explore/nobackup/projects/ilab/data/AGB/test/mlruns/aggregate/20240112/789617681324607598'\n",
    "!ls -alRt $results_dir0/MODELS/ | grep '\\]\\.model:' | wc -l\n",
    "!ls -alRt $results_dir0/MODELS/ | grep '\\]\\.test' | wc -l\n",
    "!ls -alRt $results_dir0/PERMUTATION_IMPORTANCE_VALUES/ | grep shap |wc -l"
   ]
  },
  {
   "cell_type": "markdown",
   "metadata": {},
   "source": [
    "## -----------------------------------------------------------------\n",
    "## IN_PROGRESS runs\n",
    "## -----------------------------------------------------------------"
   ]
  },
  {
   "cell_type": "code",
   "execution_count": 4,
   "metadata": {},
   "outputs": [
    {
     "name": "stdout",
     "output_type": "stream",
     "text": [
      "Pending  3227  out of  3227\n",
      "Expecting this many shap files:  0\n"
     ]
    }
   ],
   "source": [
    "bandListFile = '/explore/nobackup/projects/ilab/data/AGB/test/mlruns/random_sets/random_sets_20240203_collection-ALL_max_occurrences-50_batch_size-10_num_samples-3227_bandLen-447.pkl'\n",
    "random_sets_r = pickle.load(open(bandListFile, \"rb\"))\n",
    "#print(len(random_sets_r))\n",
    "\n",
    "bandListFile = '/explore/nobackup/projects/ilab/data/AGB/test/mlruns/random_sets/random_sets_20240203_collection-ALL_max_occurrences-50_batch_size-10_num_samples-3227_bandLen-447.pkl.bak'\n",
    "random_sets_orig = pickle.load(open(bandListFile, \"rb\"))\n",
    "#print(len(random_sets_orig))\n",
    "\n",
    "print('Pending ', str(len(random_sets_r)), ' out of ', str(len(random_sets_orig)))\n",
    "print('Expecting this many shap files: ', str(len(random_sets_orig) - len(random_sets_r)))"
   ]
  },
  {
   "cell_type": "code",
   "execution_count": 5,
   "metadata": {},
   "outputs": [
    {
     "name": "stdout",
     "output_type": "stream",
     "text": [
      "Pending  0  out of  1088\n",
      "Expecting this many shap files:  1088\n"
     ]
    }
   ],
   "source": [
    "bandListFile = '/explore/nobackup/projects/ilab/data/AGB/test/mlruns/random_sets/random_sets_20240111_shrink_False_num_samples_1088_bandLen_447'\n",
    "random_sets_r = pickle.load(open(bandListFile, \"rb\"))\n",
    "#print(len(random_sets_r))\n",
    "\n",
    "bandListFile = '/explore/nobackup/projects/ilab/data/AGB/test/mlruns/aggregate/random_sets_20240111_shrink_False_num_samples_1088_bandLen_447.bak'\n",
    "random_sets_orig = pickle.load(open(bandListFile, \"rb\"))\n",
    "#print(len(random_sets_orig))\n",
    "\n",
    "print('Pending ', str(len(random_sets_r)), ' out of ', str(len(random_sets_orig)))\n",
    "print('Expecting this many shap files: ', str(len(random_sets_orig) - len(random_sets_r)))"
   ]
  },
  {
   "cell_type": "raw",
   "metadata": {},
   "source": [
    "run pdsh:\n",
    "pdsh -w ilab[201-212] sh /home/gtamkin/_AGB-dev/monte-carlo/monte-carlo/tests/pdsh-aggregate.sh \n",
    "\n",
    "configure pdsh:\n",
    "(ilab-tensorflow) gtamkin@ilab211:/explore/nobackup/projects/ilab/data/AGB/test/mlruns/aggregate$ more /home/gtamkin/_AGB-dev/monte-carlo/monte-carlo/tests/pdsh-aggregate.sh \n",
    "\n",
    "cd /panfs/ccds02/home/gtamkin/dev/AGB/monte-carlo/monte-carlo\n",
    "/panfs/ccds02/app/modules/anaconda/platform/x86_64/rhel/8.6/3-2022.05/bin/conda activate ilab-tensorflow\n",
    "export PYTHONPATH=/explore/nobackup/people/gtamkin/dev/AGB/mpf-model-factories/MultiPathFusion:/explore/nobackup/people/gtamkin/dev/AGB/monte-carlo/monte-carlo\n",
    "echo '/app/jupyter/ilab/tensorflow-kernel/bin/python3.8 /panfs/ccds02/nobackup/people/gtamkin/dev/AGB/monte-carlo/monte-carlo/mc/view/MpfSimulationMultiprocess.py \\\n",
    "   --config ./tests/exp_aggregate_hyperspectral_callbacks_noMinMax.json -o /explore/nobackup/projects/ilab/data/AGB/test/mlruns/aggregate/20241018-callbacks-divideby10k_noMinMax \\\n",
    "   --bandListFile /explore/nobackup/projects/ilab/data/AGB/test/mlruns/random_sets/random_sets_20240111_shrink_False_num_samples_1088_bandLen_447 \\\n",
    "   -hf /explore/nobackup/projects/ilab/data/AGB/test/mlruns/aggregate/MLBS_2018_541567.6_4136443.0_542567.6_4137443.0-hyperspectral-aggregate.separate-background-scaled.tif \\\n",
    "   -t 100 | tee -a /explore/nobackup/projects/ilab/data/AGB/test/mlruns/aggregate/exp_aggregate_hyperspectral_20240117_ilab2xx_50_epochs_bandLen_447_callbacks-divideby10k_noMinMax.out'\n",
    "echo ' '\n",
    "echo 'sleep 3'\n",
    "sleep 3\n",
    "/app/jupyter/ilab/tensorflow-kernel/bin/python3.8 /panfs/ccds02/nobackup/people/gtamkin/dev/AGB/monte-carlo/monte-carlo/mc/view/MpfSimulationMultiprocess.py \\\n",
    "   --config ./tests/exp_aggregate_hyperspectral_callbacks_noMinMax.json -o /explore/nobackup/projects/ilab/data/AGB/test/mlruns/aggregate/20241018-callbacks-divideby10k_noMinMax \\\n",
    "   --bandListFile /explore/nobackup/projects/ilab/data/AGB/test/mlruns/random_sets/random_sets_20240111_shrink_False_num_samples_1088_bandLen_447 \\\n",
    "   -hf /explore/nobackup/projects/ilab/data/AGB/test/mlruns/aggregate/MLBS_2018_541567.6_4136443.0_542567.6_4137443.0-hyperspectral-aggregate.separate-background-scaled.tif \\\n",
    "   -t 100 | tee -a /explore/nobackup/projects/ilab/data/AGB/test/mlruns/aggregate/exp_aggregate_hyperspectral_20240117_ilab2xx_50_epochs_bandLen_447_callbacks-divideby10k_noMinMax.out\n"
   ]
  },
  {
   "cell_type": "markdown",
   "metadata": {},
   "source": [
    "# 50 Min Occurences"
   ]
  },
  {
   "cell_type": "code",
   "execution_count": 6,
   "metadata": {},
   "outputs": [
    {
     "name": "stdout",
     "output_type": "stream",
     "text": [
      "11\n",
      "0\n",
      "ls: cannot access /explore/nobackup/projects/ilab/data/AGB/test/mlruns/aggregate/random_sets_20240203_collection-ALL_max_occurrences-50_batch_size-10_num_samples-3227_bandLen-447/806638708288219801/PERMUTATION_IMPORTANCE_VALUES/: No such file or directory\n",
      "0\n"
     ]
    }
   ],
   "source": [
    "#(ilab-tensorflow) gtamkin@ilab209:/home/gtamkin$ pdsh -w ilab213 sh /home/gtamkin/_AGB-dev/monte-carlo/monte-carlo/tests/pdsh-aggregate.sh 2>&1 | tee -a /explore/nobackup/projects/ilab/data/AGB/test/mlruns/aggregate/exp_random_sets_20240203_collection-ALL_max_occurrences-50_batch_size-10_num_samples-3227_bandLen-447.out &\n",
    "\n",
    "# cd /panfs/ccds02/home/gtamkin/dev/AGB/monte-carlo/monte-carlo\n",
    "# /panfs/ccds02/app/modules/anaconda/platform/x86_64/rhel/8.6/3-2022.05/bin/conda activate ilab-tensorflow\n",
    "# export PYTHONPATH=/explore/nobackup/people/gtamkin/dev/AGB/mpf-model-factories/MultiPathFusion:/explore/nobackup/people/gtamkin/dev/AGB/monte-carlo/monte-carlo\n",
    "# sleep 5\n",
    "# /app/jupyter/ilab/tensorflow-kernel/bin/python3.8 /panfs/ccds02/nobackup/people/gtamkin/dev/AGB/monte-carlo/monte-carlo/mc/view/MpfSimulationMultiprocess.py \\\n",
    "#    --config ./tests/exp_aggregate_hyperspectral_callbacks_noMinMax.json -o /explore/nobackup/projects/ilab/data/AGB/test/mlruns/aggregate/random_sets_20240203_collection-ALL_max_occurrences-50_batch_size-10_num_samples-3227_bandLen-447 \\\n",
    "#    --bandListFile /explore/nobackup/projects/ilab/data/AGB/test/mlruns/random_sets/random_sets_20240203_collection-ALL_max_occurrences-50_batch_size-10_num_samples-3227_bandLen-447.pkl \\\n",
    "#    -hf /explore/nobackup/projects/ilab/data/AGB/test/mlruns/aggregate/MLBS_2018_541567.6_4136443.0_542567.6_4137443.0-hyperspectral-aggregate.separate-background-scaled.tif \\\n",
    "#    -t 5000\n",
    "results_dir_cpu = '/explore/nobackup/projects/ilab/data/AGB/test/mlruns/aggregate/random_sets_20240203_collection-ALL_max_occurrences-50_batch_size-10_num_samples-3227_bandLen-447/806638708288219801'\n",
    "!ls -alRt $results_dir_cpu/MODELS/ | grep '\\]\\.model:' | wc -l\n",
    "!ls -alRt $results_dir_cpu/MODELS/ | grep '\\]\\.test' | wc -l\n",
    "!ls -alRt $results_dir_cpu/PERMUTATION_IMPORTANCE_VALUES/ | grep shap |wc -l"
   ]
  },
  {
   "cell_type": "code",
   "execution_count": null,
   "metadata": {},
   "outputs": [],
   "source": []
  },
  {
   "cell_type": "markdown",
   "metadata": {
    "tags": []
   },
   "source": [
    "### CPU pdsh[201-212, 211]: 50 Epochs (w/ EarlyStopping callbacks) after scaling NEON by 10,000 - NO bands normalized (\"scale_data_method\": \"None\")"
   ]
  },
  {
   "cell_type": "code",
   "execution_count": 1,
   "metadata": {},
   "outputs": [
    {
     "name": "stdout",
     "output_type": "stream",
     "text": [
      "269\n",
      "932\n",
      "816\n"
     ]
    }
   ],
   "source": [
    "# pdsh -w ilab[202,203,204,205,206,208,209,210,211,212] sh /home/gtamkin/_AGB-dev/monte-carlo/monte-carlo/tests/pdsh-aggregate.sh &\n",
    "\n",
    "# /app/jupyter/ilab/tensorflow-kernel/bin/python3.8 /panfs/ccds02/nobackup/people/gtamkin/dev/AGB/monte-carlo/monte-carlo/mc/view/MpfSimulationMultiprocess.py \\\n",
    "#    --config ./tests/exp_aggregate_hyperspectral_callbacks_noMinMax.json -o /explore/nobackup/projects/ilab/data/AGB/test/mlruns/aggregate/202410126-ilab10vms-callbacks-divideby10k_noMinMax \\\n",
    "#    --bandListFile /explore/nobackup/projects/ilab/data/AGB/test/mlruns/random_sets/random_sets_20240111_shrink_False_num_samples_1088_bandLen_447 \\\n",
    "#    -hf /explore/nobackup/projects/ilab/data/AGB/test/mlruns/aggregate/MLBS_2018_541567.6_4136443.0_542567.6_4137443.0-hyperspectral-aggregate.separate-background-scaled.tif \\\n",
    "#    -t 150 \n",
    "\n",
    "#results_dir_cpu = '/explore/nobackup/projects/ilab/data/AGB/test/mlruns/aggregate/202410126-ilab10vms-callbacks-divideby10k_noMinMax/270702143850223692'\n",
    "results_dir_cpu = '/explore/nobackup/projects/ilab/data/AGB/test/mlruns/aggregate/20241025-gpu001-callbacks-divideby10k_noMinMax/572266920948104250'\n",
    "!ls -alRt $results_dir_cpu/MODELS/ | grep '\\]\\.model:' | wc -l\n",
    "!ls -alRt $results_dir_cpu/MODELS/ | grep '\\]\\.test' | wc -l\n",
    "!ls -alRt $results_dir_cpu/PERMUTATION_IMPORTANCE_VALUES/ | grep shap |wc -l"
   ]
  },
  {
   "cell_type": "code",
   "execution_count": null,
   "metadata": {},
   "outputs": [],
   "source": [
    "# (base) gtamkin@ilab203:/home/gtamkin$ grep \"Starting to\" /explore/nobackup/projects/ilab/data/AGB/test/mlruns/aggregate/exp_aggregate-20240125-ilab10vms-callbacks-divideby10k_noMinMax.out | wc -l\n",
    "# 1238\n",
    "\n",
    "# (base) gtamkin@ilab203:/home/gtamkin$  pdsh -w ilab[202,203,204,205,206,208,209,210,211,212] sh /home/gtamkin/_AGB-dev/monte-carlo/monte-carlo/tests/pdsh-aggregate.sh 2>&1 | tee -a /explore/nobackup/projects/ilab/data/AGB/test/mlruns/aggregate/exp_aggregate-20240125-ilab10vms-callbacks-divideby10k_noMinMax.out &\n",
    "\n",
    "# (base) gtamkin@ilab203:/home/gtamkin$  pdsh -w ilab[202,203,204,205,206,208,209,210,211,212] cat /proc/cpuinfo | grep processor | wc -l\n",
    "# 100\n",
    "\n",
    "# (base) gtamkin@ilab203:/home/gtamkin$ pdsh -w ilab[202,203,204,205,206,208,209,210,211,212] free -g | grep Mem\n",
    "# ilab204: Mem:            117          82           5           0          30          28\n",
    "# ilab205: Mem:            117          77          37           0           3          35\n",
    "# ilab211: Mem:            117          81           4           0          32          30\n",
    "# ilab212: Mem:            117          80           5           0          32          30\n",
    "# ilab206: Mem:            117          78           3           0          35          33\n",
    "# ilab203: Mem:            117           1          50           0          65         109\n",
    "# ilab208: Mem:            117          30          48           0          38          80\n",
    "# ilab209: Mem:            117          82          12           0          23          29\n",
    "# ilab202: Mem:            117           1          32           0          83         109\n",
    "# ilab210: Mem:            117          81           4           0          31          29\n",
    "results_dir_cpu = '/explore/nobackup/projects/ilab/data/AGB/test/mlruns/aggregate/202410125-ilab10vms-callbacks-divideby10k_noMinMax/333312670671987412'\n",
    "!ls -alRt $results_dir_cpu/MODELS/ | grep '\\]\\.model:' | wc -l\n",
    "!ls -alRt $results_dir_cpu/MODELS/ | grep '\\]\\.test' | wc -l\n",
    "!ls -alRt $results_dir_cpu/PERMUTATION_IMPORTANCE_VALUES/ | grep shap |wc -l"
   ]
  },
  {
   "cell_type": "code",
   "execution_count": null,
   "metadata": {},
   "outputs": [],
   "source": [
    "#ilab208\n",
    "results_dir_cpu = '/explore/nobackup/projects/ilab/data/AGB/test/mlruns/aggregate/202410126b-ilab208-callbacks-divideby10k_noMinMax/684631875400577626'\n",
    "!ls -alRt $results_dir_cpu/MODELS/ | grep '\\]\\.model:' | wc -l\n",
    "!ls -alRt $results_dir_cpu/MODELS/ | grep '\\]\\.test' | wc -l\n",
    "!ls -alRt $results_dir_cpu/PERMUTATION_IMPORTANCE_VALUES/ | grep shap |wc -l"
   ]
  },
  {
   "cell_type": "code",
   "execution_count": null,
   "metadata": {},
   "outputs": [],
   "source": [
    "#adaptjh3\n",
    "results_dir_cpu = '/explore/nobackup/projects/ilab/data/AGB/test/mlruns/aggregate/202410126-adaptjh3-callbacks-divideby10k_noMinMax/534460686005300135'\n",
    "!ls -alRt $results_dir_cpu/MODELS/ | grep '\\]\\.model:' | wc -l\n",
    "!ls -alRt $results_dir_cpu/MODELS/ | grep '\\]\\.test' | wc -l\n",
    "!ls -alRt $results_dir_cpu/PERMUTATION_IMPORTANCE_VALUES/ | grep shap |wc -l"
   ]
  },
  {
   "cell_type": "code",
   "execution_count": null,
   "metadata": {},
   "outputs": [],
   "source": [
    "# (ilab-tensorflow) gtamkin@ilab208:/home/gtamkin$ sh /home/gtamkin/_AGB-dev/monte-carlo/monte-carlo/tests/pdsh-aggregate.sh 2>&1 | tee -a /explore/nobackup/projects/ilab/data/AGB/test/mlruns/aggregate/exp_aggregate-20240126-ilab208-callbacks-divideby10k_noMinMax.out &\n",
    "# [1] 15936\n",
    "\n",
    "# INFO:tensorflow:Assets written to: /explore/nobackup/projects/ilab/data/AGB/test/mlruns/aggregate/202410126-adaptjh3-callbacks-divideby10k_noMinMax/534460686005300135/MODELS/MLP_SGD_7_layers_1024_units_MAE_50_epochs_callbacks::534460686005300135.keras[[260, 400, 36, 129, 93, 410, 28, 210, 272, 373]].model/assets\n",
    "# INFO:tensorflow:Assets written to: /explore/nobackup/projects/ilab/data/AGB/test/mlruns/aggregate/202410126-adaptjh3-callbacks-divideby10k_noMinMax/534460686005300135/MODELS/MLP_SGD_7_layers_1024_units_MAE_50_epochs_callbacks::534460686005300135.keras[[184, 65, 248, 307, 99, 381, 367, 354, 345, 401]].model/assets\n",
    "# INFO:tensorflow:Assets written to: /explore/nobackup/projects/ilab/data/AGB/test/mlruns/aggregate/202410126-adaptjh3-callbacks-divideby10k_noMinMax/534460686005300135/MODELS/MLP_SGD_7_layers_1024_units_MAE_50_epochs_callbacks::534460686005300135.keras[[93, 368, 336, 395, 82, 87, 381, 267, 234, 14]].model/assets\n",
    "# Exception in thread Thread-1:\n",
    "# Traceback (most recent call last):\n",
    "#   File \"/app/jupyter/ilab/tensorflow-kernel/lib/python3.8/threading.py\", line 932, in _bootstrap_inner\n",
    "#     self.run()\n",
    "#   File \"/app/jupyter/ilab/tensorflow-kernel/lib/python3.8/threading.py\", line 870, in run\n",
    "#     self._target(*self._args, **self._kwargs)\n",
    "#   File \"/app/jupyter/ilab/tensorflow-kernel/lib/python3.8/multiprocessing/pool.py\", line 513, in _handle_workers\n",
    "#     cls._maintain_pool(ctx, Process, processes, pool, inqueue,\n",
    "#   File \"/app/jupyter/ilab/tensorflow-kernel/lib/python3.8/multiprocessing/pool.py\", line 337, in _maintain_pool\n",
    "#     Pool._repopulate_pool_static(ctx, Process, processes, pool,\n",
    "#   File \"/app/jupyter/ilab/tensorflow-kernel/lib/python3.8/multiprocessing/pool.py\", line 326, in _repopulate_pool_static\n",
    "#     w.start()\n",
    "#   File \"/app/jupyter/ilab/tensorflow-kernel/lib/python3.8/multiprocessing/process.py\", line 121, in start\n",
    "#     self._popen = self._Popen(self)\n",
    "#   File \"/app/jupyter/ilab/tensorflow-kernel/lib/python3.8/multiprocessing/context.py\", line 277, in _Popen\n",
    "#     return Popen(process_obj)\n",
    "#   File \"/app/jupyter/ilab/tensorflow-kernel/lib/python3.8/multiprocessing/popen_fork.py\", line 19, in __init__\n",
    "#     self._launch(process_obj)\n",
    "#   File \"/app/jupyter/ilab/tensorflow-kernel/lib/python3.8/multiprocessing/popen_fork.py\", line 70, in _launch\n",
    "#     self.pid = os.fork()\n",
    "# BlockingIOError: [Errno 11] Resource temporarily unavailable\n",
    "\n",
    "# (ilab-tensorflow) gtamkin@ilab208:/home/gtamkin$ \n",
    "\n",
    "\n",
    "results_dir_cpu = '/explore/nobackup/projects/ilab/data/AGB/test/mlruns/aggregate/202410126-adaptjh3-callbacks-divideby10k_noMinMax/534460686005300135'\n",
    "!ls -alRt $results_dir_cpu/MODELS/ | grep '\\]\\.model:' | wc -l\n",
    "!ls -alRt $results_dir_cpu/MODELS/ | grep '\\]\\.test' | wc -l\n",
    "!ls -alRt $results_dir_cpu/PERMUTATION_IMPORTANCE_VALUES/ | grep shap |wc -l"
   ]
  },
  {
   "cell_type": "code",
   "execution_count": null,
   "metadata": {},
   "outputs": [],
   "source": [
    "# OS error: [Errno 11] Resource temporarily unavailable\n",
    "# Time elapsed on node [adaptjh3] = (hh:mm:ss.ms) 0:00:00.252546\n",
    "\n",
    "# (ilab-tensorflow) gtamkin@adaptjh3:/home/gtamkin$ sh /home/gtamkin/_AGB-dev/monte-carlo/monte-carlo/tests/pdsh-aggregate.sh 2>&1 | tee -a /explore/nobackup/projects/ilab/data/AGB/test/mlruns/aggregate/exp_aggregate-20240126-adaptjh3-callbacks-divideby10k_noMinMax.out &\n",
    "\n",
    "# /app/jupyter/ilab/tensorflow-kernel/bin/python3.8 /panfs/ccds02/nobackup/people/gtamkin/dev/AGB/monte-carlo/monte-carlo/mc/view/MpfSimulationMultiprocess.py \\\n",
    "#    --config ./tests/exp_aggregate_hyperspectral_callbacks_noMinMax.json -o /explore/nobackup/projects/ilab/data/AGB/test/mlruns/aggregate/20241026-adaptjh3-callbacks-divideby10k_noMinMax \\\n",
    "#    --bandListFile /explore/nobackup/projects/ilab/data/AGB/test/mlruns/random_sets/random_sets_20240111_shrink_False_num_samples_1088_bandLen_447 \\\n",
    "#    -hf /explore/nobackup/projects/ilab/data/AGB/test/mlruns/aggregate/MLBS_2018_541567.6_4136443.0_542567.6_4137443.0-hyperspectral-aggregate.separate-background-scaled.tif \\\n",
    "#    -t 1300\n"
   ]
  },
  {
   "cell_type": "code",
   "execution_count": null,
   "metadata": {},
   "outputs": [],
   "source": [
    "# (base) gtamkin@adaptjh3:/home/gtamkin$ ps -ef | grep gtamkin | grep \"/app/jupyter/ilab/tensorflow-kernel/bin/python3.8\" | wc -l\n",
    "# 82\n",
    "# (base) gtamkin@adaptjh3:/home/gtamkin$ ps -ef | grep gtamkin | grep defu | wc -l\n",
    "# 877\n",
    "\n",
    "\n",
    "# (base) gtamkin@ilab203:/home/gtamkin$ pdsh -w adaptjh3 sh /home/gtamkin/_AGB-dev/monte-carlo/monte-carlo/tests/pdsh-aggregate.sh 2>&1 | tee -a /explore/nobackup/projects/ilab/data/AGB/test/mlruns/aggregate/exp_aggregate-20240125-adaptjh3-callbacks-divideby10k_noMinMax.out &\n",
    "\n",
    "# (base) gtamkin@adaptjh3:/home/gtamkin$ free -g | grep Mem\n",
    "# Mem:            235          24         168           0          43         204\n",
    "\n",
    "# (base) gtamkin@adaptjh3:/home/gtamkin$ cat /proc/cpuinfo | grep processor | wc -l\n",
    "# 24\n",
    "\n",
    "# adaptjh3: /app/jupyter/ilab/tensorflow-kernel/bin/python3.8 /panfs/ccds02/nobackup/people/gtamkin/dev/AGB/monte-carlo/monte-carlo/mc/view/MpfSimulationMultiprocess.py \\\n",
    "# adaptjh3:    --config ./tests/exp_aggregate_hyperspectral_callbacks_noMinMax.json -o /explore/nobackup/projects/ilab/data/AGB/test/mlruns/aggregate/20241025-adaptjh3-callbacks-divideby10k_noMinMax \\\n",
    "# adaptjh3:    --bandListFile /explore/nobackup/projects/ilab/data/AGB/test/mlruns/random_sets/random_sets_20240111_shrink_False_num_samples_1088_bandLen_447 \\\n",
    "# adaptjh3:    -hf /explore/nobackup/projects/ilab/data/AGB/test/mlruns/aggregate/MLBS_2018_541567.6_4136443.0_542567.6_4137443.0-hyperspectral-aggregate.separate-background-scaled.tif \\\n",
    "# adaptjh3:    -t 1300 \n",
    "results_dir_cpu = '/explore/nobackup/projects/ilab/data/AGB/test/mlruns/aggregate/202410125-adaptjh3-callbacks-divideby10k_noMinMax/704171497674673449'\n",
    "!ls -alRt $results_dir_cpu/MODELS/ | grep '\\]\\.model:' | wc -l\n",
    "!ls -alRt $results_dir_cpu/MODELS/ | grep '\\]\\.test' | wc -l\n",
    "!ls -alRt $results_dir_cpu/PERMUTATION_IMPORTANCE_VALUES/ | grep shap |wc -l"
   ]
  },
  {
   "cell_type": "markdown",
   "metadata": {},
   "source": [
    "# ========= above launched 7-8 PM on 01/25/2024"
   ]
  },
  {
   "cell_type": "markdown",
   "metadata": {},
   "source": [
    "## -----------------------------------------------------------------\n",
    "## INCOMPLETE runs\n",
    "## -----------------------------------------------------------------"
   ]
  },
  {
   "cell_type": "markdown",
   "metadata": {
    "tags": []
   },
   "source": [
    "### ilab202-212: 50 Epochs (w/ EarlyStopping callbacks) after scaling NEON by 10,000 - NO bands normalized (\"scale_data_method\": \"None\")\n",
    "#### ilab208: Got result: [208, 444, 36, 289, 34, 163, 373, 37, 328, 164]\n",
    "#### ilab208: Got result: [327, 384, 399, 444, 131, 165, 89, 145, 258, 340]\n",
    "#### ilab208: Total time for model.fit() processing is: 1263.8600471019745 seconds.\n",
    "#### ilab208: <class 'AttributeError'>\n",
    "#### ilab208: (\"'MpfConfig' object has no attribute 'explainer'\",)\n",
    "#### ilab208: 'MpfConfig' object has no attribute 'explainer'\n",
    "#### ilab208: Total time for model.fit() processing is: 1260.7110359668732 seconds."
   ]
  },
  {
   "cell_type": "code",
   "execution_count": null,
   "metadata": {},
   "outputs": [],
   "source": [
    "#ilab208: Time elapsed on node [ilab208] = (hh:mm:ss.ms) 1:54:13.906976\n",
    "# (base) gtamkin@ilab209:/explore/nobackup/projects/ilab/data/AGB/test/mlruns/aggregate$ pdsh -w ilab[202-212] /panfs/ccds02/home/gtamkin/dev/AGB/monte-carlo/monte-carlo/tests/pdsh-aggregate.sh 2>&1 | tee -a /explore/noback/projects/ilab/data/AGB/test/mlruns/aggregate/exp_aggregate-20241021-ilab202_212-callbacks-divideby10k_noMinMax.out\n",
    "\n",
    "\n",
    "# ilab202: /app/jupyter/ilab/tensorflow-kernel/bin/python3.8 /panfs/ccds02/nobackup/people/gtamkin/dev/AGB/monte-carlo/monte-carlo/mc/view/MpfSimulationMultiprocess.py \\\n",
    "# ilab202:    --config ./tests/exp_aggregate_hyperspectral_callbacks_noMinMax.json -o /explore/nobackup/projects/ilab/data/AGB/test/mlruns/aggregate/20241021-ilab202_212-callbacks-divideby10k_noMinMax \\\n",
    "# ilab202:    --bandListFile /explore/nobackup/projects/ilab/data/AGB/test/mlruns/random_sets/random_sets_20240111_shrink_False_num_samples_1088_bandLen_447 \\\n",
    "# ilab202:    -hf /explore/nobackup/projects/ilab/data/AGB/test/mlruns/aggregate/MLBS_2018_541567.6_4136443.0_542567.6_4137443.0-hyperspectral-aggregate.separate-background-scaled.tif \\\n",
    "# ilab202:    -t 150 \n",
    "\n",
    "results_dir_cpu = '/explore/nobackup/projects/ilab/data/AGB/test/mlruns/aggregate/202410121-ilab202_212-callbacks-divideby10k_noMinMax/427182066379803674'\n",
    "!ls -alRt $results_dir_cpu/MODELS/ | grep '\\]\\.model:' | wc -l\n",
    "!ls -alRt $results_dir_cpu/MODELS/ | grep '\\]\\.test' | wc -l\n",
    "!ls -alRt $results_dir_cpu/PERMUTATION_IMPORTANCE_VALUES/ | grep shap |wc -l"
   ]
  },
  {
   "cell_type": "markdown",
   "metadata": {
    "tags": []
   },
   "source": [
    "### ilab202-212: 50 Epochs (w/ EarlyStopping callbacks) after scaling NEON by 10,000 - NO bands normalized (\"scale_data_method\": \"None\")\n",
    "#### Accidentally ran with max trails = 50.  Doh!  Stopped early, but can be restarted if desired..."
   ]
  },
  {
   "cell_type": "code",
   "execution_count": null,
   "metadata": {},
   "outputs": [],
   "source": [
    "# ilab208: Time elapsed on node [ilab208] = (hh:mm:ss.ms) 2:04:04.928315\n",
    "# (base) gtamkin@ilab209:/explore/nobackup/projects/ilab/data/AGB/test/mlruns/aggregate$ pdsh -w ilab[202-212] /panfs/ccds02/home/gtamkin/dev/AGB/monte-carlo/monte-carlo/tests/pdsh-aggregate.sh 2>&1 | tee -a /explore/noback/projects/ilab/data/AGB/test/mlruns/aggregate/exp_aggregate-20241020-ilab202_212-callbacks-divideby10k_noMinMax.out\n",
    "\n",
    "# ilab208: /app/jupyter/ilab/tensorflow-kernel/bin/python3.8 /panfs/ccds02/nobackup/people/gtamkin/dev/AGB/monte-carlo/monte-carlo/mc/view/MpfSimulationMultiprocess.py \\\n",
    "# ilab208:    --config ./tests/exp_aggregate_hyperspectral_callbacks_noMinMax.json -o /explore/nobackup/projects/ilab/data/AGB/test/mlruns/aggregate/20241020-ilab202_212-callbacks-divideby10k_noMinMax \\\n",
    "# ilab208:    --bandListFile /explore/nobackup/projects/ilab/data/AGB/test/mlruns/random_sets/random_sets_20240111_shrink_False_num_samples_1088_bandLen_447 \\\n",
    "# ilab208:    -hf /explore/nobackup/projects/ilab/data/AGB/test/mlruns/aggregate/MLBS_2018_541567.6_4136443.0_542567.6_4137443.0-hyperspectral-aggregate.separate-background-scaled.tif \\\n",
    "results_dir_cpu = '/explore/nobackup/projects/ilab/data/AGB/test/mlruns/aggregate/202410120-ilab202_212-callbacks-divideby10k_noMinMax/437745733744584907'\n",
    "!ls -alRt $results_dir_cpu/MODELS/ | grep '\\]\\.model:' | wc -l\n",
    "!ls -alRt $results_dir_cpu/MODELS/ | grep '\\]\\.test' | wc -l\n",
    "!ls -alRt $results_dir_cpu/PERMUTATION_IMPORTANCE_VALUES/ | grep shap |wc -l"
   ]
  },
  {
   "cell_type": "markdown",
   "metadata": {
    "tags": []
   },
   "source": [
    "### gpu004: 50 Epochs (w/ EarlyStopping callbacks) after scaling NEON by 10,000 - NO bands normalized (\"scale_data_method\": \"None\") \n",
    "#### - Server session elapsed"
   ]
  },
  {
   "cell_type": "code",
   "execution_count": null,
   "metadata": {},
   "outputs": [],
   "source": [
    "results_dir_cpu = '/explore/nobackup/projects/ilab/data/AGB/test/mlruns/aggregate/202410120-adaptjh3-calllbacks-divideby10k_noMinMax/733237715134958105'\n",
    "!ls -alRt $results_dir_cpu/MODELS/ | grep '\\]\\.model:' | wc -l\n",
    "!ls -alRt $results_dir_cpu/MODELS/ | grep '\\]\\.test' | wc -l\n",
    "!ls -alRt $results_dir_cpu/PERMUTATION_IMPORTANCE_VALUES/ | grep shap |wc -l"
   ]
  },
  {
   "cell_type": "markdown",
   "metadata": {
    "tags": []
   },
   "source": [
    "### ilab201_212: 50 Epochs (w/ EarlyStopping callbacks) after scaling NEON by 10,000 - NO bands normalized (\"scale_data_method\": \"None\") \n",
    "#### - ilab201: /etc/bashrc: fork: retry: No child processes"
   ]
  },
  {
   "cell_type": "code",
   "execution_count": null,
   "metadata": {},
   "outputs": [],
   "source": [
    "#(base) gtamkin@ilab209:/explore/nobackup/projects/ilab/data/AGB/test/mlruns/aggregate$ pdsh -w ilab[201-212] sh /home/gtamkin/_AGB-dev/monte-carlo/monte-carlo/tests/pdsh-aggregate.sh 2>&1 | tee -a /explore/nobackup/projects/ilab/data/AGB/test/mlruns/aggregate/exp_aggregate-202410120-ilab201_212-callbacks-divideby10k_noMinMax .out\n",
    "# /app/jupyter/ilab/tensorflow-kernel/bin/python3.8 /panfs/ccds02/nobackup/people/gtamkin/dev/AGB/monte-carlo/monte-carlo/mc/view/MpfSimulationMultiprocess.py \\\n",
    "#    --config ./tests/exp_aggregate_hyperspectral_callbacks_noMinMax.json -o /explore/nobackup/projects/ilab/data/AGB/test/mlruns/aggregate/202410120-ilab201_212-callbacks-divideby10k_noMinMax \\\n",
    "#    --bandListFile /explore/nobackup/projects/ilab/data/AGB/test/mlruns/random_sets/random_sets_20240111_shrink_False_num_samples_1088_bandLen_447 \\\n",
    "#    -hf /explore/nobackup/projects/ilab/data/AGB/test/mlruns/aggregate/MLBS_2018_541567.6_4136443.0_542567.6_4137443.0-hyperspectral-aggregate.separate-background-scaled.tif \\\n",
    "#    -t 1200 \n",
    "\n",
    "results_dir_cpu = '/explore/nobackup/projects/ilab/data/AGB/test/mlruns/aggregate/202410120-ilab201_212-callbacks-divideby10k_noMinMax/262598571355140336'\n",
    "!ls -alRt $results_dir_cpu/MODELS/ | grep '\\]\\.model:' | wc -l\n",
    "!ls -alRt $results_dir_cpu/MODELS/ | grep '\\]\\.test' | wc -l\n",
    "!ls -alRt $results_dir_cpu/PERMUTATION_IMPORTANCE_VALUES/ | grep shap |wc -l"
   ]
  },
  {
   "cell_type": "markdown",
   "metadata": {
    "tags": []
   },
   "source": [
    "### CPU pdsh[201-212]: 50 Epochs (w/ EarlyStopping callbacks) after scaling NEON by 10,000 - NO bands normalized (\"scale_data_method\": \"None\") Stalled out & killed processes - 20240119 ~8 AM\n",
    "#### -rw-r-----.  1 gtamkin ilab  536589072 Jan 18 22:38 exp_aggregate_hyperspectral_20240117_ilab2xx_50_epochs_bandLen_447_callbacks-divideby10k_noMinMax.out\n",
    "#### Time elapsed (hh:mm:ss.ms) 4:50:58.248082"
   ]
  },
  {
   "cell_type": "code",
   "execution_count": null,
   "metadata": {},
   "outputs": [],
   "source": [
    "results_dir_cpu = '/explore/nobackup/projects/ilab/data/AGB/test/mlruns/aggregate/20241018-callbacks-divideby10k_noMinMax/517570299578018028'\n",
    "!ls -alRt $results_dir_cpu/MODELS/ | grep '\\]\\.model:' | wc -l\n",
    "!ls -alRt $results_dir_cpu/MODELS/ | grep '\\]\\.test' | wc -l\n",
    "!ls -alRt $results_dir_cpu/PERMUTATION_IMPORTANCE_VALUES/ | grep shap |wc -l"
   ]
  },
  {
   "cell_type": "markdown",
   "metadata": {
    "tags": []
   },
   "source": [
    "### CPU adaptjh3: 50 Epochs (w/ EarlyStopping callbacks) - Stalled out & killed processes - 20240119 ~8 AM"
   ]
  },
  {
   "cell_type": "code",
   "execution_count": null,
   "metadata": {},
   "outputs": [],
   "source": [
    "#(ilab-tensorflow) gtamkin@adaptjh3:/panfs/ccds02/home/gtamkin/dev/AGB/monte-carlo/monte-carlo$ python ./mc/view/MpfSimulationMultiprocess.py --config ./tests/exp_aggregate_hyperspectral_callbacks.json -o /explore/nobackup/projects/ilab/data/AGB/test/mlruns/aggregate/20240117-callbacks-adaptjh3 --bandListFile /explore/nobackup/projects/ilab/data/AGB/test/mlruns/random_sets/random_sets_20240111_shrink_False_num_samples_1088_bandLen_447 -hf /explore/nobackup/projects/ilab/data/AGB/test/mlruns/aggregate/MLBS_2018_541567.6_4136443.0_542567.6_4137443.0-hyperspectral-aggregate.separate-background.tif -t 1100 2>&1 | tee -a /explore/nobackup/projects/ilab/data/AGB/test/mlruns/aggregate/exp_aggregate_hyperspectral_20240117_cpu_50_epochs_bandLen_447_callbacks_adaptjh3.out &\n",
    "#(ilab-tensorflow) gtamkin@adaptjh3:/panfs/ccds02/home/gtamkin/dev/AGB/monte-carlo/monte-carlo$ ps -ef | grep gtamkin | grep defunc | wc -l\n",
    "# 987\n",
    "results_dir_cpu = '/explore/nobackup/projects/ilab/data/AGB/test/mlruns/aggregate/20240117-callbacks-adaptjh3/763933187168724110'\n",
    "!ls -alRt $results_dir_cpu/MODELS/ | grep '\\]\\.model:' | wc -l\n",
    "!ls -alRt $results_dir_cpu/MODELS/ | grep '\\]\\.test' | wc -l\n",
    "!ls -alRt $results_dir_cpu/PERMUTATION_IMPORTANCE_VALUES/ | grep shap |wc -l"
   ]
  },
  {
   "cell_type": "markdown",
   "metadata": {
    "tags": []
   },
   "source": [
    "### CPU: 50 Epochs (w/ EarlyStopping callbacks) - Stalled out & killed processes  - 20240119 ~8 AM"
   ]
  },
  {
   "cell_type": "code",
   "execution_count": null,
   "metadata": {},
   "outputs": [],
   "source": [
    "#(ilab-tensorflow) gtamkin@adaptjh3:/panfs/ccds02/home/gtamkin/dev/AGB/monte-carlo/monte-carlo$ python ./mc/view/MpfSimulationMultiprocess.py --config ./tests/exp_aggregate_hyperspectral_callbacks.json -o /explore/nobackup/projects/ilab/data/AGB/test/mlruns/aggregate/20240117-callbacks --bandListFile /explore/nobackup/projects/ilab/data/AGB/test/mlruns/random_sets/random_sets_20240111_shrink_False_num_samples_1088_bandLen_447 -hf /explore/nobackup/projects/ilab/data/AGB/test/mlruns/aggregate/MLBS_2018_541567.6_4136443.0_542567.6_4137443.0-hyperspectral-aggregate.separate-background.tif -t 1100 2>&1 | tee -a /explore/nobackup/projects/ilab/data/AGB/test/mlruns/aggregate/exp_aggregate_hyperspectral_20240117_cpu_50_epochs_bandLen_447_callbacks.out &\n",
    "results_dir_cpu = '/explore/nobackup/projects/ilab/data/AGB/test/mlruns/aggregate/20240117-callbacks/841943621451019555'\n",
    "!ls -alRt $results_dir_cpu/MODELS/ | grep '\\]\\.model:' | wc -l\n",
    "!ls -alRt $results_dir_cpu/MODELS/ | grep '\\]\\.test' | wc -l\n",
    "!ls -alRt $results_dir_cpu/PERMUTATION_IMPORTANCE_VALUES/ | grep shap |wc -l"
   ]
  },
  {
   "cell_type": "markdown",
   "metadata": {
    "tags": []
   },
   "source": [
    "### 10 Epochs - In progress - Stalled out & killed processes  - 20240119 ~8 AM"
   ]
  },
  {
   "cell_type": "code",
   "execution_count": null,
   "metadata": {},
   "outputs": [],
   "source": [
    "# python ./mc/view/MpfSimulationMultiprocess.py --config ./tests/exp_aggregate_hyperspectral.json -o /explore/nobackup/projects/ilab/data/AGB/test/mlruns/aggregate/20240115PM_gpu --bandListFile /explore/nobackup/projects/ilab/data/AGB/test/mlruns/random_sets/random_sets_20240111_shrink_False_num_samples_1088_bandLen_447 -hf /explore/nobackup/projects/ilab/data/AGB/test/mlruns/aggregate/MLBS_2018_541567.6_4136443.0_542567.6_4137443.0-hyperspectral-aggregate.separate-background.tif -t 1  --shapArchive /explore/nobackup/projects/ilab/data/AGB/test/mlruns/aggregate/20240115PM_gpu/181564131522108102/PERMUTATION_IMPORTANCE_VALUES/MLP_SGD_7_layers_1024_units_MAE_10_epochs::181564131522108102.keras | 2>&1 tee -a /explore/nobackup/projects/ilab/data/AGB/test/mlruns/aggregate/exp_aggregate_hyperspectral_20240115PM_gpu_10_epochs_bandLen_447.out\n",
    "# python ./mc/view/MpfSimulationMultiprocess.py --config ./tests/exp_aggregate_hyperspectral.json -o /explore/nobackup/projects/ilab/data/AGB/test/mlruns/aggregate/20240115PM_gpu --bandListFile /explore/nobackup/projects/ilab/data/AGB/test/mlruns/random_sets/random_sets_20240111_shrink_False_num_samples_1088_bandLen_447 -hf /explore/nobackup/projects/ilab/data/AGB/test/mlruns/aggregate/MLBS_2018_541567.6_4136443.0_542567.6_4137443.0-hyperspectral-aggregate.separate-background.tif -t 1 2>&1 | tee -a /explore/nobackup/projects/ilab/data/AGB/test/mlruns/aggregate/exp_aggregate_hyperspectral_20240115PM_gpu_10_epochs_bandLen_447.out\n",
    "results_dir_gpu = '/explore/nobackup/projects/ilab/data/AGB/test/mlruns/aggregate/20240115PM_gpu/181564131522108102'\n",
    "!ls -alRt $results_dir_gpu/MODELS/ | grep '\\]\\.model:' | wc -l\n",
    "#!ls -alRt $results_dir_gpu/MODELS/ \n",
    "!ls -alRt $results_dir_gpu/MODELS/ | grep '\\]\\.test' | wc -l\n",
    "!ls -alRt $results_dir_gpu/PERMUTATION_IMPORTANCE_VALUES/ | grep shap |wc -l"
   ]
  },
  {
   "cell_type": "code",
   "execution_count": null,
   "metadata": {},
   "outputs": [],
   "source": []
  },
  {
   "cell_type": "markdown",
   "metadata": {
    "tags": []
   },
   "source": [
    "### GPU: 50 Epochs - In progress"
   ]
  },
  {
   "cell_type": "code",
   "execution_count": null,
   "metadata": {},
   "outputs": [],
   "source": [
    "#(ilab-tensorflow) gtamkin@gpu004:/panfs/ccds02/home/gtamkin/dev/AGB/monte-carlo/monte-carlo$ python ./mc/view/MpfSimulationMultiprocess.py --config ./tests/exp_aggregate_hyperspectral.json -o /explore/nobackup/projects/ilab/data/AGB/test/mlruns/aggregate/20240115_50_gpu --bandListFile /explore/nobackup/projects/ilab/data/AGB/test/mlruns/random_sets/random_sets_20240111_shrink_False_num_samples_1088_bandLen_447 -hf /explore/nobackup/projects/ilab/data/AGB/test/mlruns/aggregate/MLBS_2018_541567.6_4136443.0_542567.6_4137443.0-hyperspectral-aggregate.separate-background.tif -t 1100 2>&1 | tee -a /explore/nobackup/projects/ilab/data/AGB/test/mlruns/aggregate/exp_aggregate_hyperspectral_20240115_gpu_50_epochs_bandLen_447.out &\n",
    "\n",
    "results_dir_gpu = '/explore/nobackup/projects/ilab/data/AGB/test/mlruns/aggregate/20240115_gpu_50/985197254918537732'\n",
    "!ls -alRt $results_dir_gpu/MODELS/ | grep '\\]\\.model:' | wc -l\n",
    "!ls -alRt $results_dir_gpu/MODELS/ | grep '\\]\\.test' | wc -l\n",
    "!ls -alRt $results_dir_gpu/PERMUTATION_IMPORTANCE_VALUES/ | grep shap |wc -l"
   ]
  },
  {
   "cell_type": "markdown",
   "metadata": {
    "tags": []
   },
   "source": [
    "### GPU: 10 Epochs - Stopped (by me in favor of 50 epochs as Mark suggested)"
   ]
  },
  {
   "cell_type": "code",
   "execution_count": null,
   "metadata": {},
   "outputs": [],
   "source": [
    "#(ilab-tensorflow) gtamkin@gpu004:/panfs/ccds02/home/gtamkin/dev/AGB/monte-carlo/monte-carlo$ python ./mc/view/MpfSimulationMultiprocess.py --config ./tests/exp_aggregate_hyperspectral.json -o /explore/nobackup/projects/ilab/data/AGB/test/mlruns/aggregate/20240115_gpu --bandListFile /explore/nobackup/projects/ilab/data/AGB/test/mlruns/random_sets/random_sets_20240111_shrink_False_num_samples_1088_bandLen_447 \n",
    "# -hf /explore/nobackup/projects/ilab/data/AGB/test/mlruns/aggregate/MLBS_2018_541567.6_4136443.0_542567.6_4137443.0-hyperspectral-aggregate.separate-background.tif -t 1100 2>&1 | tee -a /explore/nobackup/projects/ilab/data/AGB/test/mlruns/aggregate/exp_aggregate_hyperspectral_20240115_gpu_10_epochs_bandLen_447.out &\n",
    "\n",
    "# Stopped (by me in favor of 50 epochs as Mark suggested)\n",
    "results_dir_gpu = '/explore/nobackup/projects/ilab/data/AGB/test/mlruns/aggregate/20240115_gpu/170987452308272267'\n",
    "!ls -alRt $results_dir_gpu/MODELS/ | grep '\\]\\.model:' | wc -l\n",
    "!ls -alRt $results_dir_gpu/MODELS/ | grep '\\]\\.test' | wc -l\n",
    "!ls -alRt $results_dir_gpu/PERMUTATION_IMPORTANCE_VALUES/ | grep shap |wc -l"
   ]
  },
  {
   "cell_type": "markdown",
   "metadata": {
    "tags": []
   },
   "source": [
    "#### GPU: Epochs = 200 and explainer.shap_values(X.iloc[0:50, :], nsamples=150) - ABANDONED (after 24 hours with no convergence on any model)\n",
    "##### 2024-01-14 08:27:57.682817 -> 2024-01-15 07:36 AM - manually killed processes\n"
   ]
  },
  {
   "cell_type": "code",
   "execution_count": null,
   "metadata": {},
   "outputs": [],
   "source": [
    "results_dir_gpu = '/explore/nobackup/projects/ilab/data/AGB/test/mlruns/aggregate/20240114_gpu/553177698959378295'\n",
    "!ls -alRt $results_dir_gpu/MODELS/ | grep '\\]\\.model:' | wc -l\n",
    "!ls -alRt $results_dir_gpu/MODELS/ | grep '\\]\\.test' | wc -l\n",
    "!ls -alRt $results_dir_gpu/PERMUTATION_IMPORTANCE_VALUES/ | grep shap |wc -l"
   ]
  },
  {
   "cell_type": "markdown",
   "metadata": {
    "tags": []
   },
   "source": [
    "#### CPU: Epochs = 3 and explainer.shap_values(X.iloc[0:50, :], nsamples=150) - stalled at 450"
   ]
  },
  {
   "cell_type": "code",
   "execution_count": null,
   "metadata": {},
   "outputs": [],
   "source": [
    "results_dir = '/explore/nobackup/projects/ilab/data/AGB/test/mlruns/aggregate/20240113/823958125883414764'\n",
    "!ls -alRt $results_dir/MODELS/ | grep '\\]\\.model:' | wc -l\n",
    "!ls -alRt $results_dir/MODELS/ | grep '\\]\\.test' | wc -l\n",
    "!ls -alRt $results_dir/PERMUTATION_IMPORTANCE_VALUES/ | grep shap |wc -l"
   ]
  },
  {
   "cell_type": "code",
   "execution_count": null,
   "metadata": {},
   "outputs": [],
   "source": []
  },
  {
   "cell_type": "code",
   "execution_count": null,
   "metadata": {},
   "outputs": [],
   "source": []
  }
 ],
 "metadata": {
  "kernelspec": {
   "display_name": "Python [conda env:ilab-tensorflow]",
   "language": "python",
   "name": "conda-env-ilab-tensorflow-py"
  },
  "language_info": {
   "codemirror_mode": {
    "name": "ipython",
    "version": 3
   },
   "file_extension": ".py",
   "mimetype": "text/x-python",
   "name": "python",
   "nbconvert_exporter": "python",
   "pygments_lexer": "ipython3",
   "version": "3.8.16"
  }
 },
 "nbformat": 4,
 "nbformat_minor": 4
}
