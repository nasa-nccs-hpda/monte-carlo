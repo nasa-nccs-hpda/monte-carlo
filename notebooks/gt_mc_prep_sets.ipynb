{
 "cells": [
  {
   "cell_type": "code",
   "execution_count": 1,
   "metadata": {},
   "outputs": [
    {
     "name": "stdout",
     "output_type": "stream",
     "text": [
      "Processing complete! len(maxed_out_list): 447\n",
      "final tally:  [138 130 138 117 160 127 134 137 135 129 123 127 128 138 138 128 127 131\n",
      " 112 131 132 136 127 116 133 151 107 129 132 134 126 141 103 112 135 136\n",
      " 141 110 112 132 128 111 116 134 117 140 140 132 128 133 125 129 137 107\n",
      " 119 134 134 127 120 130 119 128 105 122 103 144 144 131 113 143 123 121\n",
      " 137 129 141 137 120 131 134 116 116 131 104 135 138 118 121 133 124 116\n",
      " 125 141 141 122 125 116 120 130 117 115 119 127 129 134 121 116 131 133\n",
      " 128 141 116 113 133 120 110 133 121 143 129 122 144 116 137 117 121 147\n",
      " 127 126 132 138 132 123 109 121 114 131 137 123 131 117 137 108 142 110\n",
      " 108 120 126 111 131 124 126 138 131 143 157 131 129 127 127 147 134 133\n",
      " 125 139 122 134 131 121 128 120 105 111 137 125 112 113 131 130 120 126\n",
      " 130 123 116 126 141 110 127 134 129 131 149 133 130 127 121 114 138 124\n",
      " 136 133 111 115 134 117 141 134 120 111 121 129 120 127 128 114 128 126\n",
      " 147 118 136 128 153 141 129 120 106 128 120 135 121 127 116 125 121 137\n",
      " 130 147 128 115 116 124 138 130 123 125 127 122 138 127 145 134 107 116\n",
      " 136 115 139 121 140 109 111 141 129 120 118 131 110 133 132 114 123 136\n",
      " 109 119 132 121 126 120 134 124 127 127 115 125 126 133 128 120 120 123\n",
      " 120 133 118 119 130 138 117 122 115 136 129 130 124 116 127 136 123 125\n",
      " 117 134 116 117 140 113 133 115 117 119 118 140 131 123 141 127 147 103\n",
      " 119 125 119 119 144 120 120 124 118 106 101 150 103 149 116 110 117 118\n",
      " 131 104 108 146 139 130 105 116 116 139 124 136 135 146 128 133 139 141\n",
      " 126 127 131 138 134 134 102 134 137 130 117 144 138 137 120 124 138 129\n",
      " 123 133 142 132 124 141 135 128 127 111 129 138 141 113 121 117 120 122\n",
      " 122 116 125 112 131 143 125 131 134 135 113 130 129 134 134 139 136 101\n",
      " 111 131 131 138 136 140 131 121 135 128 116 106 118 119 120 135 136 113\n",
      " 122 110 110 134 114 127 139 129 128 114 115 115 138 134 146]\n",
      "num random_sets: 5658\n",
      "Saved { 5658 } random sets of { 10 } to file:  /explore/nobackup/projects/ilab/data/AGB/test/mcruns/input/random_sets/random_sets_20240208_collection-ALL_max_occurrences-100_batch_size-10_num_samples-5658_bandLen-447.pkl\n",
      "Time elapsed on node [adaptjh2] = (hh:mm:ss.ms) 0:00:13.569649\n"
     ]
    }
   ],
   "source": [
    "!python /home/gtamkin/_AGB-dev/mpf-model-factories/MultiPathFusion/multi_path_fusion/notebooks/glenn/gt_mc_prep_sets.py"
   ]
  },
  {
   "cell_type": "markdown",
   "metadata": {},
   "source": [
    "# Generate sets of random indices"
   ]
  },
  {
   "cell_type": "code",
   "execution_count": 1,
   "metadata": {},
   "outputs": [
    {
     "name": "stdout",
     "output_type": "stream",
     "text": [
      "[ 0  1  2  3  4  5  6  7  8  9 10 11 12 13 14 15 16 17 18 19 20] 21\n",
      "\n",
      "Number of bands to process:  21\n",
      "\n",
      "Bands to process:  ['1', '2', '3', '4', '5', '6', '7', '8', '9', '10', '11', '12', '13', '14', '15', '16', '17', '18', '19', '20', '21']\n"
     ]
    }
   ],
   "source": [
    "import numpy as np\n",
    "\n",
    "\n",
    "#spectrum = \"NEON\"\n",
    "spectrum = \"VI\"\n",
    "#spectrum = \"ALL\"\n",
    "\n",
    "if (spectrum == \"ALL\"):\n",
    "    \n",
    "    # aggregate number of indices (426 + 21)\n",
    "    bandLen = 447 # aggregate number of indices\n",
    "    \n",
    "elif (spectrum == \"NEON\"):\n",
    "    \n",
    "    # Full indices (#426)\n",
    "    bandLen = 426 # number indices in index file (large file)\n",
    "    MLBS_2018_Reflectance_reflectance_warp_baseline = []\n",
    "    for i in range(bandLen):\n",
    "        MLBS_2018_Reflectance_reflectance_warp_baseline.append(str(i+1))\n",
    "    bands = MLBS_2018_Reflectance_reflectance_warp_baseline\n",
    "else:\n",
    "    \n",
    "    # Partial indices (#21)\n",
    "    bandLen = 21 # number of bands in original hyperspectral file\n",
    "    MLBS_2018_hyperspectral_indices_bands_baseline = np.zeros(bandLen).astype(int)\n",
    "    for i in range(bandLen):\n",
    "        MLBS_2018_hyperspectral_indices_bands_baseline[i] = MLBS_2018_hyperspectral_indices_bands_baseline[i] + i\n",
    "    bands = MLBS_2018_hyperspectral_indices_bands_baseline = ['1', '2', '3', '4', '5', '6', '7', '8', '9', '10', '11', '12', '13', '14', '15', '16', '17', '18', '19', '20', '21']\n",
    "\n",
    "indexArray = np.zeros(bandLen).astype(int)\n",
    "for i in range(bandLen):\n",
    "    indexArray[i] = indexArray[i] + i\n",
    "print(indexArray, len(indexArray))\n",
    "\n",
    "print('\\nNumber of bands to process: ', len(bands))\n",
    "print('\\nBands to process: ', bands)"
   ]
  },
  {
   "cell_type": "code",
   "execution_count": 2,
   "metadata": {},
   "outputs": [
    {
     "name": "stdout",
     "output_type": "stream",
     "text": [
      "[0 0 0 0 0 0 0 0 0 0 0 0 0 0 0 0 0 0 0 0 0]\n"
     ]
    }
   ],
   "source": [
    "bandOccurenceArr = np.zeros(bandLen).astype(int)\n",
    "print(bandOccurenceArr)\n",
    "bandAbsSumArr = np.zeros(bandLen)\n",
    "bandMaxArr = np.zeros(bandLen)\n",
    "bandMinArr = np.zeros(bandLen)\n",
    "bandAvgArr = np.zeros(bandLen)\n"
   ]
  },
  {
   "cell_type": "code",
   "execution_count": 3,
   "metadata": {
    "tags": []
   },
   "outputs": [
    {
     "name": "stdout",
     "output_type": "stream",
     "text": [
      "remove:  17\n",
      "current bands =  ['1', '2', '3', '4', '5', '6', '7', '8', '9', '10', '11', '12', '13', '14', '15', '16', '18', '19', '20', '21']\n",
      "running tally:  [ 5  9  8  5  5  4  9 10  9  6 10  9  7  8  8  8 11  9  6  6  6]\n",
      "remove:  8\n",
      "current bands =  ['1', '2', '3', '4', '5', '6', '7', '9', '10', '11', '12', '13', '14', '15', '16', '18', '19', '20', '21']\n",
      "running tally:  [ 5  9  8  5  5  4  9 11  9  6 10  9  7  8  8  9 11 10  6  6  6]\n",
      "remove:  11\n",
      "current bands =  ['1', '2', '3', '4', '5', '6', '7', '9', '10', '12', '13', '14', '15', '16', '18', '19', '20', '21']\n",
      "running tally:  [ 6  9  9  5  5  4  9 11  9  6 11 10  7  8  8 10 11 10  6  6  7]\n",
      "remove:  9\n",
      "current bands =  ['1', '2', '3', '4', '5', '6', '7', '10', '12', '13', '14', '15', '16', '18', '19', '20', '21']\n",
      "running tally:  [ 6 10  9  5  6  5 10 11 11  7 11 10  8  8 10 10 11 10  7  7  7]\n",
      "remove:  15\n",
      "current bands =  ['1', '2', '3', '4', '5', '6', '7', '10', '12', '13', '14', '16', '18', '19', '20', '21']\n",
      "running tally:  [ 7 10  9  5  6  5 10 11 11  7 11 10  8  8 11 10 11 10  7  7  7]\n",
      "remove:  16\n",
      "current bands =  ['1', '2', '3', '4', '5', '6', '7', '10', '12', '13', '14', '18', '19', '20', '21']\n",
      "running tally:  [ 7 10  9  5  6  5 10 11 11  7 11 10  8  8 11 11 11 10  7  7  7]\n",
      "remove:  2\n",
      "current bands =  ['1', '3', '4', '5', '6', '7', '10', '12', '13', '14', '18', '19', '20', '21']\n",
      "running tally:  [ 8 11  9  6  7  5 10 11 11  7 11 10  8  9 11 11 11 10  8  8  7]\n",
      "remove:  7\n",
      "current bands =  ['1', '3', '4', '5', '6', '10', '12', '13', '14', '18', '19', '20', '21']\n",
      "running tally:  [ 8 11  9  6  7  5 11 11 11  8 11 10  9  9 11 11 11 10  8  8  7]\n",
      "remove:  12\n",
      "current bands =  ['1', '3', '4', '5', '6', '10', '13', '14', '18', '19', '20', '21']\n",
      "running tally:  [ 9 11  9  6  8  6 11 11 11  8 11 11  9 10 11 11 11 10  8  8  7]\n",
      "remove:  18\n",
      "current bands =  ['1', '3', '4', '5', '6', '10', '13', '14', '19', '20', '21']\n",
      "running tally:  [ 9 11  9  6  8  6 11 11 11  8 11 11  9 10 11 11 11 11  8  8  8]\n",
      "remove:  14\n",
      "current bands =  ['1', '3', '4', '5', '6', '10', '13', '19', '20', '21']\n",
      "running tally:  [ 9 11 10  6  8  7 11 11 11  8 11 11  9 11 11 11 11 11 10  9  8]\n",
      "remove:  1\n",
      "current bands =  ['3', '4', '5', '6', '10', '13', '19', '20', '21']\n",
      "running tally:  [11 11 10  7 10  7 11 11 11  8 11 11 10 11 11 11 11 11 10  9 10]\n",
      "remove:  13\n",
      "current bands =  ['3', '4', '5', '6', '10', '19', '20', '21']\n",
      "running tally:  [11 11 10  7 10  7 11 11 11  8 11 11 11 11 11 11 11 11 10  9 10]\n",
      "remove:  19\n",
      "current bands =  ['3', '4', '5', '6', '10', '20', '21']\n",
      "running tally:  [11 11 10  7 10  8 11 11 11  9 11 11 11 11 11 11 11 11 11 10 10]\n",
      "remove:  3\n",
      "current bands =  ['4', '5', '6', '10', '20', '21']\n",
      "running tally:  [11 11 11  8 10  8 11 11 11  9 11 11 11 11 11 11 11 11 11 10 10]\n",
      "remove:  5\n",
      "current bands =  ['4', '6', '10', '20', '21']\n",
      "running tally:  [11 11 11  9 11  9 11 11 11  9 11 11 11 11 11 11 11 11 11 10 10]\n",
      "remove:  20\n",
      "current bands =  ['4', '6', '10', '21']\n",
      "running tally:  [11 11 11  9 11  9 11 11 11  9 11 11 11 11 11 11 11 11 11 11 10]\n",
      "remove:  21\n",
      "current bands =  ['4', '6', '10']\n",
      "running tally:  [11 11 11  9 11  9 11 11 11 10 11 11 11 11 11 11 11 11 11 11 11]\n",
      "remove:  10\n",
      "current bands =  ['4', '6']\n",
      "running tally:  [11 11 11  9 11  9 11 11 11 11 11 11 11 11 11 11 11 11 11 11 11]\n",
      "remove:  6\n",
      "current bands =  ['4']\n",
      "running tally:  [11 11 11 10 11 11 11 11 11 11 11 11 11 11 11 11 11 11 11 11 11]\n",
      "remove:  4\n",
      "current bands =  []\n",
      "running tally:  [11 11 11 11 11 11 11 11 11 11 11 11 11 11 11 11 11 11 11 11 11]\n",
      "final tally:  [11 11 11 11 11 11 11 11 11 11 11 11 11 11 11 11 11 11 11 11 11]\n",
      "bands left to process: []\n",
      "random_sets: 25 \n",
      " [['11', '21', '10', '3', '18', '17', '13', '2', '14', '20'], ['9', '8', '1', '18', '6', '12', '2', '14', '11', '17'], ['12', '17', '11', '21', '4', '15', '10', '18', '2', '8'], ['12', '4', '16', '19', '1', '18', '10', '2', '8', '7'], ['8', '9', '15', '11', '16', '3', '18', '2', '5', '7'], ['3', '12', '15', '16', '5', '20', '9', '14', '17', '8'], ['15', '5', '17', '3', '4', '7', '14', '12', '20', '13'], ['15', '5', '18', '11', '12', '3', '17', '1', '19', '8'], ['13', '19', '9', '17', '11', '16', '15', '10', '7', '14'], ['8', '7', '18', '6', '3', '11', '21', '2', '9', '5'], ['7', '3', '14', '13', '9', '1', '16', '18', '17', '12'], ['11', '4', '3', '7', '8', '19', '16', '20', '17', '9'], ['10', '4', '20', '19', '21', '6', '16', '12', '2', '15'], ['14', '16', '1', '18', '8', '2', '11', '21', '9', '13'], ['12', '8', '11', '10', '17', '13', '7', '14', '19', '2'], ['20', '6', '15', '13', '9', '7', '21', '17', '18', '16'], ['8', '21', '16', '12', '3', '1', '11', '6', '9', '15'], ['19', '15', '13', '10', '20', '7', '5', '2', '9', '1'], ['15', '16', '20', '1', '19', '5', '14', '4', '2', '13'], ['10', '7', '14', '6', '1', '5', '12', '21', '18', '19'], ['6', '3', '19', '20', '14', '4', '1', '5', '21', '13'], ['5', '21', '1', '13', '20', '6', '10', '19', '4', '3'], ['6', '4', '5', '20', '10', '21'], ['10', '6', '4'], ['6', '4']]\n"
     ]
    }
   ],
   "source": [
    "from random import sample \n",
    "random_sets = []\n",
    "num_samples = 0\n",
    "max_num_samples = 1000000\n",
    "#batch_size = 10\n",
    "batch_size = 10\n",
    "max_num_occurences = 10\n",
    "not_finished = True\n",
    "bandFoundArr = np.zeros(bandLen).astype(int)\n",
    "my_list = []\n",
    "lastSavedBands = None\n",
    "\n",
    "while not_finished == True:\n",
    "#    print('\\nbands: ', bands)\n",
    "    random_set = sample(bands, batch_size)\n",
    "#    print('\\nrandom_set: ', random_set)\n",
    "    random_sets.append(random_set)\n",
    "\n",
    "    for i in range(len(random_set)):\n",
    "        # get band from band list\n",
    "        bandNum = random_set[i]\n",
    "\n",
    "        # increment Occurence value in the cell that contains the band number\n",
    "        bandFoundArr[int(bandNum)-1] = bandFoundArr[int(bandNum)-1] + 1\n",
    "        \n",
    "    \n",
    "        for j in range(len(bandFoundArr)):\n",
    "                if (bandFoundArr[j] > max_num_occurences):\n",
    "                    index = str(j+1)\n",
    "                    if index not in my_list:\n",
    "                        my_list.append(index)\n",
    "                        print('remove: ', index)\n",
    "                        bands.remove(index)\n",
    "                        lastSavedBands = bands\n",
    "                        print('current bands = ', bands)\n",
    "                        print('running tally: ', bandFoundArr)\n",
    "                                    \n",
    "    num_samples = num_samples+1\n",
    "    if (num_samples > max_num_samples):\n",
    "        print(num_samples,' > ', max_num_samples)\n",
    "        not_finished = False\n",
    "        break;    \n",
    "    if (len(bands) < batch_size):\n",
    "        batch_size = len(bands) \n",
    "#        not_finished = False\n",
    "\n",
    "    if (len(bands) < 1):\n",
    "        not_finished = False\n",
    "\n",
    "print('final tally: ', bandFoundArr)\n",
    "print('bands left to process:', bands)\n",
    "print('random_sets:', len(random_sets), '\\n', random_sets)"
   ]
  },
  {
   "cell_type": "code",
   "execution_count": null,
   "metadata": {},
   "outputs": [],
   "source": [
    "import pickle\n",
    "random_set_file = '/explore/nobackup/projects/ilab/data/AGB/test/mlruns/random_sets/random_sets_' + str(bandLen)\n",
    "pickle.dump(random_sets, open(random_set_file , \"wb\"))\n"
   ]
  },
  {
   "cell_type": "code",
   "execution_count": null,
   "metadata": {},
   "outputs": [],
   "source": [
    "import pickle\n",
    "random_sets2 = [('2','10'), ('9','1','6','11','2')]\n",
    "random_set_file2 = '/explore/nobackup/projects/ilab/data/AGB/test/mlruns/random_sets/random_sets_2'\n",
    "pickle.dump(random_sets2, open(random_set_file2 , \"wb\"))\n",
    "random_set_file = random_set_file2"
   ]
  },
  {
   "cell_type": "code",
   "execution_count": null,
   "metadata": {
    "tags": []
   },
   "outputs": [],
   "source": [
    "random_sets_r = pickle.load(open(random_set_file, \"rb\"))   \n",
    "print(random_sets_r)"
   ]
  },
  {
   "cell_type": "code",
   "execution_count": null,
   "metadata": {},
   "outputs": [],
   "source": [
    "import numpy as np\n",
    "print(np.array_equal(random_sets, random_sets_r))"
   ]
  },
  {
   "cell_type": "code",
   "execution_count": null,
   "metadata": {
    "tags": []
   },
   "outputs": [],
   "source": [
    "list1 = random_sets_r;\n",
    "num_sets = 0\n",
    "while len(list1) > 0:\n",
    "    num_sets = num_sets + 1\n",
    "    popped = list1.pop()\n",
    "    print(popped, 'num_sets = ', num_sets)\n",
    "\n",
    "print(list1)"
   ]
  },
  {
   "cell_type": "code",
   "execution_count": null,
   "metadata": {},
   "outputs": [],
   "source": [
    "# SuperFastPython.com\n",
    "# example of parallel starmap_async() with the process pool\n",
    "from random import random\n",
    "from time import sleep\n",
    "from multiprocessing.pool import Pool\n",
    " \n",
    "# task executed in a worker process\n",
    "def task(identifier, value):\n",
    "    # report a message\n",
    "    print(f'Task {identifier} executing with {value}', flush=True)\n",
    "    # block for a moment\n",
    "    sleep(value)\n",
    "    # return the generated value\n",
    "    return (identifier, value)\n",
    " \n",
    "# protect the entry point\n",
    "if __name__ == '__main__':\n",
    "    # create and configure the process pool\n",
    "    with Pool() as pool:\n",
    "        # prepare arguments\n",
    "        items = [(i, random()) for i in range(10)]\n",
    "        # issues tasks to process pool\n",
    "        result = pool.starmap_async(task, items)\n",
    "        # iterate results\n",
    "        for result in result.get():\n",
    "            print(f'Got result: {result}', flush=True)\n",
    "    # process pool is closed automatically"
   ]
  },
  {
   "cell_type": "code",
   "execution_count": null,
   "metadata": {},
   "outputs": [],
   "source": [
    "from multiprocessing.pool import Pool\n",
    "import multiprocessing as multiprocessing\n",
    "import os \n",
    "# create and configure the process pool\n",
    "with Pool() as pool:\n",
    "    print(pool, pool._processes, multiprocessing.cpu_count(), os.cpu_count() )"
   ]
  },
  {
   "cell_type": "code",
   "execution_count": null,
   "metadata": {},
   "outputs": [],
   "source": [
    "# SuperFastPython.com\n",
    "# example of using starmap() with the process pool\n",
    "from random import random\n",
    "from time import sleep\n",
    "from multiprocessing.pool import Pool\n",
    " \n",
    "# task executed in a worker process\n",
    "def task(identifier, value):\n",
    "    # report a message\n",
    "    print(f'Task {identifier} executing with {value}', flush=True)\n",
    "    # block for a moment\n",
    "    sleep(value)\n",
    "    # return the generated value\n",
    "    return (identifier, value)\n",
    " \n",
    "# protect the entry point\n",
    "if __name__ == '__main__':\n",
    "    # create and configure the process pool\n",
    "    with Pool() as pool:\n",
    "        # prepare arguments\n",
    "        items = [(i, random()) for i in range(8)]\n",
    "        print(items)\n",
    "        # execute tasks and process results in order\n",
    "        for result in pool.starmap(task, items):\n",
    "            print(f'Got result: {result}', flush=True)\n",
    "    # process pool is closed automatically"
   ]
  },
  {
   "cell_type": "code",
   "execution_count": null,
   "metadata": {},
   "outputs": [],
   "source": [
    "import multiprocessing\n",
    "import itertools\n",
    "\n",
    "def run(args):\n",
    "    query, cursor = args\n",
    "    print(\"running\", query, cursor)\n",
    "\n",
    "queries = [\"foo\", \"bar\", \"blub\"]\n",
    "cursor = \"whatever\"\n",
    "    \n",
    "with multiprocessing.Pool(processes=10) as pool:\n",
    "    args = ((args, cursor) for args in itertools.product(queries))\n",
    "    results = pool.map(run, args)"
   ]
  },
  {
   "cell_type": "code",
   "execution_count": null,
   "metadata": {},
   "outputs": [],
   "source": [
    "import multiprocessing as mp\n",
    "import resource\n",
    "\n",
    "def mem():\n",
    "    print('Memory usage         : % 2.2f MB' % round(\n",
    "        resource.getrusage(resource.RUSAGE_SELF).ru_maxrss/1024.0,1)\n",
    "    )\n",
    "\n",
    "mem()\n",
    "\n",
    "def memoryhog():\n",
    "    print('...creating list of dicts...')\n",
    "    n = 10**5\n",
    "    l = []\n",
    "    for i in range(n):\n",
    "        a = 1000*'a'\n",
    "        b = 1000*'b'\n",
    "        l.append({ 'a' : a, 'b' : b })\n",
    "    mem()\n",
    "\n",
    "proc = mp.Process(target=memoryhog)\n",
    "proc.start()\n",
    "proc.join()\n",
    "\n",
    "mem()"
   ]
  },
  {
   "cell_type": "code",
   "execution_count": null,
   "metadata": {},
   "outputs": [],
   "source": []
  }
 ],
 "metadata": {
  "kernelspec": {
   "display_name": "Python [conda env:ilab-tensorflow]",
   "language": "python",
   "name": "conda-env-ilab-tensorflow-py"
  },
  "language_info": {
   "codemirror_mode": {
    "name": "ipython",
    "version": 3
   },
   "file_extension": ".py",
   "mimetype": "text/x-python",
   "name": "python",
   "nbconvert_exporter": "python",
   "pygments_lexer": "ipython3",
   "version": "3.8.16"
  }
 },
 "nbformat": 4,
 "nbformat_minor": 4
}
